{
 "cells": [
  {
   "source": [
    "table of contents\n",
    "\n",
    "1. データの読み込み\n",
    "2. イベントデータの基礎集計"
   ],
   "cell_type": "markdown",
   "metadata": {}
  },
  {
   "source": [
    "## 必要な追加ライブラリのインストール\n",
    "- google colabという環境には、データ分析や機械学習に必要な最低限のライブラリはインストール済\n",
    "- 本notebookの目的であるイベントデータをダウンロードするためには、別途`statsbomb`と`kloppy`というライブラリをインストールする必要がある"
   ],
   "cell_type": "markdown",
   "metadata": {}
  },
  {
   "cell_type": "code",
   "execution_count": 1,
   "metadata": {},
   "outputs": [
    {
     "output_type": "stream",
     "name": "stdout",
     "text": [
      "Requirement already satisfied: statsbomb in /Users/saeru/.pyenv/versions/anaconda3-5.3.0/envs/spoana/lib/python3.7/site-packages (0.3.0)\n",
      "Requirement already satisfied: PyYAML in /Users/saeru/.pyenv/versions/anaconda3-5.3.0/envs/spoana/lib/python3.7/site-packages (from statsbomb) (5.3.1)\n",
      "Requirement already satisfied: requests in /Users/saeru/.pyenv/versions/anaconda3-5.3.0/envs/spoana/lib/python3.7/site-packages (from statsbomb) (2.25.0)\n",
      "Requirement already satisfied: pandas in /Users/saeru/.pyenv/versions/anaconda3-5.3.0/envs/spoana/lib/python3.7/site-packages (from statsbomb) (1.1.4)\n",
      "Requirement already satisfied: pytz>=2017.2 in /Users/saeru/.pyenv/versions/anaconda3-5.3.0/envs/spoana/lib/python3.7/site-packages (from pandas->statsbomb) (2020.4)\n",
      "Requirement already satisfied: python-dateutil>=2.7.3 in /Users/saeru/.pyenv/versions/anaconda3-5.3.0/envs/spoana/lib/python3.7/site-packages (from pandas->statsbomb) (2.8.1)\n",
      "Requirement already satisfied: numpy>=1.15.4 in /Users/saeru/.pyenv/versions/anaconda3-5.3.0/envs/spoana/lib/python3.7/site-packages (from pandas->statsbomb) (1.18.5)\n",
      "Requirement already satisfied: six>=1.5 in /Users/saeru/.pyenv/versions/anaconda3-5.3.0/envs/spoana/lib/python3.7/site-packages (from python-dateutil>=2.7.3->pandas->statsbomb) (1.15.0)\n",
      "Requirement already satisfied: idna<3,>=2.5 in /Users/saeru/.pyenv/versions/anaconda3-5.3.0/envs/spoana/lib/python3.7/site-packages (from requests->statsbomb) (2.10)\n",
      "Requirement already satisfied: certifi>=2017.4.17 in /Users/saeru/.pyenv/versions/anaconda3-5.3.0/envs/spoana/lib/python3.7/site-packages (from requests->statsbomb) (2020.11.8)\n",
      "Requirement already satisfied: chardet<4,>=3.0.2 in /Users/saeru/.pyenv/versions/anaconda3-5.3.0/envs/spoana/lib/python3.7/site-packages (from requests->statsbomb) (3.0.4)\n",
      "Requirement already satisfied: urllib3<1.27,>=1.21.1 in /Users/saeru/.pyenv/versions/anaconda3-5.3.0/envs/spoana/lib/python3.7/site-packages (from requests->statsbomb) (1.26.2)\n",
      "Requirement already satisfied: kloppy in /Users/saeru/.pyenv/versions/anaconda3-5.3.0/envs/spoana/lib/python3.7/site-packages (1.4.4)\n",
      "Requirement already satisfied: requests>=2.0.0 in /Users/saeru/.pyenv/versions/anaconda3-5.3.0/envs/spoana/lib/python3.7/site-packages (from kloppy) (2.25.0)\n",
      "Requirement already satisfied: pytz>=2020.1 in /Users/saeru/.pyenv/versions/anaconda3-5.3.0/envs/spoana/lib/python3.7/site-packages (from kloppy) (2020.4)\n",
      "Requirement already satisfied: lxml>=4.5.0 in /Users/saeru/.pyenv/versions/anaconda3-5.3.0/envs/spoana/lib/python3.7/site-packages (from kloppy) (4.6.2)\n",
      "Requirement already satisfied: networkx>=2.4 in /Users/saeru/.pyenv/versions/anaconda3-5.3.0/envs/spoana/lib/python3.7/site-packages (from kloppy) (2.5)\n",
      "Requirement already satisfied: decorator>=4.3.0 in /Users/saeru/.pyenv/versions/anaconda3-5.3.0/envs/spoana/lib/python3.7/site-packages (from networkx>=2.4->kloppy) (4.4.2)\n",
      "Requirement already satisfied: certifi>=2017.4.17 in /Users/saeru/.pyenv/versions/anaconda3-5.3.0/envs/spoana/lib/python3.7/site-packages (from requests>=2.0.0->kloppy) (2020.11.8)\n",
      "Requirement already satisfied: chardet<4,>=3.0.2 in /Users/saeru/.pyenv/versions/anaconda3-5.3.0/envs/spoana/lib/python3.7/site-packages (from requests>=2.0.0->kloppy) (3.0.4)\n",
      "Requirement already satisfied: urllib3<1.27,>=1.21.1 in /Users/saeru/.pyenv/versions/anaconda3-5.3.0/envs/spoana/lib/python3.7/site-packages (from requests>=2.0.0->kloppy) (1.26.2)\n",
      "Requirement already satisfied: idna<3,>=2.5 in /Users/saeru/.pyenv/versions/anaconda3-5.3.0/envs/spoana/lib/python3.7/site-packages (from requests>=2.0.0->kloppy) (2.10)\n"
     ]
    }
   ],
   "source": [
    "!pip install statsbomb\n",
    "!pip install kloppy"
   ]
  },
  {
   "source": [
    "## ライブラリのインポート\n",
    "- pythonで便利なライブラリを使うには、実行環境へインストールするだけでなく、importという作業が必要\n",
    "- `import hogehoge as hoge`のように、別名で定義することもある"
   ],
   "cell_type": "markdown",
   "metadata": {}
  },
  {
   "cell_type": "code",
   "execution_count": 2,
   "metadata": {},
   "outputs": [],
   "source": [
    "import requests\n",
    "import math\n",
    "import itertools\n",
    "\n",
    "import numpy as np\n",
    "import pandas as pd\n",
    "import matplotlib.pyplot as plt\n",
    "import plotly.express as px\n",
    "\n",
    "from plotly.offline import init_notebook_mode, iplot\n",
    "\n",
    "import plotly.io as pio\n",
    "pio.base_renderers.default = 'colab'\n",
    "\n",
    "\n",
    "from kloppy import datasets\n",
    "import statsbomb as sb"
   ]
  },
  {
   "source": [
    "定数の定義（処理中で書き換えられない情報は大文字で定義することが多い）"
   ],
   "cell_type": "markdown",
   "metadata": {}
  },
  {
   "cell_type": "code",
   "execution_count": 3,
   "metadata": {},
   "outputs": [],
   "source": [
    "BASE_URL = 'https://raw.githubusercontent.com/statsbomb/open-data/master/data'"
   ]
  },
  {
   "cell_type": "markdown",
   "metadata": {},
   "source": [
    "# データの読み込み（[github/statsbomb/opden-data](https://github.com/statsbomb/open-data)から）\n",
    "- ここでは、上記リンクにあるjson形式のオープンデータを、人間が取り扱いやすい表形式（dataframe）に変換しながらダウンロードする\n",
    "- ダウンロードする情報としては、「大会情報」「試合情報」「選手情報」「イベントデータ（実際に分析するもの、いつどこで誰がどんなプレイをしたか）」"
   ]
  },
  {
   "cell_type": "markdown",
   "metadata": {},
   "source": [
    "## 大会情報\n",
    "- 各列の情報は上手く読んでほしい\n",
    "- CLについてはファイナルのみ、Ligaについてはバルセロナのみ。大会を通してみれるのはロシアWCがよい"
   ]
  },
  {
   "cell_type": "code",
   "execution_count": 4,
   "metadata": {},
   "outputs": [
    {
     "output_type": "execute_result",
     "data": {
      "text/plain": [
       "    competition_id  season_id              country_name  \\\n",
       "0               16          4                    Europe   \n",
       "1               16          1                    Europe   \n",
       "2               16          2                    Europe   \n",
       "3               16         27                    Europe   \n",
       "4               16         26                    Europe   \n",
       "5               16         25                    Europe   \n",
       "6               16         24                    Europe   \n",
       "7               16         23                    Europe   \n",
       "8               16         22                    Europe   \n",
       "9               16         21                    Europe   \n",
       "10              16         41                    Europe   \n",
       "11              16         39                    Europe   \n",
       "12              16         37                    Europe   \n",
       "13              16         44                    Europe   \n",
       "14              16         76                    Europe   \n",
       "15              37         42                   England   \n",
       "16              37          4                   England   \n",
       "17              43          3             International   \n",
       "18              11         42                     Spain   \n",
       "19              11          4                     Spain   \n",
       "20              11          1                     Spain   \n",
       "21              11          2                     Spain   \n",
       "22              11         27                     Spain   \n",
       "23              11         26                     Spain   \n",
       "24              11         25                     Spain   \n",
       "25              11         24                     Spain   \n",
       "26              11         23                     Spain   \n",
       "27              11         22                     Spain   \n",
       "28              11         21                     Spain   \n",
       "29              11         41                     Spain   \n",
       "30              11         40                     Spain   \n",
       "31              11         39                     Spain   \n",
       "32              11         38                     Spain   \n",
       "33              11         37                     Spain   \n",
       "34              49          3  United States of America   \n",
       "35               2         44                   England   \n",
       "36              72         30             International   \n",
       "\n",
       "           competition_name competition_gender season_name  \\\n",
       "0          Champions League               male   2018/2019   \n",
       "1          Champions League               male   2017/2018   \n",
       "2          Champions League               male   2016/2017   \n",
       "3          Champions League               male   2015/2016   \n",
       "4          Champions League               male   2014/2015   \n",
       "5          Champions League               male   2013/2014   \n",
       "6          Champions League               male   2012/2013   \n",
       "7          Champions League               male   2011/2012   \n",
       "8          Champions League               male   2010/2011   \n",
       "9          Champions League               male   2009/2010   \n",
       "10         Champions League               male   2008/2009   \n",
       "11         Champions League               male   2006/2007   \n",
       "12         Champions League               male   2004/2005   \n",
       "13         Champions League               male   2003/2004   \n",
       "14         Champions League               male   1999/2000   \n",
       "15  FA Women's Super League             female   2019/2020   \n",
       "16  FA Women's Super League             female   2018/2019   \n",
       "17           FIFA World Cup               male        2018   \n",
       "18                  La Liga               male   2019/2020   \n",
       "19                  La Liga               male   2018/2019   \n",
       "20                  La Liga               male   2017/2018   \n",
       "21                  La Liga               male   2016/2017   \n",
       "22                  La Liga               male   2015/2016   \n",
       "23                  La Liga               male   2014/2015   \n",
       "24                  La Liga               male   2013/2014   \n",
       "25                  La Liga               male   2012/2013   \n",
       "26                  La Liga               male   2011/2012   \n",
       "27                  La Liga               male   2010/2011   \n",
       "28                  La Liga               male   2009/2010   \n",
       "29                  La Liga               male   2008/2009   \n",
       "30                  La Liga               male   2007/2008   \n",
       "31                  La Liga               male   2006/2007   \n",
       "32                  La Liga               male   2005/2006   \n",
       "33                  La Liga               male   2004/2005   \n",
       "34                     NWSL             female        2018   \n",
       "35           Premier League               male   2003/2004   \n",
       "36        Women's World Cup             female        2019   \n",
       "\n",
       "                 match_updated             match_available  \n",
       "0             2020-07-29T05:00            2020-07-29T05:00  \n",
       "1             2020-07-29T05:00            2020-07-29T05:00  \n",
       "2   2020-08-26T12:33:15.869622            2020-07-29T05:00  \n",
       "3   2020-08-26T12:33:15.869622            2020-07-29T05:00  \n",
       "4   2020-08-26T12:33:15.869622            2020-07-29T05:00  \n",
       "5   2020-08-26T12:33:15.869622            2020-07-29T05:00  \n",
       "6   2020-08-26T12:33:15.869622            2020-07-29T05:00  \n",
       "7   2020-08-26T12:33:15.869622            2020-07-29T05:00  \n",
       "8             2020-07-29T05:00            2020-07-29T05:00  \n",
       "9             2020-07-29T05:00            2020-07-29T05:00  \n",
       "10  2020-08-30T10:18:39.435424  2020-08-30T10:18:39.435424  \n",
       "11            2020-07-29T05:00            2020-07-29T05:00  \n",
       "12            2020-07-29T05:00            2020-07-29T05:00  \n",
       "13  2020-08-30T10:18:39.435424  2020-08-30T10:18:39.435424  \n",
       "14            2020-07-29T05:00            2020-07-29T05:00  \n",
       "15  2020-09-30T14:59:21.257704  2020-09-30T14:59:21.257704  \n",
       "16  2020-08-24T14:34:34.401523  2020-08-24T14:34:34.401523  \n",
       "17            2020-07-29T05:00            2020-07-29T05:00  \n",
       "18  2020-10-11T20:05:57.703730  2020-10-11T20:05:57.703730  \n",
       "19            2020-07-29T05:00            2020-07-29T05:00  \n",
       "20            2020-07-29T05:00            2020-07-29T05:00  \n",
       "21  2020-10-09T04:20:42.205355  2020-10-09T04:20:42.205355  \n",
       "22            2020-07-29T05:00            2020-07-29T05:00  \n",
       "23            2020-07-29T05:00            2020-07-29T05:00  \n",
       "24            2020-07-29T05:00            2020-07-29T05:00  \n",
       "25            2020-07-29T05:00            2020-07-29T05:00  \n",
       "26            2020-07-29T05:00            2020-07-29T05:00  \n",
       "27            2020-07-29T05:00            2020-07-29T05:00  \n",
       "28            2020-07-29T05:00            2020-07-29T05:00  \n",
       "29            2020-07-29T05:00            2020-07-29T05:00  \n",
       "30            2020-07-29T05:00            2020-07-29T05:00  \n",
       "31            2020-07-29T05:00            2020-07-29T05:00  \n",
       "32            2020-07-29T05:00            2020-07-29T05:00  \n",
       "33            2020-07-29T05:00            2020-07-29T05:00  \n",
       "34            2020-07-29T05:00            2020-07-29T05:00  \n",
       "35  2020-08-31T20:40:28.969635  2020-08-31T20:40:28.969635  \n",
       "36            2020-07-29T05:00            2020-07-29T05:00  "
      ],
      "text/html": "<div>\n<style scoped>\n    .dataframe tbody tr th:only-of-type {\n        vertical-align: middle;\n    }\n\n    .dataframe tbody tr th {\n        vertical-align: top;\n    }\n\n    .dataframe thead th {\n        text-align: right;\n    }\n</style>\n<table border=\"1\" class=\"dataframe\">\n  <thead>\n    <tr style=\"text-align: right;\">\n      <th></th>\n      <th>competition_id</th>\n      <th>season_id</th>\n      <th>country_name</th>\n      <th>competition_name</th>\n      <th>competition_gender</th>\n      <th>season_name</th>\n      <th>match_updated</th>\n      <th>match_available</th>\n    </tr>\n  </thead>\n  <tbody>\n    <tr>\n      <th>0</th>\n      <td>16</td>\n      <td>4</td>\n      <td>Europe</td>\n      <td>Champions League</td>\n      <td>male</td>\n      <td>2018/2019</td>\n      <td>2020-07-29T05:00</td>\n      <td>2020-07-29T05:00</td>\n    </tr>\n    <tr>\n      <th>1</th>\n      <td>16</td>\n      <td>1</td>\n      <td>Europe</td>\n      <td>Champions League</td>\n      <td>male</td>\n      <td>2017/2018</td>\n      <td>2020-07-29T05:00</td>\n      <td>2020-07-29T05:00</td>\n    </tr>\n    <tr>\n      <th>2</th>\n      <td>16</td>\n      <td>2</td>\n      <td>Europe</td>\n      <td>Champions League</td>\n      <td>male</td>\n      <td>2016/2017</td>\n      <td>2020-08-26T12:33:15.869622</td>\n      <td>2020-07-29T05:00</td>\n    </tr>\n    <tr>\n      <th>3</th>\n      <td>16</td>\n      <td>27</td>\n      <td>Europe</td>\n      <td>Champions League</td>\n      <td>male</td>\n      <td>2015/2016</td>\n      <td>2020-08-26T12:33:15.869622</td>\n      <td>2020-07-29T05:00</td>\n    </tr>\n    <tr>\n      <th>4</th>\n      <td>16</td>\n      <td>26</td>\n      <td>Europe</td>\n      <td>Champions League</td>\n      <td>male</td>\n      <td>2014/2015</td>\n      <td>2020-08-26T12:33:15.869622</td>\n      <td>2020-07-29T05:00</td>\n    </tr>\n    <tr>\n      <th>5</th>\n      <td>16</td>\n      <td>25</td>\n      <td>Europe</td>\n      <td>Champions League</td>\n      <td>male</td>\n      <td>2013/2014</td>\n      <td>2020-08-26T12:33:15.869622</td>\n      <td>2020-07-29T05:00</td>\n    </tr>\n    <tr>\n      <th>6</th>\n      <td>16</td>\n      <td>24</td>\n      <td>Europe</td>\n      <td>Champions League</td>\n      <td>male</td>\n      <td>2012/2013</td>\n      <td>2020-08-26T12:33:15.869622</td>\n      <td>2020-07-29T05:00</td>\n    </tr>\n    <tr>\n      <th>7</th>\n      <td>16</td>\n      <td>23</td>\n      <td>Europe</td>\n      <td>Champions League</td>\n      <td>male</td>\n      <td>2011/2012</td>\n      <td>2020-08-26T12:33:15.869622</td>\n      <td>2020-07-29T05:00</td>\n    </tr>\n    <tr>\n      <th>8</th>\n      <td>16</td>\n      <td>22</td>\n      <td>Europe</td>\n      <td>Champions League</td>\n      <td>male</td>\n      <td>2010/2011</td>\n      <td>2020-07-29T05:00</td>\n      <td>2020-07-29T05:00</td>\n    </tr>\n    <tr>\n      <th>9</th>\n      <td>16</td>\n      <td>21</td>\n      <td>Europe</td>\n      <td>Champions League</td>\n      <td>male</td>\n      <td>2009/2010</td>\n      <td>2020-07-29T05:00</td>\n      <td>2020-07-29T05:00</td>\n    </tr>\n    <tr>\n      <th>10</th>\n      <td>16</td>\n      <td>41</td>\n      <td>Europe</td>\n      <td>Champions League</td>\n      <td>male</td>\n      <td>2008/2009</td>\n      <td>2020-08-30T10:18:39.435424</td>\n      <td>2020-08-30T10:18:39.435424</td>\n    </tr>\n    <tr>\n      <th>11</th>\n      <td>16</td>\n      <td>39</td>\n      <td>Europe</td>\n      <td>Champions League</td>\n      <td>male</td>\n      <td>2006/2007</td>\n      <td>2020-07-29T05:00</td>\n      <td>2020-07-29T05:00</td>\n    </tr>\n    <tr>\n      <th>12</th>\n      <td>16</td>\n      <td>37</td>\n      <td>Europe</td>\n      <td>Champions League</td>\n      <td>male</td>\n      <td>2004/2005</td>\n      <td>2020-07-29T05:00</td>\n      <td>2020-07-29T05:00</td>\n    </tr>\n    <tr>\n      <th>13</th>\n      <td>16</td>\n      <td>44</td>\n      <td>Europe</td>\n      <td>Champions League</td>\n      <td>male</td>\n      <td>2003/2004</td>\n      <td>2020-08-30T10:18:39.435424</td>\n      <td>2020-08-30T10:18:39.435424</td>\n    </tr>\n    <tr>\n      <th>14</th>\n      <td>16</td>\n      <td>76</td>\n      <td>Europe</td>\n      <td>Champions League</td>\n      <td>male</td>\n      <td>1999/2000</td>\n      <td>2020-07-29T05:00</td>\n      <td>2020-07-29T05:00</td>\n    </tr>\n    <tr>\n      <th>15</th>\n      <td>37</td>\n      <td>42</td>\n      <td>England</td>\n      <td>FA Women's Super League</td>\n      <td>female</td>\n      <td>2019/2020</td>\n      <td>2020-09-30T14:59:21.257704</td>\n      <td>2020-09-30T14:59:21.257704</td>\n    </tr>\n    <tr>\n      <th>16</th>\n      <td>37</td>\n      <td>4</td>\n      <td>England</td>\n      <td>FA Women's Super League</td>\n      <td>female</td>\n      <td>2018/2019</td>\n      <td>2020-08-24T14:34:34.401523</td>\n      <td>2020-08-24T14:34:34.401523</td>\n    </tr>\n    <tr>\n      <th>17</th>\n      <td>43</td>\n      <td>3</td>\n      <td>International</td>\n      <td>FIFA World Cup</td>\n      <td>male</td>\n      <td>2018</td>\n      <td>2020-07-29T05:00</td>\n      <td>2020-07-29T05:00</td>\n    </tr>\n    <tr>\n      <th>18</th>\n      <td>11</td>\n      <td>42</td>\n      <td>Spain</td>\n      <td>La Liga</td>\n      <td>male</td>\n      <td>2019/2020</td>\n      <td>2020-10-11T20:05:57.703730</td>\n      <td>2020-10-11T20:05:57.703730</td>\n    </tr>\n    <tr>\n      <th>19</th>\n      <td>11</td>\n      <td>4</td>\n      <td>Spain</td>\n      <td>La Liga</td>\n      <td>male</td>\n      <td>2018/2019</td>\n      <td>2020-07-29T05:00</td>\n      <td>2020-07-29T05:00</td>\n    </tr>\n    <tr>\n      <th>20</th>\n      <td>11</td>\n      <td>1</td>\n      <td>Spain</td>\n      <td>La Liga</td>\n      <td>male</td>\n      <td>2017/2018</td>\n      <td>2020-07-29T05:00</td>\n      <td>2020-07-29T05:00</td>\n    </tr>\n    <tr>\n      <th>21</th>\n      <td>11</td>\n      <td>2</td>\n      <td>Spain</td>\n      <td>La Liga</td>\n      <td>male</td>\n      <td>2016/2017</td>\n      <td>2020-10-09T04:20:42.205355</td>\n      <td>2020-10-09T04:20:42.205355</td>\n    </tr>\n    <tr>\n      <th>22</th>\n      <td>11</td>\n      <td>27</td>\n      <td>Spain</td>\n      <td>La Liga</td>\n      <td>male</td>\n      <td>2015/2016</td>\n      <td>2020-07-29T05:00</td>\n      <td>2020-07-29T05:00</td>\n    </tr>\n    <tr>\n      <th>23</th>\n      <td>11</td>\n      <td>26</td>\n      <td>Spain</td>\n      <td>La Liga</td>\n      <td>male</td>\n      <td>2014/2015</td>\n      <td>2020-07-29T05:00</td>\n      <td>2020-07-29T05:00</td>\n    </tr>\n    <tr>\n      <th>24</th>\n      <td>11</td>\n      <td>25</td>\n      <td>Spain</td>\n      <td>La Liga</td>\n      <td>male</td>\n      <td>2013/2014</td>\n      <td>2020-07-29T05:00</td>\n      <td>2020-07-29T05:00</td>\n    </tr>\n    <tr>\n      <th>25</th>\n      <td>11</td>\n      <td>24</td>\n      <td>Spain</td>\n      <td>La Liga</td>\n      <td>male</td>\n      <td>2012/2013</td>\n      <td>2020-07-29T05:00</td>\n      <td>2020-07-29T05:00</td>\n    </tr>\n    <tr>\n      <th>26</th>\n      <td>11</td>\n      <td>23</td>\n      <td>Spain</td>\n      <td>La Liga</td>\n      <td>male</td>\n      <td>2011/2012</td>\n      <td>2020-07-29T05:00</td>\n      <td>2020-07-29T05:00</td>\n    </tr>\n    <tr>\n      <th>27</th>\n      <td>11</td>\n      <td>22</td>\n      <td>Spain</td>\n      <td>La Liga</td>\n      <td>male</td>\n      <td>2010/2011</td>\n      <td>2020-07-29T05:00</td>\n      <td>2020-07-29T05:00</td>\n    </tr>\n    <tr>\n      <th>28</th>\n      <td>11</td>\n      <td>21</td>\n      <td>Spain</td>\n      <td>La Liga</td>\n      <td>male</td>\n      <td>2009/2010</td>\n      <td>2020-07-29T05:00</td>\n      <td>2020-07-29T05:00</td>\n    </tr>\n    <tr>\n      <th>29</th>\n      <td>11</td>\n      <td>41</td>\n      <td>Spain</td>\n      <td>La Liga</td>\n      <td>male</td>\n      <td>2008/2009</td>\n      <td>2020-07-29T05:00</td>\n      <td>2020-07-29T05:00</td>\n    </tr>\n    <tr>\n      <th>30</th>\n      <td>11</td>\n      <td>40</td>\n      <td>Spain</td>\n      <td>La Liga</td>\n      <td>male</td>\n      <td>2007/2008</td>\n      <td>2020-07-29T05:00</td>\n      <td>2020-07-29T05:00</td>\n    </tr>\n    <tr>\n      <th>31</th>\n      <td>11</td>\n      <td>39</td>\n      <td>Spain</td>\n      <td>La Liga</td>\n      <td>male</td>\n      <td>2006/2007</td>\n      <td>2020-07-29T05:00</td>\n      <td>2020-07-29T05:00</td>\n    </tr>\n    <tr>\n      <th>32</th>\n      <td>11</td>\n      <td>38</td>\n      <td>Spain</td>\n      <td>La Liga</td>\n      <td>male</td>\n      <td>2005/2006</td>\n      <td>2020-07-29T05:00</td>\n      <td>2020-07-29T05:00</td>\n    </tr>\n    <tr>\n      <th>33</th>\n      <td>11</td>\n      <td>37</td>\n      <td>Spain</td>\n      <td>La Liga</td>\n      <td>male</td>\n      <td>2004/2005</td>\n      <td>2020-07-29T05:00</td>\n      <td>2020-07-29T05:00</td>\n    </tr>\n    <tr>\n      <th>34</th>\n      <td>49</td>\n      <td>3</td>\n      <td>United States of America</td>\n      <td>NWSL</td>\n      <td>female</td>\n      <td>2018</td>\n      <td>2020-07-29T05:00</td>\n      <td>2020-07-29T05:00</td>\n    </tr>\n    <tr>\n      <th>35</th>\n      <td>2</td>\n      <td>44</td>\n      <td>England</td>\n      <td>Premier League</td>\n      <td>male</td>\n      <td>2003/2004</td>\n      <td>2020-08-31T20:40:28.969635</td>\n      <td>2020-08-31T20:40:28.969635</td>\n    </tr>\n    <tr>\n      <th>36</th>\n      <td>72</td>\n      <td>30</td>\n      <td>International</td>\n      <td>Women's World Cup</td>\n      <td>female</td>\n      <td>2019</td>\n      <td>2020-07-29T05:00</td>\n      <td>2020-07-29T05:00</td>\n    </tr>\n  </tbody>\n</table>\n</div>"
     },
     "metadata": {},
     "execution_count": 4
    }
   ],
   "source": [
    "comps_df = sb.Competitions().get_dataframe()\n",
    "\n",
    "comps_df"
   ]
  },
  {
   "cell_type": "markdown",
   "metadata": {},
   "source": [
    "## 試合情報"
   ]
  },
  {
   "cell_type": "markdown",
   "metadata": {},
   "source": [
    "### 関数の定義\n",
    "- 今回はアドホック（個別）な分析や可視化、または機械学習の実験の際によく使われるjupyter notebook形式にてコードを記述している\n",
    "- しかしながら、pythonを使って実用的なアプリケーションを実装する際には、メソッド（入力と出力を持つ関数）とその共通情報を管理しながらまとめることができるクラスを、`.py`に記述していく\n",
    "- そのなかで、今回は`competition_id`と`season_id`という入力を受け取って、ダウンロードと整形をした上で試合情報を返すメソッドを実装した"
   ]
  },
  {
   "cell_type": "code",
   "execution_count": 5,
   "metadata": {},
   "outputs": [],
   "source": [
    "def get_matches_df(competition_id, season_id=None, comps_df=None):\n",
    "    \"\"\"試合情報を返すメソッド\n",
    "        Args:\n",
    "            - competition_id(int) : 大会id\n",
    "            - season_id(int, default=None) : シーズンid\n",
    "            - comps_df(pd.DataFrame, default=None) : 大会情報\n",
    "        Returns:\n",
    "            pd.DataFrame : 試合情報\n",
    "    \"\"\"\n",
    "    # if文、season_idがあれば、シーズンを指定してjson形式のデータをdataframe形式に変換する\n",
    "    # season_idが指定されなければ、大会情報からseason_idをfor loopで回しながらダウンロード、変換する\n",
    "    if season_id:\n",
    "        matches_df = pd.DataFrame(requests.get(f'{BASE_URL}/matches/{competition_id}/{season_id}.json').json())\n",
    "    else:\n",
    "        # リストの内包表記\n",
    "        matches_df = pd.concat([pd.DataFrame(requests.get(f'{BASE_URL}/matches/{competition_id}/{season_id}.json').json()) for season_id in comps_df[comps_df.competition_id==competition_id].season_id.tolist()])\n",
    "    \n",
    "    # ここでのmatches_dfは、エクセルで言うセルの中に辞書形式（dict）で値が入っていて分析しづらいので、それらをカラムに分解する\n",
    "    c_list = ['competition', 'season', 'home_team', 'away_team', 'stadium', 'competition_stage']\n",
    "    if competition_id == 2:\n",
    "        c_list.remove('stadium')\n",
    "    for c in c_list:\n",
    "        if c in ['stadium', 'competition_stage']:\n",
    "            key_list = ['id', 'name']\n",
    "            c_fixed_list = [f'{c}_{k}' for k in key_list]\n",
    "\n",
    "        else:\n",
    "            key_list = [f'{c}_{k}' for k in ['id', 'name']]\n",
    "            c_fixed_list = key_list\n",
    "            \n",
    "        for k, c_fixed in zip(key_list, c_fixed_list):\n",
    "            matches_df[c_fixed] = matches_df[c].apply(lambda x: x[k] if type(x)==dict else None)\n",
    "        \n",
    "    # 必要なカラムのみを残して最終形とする\n",
    "    matches_df = matches_df.drop(c_list+['metadata','referee'], axis=1).sort_values('match_date').reset_index(drop=True)\n",
    "\n",
    "    return matches_df"
   ]
  },
  {
   "cell_type": "markdown",
   "metadata": {},
   "source": [
    "### 実行\n",
    "- competition_id = 大会id、上の表から選択\n",
    "- season_id = シーズンid、(必要であれば)"
   ]
  },
  {
   "cell_type": "code",
   "execution_count": 6,
   "metadata": {},
   "outputs": [
    {
     "output_type": "execute_result",
     "data": {
      "text/plain": [
       "    match_id  match_date      kick_off  home_score  away_score match_status  \\\n",
       "0      69286  2010-08-29  19:00:00.000           0           3    available   \n",
       "1      69287  2010-09-11  18:00:00.000           0           2    available   \n",
       "2      69269  2010-09-19  19:00:00.000           1           2    available   \n",
       "3      69236  2010-10-03  19:00:00.000           1           1    available   \n",
       "4      69260  2010-10-16  20:00:00.000           2           1    available   \n",
       "5      69263  2010-10-23  18:00:00.000           0           2    available   \n",
       "6      69289  2010-10-30  22:00:00.000           5           0    available   \n",
       "7      69270  2010-11-07  19:00:00.000           1           3    available   \n",
       "8      69308  2010-11-13  22:00:00.000           3           1    available   \n",
       "9      69306  2010-11-20  20:00:00.000           0           8    available   \n",
       "10     69299  2010-11-29  21:00:00.000           5           0    available   \n",
       "11     69307  2010-12-04  20:45:00.000           0           3    available   \n",
       "12     69302  2010-12-12  21:00:00.000           5           0    available   \n",
       "13     69275  2010-12-18  20:00:00.000           1           5    available   \n",
       "14     69280  2011-01-08  22:00:00.000           0           4    available   \n",
       "15     69278  2011-01-16  21:00:00.000           4           1    available   \n",
       "16     69295  2011-01-22  20:00:00.000           3           0    available   \n",
       "17     69296  2011-01-29  20:00:00.000           0           3    available   \n",
       "18     69276  2011-02-05  22:00:00.000           3           0    available   \n",
       "19     69248  2011-02-12  20:00:00.000           1           1    available   \n",
       "20     69282  2011-02-20  21:00:00.000           2           1    available   \n",
       "21     69283  2011-02-26  20:00:00.000           0           3    available   \n",
       "22     69274  2011-03-02  22:00:00.000           0           1    available   \n",
       "23     69300  2011-03-05  20:00:00.000           1           0    available   \n",
       "24     69291  2011-03-13  21:00:00.000           1           1    available   \n",
       "25     69303  2011-03-19  20:00:00.000           2           1    available   \n",
       "26     69304  2011-04-02  22:00:00.000           0           1    available   \n",
       "27     69305  2011-04-09  20:00:00.000           3           1    available   \n",
       "28     69245  2011-04-16  22:00:00.000           1           1    available   \n",
       "29     69271  2011-04-23  20:00:00.000           2           0    available   \n",
       "30     69246  2011-04-30  20:00:00.000           2           1    available   \n",
       "31     69234  2011-05-08  19:00:00.000           2           0    available   \n",
       "32     69272  2011-05-11  20:00:00.000           1           1    available   \n",
       "\n",
       "        last_updated  match_week  competition_id competition_name  season_id  \\\n",
       "0   2020-07-29T05:00           1              11          La Liga         22   \n",
       "1   2020-07-29T05:00           2              11          La Liga         22   \n",
       "2   2020-07-29T05:00           3              11          La Liga         22   \n",
       "3   2020-07-29T05:00           6              11          La Liga         22   \n",
       "4   2020-07-29T05:00           7              11          La Liga         22   \n",
       "5   2020-07-29T05:00           8              11          La Liga         22   \n",
       "6   2020-07-29T05:00           9              11          La Liga         22   \n",
       "7   2020-07-29T05:00          10              11          La Liga         22   \n",
       "8   2020-07-29T05:00          11              11          La Liga         22   \n",
       "9   2020-07-29T05:00          12              11          La Liga         22   \n",
       "10  2020-07-29T05:00          13              11          La Liga         22   \n",
       "11  2020-07-29T05:00          14              11          La Liga         22   \n",
       "12  2020-07-29T05:00          15              11          La Liga         22   \n",
       "13  2020-07-29T05:00          16              11          La Liga         22   \n",
       "14  2020-07-29T05:00          18              11          La Liga         22   \n",
       "15  2020-07-29T05:00          19              11          La Liga         22   \n",
       "16  2020-07-29T05:00          20              11          La Liga         22   \n",
       "17  2020-07-29T05:00          21              11          La Liga         22   \n",
       "18  2020-07-29T05:00          22              11          La Liga         22   \n",
       "19  2020-07-29T05:00          23              11          La Liga         22   \n",
       "20  2020-07-29T05:00          24              11          La Liga         22   \n",
       "21  2020-07-29T05:00          25              11          La Liga         22   \n",
       "22  2020-07-29T05:00          26              11          La Liga         22   \n",
       "23  2020-07-29T05:00          27              11          La Liga         22   \n",
       "24  2020-07-29T05:00          28              11          La Liga         22   \n",
       "25  2020-07-29T05:00          29              11          La Liga         22   \n",
       "26  2020-07-29T05:00          30              11          La Liga         22   \n",
       "27  2020-07-29T05:00          31              11          La Liga         22   \n",
       "28  2020-07-29T05:00          32              11          La Liga         22   \n",
       "29  2020-07-29T05:00          33              11          La Liga         22   \n",
       "30  2020-07-29T05:00          34              11          La Liga         22   \n",
       "31  2020-07-29T05:00          35              11          La Liga         22   \n",
       "32  2020-07-29T05:00          36              11          La Liga         22   \n",
       "\n",
       "   season_name  home_team_id       home_team_name  away_team_id  \\\n",
       "0    2010/2011          1217     Racing Santander           217   \n",
       "1    2010/2011           217            Barcelona          1218   \n",
       "2    2010/2011           212      Atlético Madrid           217   \n",
       "3    2010/2011           217            Barcelona          1043   \n",
       "4    2010/2011           217            Barcelona           207   \n",
       "5    2010/2011           395        Real Zaragoza           217   \n",
       "6    2010/2011           217            Barcelona           213   \n",
       "7    2010/2011           216               Getafe           217   \n",
       "8    2010/2011           217            Barcelona           222   \n",
       "9    2010/2011           403              Almería           217   \n",
       "10   2010/2011           217            Barcelona           220   \n",
       "11   2010/2011           422              Osasuna           217   \n",
       "12   2010/2011           217            Barcelona           210   \n",
       "13   2010/2011           214             Espanyol           217   \n",
       "14   2010/2011           219  Deportivo La Coruna           217   \n",
       "15   2010/2011           217            Barcelona           223   \n",
       "16   2010/2011           217            Barcelona          1217   \n",
       "17   2010/2011          1218             Hércules           217   \n",
       "18   2010/2011           217            Barcelona           212   \n",
       "19   2010/2011          1041       Sporting Gijón           217   \n",
       "20   2010/2011           217            Barcelona           215   \n",
       "21   2010/2011          1043             Mallorca           217   \n",
       "22   2010/2011           207             Valencia           217   \n",
       "23   2010/2011           217            Barcelona           395   \n",
       "24   2010/2011           213              Sevilla           217   \n",
       "25   2010/2011           217            Barcelona           216   \n",
       "26   2010/2011           222           Villarreal           217   \n",
       "27   2010/2011           217            Barcelona           403   \n",
       "28   2010/2011           220          Real Madrid           217   \n",
       "29   2010/2011           217            Barcelona           422   \n",
       "30   2010/2011           210        Real Sociedad           217   \n",
       "31   2010/2011           217            Barcelona           214   \n",
       "32   2010/2011           221              Levante           217   \n",
       "\n",
       "      away_team_name  stadium_id                         stadium_name  \\\n",
       "0          Barcelona        4636      Campos de Sport de El Sardinero   \n",
       "1           Hércules         342                             Camp Nou   \n",
       "2          Barcelona         625             Estadio Vicente Calderón   \n",
       "3           Mallorca         342                             Camp Nou   \n",
       "4           Valencia         342                             Camp Nou   \n",
       "5          Barcelona        4457               Estadio de la Romareda   \n",
       "6            Sevilla         342                             Camp Nou   \n",
       "7          Barcelona         354               Coliseum Alfonso Pérez   \n",
       "8         Villarreal         342                             Camp Nou   \n",
       "9          Barcelona        4657  Estadio de los Juegos Mediterráneos   \n",
       "10       Real Madrid         342                             Camp Nou   \n",
       "11         Barcelona        4466                     Estadio El Sadar   \n",
       "12     Real Sociedad         342                             Camp Nou   \n",
       "13         Barcelona         351                         RCDE Stadium   \n",
       "14         Barcelona        4658                Estadio Abanca-Riazor   \n",
       "15            Málaga         342                             Camp Nou   \n",
       "16  Racing Santander         342                             Camp Nou   \n",
       "17         Barcelona        4660              Estadio José Rico Pérez   \n",
       "18   Atlético Madrid         342                             Camp Nou   \n",
       "19         Barcelona        4656         Estadio Municipal El Molinón   \n",
       "20   Athletic Bilbao         342                             Camp Nou   \n",
       "21         Barcelona        4454                     Iberostar Estadi   \n",
       "22         Barcelona         344                  Estadio de Mestalla   \n",
       "23     Real Zaragoza         342                             Camp Nou   \n",
       "24         Barcelona         349        Estadio Ramón Sánchez Pizjuán   \n",
       "25            Getafe         342                             Camp Nou   \n",
       "26         Barcelona         361               Estadio de la Cerámica   \n",
       "27           Almería         342                             Camp Nou   \n",
       "28         Barcelona         353            Estadio Santiago Bernabéu   \n",
       "29           Osasuna         342                             Camp Nou   \n",
       "30         Barcelona        5043                          Reale Arena   \n",
       "31          Espanyol         342                             Camp Nou   \n",
       "32         Barcelona         350           Estadio Ciudad de Valencia   \n",
       "\n",
       "    competition_stage_id competition_stage_name  \n",
       "0                      1         Regular Season  \n",
       "1                      1         Regular Season  \n",
       "2                      1         Regular Season  \n",
       "3                      1         Regular Season  \n",
       "4                      1         Regular Season  \n",
       "5                      1         Regular Season  \n",
       "6                      1         Regular Season  \n",
       "7                      1         Regular Season  \n",
       "8                      1         Regular Season  \n",
       "9                      1         Regular Season  \n",
       "10                     1         Regular Season  \n",
       "11                     1         Regular Season  \n",
       "12                     1         Regular Season  \n",
       "13                     1         Regular Season  \n",
       "14                     1         Regular Season  \n",
       "15                     1         Regular Season  \n",
       "16                     1         Regular Season  \n",
       "17                     1         Regular Season  \n",
       "18                     1         Regular Season  \n",
       "19                     1         Regular Season  \n",
       "20                     1         Regular Season  \n",
       "21                     1         Regular Season  \n",
       "22                     1         Regular Season  \n",
       "23                     1         Regular Season  \n",
       "24                     1         Regular Season  \n",
       "25                     1         Regular Season  \n",
       "26                     1         Regular Season  \n",
       "27                     1         Regular Season  \n",
       "28                     1         Regular Season  \n",
       "29                     1         Regular Season  \n",
       "30                     1         Regular Season  \n",
       "31                     1         Regular Season  \n",
       "32                     1         Regular Season  "
      ],
      "text/html": "<div>\n<style scoped>\n    .dataframe tbody tr th:only-of-type {\n        vertical-align: middle;\n    }\n\n    .dataframe tbody tr th {\n        vertical-align: top;\n    }\n\n    .dataframe thead th {\n        text-align: right;\n    }\n</style>\n<table border=\"1\" class=\"dataframe\">\n  <thead>\n    <tr style=\"text-align: right;\">\n      <th></th>\n      <th>match_id</th>\n      <th>match_date</th>\n      <th>kick_off</th>\n      <th>home_score</th>\n      <th>away_score</th>\n      <th>match_status</th>\n      <th>last_updated</th>\n      <th>match_week</th>\n      <th>competition_id</th>\n      <th>competition_name</th>\n      <th>season_id</th>\n      <th>season_name</th>\n      <th>home_team_id</th>\n      <th>home_team_name</th>\n      <th>away_team_id</th>\n      <th>away_team_name</th>\n      <th>stadium_id</th>\n      <th>stadium_name</th>\n      <th>competition_stage_id</th>\n      <th>competition_stage_name</th>\n    </tr>\n  </thead>\n  <tbody>\n    <tr>\n      <th>0</th>\n      <td>69286</td>\n      <td>2010-08-29</td>\n      <td>19:00:00.000</td>\n      <td>0</td>\n      <td>3</td>\n      <td>available</td>\n      <td>2020-07-29T05:00</td>\n      <td>1</td>\n      <td>11</td>\n      <td>La Liga</td>\n      <td>22</td>\n      <td>2010/2011</td>\n      <td>1217</td>\n      <td>Racing Santander</td>\n      <td>217</td>\n      <td>Barcelona</td>\n      <td>4636</td>\n      <td>Campos de Sport de El Sardinero</td>\n      <td>1</td>\n      <td>Regular Season</td>\n    </tr>\n    <tr>\n      <th>1</th>\n      <td>69287</td>\n      <td>2010-09-11</td>\n      <td>18:00:00.000</td>\n      <td>0</td>\n      <td>2</td>\n      <td>available</td>\n      <td>2020-07-29T05:00</td>\n      <td>2</td>\n      <td>11</td>\n      <td>La Liga</td>\n      <td>22</td>\n      <td>2010/2011</td>\n      <td>217</td>\n      <td>Barcelona</td>\n      <td>1218</td>\n      <td>Hércules</td>\n      <td>342</td>\n      <td>Camp Nou</td>\n      <td>1</td>\n      <td>Regular Season</td>\n    </tr>\n    <tr>\n      <th>2</th>\n      <td>69269</td>\n      <td>2010-09-19</td>\n      <td>19:00:00.000</td>\n      <td>1</td>\n      <td>2</td>\n      <td>available</td>\n      <td>2020-07-29T05:00</td>\n      <td>3</td>\n      <td>11</td>\n      <td>La Liga</td>\n      <td>22</td>\n      <td>2010/2011</td>\n      <td>212</td>\n      <td>Atlético Madrid</td>\n      <td>217</td>\n      <td>Barcelona</td>\n      <td>625</td>\n      <td>Estadio Vicente Calderón</td>\n      <td>1</td>\n      <td>Regular Season</td>\n    </tr>\n    <tr>\n      <th>3</th>\n      <td>69236</td>\n      <td>2010-10-03</td>\n      <td>19:00:00.000</td>\n      <td>1</td>\n      <td>1</td>\n      <td>available</td>\n      <td>2020-07-29T05:00</td>\n      <td>6</td>\n      <td>11</td>\n      <td>La Liga</td>\n      <td>22</td>\n      <td>2010/2011</td>\n      <td>217</td>\n      <td>Barcelona</td>\n      <td>1043</td>\n      <td>Mallorca</td>\n      <td>342</td>\n      <td>Camp Nou</td>\n      <td>1</td>\n      <td>Regular Season</td>\n    </tr>\n    <tr>\n      <th>4</th>\n      <td>69260</td>\n      <td>2010-10-16</td>\n      <td>20:00:00.000</td>\n      <td>2</td>\n      <td>1</td>\n      <td>available</td>\n      <td>2020-07-29T05:00</td>\n      <td>7</td>\n      <td>11</td>\n      <td>La Liga</td>\n      <td>22</td>\n      <td>2010/2011</td>\n      <td>217</td>\n      <td>Barcelona</td>\n      <td>207</td>\n      <td>Valencia</td>\n      <td>342</td>\n      <td>Camp Nou</td>\n      <td>1</td>\n      <td>Regular Season</td>\n    </tr>\n    <tr>\n      <th>5</th>\n      <td>69263</td>\n      <td>2010-10-23</td>\n      <td>18:00:00.000</td>\n      <td>0</td>\n      <td>2</td>\n      <td>available</td>\n      <td>2020-07-29T05:00</td>\n      <td>8</td>\n      <td>11</td>\n      <td>La Liga</td>\n      <td>22</td>\n      <td>2010/2011</td>\n      <td>395</td>\n      <td>Real Zaragoza</td>\n      <td>217</td>\n      <td>Barcelona</td>\n      <td>4457</td>\n      <td>Estadio de la Romareda</td>\n      <td>1</td>\n      <td>Regular Season</td>\n    </tr>\n    <tr>\n      <th>6</th>\n      <td>69289</td>\n      <td>2010-10-30</td>\n      <td>22:00:00.000</td>\n      <td>5</td>\n      <td>0</td>\n      <td>available</td>\n      <td>2020-07-29T05:00</td>\n      <td>9</td>\n      <td>11</td>\n      <td>La Liga</td>\n      <td>22</td>\n      <td>2010/2011</td>\n      <td>217</td>\n      <td>Barcelona</td>\n      <td>213</td>\n      <td>Sevilla</td>\n      <td>342</td>\n      <td>Camp Nou</td>\n      <td>1</td>\n      <td>Regular Season</td>\n    </tr>\n    <tr>\n      <th>7</th>\n      <td>69270</td>\n      <td>2010-11-07</td>\n      <td>19:00:00.000</td>\n      <td>1</td>\n      <td>3</td>\n      <td>available</td>\n      <td>2020-07-29T05:00</td>\n      <td>10</td>\n      <td>11</td>\n      <td>La Liga</td>\n      <td>22</td>\n      <td>2010/2011</td>\n      <td>216</td>\n      <td>Getafe</td>\n      <td>217</td>\n      <td>Barcelona</td>\n      <td>354</td>\n      <td>Coliseum Alfonso Pérez</td>\n      <td>1</td>\n      <td>Regular Season</td>\n    </tr>\n    <tr>\n      <th>8</th>\n      <td>69308</td>\n      <td>2010-11-13</td>\n      <td>22:00:00.000</td>\n      <td>3</td>\n      <td>1</td>\n      <td>available</td>\n      <td>2020-07-29T05:00</td>\n      <td>11</td>\n      <td>11</td>\n      <td>La Liga</td>\n      <td>22</td>\n      <td>2010/2011</td>\n      <td>217</td>\n      <td>Barcelona</td>\n      <td>222</td>\n      <td>Villarreal</td>\n      <td>342</td>\n      <td>Camp Nou</td>\n      <td>1</td>\n      <td>Regular Season</td>\n    </tr>\n    <tr>\n      <th>9</th>\n      <td>69306</td>\n      <td>2010-11-20</td>\n      <td>20:00:00.000</td>\n      <td>0</td>\n      <td>8</td>\n      <td>available</td>\n      <td>2020-07-29T05:00</td>\n      <td>12</td>\n      <td>11</td>\n      <td>La Liga</td>\n      <td>22</td>\n      <td>2010/2011</td>\n      <td>403</td>\n      <td>Almería</td>\n      <td>217</td>\n      <td>Barcelona</td>\n      <td>4657</td>\n      <td>Estadio de los Juegos Mediterráneos</td>\n      <td>1</td>\n      <td>Regular Season</td>\n    </tr>\n    <tr>\n      <th>10</th>\n      <td>69299</td>\n      <td>2010-11-29</td>\n      <td>21:00:00.000</td>\n      <td>5</td>\n      <td>0</td>\n      <td>available</td>\n      <td>2020-07-29T05:00</td>\n      <td>13</td>\n      <td>11</td>\n      <td>La Liga</td>\n      <td>22</td>\n      <td>2010/2011</td>\n      <td>217</td>\n      <td>Barcelona</td>\n      <td>220</td>\n      <td>Real Madrid</td>\n      <td>342</td>\n      <td>Camp Nou</td>\n      <td>1</td>\n      <td>Regular Season</td>\n    </tr>\n    <tr>\n      <th>11</th>\n      <td>69307</td>\n      <td>2010-12-04</td>\n      <td>20:45:00.000</td>\n      <td>0</td>\n      <td>3</td>\n      <td>available</td>\n      <td>2020-07-29T05:00</td>\n      <td>14</td>\n      <td>11</td>\n      <td>La Liga</td>\n      <td>22</td>\n      <td>2010/2011</td>\n      <td>422</td>\n      <td>Osasuna</td>\n      <td>217</td>\n      <td>Barcelona</td>\n      <td>4466</td>\n      <td>Estadio El Sadar</td>\n      <td>1</td>\n      <td>Regular Season</td>\n    </tr>\n    <tr>\n      <th>12</th>\n      <td>69302</td>\n      <td>2010-12-12</td>\n      <td>21:00:00.000</td>\n      <td>5</td>\n      <td>0</td>\n      <td>available</td>\n      <td>2020-07-29T05:00</td>\n      <td>15</td>\n      <td>11</td>\n      <td>La Liga</td>\n      <td>22</td>\n      <td>2010/2011</td>\n      <td>217</td>\n      <td>Barcelona</td>\n      <td>210</td>\n      <td>Real Sociedad</td>\n      <td>342</td>\n      <td>Camp Nou</td>\n      <td>1</td>\n      <td>Regular Season</td>\n    </tr>\n    <tr>\n      <th>13</th>\n      <td>69275</td>\n      <td>2010-12-18</td>\n      <td>20:00:00.000</td>\n      <td>1</td>\n      <td>5</td>\n      <td>available</td>\n      <td>2020-07-29T05:00</td>\n      <td>16</td>\n      <td>11</td>\n      <td>La Liga</td>\n      <td>22</td>\n      <td>2010/2011</td>\n      <td>214</td>\n      <td>Espanyol</td>\n      <td>217</td>\n      <td>Barcelona</td>\n      <td>351</td>\n      <td>RCDE Stadium</td>\n      <td>1</td>\n      <td>Regular Season</td>\n    </tr>\n    <tr>\n      <th>14</th>\n      <td>69280</td>\n      <td>2011-01-08</td>\n      <td>22:00:00.000</td>\n      <td>0</td>\n      <td>4</td>\n      <td>available</td>\n      <td>2020-07-29T05:00</td>\n      <td>18</td>\n      <td>11</td>\n      <td>La Liga</td>\n      <td>22</td>\n      <td>2010/2011</td>\n      <td>219</td>\n      <td>Deportivo La Coruna</td>\n      <td>217</td>\n      <td>Barcelona</td>\n      <td>4658</td>\n      <td>Estadio Abanca-Riazor</td>\n      <td>1</td>\n      <td>Regular Season</td>\n    </tr>\n    <tr>\n      <th>15</th>\n      <td>69278</td>\n      <td>2011-01-16</td>\n      <td>21:00:00.000</td>\n      <td>4</td>\n      <td>1</td>\n      <td>available</td>\n      <td>2020-07-29T05:00</td>\n      <td>19</td>\n      <td>11</td>\n      <td>La Liga</td>\n      <td>22</td>\n      <td>2010/2011</td>\n      <td>217</td>\n      <td>Barcelona</td>\n      <td>223</td>\n      <td>Málaga</td>\n      <td>342</td>\n      <td>Camp Nou</td>\n      <td>1</td>\n      <td>Regular Season</td>\n    </tr>\n    <tr>\n      <th>16</th>\n      <td>69295</td>\n      <td>2011-01-22</td>\n      <td>20:00:00.000</td>\n      <td>3</td>\n      <td>0</td>\n      <td>available</td>\n      <td>2020-07-29T05:00</td>\n      <td>20</td>\n      <td>11</td>\n      <td>La Liga</td>\n      <td>22</td>\n      <td>2010/2011</td>\n      <td>217</td>\n      <td>Barcelona</td>\n      <td>1217</td>\n      <td>Racing Santander</td>\n      <td>342</td>\n      <td>Camp Nou</td>\n      <td>1</td>\n      <td>Regular Season</td>\n    </tr>\n    <tr>\n      <th>17</th>\n      <td>69296</td>\n      <td>2011-01-29</td>\n      <td>20:00:00.000</td>\n      <td>0</td>\n      <td>3</td>\n      <td>available</td>\n      <td>2020-07-29T05:00</td>\n      <td>21</td>\n      <td>11</td>\n      <td>La Liga</td>\n      <td>22</td>\n      <td>2010/2011</td>\n      <td>1218</td>\n      <td>Hércules</td>\n      <td>217</td>\n      <td>Barcelona</td>\n      <td>4660</td>\n      <td>Estadio José Rico Pérez</td>\n      <td>1</td>\n      <td>Regular Season</td>\n    </tr>\n    <tr>\n      <th>18</th>\n      <td>69276</td>\n      <td>2011-02-05</td>\n      <td>22:00:00.000</td>\n      <td>3</td>\n      <td>0</td>\n      <td>available</td>\n      <td>2020-07-29T05:00</td>\n      <td>22</td>\n      <td>11</td>\n      <td>La Liga</td>\n      <td>22</td>\n      <td>2010/2011</td>\n      <td>217</td>\n      <td>Barcelona</td>\n      <td>212</td>\n      <td>Atlético Madrid</td>\n      <td>342</td>\n      <td>Camp Nou</td>\n      <td>1</td>\n      <td>Regular Season</td>\n    </tr>\n    <tr>\n      <th>19</th>\n      <td>69248</td>\n      <td>2011-02-12</td>\n      <td>20:00:00.000</td>\n      <td>1</td>\n      <td>1</td>\n      <td>available</td>\n      <td>2020-07-29T05:00</td>\n      <td>23</td>\n      <td>11</td>\n      <td>La Liga</td>\n      <td>22</td>\n      <td>2010/2011</td>\n      <td>1041</td>\n      <td>Sporting Gijón</td>\n      <td>217</td>\n      <td>Barcelona</td>\n      <td>4656</td>\n      <td>Estadio Municipal El Molinón</td>\n      <td>1</td>\n      <td>Regular Season</td>\n    </tr>\n    <tr>\n      <th>20</th>\n      <td>69282</td>\n      <td>2011-02-20</td>\n      <td>21:00:00.000</td>\n      <td>2</td>\n      <td>1</td>\n      <td>available</td>\n      <td>2020-07-29T05:00</td>\n      <td>24</td>\n      <td>11</td>\n      <td>La Liga</td>\n      <td>22</td>\n      <td>2010/2011</td>\n      <td>217</td>\n      <td>Barcelona</td>\n      <td>215</td>\n      <td>Athletic Bilbao</td>\n      <td>342</td>\n      <td>Camp Nou</td>\n      <td>1</td>\n      <td>Regular Season</td>\n    </tr>\n    <tr>\n      <th>21</th>\n      <td>69283</td>\n      <td>2011-02-26</td>\n      <td>20:00:00.000</td>\n      <td>0</td>\n      <td>3</td>\n      <td>available</td>\n      <td>2020-07-29T05:00</td>\n      <td>25</td>\n      <td>11</td>\n      <td>La Liga</td>\n      <td>22</td>\n      <td>2010/2011</td>\n      <td>1043</td>\n      <td>Mallorca</td>\n      <td>217</td>\n      <td>Barcelona</td>\n      <td>4454</td>\n      <td>Iberostar Estadi</td>\n      <td>1</td>\n      <td>Regular Season</td>\n    </tr>\n    <tr>\n      <th>22</th>\n      <td>69274</td>\n      <td>2011-03-02</td>\n      <td>22:00:00.000</td>\n      <td>0</td>\n      <td>1</td>\n      <td>available</td>\n      <td>2020-07-29T05:00</td>\n      <td>26</td>\n      <td>11</td>\n      <td>La Liga</td>\n      <td>22</td>\n      <td>2010/2011</td>\n      <td>207</td>\n      <td>Valencia</td>\n      <td>217</td>\n      <td>Barcelona</td>\n      <td>344</td>\n      <td>Estadio de Mestalla</td>\n      <td>1</td>\n      <td>Regular Season</td>\n    </tr>\n    <tr>\n      <th>23</th>\n      <td>69300</td>\n      <td>2011-03-05</td>\n      <td>20:00:00.000</td>\n      <td>1</td>\n      <td>0</td>\n      <td>available</td>\n      <td>2020-07-29T05:00</td>\n      <td>27</td>\n      <td>11</td>\n      <td>La Liga</td>\n      <td>22</td>\n      <td>2010/2011</td>\n      <td>217</td>\n      <td>Barcelona</td>\n      <td>395</td>\n      <td>Real Zaragoza</td>\n      <td>342</td>\n      <td>Camp Nou</td>\n      <td>1</td>\n      <td>Regular Season</td>\n    </tr>\n    <tr>\n      <th>24</th>\n      <td>69291</td>\n      <td>2011-03-13</td>\n      <td>21:00:00.000</td>\n      <td>1</td>\n      <td>1</td>\n      <td>available</td>\n      <td>2020-07-29T05:00</td>\n      <td>28</td>\n      <td>11</td>\n      <td>La Liga</td>\n      <td>22</td>\n      <td>2010/2011</td>\n      <td>213</td>\n      <td>Sevilla</td>\n      <td>217</td>\n      <td>Barcelona</td>\n      <td>349</td>\n      <td>Estadio Ramón Sánchez Pizjuán</td>\n      <td>1</td>\n      <td>Regular Season</td>\n    </tr>\n    <tr>\n      <th>25</th>\n      <td>69303</td>\n      <td>2011-03-19</td>\n      <td>20:00:00.000</td>\n      <td>2</td>\n      <td>1</td>\n      <td>available</td>\n      <td>2020-07-29T05:00</td>\n      <td>29</td>\n      <td>11</td>\n      <td>La Liga</td>\n      <td>22</td>\n      <td>2010/2011</td>\n      <td>217</td>\n      <td>Barcelona</td>\n      <td>216</td>\n      <td>Getafe</td>\n      <td>342</td>\n      <td>Camp Nou</td>\n      <td>1</td>\n      <td>Regular Season</td>\n    </tr>\n    <tr>\n      <th>26</th>\n      <td>69304</td>\n      <td>2011-04-02</td>\n      <td>22:00:00.000</td>\n      <td>0</td>\n      <td>1</td>\n      <td>available</td>\n      <td>2020-07-29T05:00</td>\n      <td>30</td>\n      <td>11</td>\n      <td>La Liga</td>\n      <td>22</td>\n      <td>2010/2011</td>\n      <td>222</td>\n      <td>Villarreal</td>\n      <td>217</td>\n      <td>Barcelona</td>\n      <td>361</td>\n      <td>Estadio de la Cerámica</td>\n      <td>1</td>\n      <td>Regular Season</td>\n    </tr>\n    <tr>\n      <th>27</th>\n      <td>69305</td>\n      <td>2011-04-09</td>\n      <td>20:00:00.000</td>\n      <td>3</td>\n      <td>1</td>\n      <td>available</td>\n      <td>2020-07-29T05:00</td>\n      <td>31</td>\n      <td>11</td>\n      <td>La Liga</td>\n      <td>22</td>\n      <td>2010/2011</td>\n      <td>217</td>\n      <td>Barcelona</td>\n      <td>403</td>\n      <td>Almería</td>\n      <td>342</td>\n      <td>Camp Nou</td>\n      <td>1</td>\n      <td>Regular Season</td>\n    </tr>\n    <tr>\n      <th>28</th>\n      <td>69245</td>\n      <td>2011-04-16</td>\n      <td>22:00:00.000</td>\n      <td>1</td>\n      <td>1</td>\n      <td>available</td>\n      <td>2020-07-29T05:00</td>\n      <td>32</td>\n      <td>11</td>\n      <td>La Liga</td>\n      <td>22</td>\n      <td>2010/2011</td>\n      <td>220</td>\n      <td>Real Madrid</td>\n      <td>217</td>\n      <td>Barcelona</td>\n      <td>353</td>\n      <td>Estadio Santiago Bernabéu</td>\n      <td>1</td>\n      <td>Regular Season</td>\n    </tr>\n    <tr>\n      <th>29</th>\n      <td>69271</td>\n      <td>2011-04-23</td>\n      <td>20:00:00.000</td>\n      <td>2</td>\n      <td>0</td>\n      <td>available</td>\n      <td>2020-07-29T05:00</td>\n      <td>33</td>\n      <td>11</td>\n      <td>La Liga</td>\n      <td>22</td>\n      <td>2010/2011</td>\n      <td>217</td>\n      <td>Barcelona</td>\n      <td>422</td>\n      <td>Osasuna</td>\n      <td>342</td>\n      <td>Camp Nou</td>\n      <td>1</td>\n      <td>Regular Season</td>\n    </tr>\n    <tr>\n      <th>30</th>\n      <td>69246</td>\n      <td>2011-04-30</td>\n      <td>20:00:00.000</td>\n      <td>2</td>\n      <td>1</td>\n      <td>available</td>\n      <td>2020-07-29T05:00</td>\n      <td>34</td>\n      <td>11</td>\n      <td>La Liga</td>\n      <td>22</td>\n      <td>2010/2011</td>\n      <td>210</td>\n      <td>Real Sociedad</td>\n      <td>217</td>\n      <td>Barcelona</td>\n      <td>5043</td>\n      <td>Reale Arena</td>\n      <td>1</td>\n      <td>Regular Season</td>\n    </tr>\n    <tr>\n      <th>31</th>\n      <td>69234</td>\n      <td>2011-05-08</td>\n      <td>19:00:00.000</td>\n      <td>2</td>\n      <td>0</td>\n      <td>available</td>\n      <td>2020-07-29T05:00</td>\n      <td>35</td>\n      <td>11</td>\n      <td>La Liga</td>\n      <td>22</td>\n      <td>2010/2011</td>\n      <td>217</td>\n      <td>Barcelona</td>\n      <td>214</td>\n      <td>Espanyol</td>\n      <td>342</td>\n      <td>Camp Nou</td>\n      <td>1</td>\n      <td>Regular Season</td>\n    </tr>\n    <tr>\n      <th>32</th>\n      <td>69272</td>\n      <td>2011-05-11</td>\n      <td>20:00:00.000</td>\n      <td>1</td>\n      <td>1</td>\n      <td>available</td>\n      <td>2020-07-29T05:00</td>\n      <td>36</td>\n      <td>11</td>\n      <td>La Liga</td>\n      <td>22</td>\n      <td>2010/2011</td>\n      <td>221</td>\n      <td>Levante</td>\n      <td>217</td>\n      <td>Barcelona</td>\n      <td>350</td>\n      <td>Estadio Ciudad de Valencia</td>\n      <td>1</td>\n      <td>Regular Season</td>\n    </tr>\n  </tbody>\n</table>\n</div>"
     },
     "metadata": {},
     "execution_count": 6
    }
   ],
   "source": [
    "competition_id = 11 # Liga <-ここを自由に編集\n",
    "season_id = 22 # 2010/11 <- ここも\n",
    "\n",
    "get_matches_df(competition_id=competition_id, season_id=season_id, comps_df=comps_df)"
   ]
  },
  {
   "cell_type": "markdown",
   "metadata": {},
   "source": [
    "## データセット\n",
    "- match_id = 試合id（上記から見たい試合を選択）"
   ]
  },
  {
   "cell_type": "code",
   "execution_count": 7,
   "metadata": {},
   "outputs": [],
   "source": [
    "match_id = 69299 # Real Madrid vs Barcelona <- ここを自由に編集\n",
    "\n",
    "# datasetというインスタンスでmetadataやイベントデータなどを管理\n",
    "# これが前述のkloopyというライブラリで提供されているクラスを一時的に、インスタンスという形で保持している\n",
    "dataset = datasets.load(dataset_name='statsbomb', match_id=match_id)\n",
    "\n",
    "metadata = dataset.metadata\n",
    "home_team, away_team = metadata.teams"
   ]
  },
  {
   "cell_type": "markdown",
   "metadata": {},
   "source": [
    "### 対戦チームの表示\n",
    "- print文\n",
    "- f-stringという形式で、{}で変数の情報をprintすることができる\n",
    "- 一時的なデバッグの際はprint文でそのときの変数が持っているデータを確認する"
   ]
  },
  {
   "cell_type": "code",
   "execution_count": 8,
   "metadata": {},
   "outputs": [
    {
     "output_type": "stream",
     "name": "stdout",
     "text": [
      "home - Real Madrid\naway - Barcelona\n"
     ]
    }
   ],
   "source": [
    "print(f\"{home_team.ground} - {home_team}\")\n",
    "print(f\"{away_team.ground} - {away_team}\")"
   ]
  },
  {
   "cell_type": "markdown",
   "metadata": {},
   "source": [
    "## ラインナップ（スターティングイレブン等の選手情報）"
   ]
  },
  {
   "cell_type": "code",
   "execution_count": 9,
   "metadata": {},
   "outputs": [
    {
     "output_type": "execute_result",
     "data": {
      "text/plain": [
       "   player_id                           player_name  jersey_no  starting_flg  \\\n",
       "0       2995       Ángel Fabián Di María Hernández         22          True   \n",
       "1       3181                        Lassana Diarra         10         False   \n",
       "2       3496                            Mesut Özil         23          True   \n",
       "3       5201                   Sergio Ramos García          4          True   \n",
       "4       5207   Cristiano Ronaldo dos Santos Aveiro          7          True   \n",
       "5       5552        Marcelo Vieira da Silva Júnior         12          True   \n",
       "6       5566                          Sami Khedira         24          True   \n",
       "7      10805  Ricardo Alberto Silveira de Carvalho          2          True   \n",
       "8      11179               Iker Casillas Fernández          1          True   \n",
       "9      19677                         Karim Benzema          9          True   \n",
       "10     20016          Kléper Laveran Lima Ferreira          3          True   \n",
       "11     20133                   Xabier Alonso Olano         14          True   \n",
       "12     20215                   Álvaro Arbeloa Coca          2         False   \n",
       "13      3958       Pedro Eliezer Rodríguez Ledesma         17          True   \n",
       "14      4324                 Daniel Alves da Silva          2          True   \n",
       "15      4913                     Bojan Krkíc Pérez          9         False   \n",
       "16      5203              Sergio Busquets i Burgos         16          True   \n",
       "17      5213                 Gerard Piqué Bernabéu          3          True   \n",
       "18      5216                  Andrés Iniesta Luján          8          True   \n",
       "19      5503        Lionel Andrés Messi Cuccittini         10          True   \n",
       "20     12737                   David Villa Sánchez          7          True   \n",
       "21     20125              Carles Puyol i Saforcada          5          True   \n",
       "22     20131                Xavier Hernández Creus          6          True   \n",
       "23     20169                          Seydou Kéita         15         False   \n",
       "24     20176                 Víctor Valdés Arribas          1          True   \n",
       "25     20177             Eric-Sylvain Bilal Abidal         22          True   \n",
       "26     26624         Jeffren Isaac Suárez Bermúdez         11         False   \n",
       "\n",
       "   team_id    team_name  \n",
       "0      220  Real Madrid  \n",
       "1      220  Real Madrid  \n",
       "2      220  Real Madrid  \n",
       "3      220  Real Madrid  \n",
       "4      220  Real Madrid  \n",
       "5      220  Real Madrid  \n",
       "6      220  Real Madrid  \n",
       "7      220  Real Madrid  \n",
       "8      220  Real Madrid  \n",
       "9      220  Real Madrid  \n",
       "10     220  Real Madrid  \n",
       "11     220  Real Madrid  \n",
       "12     220  Real Madrid  \n",
       "13     217    Barcelona  \n",
       "14     217    Barcelona  \n",
       "15     217    Barcelona  \n",
       "16     217    Barcelona  \n",
       "17     217    Barcelona  \n",
       "18     217    Barcelona  \n",
       "19     217    Barcelona  \n",
       "20     217    Barcelona  \n",
       "21     217    Barcelona  \n",
       "22     217    Barcelona  \n",
       "23     217    Barcelona  \n",
       "24     217    Barcelona  \n",
       "25     217    Barcelona  \n",
       "26     217    Barcelona  "
      ],
      "text/html": "<div>\n<style scoped>\n    .dataframe tbody tr th:only-of-type {\n        vertical-align: middle;\n    }\n\n    .dataframe tbody tr th {\n        vertical-align: top;\n    }\n\n    .dataframe thead th {\n        text-align: right;\n    }\n</style>\n<table border=\"1\" class=\"dataframe\">\n  <thead>\n    <tr style=\"text-align: right;\">\n      <th></th>\n      <th>player_id</th>\n      <th>player_name</th>\n      <th>jersey_no</th>\n      <th>starting_flg</th>\n      <th>team_id</th>\n      <th>team_name</th>\n    </tr>\n  </thead>\n  <tbody>\n    <tr>\n      <th>0</th>\n      <td>2995</td>\n      <td>Ángel Fabián Di María Hernández</td>\n      <td>22</td>\n      <td>True</td>\n      <td>220</td>\n      <td>Real Madrid</td>\n    </tr>\n    <tr>\n      <th>1</th>\n      <td>3181</td>\n      <td>Lassana Diarra</td>\n      <td>10</td>\n      <td>False</td>\n      <td>220</td>\n      <td>Real Madrid</td>\n    </tr>\n    <tr>\n      <th>2</th>\n      <td>3496</td>\n      <td>Mesut Özil</td>\n      <td>23</td>\n      <td>True</td>\n      <td>220</td>\n      <td>Real Madrid</td>\n    </tr>\n    <tr>\n      <th>3</th>\n      <td>5201</td>\n      <td>Sergio Ramos García</td>\n      <td>4</td>\n      <td>True</td>\n      <td>220</td>\n      <td>Real Madrid</td>\n    </tr>\n    <tr>\n      <th>4</th>\n      <td>5207</td>\n      <td>Cristiano Ronaldo dos Santos Aveiro</td>\n      <td>7</td>\n      <td>True</td>\n      <td>220</td>\n      <td>Real Madrid</td>\n    </tr>\n    <tr>\n      <th>5</th>\n      <td>5552</td>\n      <td>Marcelo Vieira da Silva Júnior</td>\n      <td>12</td>\n      <td>True</td>\n      <td>220</td>\n      <td>Real Madrid</td>\n    </tr>\n    <tr>\n      <th>6</th>\n      <td>5566</td>\n      <td>Sami Khedira</td>\n      <td>24</td>\n      <td>True</td>\n      <td>220</td>\n      <td>Real Madrid</td>\n    </tr>\n    <tr>\n      <th>7</th>\n      <td>10805</td>\n      <td>Ricardo Alberto Silveira de Carvalho</td>\n      <td>2</td>\n      <td>True</td>\n      <td>220</td>\n      <td>Real Madrid</td>\n    </tr>\n    <tr>\n      <th>8</th>\n      <td>11179</td>\n      <td>Iker Casillas Fernández</td>\n      <td>1</td>\n      <td>True</td>\n      <td>220</td>\n      <td>Real Madrid</td>\n    </tr>\n    <tr>\n      <th>9</th>\n      <td>19677</td>\n      <td>Karim Benzema</td>\n      <td>9</td>\n      <td>True</td>\n      <td>220</td>\n      <td>Real Madrid</td>\n    </tr>\n    <tr>\n      <th>10</th>\n      <td>20016</td>\n      <td>Kléper Laveran Lima Ferreira</td>\n      <td>3</td>\n      <td>True</td>\n      <td>220</td>\n      <td>Real Madrid</td>\n    </tr>\n    <tr>\n      <th>11</th>\n      <td>20133</td>\n      <td>Xabier Alonso Olano</td>\n      <td>14</td>\n      <td>True</td>\n      <td>220</td>\n      <td>Real Madrid</td>\n    </tr>\n    <tr>\n      <th>12</th>\n      <td>20215</td>\n      <td>Álvaro Arbeloa Coca</td>\n      <td>2</td>\n      <td>False</td>\n      <td>220</td>\n      <td>Real Madrid</td>\n    </tr>\n    <tr>\n      <th>13</th>\n      <td>3958</td>\n      <td>Pedro Eliezer Rodríguez Ledesma</td>\n      <td>17</td>\n      <td>True</td>\n      <td>217</td>\n      <td>Barcelona</td>\n    </tr>\n    <tr>\n      <th>14</th>\n      <td>4324</td>\n      <td>Daniel Alves da Silva</td>\n      <td>2</td>\n      <td>True</td>\n      <td>217</td>\n      <td>Barcelona</td>\n    </tr>\n    <tr>\n      <th>15</th>\n      <td>4913</td>\n      <td>Bojan Krkíc Pérez</td>\n      <td>9</td>\n      <td>False</td>\n      <td>217</td>\n      <td>Barcelona</td>\n    </tr>\n    <tr>\n      <th>16</th>\n      <td>5203</td>\n      <td>Sergio Busquets i Burgos</td>\n      <td>16</td>\n      <td>True</td>\n      <td>217</td>\n      <td>Barcelona</td>\n    </tr>\n    <tr>\n      <th>17</th>\n      <td>5213</td>\n      <td>Gerard Piqué Bernabéu</td>\n      <td>3</td>\n      <td>True</td>\n      <td>217</td>\n      <td>Barcelona</td>\n    </tr>\n    <tr>\n      <th>18</th>\n      <td>5216</td>\n      <td>Andrés Iniesta Luján</td>\n      <td>8</td>\n      <td>True</td>\n      <td>217</td>\n      <td>Barcelona</td>\n    </tr>\n    <tr>\n      <th>19</th>\n      <td>5503</td>\n      <td>Lionel Andrés Messi Cuccittini</td>\n      <td>10</td>\n      <td>True</td>\n      <td>217</td>\n      <td>Barcelona</td>\n    </tr>\n    <tr>\n      <th>20</th>\n      <td>12737</td>\n      <td>David Villa Sánchez</td>\n      <td>7</td>\n      <td>True</td>\n      <td>217</td>\n      <td>Barcelona</td>\n    </tr>\n    <tr>\n      <th>21</th>\n      <td>20125</td>\n      <td>Carles Puyol i Saforcada</td>\n      <td>5</td>\n      <td>True</td>\n      <td>217</td>\n      <td>Barcelona</td>\n    </tr>\n    <tr>\n      <th>22</th>\n      <td>20131</td>\n      <td>Xavier Hernández Creus</td>\n      <td>6</td>\n      <td>True</td>\n      <td>217</td>\n      <td>Barcelona</td>\n    </tr>\n    <tr>\n      <th>23</th>\n      <td>20169</td>\n      <td>Seydou Kéita</td>\n      <td>15</td>\n      <td>False</td>\n      <td>217</td>\n      <td>Barcelona</td>\n    </tr>\n    <tr>\n      <th>24</th>\n      <td>20176</td>\n      <td>Víctor Valdés Arribas</td>\n      <td>1</td>\n      <td>True</td>\n      <td>217</td>\n      <td>Barcelona</td>\n    </tr>\n    <tr>\n      <th>25</th>\n      <td>20177</td>\n      <td>Eric-Sylvain Bilal Abidal</td>\n      <td>22</td>\n      <td>True</td>\n      <td>217</td>\n      <td>Barcelona</td>\n    </tr>\n    <tr>\n      <th>26</th>\n      <td>26624</td>\n      <td>Jeffren Isaac Suárez Bermúdez</td>\n      <td>11</td>\n      <td>False</td>\n      <td>217</td>\n      <td>Barcelona</td>\n    </tr>\n  </tbody>\n</table>\n</div>"
     },
     "metadata": {},
     "execution_count": 9
    }
   ],
   "source": [
    "lineups_df = pd.concat(\n",
    "    [\n",
    "        pd.DataFrame(data=[\n",
    "            {'player_id':player.player_id, 'player_name':player.name, 'jersey_no':player.jersey_no, 'starting_flg':player.starting, 'team_id':team.team_id, 'team_name':team.name} \n",
    "            for player in team.players]\n",
    "        ) \n",
    "        for team in metadata.teams\n",
    "    ], ignore_index=True\n",
    ")\n",
    "\n",
    "# pd.DataFrame形式の変数を、このように書くと表形式でデータが確認できる。\n",
    "# .head()とすると上から**件を、tail()とすると下から**件をみれる\n",
    "lineups_df"
   ]
  },
  {
   "cell_type": "markdown",
   "metadata": {},
   "source": [
    "## イベントデータのダウンロード（これが分析するデータ）"
   ]
  },
  {
   "cell_type": "code",
   "execution_count": 10,
   "metadata": {},
   "outputs": [
    {
     "output_type": "execute_result",
     "data": {
      "text/plain": [
       "                               event_id           event_type    result  \\\n",
       "0  ac926dec-ffa1-44ea-a734-dfc0a565a6df  GENERIC:Starting XI      None   \n",
       "1  c9bda184-571e-4482-bf23-990874e40b0d  GENERIC:Starting XI      None   \n",
       "2  b3dae79e-facf-499b-a1cb-2b6c5c59c81c   GENERIC:Half Start      None   \n",
       "3  7493688e-145f-4458-bd76-549bc7f21bec   GENERIC:Half Start      None   \n",
       "4  78b837e8-5477-46cf-a401-d4cae5895637                 PASS  COMPLETE   \n",
       "\n",
       "  success  period_id  timestamp  end_timestamp ball_state ball_owning_team  \\\n",
       "0    None          1      0.000            NaN      alive              217   \n",
       "1    None          1      0.000            NaN      alive              217   \n",
       "2    None          1      0.000            NaN      alive              217   \n",
       "3    None          1      0.000            NaN      alive              217   \n",
       "4    True          1      0.724         1.4029      alive              220   \n",
       "\n",
       "  team_id  ... coordinates_x  coordinates_y  end_coordinates_x  \\\n",
       "0     217  ...           NaN            NaN                NaN   \n",
       "1     220  ...           NaN            NaN                NaN   \n",
       "2     217  ...           NaN            NaN                NaN   \n",
       "3     220  ...           NaN            NaN                NaN   \n",
       "4     220  ...         60.95          40.95              61.35   \n",
       "\n",
       "   end_coordinates_y  receiver_player_id set_piece_type    player_name  \\\n",
       "0                NaN                 NaN            NaN            NaN   \n",
       "1                NaN                 NaN            NaN            NaN   \n",
       "2                NaN                 NaN            NaN            NaN   \n",
       "3                NaN                 NaN            NaN            NaN   \n",
       "4              42.95                3496       KICK_OFF  Karim Benzema   \n",
       "\n",
       "  jersey_no  starting_flg    team_name  \n",
       "0       NaN           NaN          NaN  \n",
       "1       NaN           NaN          NaN  \n",
       "2       NaN           NaN          NaN  \n",
       "3       NaN           NaN          NaN  \n",
       "4       9.0          True  Real Madrid  \n",
       "\n",
       "[5 rows x 21 columns]"
      ],
      "text/html": "<div>\n<style scoped>\n    .dataframe tbody tr th:only-of-type {\n        vertical-align: middle;\n    }\n\n    .dataframe tbody tr th {\n        vertical-align: top;\n    }\n\n    .dataframe thead th {\n        text-align: right;\n    }\n</style>\n<table border=\"1\" class=\"dataframe\">\n  <thead>\n    <tr style=\"text-align: right;\">\n      <th></th>\n      <th>event_id</th>\n      <th>event_type</th>\n      <th>result</th>\n      <th>success</th>\n      <th>period_id</th>\n      <th>timestamp</th>\n      <th>end_timestamp</th>\n      <th>ball_state</th>\n      <th>ball_owning_team</th>\n      <th>team_id</th>\n      <th>...</th>\n      <th>coordinates_x</th>\n      <th>coordinates_y</th>\n      <th>end_coordinates_x</th>\n      <th>end_coordinates_y</th>\n      <th>receiver_player_id</th>\n      <th>set_piece_type</th>\n      <th>player_name</th>\n      <th>jersey_no</th>\n      <th>starting_flg</th>\n      <th>team_name</th>\n    </tr>\n  </thead>\n  <tbody>\n    <tr>\n      <th>0</th>\n      <td>ac926dec-ffa1-44ea-a734-dfc0a565a6df</td>\n      <td>GENERIC:Starting XI</td>\n      <td>None</td>\n      <td>None</td>\n      <td>1</td>\n      <td>0.000</td>\n      <td>NaN</td>\n      <td>alive</td>\n      <td>217</td>\n      <td>217</td>\n      <td>...</td>\n      <td>NaN</td>\n      <td>NaN</td>\n      <td>NaN</td>\n      <td>NaN</td>\n      <td>NaN</td>\n      <td>NaN</td>\n      <td>NaN</td>\n      <td>NaN</td>\n      <td>NaN</td>\n      <td>NaN</td>\n    </tr>\n    <tr>\n      <th>1</th>\n      <td>c9bda184-571e-4482-bf23-990874e40b0d</td>\n      <td>GENERIC:Starting XI</td>\n      <td>None</td>\n      <td>None</td>\n      <td>1</td>\n      <td>0.000</td>\n      <td>NaN</td>\n      <td>alive</td>\n      <td>217</td>\n      <td>220</td>\n      <td>...</td>\n      <td>NaN</td>\n      <td>NaN</td>\n      <td>NaN</td>\n      <td>NaN</td>\n      <td>NaN</td>\n      <td>NaN</td>\n      <td>NaN</td>\n      <td>NaN</td>\n      <td>NaN</td>\n      <td>NaN</td>\n    </tr>\n    <tr>\n      <th>2</th>\n      <td>b3dae79e-facf-499b-a1cb-2b6c5c59c81c</td>\n      <td>GENERIC:Half Start</td>\n      <td>None</td>\n      <td>None</td>\n      <td>1</td>\n      <td>0.000</td>\n      <td>NaN</td>\n      <td>alive</td>\n      <td>217</td>\n      <td>217</td>\n      <td>...</td>\n      <td>NaN</td>\n      <td>NaN</td>\n      <td>NaN</td>\n      <td>NaN</td>\n      <td>NaN</td>\n      <td>NaN</td>\n      <td>NaN</td>\n      <td>NaN</td>\n      <td>NaN</td>\n      <td>NaN</td>\n    </tr>\n    <tr>\n      <th>3</th>\n      <td>7493688e-145f-4458-bd76-549bc7f21bec</td>\n      <td>GENERIC:Half Start</td>\n      <td>None</td>\n      <td>None</td>\n      <td>1</td>\n      <td>0.000</td>\n      <td>NaN</td>\n      <td>alive</td>\n      <td>217</td>\n      <td>220</td>\n      <td>...</td>\n      <td>NaN</td>\n      <td>NaN</td>\n      <td>NaN</td>\n      <td>NaN</td>\n      <td>NaN</td>\n      <td>NaN</td>\n      <td>NaN</td>\n      <td>NaN</td>\n      <td>NaN</td>\n      <td>NaN</td>\n    </tr>\n    <tr>\n      <th>4</th>\n      <td>78b837e8-5477-46cf-a401-d4cae5895637</td>\n      <td>PASS</td>\n      <td>COMPLETE</td>\n      <td>True</td>\n      <td>1</td>\n      <td>0.724</td>\n      <td>1.4029</td>\n      <td>alive</td>\n      <td>220</td>\n      <td>220</td>\n      <td>...</td>\n      <td>60.95</td>\n      <td>40.95</td>\n      <td>61.35</td>\n      <td>42.95</td>\n      <td>3496</td>\n      <td>KICK_OFF</td>\n      <td>Karim Benzema</td>\n      <td>9.0</td>\n      <td>True</td>\n      <td>Real Madrid</td>\n    </tr>\n  </tbody>\n</table>\n<p>5 rows × 21 columns</p>\n</div>"
     },
     "metadata": {},
     "execution_count": 10
    }
   ],
   "source": [
    "from kloppy import to_pandas\n",
    "\n",
    "# イベントデータへ、ラインナップデータをidでくっつける\n",
    "# エクセルでいうvlookupのような形\n",
    "df = pd.merge(to_pandas(dataset), lineups_df, on=['player_id', 'team_id'], how='left')\n",
    "\n",
    "df.head()"
   ]
  },
  {
   "source": [
    "### カラム情報の確認"
   ],
   "cell_type": "markdown",
   "metadata": {}
  },
  {
   "cell_type": "code",
   "execution_count": 11,
   "metadata": {},
   "outputs": [
    {
     "output_type": "execute_result",
     "data": {
      "text/plain": [
       "event_id               object\n",
       "event_type             object\n",
       "result                 object\n",
       "success                object\n",
       "period_id               int64\n",
       "timestamp             float64\n",
       "end_timestamp         float64\n",
       "ball_state             object\n",
       "ball_owning_team       object\n",
       "team_id                object\n",
       "player_id              object\n",
       "coordinates_x         float64\n",
       "coordinates_y         float64\n",
       "end_coordinates_x     float64\n",
       "end_coordinates_y     float64\n",
       "receiver_player_id     object\n",
       "set_piece_type         object\n",
       "player_name            object\n",
       "jersey_no             float64\n",
       "starting_flg           object\n",
       "team_name              object\n",
       "dtype: object"
      ]
     },
     "metadata": {},
     "execution_count": 11
    }
   ],
   "source": [
    "df.dtypes"
   ]
  },
  {
   "cell_type": "markdown",
   "metadata": {},
   "source": [
    "# 可視化（基礎集計）"
   ]
  },
  {
   "source": [
    "- ここでは、`pandas(pd)`というライブラリを使いながら表形式のデータを集計し\n",
    "- `plotly(px)`というライブラリを使いながらインタラクティブに触れるグラフにて可視化していく\n",
    "- pandasは、集計処理が`.groupby([集計キー]).agg()`という形で記述することができる\n",
    "- そして、plotlyというライブラリを用いて可視化するのだが、作りたいグラフを[こちらの公式examples](https://plotly.com/python/plotly-express/)から見つけて、必要な引数を与えるだけで簡単に一丁前なグラフを作ることができる"
   ],
   "cell_type": "markdown",
   "metadata": {}
  },
  {
   "source": [
    "## たとえば集計"
   ],
   "cell_type": "markdown",
   "metadata": {}
  },
  {
   "source": [
    "### チームごとのパスの本数を知りたいよ~"
   ],
   "cell_type": "markdown",
   "metadata": {}
  },
  {
   "cell_type": "code",
   "execution_count": 12,
   "metadata": {},
   "outputs": [
    {
     "output_type": "execute_result",
     "data": {
      "text/plain": [
       "                                event_id event_type      result success  \\\n",
       "4   78b837e8-5477-46cf-a401-d4cae5895637       PASS    COMPLETE    True   \n",
       "6   344578cd-7529-4ee5-bbd1-5cd0d1f11afc       PASS    COMPLETE    True   \n",
       "9   ada84c00-3cde-44d3-b5ff-f378d0691e87       PASS    COMPLETE    True   \n",
       "18  2696df69-a137-4868-b1fe-26a6fef210be       PASS  INCOMPLETE   False   \n",
       "21  0b25a983-fc71-4b8a-9cd8-71ccdc008c0f       PASS    COMPLETE    True   \n",
       "\n",
       "    period_id  timestamp  end_timestamp ball_state ball_owning_team team_id  \\\n",
       "4           1      0.724       1.402900      alive              220     220   \n",
       "6           1      1.403       2.583360      alive              220     220   \n",
       "9           1      3.460       4.929731      alive              220     220   \n",
       "18          1     30.276            NaN      alive              220     220   \n",
       "21          1     36.561      37.520622      alive              217     217   \n",
       "\n",
       "    ... coordinates_x  coordinates_y  end_coordinates_x  end_coordinates_y  \\\n",
       "4   ...         60.95          40.95              61.35              42.95   \n",
       "6   ...         60.75          42.55              49.35              37.35   \n",
       "9   ...         48.75          40.85              47.95              67.95   \n",
       "18  ...         54.05          79.35                NaN                NaN   \n",
       "21  ...          8.45          32.25              21.75              53.25   \n",
       "\n",
       "    receiver_player_id set_piece_type            player_name jersey_no  \\\n",
       "4                 3496       KICK_OFF          Karim Benzema       9.0   \n",
       "6                20133            NaN             Mesut Özil      23.0   \n",
       "9                 5201            NaN    Xabier Alonso Olano      14.0   \n",
       "18                 NaN      FREE_KICK    Sergio Ramos García       4.0   \n",
       "21                5213            NaN  Víctor Valdés Arribas       1.0   \n",
       "\n",
       "    starting_flg    team_name  \n",
       "4           True  Real Madrid  \n",
       "6           True  Real Madrid  \n",
       "9           True  Real Madrid  \n",
       "18          True  Real Madrid  \n",
       "21          True    Barcelona  \n",
       "\n",
       "[5 rows x 21 columns]"
      ],
      "text/html": "<div>\n<style scoped>\n    .dataframe tbody tr th:only-of-type {\n        vertical-align: middle;\n    }\n\n    .dataframe tbody tr th {\n        vertical-align: top;\n    }\n\n    .dataframe thead th {\n        text-align: right;\n    }\n</style>\n<table border=\"1\" class=\"dataframe\">\n  <thead>\n    <tr style=\"text-align: right;\">\n      <th></th>\n      <th>event_id</th>\n      <th>event_type</th>\n      <th>result</th>\n      <th>success</th>\n      <th>period_id</th>\n      <th>timestamp</th>\n      <th>end_timestamp</th>\n      <th>ball_state</th>\n      <th>ball_owning_team</th>\n      <th>team_id</th>\n      <th>...</th>\n      <th>coordinates_x</th>\n      <th>coordinates_y</th>\n      <th>end_coordinates_x</th>\n      <th>end_coordinates_y</th>\n      <th>receiver_player_id</th>\n      <th>set_piece_type</th>\n      <th>player_name</th>\n      <th>jersey_no</th>\n      <th>starting_flg</th>\n      <th>team_name</th>\n    </tr>\n  </thead>\n  <tbody>\n    <tr>\n      <th>4</th>\n      <td>78b837e8-5477-46cf-a401-d4cae5895637</td>\n      <td>PASS</td>\n      <td>COMPLETE</td>\n      <td>True</td>\n      <td>1</td>\n      <td>0.724</td>\n      <td>1.402900</td>\n      <td>alive</td>\n      <td>220</td>\n      <td>220</td>\n      <td>...</td>\n      <td>60.95</td>\n      <td>40.95</td>\n      <td>61.35</td>\n      <td>42.95</td>\n      <td>3496</td>\n      <td>KICK_OFF</td>\n      <td>Karim Benzema</td>\n      <td>9.0</td>\n      <td>True</td>\n      <td>Real Madrid</td>\n    </tr>\n    <tr>\n      <th>6</th>\n      <td>344578cd-7529-4ee5-bbd1-5cd0d1f11afc</td>\n      <td>PASS</td>\n      <td>COMPLETE</td>\n      <td>True</td>\n      <td>1</td>\n      <td>1.403</td>\n      <td>2.583360</td>\n      <td>alive</td>\n      <td>220</td>\n      <td>220</td>\n      <td>...</td>\n      <td>60.75</td>\n      <td>42.55</td>\n      <td>49.35</td>\n      <td>37.35</td>\n      <td>20133</td>\n      <td>NaN</td>\n      <td>Mesut Özil</td>\n      <td>23.0</td>\n      <td>True</td>\n      <td>Real Madrid</td>\n    </tr>\n    <tr>\n      <th>9</th>\n      <td>ada84c00-3cde-44d3-b5ff-f378d0691e87</td>\n      <td>PASS</td>\n      <td>COMPLETE</td>\n      <td>True</td>\n      <td>1</td>\n      <td>3.460</td>\n      <td>4.929731</td>\n      <td>alive</td>\n      <td>220</td>\n      <td>220</td>\n      <td>...</td>\n      <td>48.75</td>\n      <td>40.85</td>\n      <td>47.95</td>\n      <td>67.95</td>\n      <td>5201</td>\n      <td>NaN</td>\n      <td>Xabier Alonso Olano</td>\n      <td>14.0</td>\n      <td>True</td>\n      <td>Real Madrid</td>\n    </tr>\n    <tr>\n      <th>18</th>\n      <td>2696df69-a137-4868-b1fe-26a6fef210be</td>\n      <td>PASS</td>\n      <td>INCOMPLETE</td>\n      <td>False</td>\n      <td>1</td>\n      <td>30.276</td>\n      <td>NaN</td>\n      <td>alive</td>\n      <td>220</td>\n      <td>220</td>\n      <td>...</td>\n      <td>54.05</td>\n      <td>79.35</td>\n      <td>NaN</td>\n      <td>NaN</td>\n      <td>NaN</td>\n      <td>FREE_KICK</td>\n      <td>Sergio Ramos García</td>\n      <td>4.0</td>\n      <td>True</td>\n      <td>Real Madrid</td>\n    </tr>\n    <tr>\n      <th>21</th>\n      <td>0b25a983-fc71-4b8a-9cd8-71ccdc008c0f</td>\n      <td>PASS</td>\n      <td>COMPLETE</td>\n      <td>True</td>\n      <td>1</td>\n      <td>36.561</td>\n      <td>37.520622</td>\n      <td>alive</td>\n      <td>217</td>\n      <td>217</td>\n      <td>...</td>\n      <td>8.45</td>\n      <td>32.25</td>\n      <td>21.75</td>\n      <td>53.25</td>\n      <td>5213</td>\n      <td>NaN</td>\n      <td>Víctor Valdés Arribas</td>\n      <td>1.0</td>\n      <td>True</td>\n      <td>Barcelona</td>\n    </tr>\n  </tbody>\n</table>\n<p>5 rows × 21 columns</p>\n</div>"
     },
     "metadata": {},
     "execution_count": 12
    }
   ],
   "source": [
    "df_pass = df[df.event_type=='PASS'].copy() # イベントの種類がパスだけに絞る\n",
    "df_pass.head()"
   ]
  },
  {
   "cell_type": "code",
   "execution_count": 13,
   "metadata": {},
   "outputs": [
    {
     "output_type": "execute_result",
     "data": {
      "text/plain": [
       "     team_name      result  size\n",
       "0    Barcelona    COMPLETE   637\n",
       "1    Barcelona  INCOMPLETE    68\n",
       "2    Barcelona     OFFSIDE     5\n",
       "3    Barcelona         OUT     8\n",
       "4  Real Madrid    COMPLETE   274\n",
       "5  Real Madrid  INCOMPLETE    83\n",
       "6  Real Madrid     OFFSIDE     2\n",
       "7  Real Madrid         OUT    10"
      ],
      "text/html": "<div>\n<style scoped>\n    .dataframe tbody tr th:only-of-type {\n        vertical-align: middle;\n    }\n\n    .dataframe tbody tr th {\n        vertical-align: top;\n    }\n\n    .dataframe thead th {\n        text-align: right;\n    }\n</style>\n<table border=\"1\" class=\"dataframe\">\n  <thead>\n    <tr style=\"text-align: right;\">\n      <th></th>\n      <th>team_name</th>\n      <th>result</th>\n      <th>size</th>\n    </tr>\n  </thead>\n  <tbody>\n    <tr>\n      <th>0</th>\n      <td>Barcelona</td>\n      <td>COMPLETE</td>\n      <td>637</td>\n    </tr>\n    <tr>\n      <th>1</th>\n      <td>Barcelona</td>\n      <td>INCOMPLETE</td>\n      <td>68</td>\n    </tr>\n    <tr>\n      <th>2</th>\n      <td>Barcelona</td>\n      <td>OFFSIDE</td>\n      <td>5</td>\n    </tr>\n    <tr>\n      <th>3</th>\n      <td>Barcelona</td>\n      <td>OUT</td>\n      <td>8</td>\n    </tr>\n    <tr>\n      <th>4</th>\n      <td>Real Madrid</td>\n      <td>COMPLETE</td>\n      <td>274</td>\n    </tr>\n    <tr>\n      <th>5</th>\n      <td>Real Madrid</td>\n      <td>INCOMPLETE</td>\n      <td>83</td>\n    </tr>\n    <tr>\n      <th>6</th>\n      <td>Real Madrid</td>\n      <td>OFFSIDE</td>\n      <td>2</td>\n    </tr>\n    <tr>\n      <th>7</th>\n      <td>Real Madrid</td>\n      <td>OUT</td>\n      <td>10</td>\n    </tr>\n  </tbody>\n</table>\n</div>"
     },
     "metadata": {},
     "execution_count": 13
    }
   ],
   "source": [
    "df_pass.groupby(['team_name', 'result'], as_index=False).size()"
   ]
  },
  {
   "source": [
    "### イベントデータだから地点情報があるんでしょ？選手ごとの平均タッチ位置を知りたいよ〜\n",
    "- statsbombのデータは、ピッチで言うと`coordinates_x`が縦、`coordinates_y`が横を示している\n",
    "- xとyが逆やないとも思うけれど、基本的にピッチをみるときは左右にゴールがある横視点が基本\n",
    "- またその数字はm単位でなく、0-100に変換されている"
   ],
   "cell_type": "markdown",
   "metadata": {}
  },
  {
   "cell_type": "code",
   "execution_count": 14,
   "metadata": {},
   "outputs": [
    {
     "output_type": "execute_result",
     "data": {
      "text/plain": [
       "      team_name  jersey_no  starting_flg  \\\n",
       "0     Barcelona        1.0          True   \n",
       "1     Barcelona        2.0          True   \n",
       "2     Barcelona        3.0          True   \n",
       "3     Barcelona        5.0          True   \n",
       "4     Barcelona        6.0          True   \n",
       "5     Barcelona        7.0          True   \n",
       "6     Barcelona        8.0          True   \n",
       "7     Barcelona        9.0         False   \n",
       "8     Barcelona       10.0          True   \n",
       "9     Barcelona       11.0         False   \n",
       "10    Barcelona       15.0         False   \n",
       "11    Barcelona       16.0          True   \n",
       "12    Barcelona       17.0          True   \n",
       "13    Barcelona       22.0          True   \n",
       "14  Real Madrid        1.0          True   \n",
       "15  Real Madrid        2.0         False   \n",
       "16  Real Madrid        2.0          True   \n",
       "17  Real Madrid        3.0          True   \n",
       "18  Real Madrid        4.0          True   \n",
       "19  Real Madrid        7.0          True   \n",
       "20  Real Madrid        9.0          True   \n",
       "21  Real Madrid       10.0         False   \n",
       "22  Real Madrid       12.0          True   \n",
       "23  Real Madrid       14.0          True   \n",
       "24  Real Madrid       22.0          True   \n",
       "25  Real Madrid       23.0          True   \n",
       "26  Real Madrid       24.0          True   \n",
       "\n",
       "                             player_name      avg_x      avg_y  \n",
       "0                  Víctor Valdés Arribas  11.638235  39.041176  \n",
       "1                  Daniel Alves da Silva  61.920683  67.323896  \n",
       "2                  Gerard Piqué Bernabéu  42.412745  40.162255  \n",
       "3               Carles Puyol i Saforcada  42.436029  45.936765  \n",
       "4                 Xavier Hernández Creus  65.380874  47.558197  \n",
       "5                    David Villa Sánchez  77.704795  16.469863  \n",
       "6                   Andrés Iniesta Luján  65.195907  32.152491  \n",
       "7                      Bojan Krkíc Pérez  83.485714  27.778571  \n",
       "8         Lionel Andrés Messi Cuccittini  73.510000  47.086140  \n",
       "9          Jeffren Isaac Suárez Bermúdez  66.800000  54.293750  \n",
       "10                          Seydou Kéita  62.264286  42.721429  \n",
       "11              Sergio Busquets i Burgos  56.216775  41.703420  \n",
       "12       Pedro Eliezer Rodríguez Ledesma  72.081553  60.990291  \n",
       "13             Eric-Sylvain Bilal Abidal  56.947765  10.874022  \n",
       "14               Iker Casillas Fernández  11.851220  36.739024  \n",
       "15                   Álvaro Arbeloa Coca  58.489583   8.835417  \n",
       "16  Ricardo Alberto Silveira de Carvalho  39.384091  24.442045  \n",
       "17          Kléper Laveran Lima Ferreira  40.141525  46.946610  \n",
       "18                   Sergio Ramos García  45.707143  65.226984  \n",
       "19   Cristiano Ronaldo dos Santos Aveiro  74.150000  35.207325  \n",
       "20                         Karim Benzema  75.880303  29.118939  \n",
       "21                        Lassana Diarra  56.600538  29.399462  \n",
       "22        Marcelo Vieira da Silva Júnior  53.749091  13.721818  \n",
       "23                   Xabier Alonso Olano  52.794068  34.540395  \n",
       "24       Ángel Fabián Di María Hernández  73.067606  40.742958  \n",
       "25                            Mesut Özil  69.918478  28.185870  \n",
       "26                          Sami Khedira  57.157937  50.307143  "
      ],
      "text/html": "<div>\n<style scoped>\n    .dataframe tbody tr th:only-of-type {\n        vertical-align: middle;\n    }\n\n    .dataframe tbody tr th {\n        vertical-align: top;\n    }\n\n    .dataframe thead th {\n        text-align: right;\n    }\n</style>\n<table border=\"1\" class=\"dataframe\">\n  <thead>\n    <tr style=\"text-align: right;\">\n      <th></th>\n      <th>team_name</th>\n      <th>jersey_no</th>\n      <th>starting_flg</th>\n      <th>player_name</th>\n      <th>avg_x</th>\n      <th>avg_y</th>\n    </tr>\n  </thead>\n  <tbody>\n    <tr>\n      <th>0</th>\n      <td>Barcelona</td>\n      <td>1.0</td>\n      <td>True</td>\n      <td>Víctor Valdés Arribas</td>\n      <td>11.638235</td>\n      <td>39.041176</td>\n    </tr>\n    <tr>\n      <th>1</th>\n      <td>Barcelona</td>\n      <td>2.0</td>\n      <td>True</td>\n      <td>Daniel Alves da Silva</td>\n      <td>61.920683</td>\n      <td>67.323896</td>\n    </tr>\n    <tr>\n      <th>2</th>\n      <td>Barcelona</td>\n      <td>3.0</td>\n      <td>True</td>\n      <td>Gerard Piqué Bernabéu</td>\n      <td>42.412745</td>\n      <td>40.162255</td>\n    </tr>\n    <tr>\n      <th>3</th>\n      <td>Barcelona</td>\n      <td>5.0</td>\n      <td>True</td>\n      <td>Carles Puyol i Saforcada</td>\n      <td>42.436029</td>\n      <td>45.936765</td>\n    </tr>\n    <tr>\n      <th>4</th>\n      <td>Barcelona</td>\n      <td>6.0</td>\n      <td>True</td>\n      <td>Xavier Hernández Creus</td>\n      <td>65.380874</td>\n      <td>47.558197</td>\n    </tr>\n    <tr>\n      <th>5</th>\n      <td>Barcelona</td>\n      <td>7.0</td>\n      <td>True</td>\n      <td>David Villa Sánchez</td>\n      <td>77.704795</td>\n      <td>16.469863</td>\n    </tr>\n    <tr>\n      <th>6</th>\n      <td>Barcelona</td>\n      <td>8.0</td>\n      <td>True</td>\n      <td>Andrés Iniesta Luján</td>\n      <td>65.195907</td>\n      <td>32.152491</td>\n    </tr>\n    <tr>\n      <th>7</th>\n      <td>Barcelona</td>\n      <td>9.0</td>\n      <td>False</td>\n      <td>Bojan Krkíc Pérez</td>\n      <td>83.485714</td>\n      <td>27.778571</td>\n    </tr>\n    <tr>\n      <th>8</th>\n      <td>Barcelona</td>\n      <td>10.0</td>\n      <td>True</td>\n      <td>Lionel Andrés Messi Cuccittini</td>\n      <td>73.510000</td>\n      <td>47.086140</td>\n    </tr>\n    <tr>\n      <th>9</th>\n      <td>Barcelona</td>\n      <td>11.0</td>\n      <td>False</td>\n      <td>Jeffren Isaac Suárez Bermúdez</td>\n      <td>66.800000</td>\n      <td>54.293750</td>\n    </tr>\n    <tr>\n      <th>10</th>\n      <td>Barcelona</td>\n      <td>15.0</td>\n      <td>False</td>\n      <td>Seydou Kéita</td>\n      <td>62.264286</td>\n      <td>42.721429</td>\n    </tr>\n    <tr>\n      <th>11</th>\n      <td>Barcelona</td>\n      <td>16.0</td>\n      <td>True</td>\n      <td>Sergio Busquets i Burgos</td>\n      <td>56.216775</td>\n      <td>41.703420</td>\n    </tr>\n    <tr>\n      <th>12</th>\n      <td>Barcelona</td>\n      <td>17.0</td>\n      <td>True</td>\n      <td>Pedro Eliezer Rodríguez Ledesma</td>\n      <td>72.081553</td>\n      <td>60.990291</td>\n    </tr>\n    <tr>\n      <th>13</th>\n      <td>Barcelona</td>\n      <td>22.0</td>\n      <td>True</td>\n      <td>Eric-Sylvain Bilal Abidal</td>\n      <td>56.947765</td>\n      <td>10.874022</td>\n    </tr>\n    <tr>\n      <th>14</th>\n      <td>Real Madrid</td>\n      <td>1.0</td>\n      <td>True</td>\n      <td>Iker Casillas Fernández</td>\n      <td>11.851220</td>\n      <td>36.739024</td>\n    </tr>\n    <tr>\n      <th>15</th>\n      <td>Real Madrid</td>\n      <td>2.0</td>\n      <td>False</td>\n      <td>Álvaro Arbeloa Coca</td>\n      <td>58.489583</td>\n      <td>8.835417</td>\n    </tr>\n    <tr>\n      <th>16</th>\n      <td>Real Madrid</td>\n      <td>2.0</td>\n      <td>True</td>\n      <td>Ricardo Alberto Silveira de Carvalho</td>\n      <td>39.384091</td>\n      <td>24.442045</td>\n    </tr>\n    <tr>\n      <th>17</th>\n      <td>Real Madrid</td>\n      <td>3.0</td>\n      <td>True</td>\n      <td>Kléper Laveran Lima Ferreira</td>\n      <td>40.141525</td>\n      <td>46.946610</td>\n    </tr>\n    <tr>\n      <th>18</th>\n      <td>Real Madrid</td>\n      <td>4.0</td>\n      <td>True</td>\n      <td>Sergio Ramos García</td>\n      <td>45.707143</td>\n      <td>65.226984</td>\n    </tr>\n    <tr>\n      <th>19</th>\n      <td>Real Madrid</td>\n      <td>7.0</td>\n      <td>True</td>\n      <td>Cristiano Ronaldo dos Santos Aveiro</td>\n      <td>74.150000</td>\n      <td>35.207325</td>\n    </tr>\n    <tr>\n      <th>20</th>\n      <td>Real Madrid</td>\n      <td>9.0</td>\n      <td>True</td>\n      <td>Karim Benzema</td>\n      <td>75.880303</td>\n      <td>29.118939</td>\n    </tr>\n    <tr>\n      <th>21</th>\n      <td>Real Madrid</td>\n      <td>10.0</td>\n      <td>False</td>\n      <td>Lassana Diarra</td>\n      <td>56.600538</td>\n      <td>29.399462</td>\n    </tr>\n    <tr>\n      <th>22</th>\n      <td>Real Madrid</td>\n      <td>12.0</td>\n      <td>True</td>\n      <td>Marcelo Vieira da Silva Júnior</td>\n      <td>53.749091</td>\n      <td>13.721818</td>\n    </tr>\n    <tr>\n      <th>23</th>\n      <td>Real Madrid</td>\n      <td>14.0</td>\n      <td>True</td>\n      <td>Xabier Alonso Olano</td>\n      <td>52.794068</td>\n      <td>34.540395</td>\n    </tr>\n    <tr>\n      <th>24</th>\n      <td>Real Madrid</td>\n      <td>22.0</td>\n      <td>True</td>\n      <td>Ángel Fabián Di María Hernández</td>\n      <td>73.067606</td>\n      <td>40.742958</td>\n    </tr>\n    <tr>\n      <th>25</th>\n      <td>Real Madrid</td>\n      <td>23.0</td>\n      <td>True</td>\n      <td>Mesut Özil</td>\n      <td>69.918478</td>\n      <td>28.185870</td>\n    </tr>\n    <tr>\n      <th>26</th>\n      <td>Real Madrid</td>\n      <td>24.0</td>\n      <td>True</td>\n      <td>Sami Khedira</td>\n      <td>57.157937</td>\n      <td>50.307143</td>\n    </tr>\n  </tbody>\n</table>\n</div>"
     },
     "metadata": {},
     "execution_count": 14
    }
   ],
   "source": [
    "df[['team_name', 'jersey_no', 'starting_flg', 'player_name', 'coordinates_x', 'coordinates_y']].dropna()\\\n",
    "    .groupby(['team_name', 'jersey_no', 'starting_flg', 'player_name'], as_index=False)\\\n",
    "    .agg(avg_x=('coordinates_x', 'mean'), avg_y=('coordinates_y', 'mean'))"
   ]
  },
  {
   "source": [
    "## パス本数の選手内訳\n",
    "- event_typeがpassのものにデータを絞る\n",
    "- 選手ごとの件数を集計（agg）\n",
    "- チームとパス本数順に並べる（sort）\n",
    "- 表データに棒グラフを加える（pandasのstyle機能で表データに色付けすることができる）"
   ],
   "cell_type": "markdown",
   "metadata": {}
  },
  {
   "cell_type": "code",
   "execution_count": 15,
   "metadata": {},
   "outputs": [
    {
     "output_type": "execute_result",
     "data": {
      "text/plain": [
       "<pandas.io.formats.style.Styler at 0x7f90f862b810>"
      ],
      "text/html": "<style  type=\"text/css\" >\n#T_11c8db06_36d5_11eb_addf_f0189846d4barow0_col2{\n            width:  10em;\n             height:  80%;\n            background:  linear-gradient(90deg,#d65f5f 100.0%, transparent 100.0%);\n        }#T_11c8db06_36d5_11eb_addf_f0189846d4barow1_col2{\n            width:  10em;\n             height:  80%;\n            background:  linear-gradient(90deg,#d65f5f 83.6%, transparent 83.6%);\n        }#T_11c8db06_36d5_11eb_addf_f0189846d4barow2_col2{\n            width:  10em;\n             height:  80%;\n            background:  linear-gradient(90deg,#d65f5f 67.2%, transparent 67.2%);\n        }#T_11c8db06_36d5_11eb_addf_f0189846d4barow3_col2{\n            width:  10em;\n             height:  80%;\n            background:  linear-gradient(90deg,#d65f5f 61.2%, transparent 61.2%);\n        }#T_11c8db06_36d5_11eb_addf_f0189846d4barow4_col2{\n            width:  10em;\n             height:  80%;\n            background:  linear-gradient(90deg,#d65f5f 58.6%, transparent 58.6%);\n        }#T_11c8db06_36d5_11eb_addf_f0189846d4barow5_col2{\n            width:  10em;\n             height:  80%;\n            background:  linear-gradient(90deg,#d65f5f 52.6%, transparent 52.6%);\n        }#T_11c8db06_36d5_11eb_addf_f0189846d4barow6_col2{\n            width:  10em;\n             height:  80%;\n            background:  linear-gradient(90deg,#d65f5f 50.9%, transparent 50.9%);\n        }#T_11c8db06_36d5_11eb_addf_f0189846d4barow7_col2{\n            width:  10em;\n             height:  80%;\n            background:  linear-gradient(90deg,#d65f5f 37.9%, transparent 37.9%);\n        }#T_11c8db06_36d5_11eb_addf_f0189846d4barow8_col2{\n            width:  10em;\n             height:  80%;\n            background:  linear-gradient(90deg,#d65f5f 37.1%, transparent 37.1%);\n        }#T_11c8db06_36d5_11eb_addf_f0189846d4barow9_col2{\n            width:  10em;\n             height:  80%;\n            background:  linear-gradient(90deg,#d65f5f 25.9%, transparent 25.9%);\n        }#T_11c8db06_36d5_11eb_addf_f0189846d4barow10_col2{\n            width:  10em;\n             height:  80%;\n            background:  linear-gradient(90deg,#d65f5f 22.4%, transparent 22.4%);\n        }#T_11c8db06_36d5_11eb_addf_f0189846d4barow11_col2{\n            width:  10em;\n             height:  80%;\n            background:  linear-gradient(90deg,#d65f5f 1.7%, transparent 1.7%);\n        }#T_11c8db06_36d5_11eb_addf_f0189846d4barow12_col2{\n            width:  10em;\n             height:  80%;\n            background:  linear-gradient(90deg,#d65f5f 0.9%, transparent 0.9%);\n        }#T_11c8db06_36d5_11eb_addf_f0189846d4barow13_col2{\n            width:  10em;\n             height:  80%;\n        }#T_11c8db06_36d5_11eb_addf_f0189846d4barow14_col2{\n            width:  10em;\n             height:  80%;\n            background:  linear-gradient(90deg,#d65f5f 42.2%, transparent 42.2%);\n        }#T_11c8db06_36d5_11eb_addf_f0189846d4barow15_col2{\n            width:  10em;\n             height:  80%;\n            background:  linear-gradient(90deg,#d65f5f 30.2%, transparent 30.2%);\n        }#T_11c8db06_36d5_11eb_addf_f0189846d4barow16_col2{\n            width:  10em;\n             height:  80%;\n            background:  linear-gradient(90deg,#d65f5f 29.3%, transparent 29.3%);\n        }#T_11c8db06_36d5_11eb_addf_f0189846d4barow17_col2{\n            width:  10em;\n             height:  80%;\n            background:  linear-gradient(90deg,#d65f5f 27.6%, transparent 27.6%);\n        }#T_11c8db06_36d5_11eb_addf_f0189846d4barow18_col2{\n            width:  10em;\n             height:  80%;\n            background:  linear-gradient(90deg,#d65f5f 26.7%, transparent 26.7%);\n        }#T_11c8db06_36d5_11eb_addf_f0189846d4barow19_col2{\n            width:  10em;\n             height:  80%;\n            background:  linear-gradient(90deg,#d65f5f 24.1%, transparent 24.1%);\n        }#T_11c8db06_36d5_11eb_addf_f0189846d4barow20_col2{\n            width:  10em;\n             height:  80%;\n            background:  linear-gradient(90deg,#d65f5f 23.3%, transparent 23.3%);\n        }#T_11c8db06_36d5_11eb_addf_f0189846d4barow21_col2{\n            width:  10em;\n             height:  80%;\n            background:  linear-gradient(90deg,#d65f5f 21.6%, transparent 21.6%);\n        }#T_11c8db06_36d5_11eb_addf_f0189846d4barow22_col2{\n            width:  10em;\n             height:  80%;\n            background:  linear-gradient(90deg,#d65f5f 19.8%, transparent 19.8%);\n        }#T_11c8db06_36d5_11eb_addf_f0189846d4barow23_col2{\n            width:  10em;\n             height:  80%;\n            background:  linear-gradient(90deg,#d65f5f 17.2%, transparent 17.2%);\n        }#T_11c8db06_36d5_11eb_addf_f0189846d4barow24_col2{\n            width:  10em;\n             height:  80%;\n            background:  linear-gradient(90deg,#d65f5f 16.4%, transparent 16.4%);\n        }#T_11c8db06_36d5_11eb_addf_f0189846d4barow25_col2,#T_11c8db06_36d5_11eb_addf_f0189846d4barow26_col2{\n            width:  10em;\n             height:  80%;\n            background:  linear-gradient(90deg,#d65f5f 10.3%, transparent 10.3%);\n        }</style><table id=\"T_11c8db06_36d5_11eb_addf_f0189846d4ba\" ><thead>    <tr>        <th class=\"col_heading level0 col0\" >team_name</th>        <th class=\"col_heading level0 col1\" >player_name</th>        <th class=\"col_heading level0 col2\" >size</th>    </tr></thead><tbody>\n                <tr>\n                                <td id=\"T_11c8db06_36d5_11eb_addf_f0189846d4barow0_col0\" class=\"data row0 col0\" >Barcelona</td>\n                        <td id=\"T_11c8db06_36d5_11eb_addf_f0189846d4barow0_col1\" class=\"data row0 col1\" >Xavier Hernández Creus</td>\n                        <td id=\"T_11c8db06_36d5_11eb_addf_f0189846d4barow0_col2\" class=\"data row0 col2\" >118</td>\n            </tr>\n            <tr>\n                                <td id=\"T_11c8db06_36d5_11eb_addf_f0189846d4barow1_col0\" class=\"data row1 col0\" >Barcelona</td>\n                        <td id=\"T_11c8db06_36d5_11eb_addf_f0189846d4barow1_col1\" class=\"data row1 col1\" >Sergio Busquets i Burgos</td>\n                        <td id=\"T_11c8db06_36d5_11eb_addf_f0189846d4barow1_col2\" class=\"data row1 col2\" >99</td>\n            </tr>\n            <tr>\n                                <td id=\"T_11c8db06_36d5_11eb_addf_f0189846d4barow2_col0\" class=\"data row2 col0\" >Barcelona</td>\n                        <td id=\"T_11c8db06_36d5_11eb_addf_f0189846d4barow2_col1\" class=\"data row2 col1\" >Andrés Iniesta Luján</td>\n                        <td id=\"T_11c8db06_36d5_11eb_addf_f0189846d4barow2_col2\" class=\"data row2 col2\" >80</td>\n            </tr>\n            <tr>\n                                <td id=\"T_11c8db06_36d5_11eb_addf_f0189846d4barow3_col0\" class=\"data row3 col0\" >Barcelona</td>\n                        <td id=\"T_11c8db06_36d5_11eb_addf_f0189846d4barow3_col1\" class=\"data row3 col1\" >Daniel Alves da Silva</td>\n                        <td id=\"T_11c8db06_36d5_11eb_addf_f0189846d4barow3_col2\" class=\"data row3 col2\" >73</td>\n            </tr>\n            <tr>\n                                <td id=\"T_11c8db06_36d5_11eb_addf_f0189846d4barow4_col0\" class=\"data row4 col0\" >Barcelona</td>\n                        <td id=\"T_11c8db06_36d5_11eb_addf_f0189846d4barow4_col1\" class=\"data row4 col1\" >Gerard Piqué Bernabéu</td>\n                        <td id=\"T_11c8db06_36d5_11eb_addf_f0189846d4barow4_col2\" class=\"data row4 col2\" >70</td>\n            </tr>\n            <tr>\n                                <td id=\"T_11c8db06_36d5_11eb_addf_f0189846d4barow5_col0\" class=\"data row5 col0\" >Barcelona</td>\n                        <td id=\"T_11c8db06_36d5_11eb_addf_f0189846d4barow5_col1\" class=\"data row5 col1\" >Eric-Sylvain Bilal Abidal</td>\n                        <td id=\"T_11c8db06_36d5_11eb_addf_f0189846d4barow5_col2\" class=\"data row5 col2\" >63</td>\n            </tr>\n            <tr>\n                                <td id=\"T_11c8db06_36d5_11eb_addf_f0189846d4barow6_col0\" class=\"data row6 col0\" >Barcelona</td>\n                        <td id=\"T_11c8db06_36d5_11eb_addf_f0189846d4barow6_col1\" class=\"data row6 col1\" >Lionel Andrés Messi Cuccittini</td>\n                        <td id=\"T_11c8db06_36d5_11eb_addf_f0189846d4barow6_col2\" class=\"data row6 col2\" >61</td>\n            </tr>\n            <tr>\n                                <td id=\"T_11c8db06_36d5_11eb_addf_f0189846d4barow7_col0\" class=\"data row7 col0\" >Barcelona</td>\n                        <td id=\"T_11c8db06_36d5_11eb_addf_f0189846d4barow7_col1\" class=\"data row7 col1\" >Pedro Eliezer Rodríguez Ledesma</td>\n                        <td id=\"T_11c8db06_36d5_11eb_addf_f0189846d4barow7_col2\" class=\"data row7 col2\" >46</td>\n            </tr>\n            <tr>\n                                <td id=\"T_11c8db06_36d5_11eb_addf_f0189846d4barow8_col0\" class=\"data row8 col0\" >Barcelona</td>\n                        <td id=\"T_11c8db06_36d5_11eb_addf_f0189846d4barow8_col1\" class=\"data row8 col1\" >Carles Puyol i Saforcada</td>\n                        <td id=\"T_11c8db06_36d5_11eb_addf_f0189846d4barow8_col2\" class=\"data row8 col2\" >45</td>\n            </tr>\n            <tr>\n                                <td id=\"T_11c8db06_36d5_11eb_addf_f0189846d4barow9_col0\" class=\"data row9 col0\" >Barcelona</td>\n                        <td id=\"T_11c8db06_36d5_11eb_addf_f0189846d4barow9_col1\" class=\"data row9 col1\" >David Villa Sánchez</td>\n                        <td id=\"T_11c8db06_36d5_11eb_addf_f0189846d4barow9_col2\" class=\"data row9 col2\" >32</td>\n            </tr>\n            <tr>\n                                <td id=\"T_11c8db06_36d5_11eb_addf_f0189846d4barow10_col0\" class=\"data row10 col0\" >Barcelona</td>\n                        <td id=\"T_11c8db06_36d5_11eb_addf_f0189846d4barow10_col1\" class=\"data row10 col1\" >Víctor Valdés Arribas</td>\n                        <td id=\"T_11c8db06_36d5_11eb_addf_f0189846d4barow10_col2\" class=\"data row10 col2\" >28</td>\n            </tr>\n            <tr>\n                                <td id=\"T_11c8db06_36d5_11eb_addf_f0189846d4barow11_col0\" class=\"data row11 col0\" >Barcelona</td>\n                        <td id=\"T_11c8db06_36d5_11eb_addf_f0189846d4barow11_col1\" class=\"data row11 col1\" >Bojan Krkíc Pérez</td>\n                        <td id=\"T_11c8db06_36d5_11eb_addf_f0189846d4barow11_col2\" class=\"data row11 col2\" >4</td>\n            </tr>\n            <tr>\n                                <td id=\"T_11c8db06_36d5_11eb_addf_f0189846d4barow12_col0\" class=\"data row12 col0\" >Barcelona</td>\n                        <td id=\"T_11c8db06_36d5_11eb_addf_f0189846d4barow12_col1\" class=\"data row12 col1\" >Jeffren Isaac Suárez Bermúdez</td>\n                        <td id=\"T_11c8db06_36d5_11eb_addf_f0189846d4barow12_col2\" class=\"data row12 col2\" >3</td>\n            </tr>\n            <tr>\n                                <td id=\"T_11c8db06_36d5_11eb_addf_f0189846d4barow13_col0\" class=\"data row13 col0\" >Barcelona</td>\n                        <td id=\"T_11c8db06_36d5_11eb_addf_f0189846d4barow13_col1\" class=\"data row13 col1\" >Seydou Kéita</td>\n                        <td id=\"T_11c8db06_36d5_11eb_addf_f0189846d4barow13_col2\" class=\"data row13 col2\" >2</td>\n            </tr>\n            <tr>\n                                <td id=\"T_11c8db06_36d5_11eb_addf_f0189846d4barow14_col0\" class=\"data row14 col0\" >Real Madrid</td>\n                        <td id=\"T_11c8db06_36d5_11eb_addf_f0189846d4barow14_col1\" class=\"data row14 col1\" >Xabier Alonso Olano</td>\n                        <td id=\"T_11c8db06_36d5_11eb_addf_f0189846d4barow14_col2\" class=\"data row14 col2\" >51</td>\n            </tr>\n            <tr>\n                                <td id=\"T_11c8db06_36d5_11eb_addf_f0189846d4barow15_col0\" class=\"data row15 col0\" >Real Madrid</td>\n                        <td id=\"T_11c8db06_36d5_11eb_addf_f0189846d4barow15_col1\" class=\"data row15 col1\" >Sergio Ramos García</td>\n                        <td id=\"T_11c8db06_36d5_11eb_addf_f0189846d4barow15_col2\" class=\"data row15 col2\" >37</td>\n            </tr>\n            <tr>\n                                <td id=\"T_11c8db06_36d5_11eb_addf_f0189846d4barow16_col0\" class=\"data row16 col0\" >Real Madrid</td>\n                        <td id=\"T_11c8db06_36d5_11eb_addf_f0189846d4barow16_col1\" class=\"data row16 col1\" >Kléper Laveran Lima Ferreira</td>\n                        <td id=\"T_11c8db06_36d5_11eb_addf_f0189846d4barow16_col2\" class=\"data row16 col2\" >36</td>\n            </tr>\n            <tr>\n                                <td id=\"T_11c8db06_36d5_11eb_addf_f0189846d4barow17_col0\" class=\"data row17 col0\" >Real Madrid</td>\n                        <td id=\"T_11c8db06_36d5_11eb_addf_f0189846d4barow17_col1\" class=\"data row17 col1\" >Iker Casillas Fernández</td>\n                        <td id=\"T_11c8db06_36d5_11eb_addf_f0189846d4barow17_col2\" class=\"data row17 col2\" >34</td>\n            </tr>\n            <tr>\n                                <td id=\"T_11c8db06_36d5_11eb_addf_f0189846d4barow18_col0\" class=\"data row18 col0\" >Real Madrid</td>\n                        <td id=\"T_11c8db06_36d5_11eb_addf_f0189846d4barow18_col1\" class=\"data row18 col1\" >Cristiano Ronaldo dos Santos Aveiro</td>\n                        <td id=\"T_11c8db06_36d5_11eb_addf_f0189846d4barow18_col2\" class=\"data row18 col2\" >33</td>\n            </tr>\n            <tr>\n                                <td id=\"T_11c8db06_36d5_11eb_addf_f0189846d4barow19_col0\" class=\"data row19 col0\" >Real Madrid</td>\n                        <td id=\"T_11c8db06_36d5_11eb_addf_f0189846d4barow19_col1\" class=\"data row19 col1\" >Marcelo Vieira da Silva Júnior</td>\n                        <td id=\"T_11c8db06_36d5_11eb_addf_f0189846d4barow19_col2\" class=\"data row19 col2\" >30</td>\n            </tr>\n            <tr>\n                                <td id=\"T_11c8db06_36d5_11eb_addf_f0189846d4barow20_col0\" class=\"data row20 col0\" >Real Madrid</td>\n                        <td id=\"T_11c8db06_36d5_11eb_addf_f0189846d4barow20_col1\" class=\"data row20 col1\" >Ricardo Alberto Silveira de Carvalho</td>\n                        <td id=\"T_11c8db06_36d5_11eb_addf_f0189846d4barow20_col2\" class=\"data row20 col2\" >29</td>\n            </tr>\n            <tr>\n                                <td id=\"T_11c8db06_36d5_11eb_addf_f0189846d4barow21_col0\" class=\"data row21 col0\" >Real Madrid</td>\n                        <td id=\"T_11c8db06_36d5_11eb_addf_f0189846d4barow21_col1\" class=\"data row21 col1\" >Karim Benzema</td>\n                        <td id=\"T_11c8db06_36d5_11eb_addf_f0189846d4barow21_col2\" class=\"data row21 col2\" >27</td>\n            </tr>\n            <tr>\n                                <td id=\"T_11c8db06_36d5_11eb_addf_f0189846d4barow22_col0\" class=\"data row22 col0\" >Real Madrid</td>\n                        <td id=\"T_11c8db06_36d5_11eb_addf_f0189846d4barow22_col1\" class=\"data row22 col1\" >Ángel Fabián Di María Hernández</td>\n                        <td id=\"T_11c8db06_36d5_11eb_addf_f0189846d4barow22_col2\" class=\"data row22 col2\" >25</td>\n            </tr>\n            <tr>\n                                <td id=\"T_11c8db06_36d5_11eb_addf_f0189846d4barow23_col0\" class=\"data row23 col0\" >Real Madrid</td>\n                        <td id=\"T_11c8db06_36d5_11eb_addf_f0189846d4barow23_col1\" class=\"data row23 col1\" >Sami Khedira</td>\n                        <td id=\"T_11c8db06_36d5_11eb_addf_f0189846d4barow23_col2\" class=\"data row23 col2\" >22</td>\n            </tr>\n            <tr>\n                                <td id=\"T_11c8db06_36d5_11eb_addf_f0189846d4barow24_col0\" class=\"data row24 col0\" >Real Madrid</td>\n                        <td id=\"T_11c8db06_36d5_11eb_addf_f0189846d4barow24_col1\" class=\"data row24 col1\" >Mesut Özil</td>\n                        <td id=\"T_11c8db06_36d5_11eb_addf_f0189846d4barow24_col2\" class=\"data row24 col2\" >21</td>\n            </tr>\n            <tr>\n                                <td id=\"T_11c8db06_36d5_11eb_addf_f0189846d4barow25_col0\" class=\"data row25 col0\" >Real Madrid</td>\n                        <td id=\"T_11c8db06_36d5_11eb_addf_f0189846d4barow25_col1\" class=\"data row25 col1\" >Lassana Diarra</td>\n                        <td id=\"T_11c8db06_36d5_11eb_addf_f0189846d4barow25_col2\" class=\"data row25 col2\" >14</td>\n            </tr>\n            <tr>\n                                <td id=\"T_11c8db06_36d5_11eb_addf_f0189846d4barow26_col0\" class=\"data row26 col0\" >Real Madrid</td>\n                        <td id=\"T_11c8db06_36d5_11eb_addf_f0189846d4barow26_col1\" class=\"data row26 col1\" >Álvaro Arbeloa Coca</td>\n                        <td id=\"T_11c8db06_36d5_11eb_addf_f0189846d4barow26_col2\" class=\"data row26 col2\" >14</td>\n            </tr>\n    </tbody></table>"
     },
     "metadata": {},
     "execution_count": 15
    }
   ],
   "source": [
    "df[df.event_type=='PASS']\\\n",
    "    .groupby(['team_name', 'player_name'], as_index=False).size()\\\n",
    "    .sort_values(['team_name', 'size'], ascending=[True, False])\\\n",
    "    .style.bar(subset=['size'], color='#d65f5f').hide_index()"
   ]
  },
  {
   "source": [
    "## チーム/選手ごとのイベント数（種類ごとに色分け）"
   ],
   "cell_type": "markdown",
   "metadata": {}
  },
  {
   "source": [
    "- `even_type`ごとの色マスタを作る\n",
    "- [`event_type`の定義（.pdf）](https://github.com/statsbomb/open-data/blob/master/doc/Open%20Data%20Events%20v4.0.0.pdf)"
   ],
   "cell_type": "markdown",
   "metadata": {}
  },
  {
   "cell_type": "code",
   "execution_count": 16,
   "metadata": {},
   "outputs": [],
   "source": [
    "event_type_color_dict = {event_type:px.colors.qualitative.D3[i] if i<10  else px.colors.qualitative.T10[i-10] if i<20 else px.colors.qualitative.Safe[i-20]  for i, event_type in enumerate(df.groupby('event_type', as_index=False).size().sort_values('size', ascending=False\n",
    ").event_type.unique())}"
   ]
  },
  {
   "source": [
    "チームごとに積み上げ棒グラフにて可視化"
   ],
   "cell_type": "markdown",
   "metadata": {}
  },
  {
   "cell_type": "code",
   "execution_count": 17,
   "metadata": {},
   "outputs": [
    {
     "output_type": "display_data",
     "data": {
      "application/vnd.plotly.v1+json": {
       "config": {
        "linkText": "Export to plot.ly",
        "plotlyServerURL": "https://plot.ly",
        "showLink": false
       },
       "data": [
        {
         "alignmentgroup": "True",
         "hoverlabel": {
          "namelength": 0
         },
         "hovertemplate": "event_type=BALL_OUT<br>size=%{x}<br>player_name=%{y}",
         "legendgroup": "event_type=BALL_OUT",
         "marker": {
          "color": "#EECA3B"
         },
         "name": "event_type=BALL_OUT",
         "offsetgroup": "event_type=BALL_OUT",
         "orientation": "h",
         "showlegend": true,
         "textposition": "auto",
         "type": "bar",
         "x": [
          1,
          1,
          1,
          1,
          1,
          1,
          2,
          1,
          1
         ],
         "xaxis": "x",
         "y": [
          "Cristiano Ronaldo dos Santos Aveiro",
          "Iker Casillas Fernández",
          "Karim Benzema",
          "Kléper Laveran Lima Ferreira",
          "Lassana Diarra",
          "Marcelo Vieira da Silva Júnior",
          "Sami Khedira",
          "Xabier Alonso Olano",
          "Ángel Fabián Di María Hernández"
         ],
         "yaxis": "y"
        },
        {
         "alignmentgroup": "True",
         "hoverlabel": {
          "namelength": 0
         },
         "hovertemplate": "event_type=CARD<br>size=%{x}<br>player_name=%{y}",
         "legendgroup": "event_type=CARD",
         "marker": {
          "color": "#FF9DA6"
         },
         "name": "event_type=CARD",
         "offsetgroup": "event_type=CARD",
         "orientation": "h",
         "showlegend": true,
         "textposition": "auto",
         "type": "bar",
         "x": [
          1,
          1,
          1,
          1,
          1,
          2,
          1
         ],
         "xaxis": "x",
         "y": [
          "Cristiano Ronaldo dos Santos Aveiro",
          "Iker Casillas Fernández",
          "Kléper Laveran Lima Ferreira",
          "Ricardo Alberto Silveira de Carvalho",
          "Sami Khedira",
          "Sergio Ramos García",
          "Xabier Alonso Olano"
         ],
         "yaxis": "y"
        },
        {
         "alignmentgroup": "True",
         "hoverlabel": {
          "namelength": 0
         },
         "hovertemplate": "event_type=CARRY<br>size=%{x}<br>player_name=%{y}",
         "legendgroup": "event_type=CARRY",
         "marker": {
          "color": "#2CA02C"
         },
         "name": "event_type=CARRY",
         "offsetgroup": "event_type=CARRY",
         "orientation": "h",
         "showlegend": true,
         "textposition": "auto",
         "type": "bar",
         "x": [
          37,
          11,
          23,
          22,
          14,
          23,
          14,
          16,
          20,
          23,
          29,
          10,
          26
         ],
         "xaxis": "x",
         "y": [
          "Cristiano Ronaldo dos Santos Aveiro",
          "Iker Casillas Fernández",
          "Karim Benzema",
          "Kléper Laveran Lima Ferreira",
          "Lassana Diarra",
          "Marcelo Vieira da Silva Júnior",
          "Mesut Özil",
          "Ricardo Alberto Silveira de Carvalho",
          "Sami Khedira",
          "Sergio Ramos García",
          "Xabier Alonso Olano",
          "Álvaro Arbeloa Coca",
          "Ángel Fabián Di María Hernández"
         ],
         "yaxis": "y"
        },
        {
         "alignmentgroup": "True",
         "hoverlabel": {
          "namelength": 0
         },
         "hovertemplate": "event_type=GENERIC:Ball Receipt*<br>size=%{x}<br>player_name=%{y}",
         "legendgroup": "event_type=GENERIC:Ball Receipt*",
         "marker": {
          "color": "#FF7F0E"
         },
         "name": "event_type=GENERIC:Ball Receipt*",
         "offsetgroup": "event_type=GENERIC:Ball Receipt*",
         "orientation": "h",
         "showlegend": true,
         "textposition": "auto",
         "type": "bar",
         "x": [
          52,
          13,
          42,
          23,
          16,
          20,
          22,
          21,
          24,
          22,
          42,
          10,
          46
         ],
         "xaxis": "x",
         "y": [
          "Cristiano Ronaldo dos Santos Aveiro",
          "Iker Casillas Fernández",
          "Karim Benzema",
          "Kléper Laveran Lima Ferreira",
          "Lassana Diarra",
          "Marcelo Vieira da Silva Júnior",
          "Mesut Özil",
          "Ricardo Alberto Silveira de Carvalho",
          "Sami Khedira",
          "Sergio Ramos García",
          "Xabier Alonso Olano",
          "Álvaro Arbeloa Coca",
          "Ángel Fabián Di María Hernández"
         ],
         "yaxis": "y"
        },
        {
         "alignmentgroup": "True",
         "hoverlabel": {
          "namelength": 0
         },
         "hovertemplate": "event_type=GENERIC:Block<br>size=%{x}<br>player_name=%{y}",
         "legendgroup": "event_type=GENERIC:Block",
         "marker": {
          "color": "#BCBD22"
         },
         "name": "event_type=GENERIC:Block",
         "offsetgroup": "event_type=GENERIC:Block",
         "orientation": "h",
         "showlegend": true,
         "textposition": "auto",
         "type": "bar",
         "x": [
          2,
          2,
          2,
          1,
          1,
          1,
          3,
          4,
          2
         ],
         "xaxis": "x",
         "y": [
          "Cristiano Ronaldo dos Santos Aveiro",
          "Iker Casillas Fernández",
          "Karim Benzema",
          "Kléper Laveran Lima Ferreira",
          "Mesut Özil",
          "Sami Khedira",
          "Sergio Ramos García",
          "Xabier Alonso Olano",
          "Ángel Fabián Di María Hernández"
         ],
         "yaxis": "y"
        },
        {
         "alignmentgroup": "True",
         "hoverlabel": {
          "namelength": 0
         },
         "hovertemplate": "event_type=GENERIC:Foul Won<br>size=%{x}<br>player_name=%{y}",
         "legendgroup": "event_type=GENERIC:Foul Won",
         "marker": {
          "color": "#7F7F7F"
         },
         "name": "event_type=GENERIC:Foul Won",
         "offsetgroup": "event_type=GENERIC:Foul Won",
         "orientation": "h",
         "showlegend": true,
         "textposition": "auto",
         "type": "bar",
         "x": [
          4,
          2,
          1,
          1,
          1,
          1,
          1
         ],
         "xaxis": "x",
         "y": [
          "Cristiano Ronaldo dos Santos Aveiro",
          "Karim Benzema",
          "Kléper Laveran Lima Ferreira",
          "Lassana Diarra",
          "Marcelo Vieira da Silva Júnior",
          "Sami Khedira",
          "Xabier Alonso Olano"
         ],
         "yaxis": "y"
        },
        {
         "alignmentgroup": "True",
         "hoverlabel": {
          "namelength": 0
         },
         "hovertemplate": "event_type=GENERIC:Interception<br>size=%{x}<br>player_name=%{y}",
         "legendgroup": "event_type=GENERIC:Interception",
         "marker": {
          "color": "#B279A2"
         },
         "name": "event_type=GENERIC:Interception",
         "offsetgroup": "event_type=GENERIC:Interception",
         "orientation": "h",
         "showlegend": true,
         "textposition": "auto",
         "type": "bar",
         "x": [
          1,
          1,
          2,
          2,
          1,
          1,
          1
         ],
         "xaxis": "x",
         "y": [
          "Cristiano Ronaldo dos Santos Aveiro",
          "Karim Benzema",
          "Kléper Laveran Lima Ferreira",
          "Marcelo Vieira da Silva Júnior",
          "Ricardo Alberto Silveira de Carvalho",
          "Sami Khedira",
          "Ángel Fabián Di María Hernández"
         ],
         "yaxis": "y"
        },
        {
         "alignmentgroup": "True",
         "hoverlabel": {
          "namelength": 0
         },
         "hovertemplate": "event_type=GENERIC:Miscontrol<br>size=%{x}<br>player_name=%{y}",
         "legendgroup": "event_type=GENERIC:Miscontrol",
         "marker": {
          "color": "#17BECF"
         },
         "name": "event_type=GENERIC:Miscontrol",
         "offsetgroup": "event_type=GENERIC:Miscontrol",
         "orientation": "h",
         "showlegend": true,
         "textposition": "auto",
         "type": "bar",
         "x": [
          6,
          3,
          1,
          2,
          1,
          2,
          1,
          4
         ],
         "xaxis": "x",
         "y": [
          "Cristiano Ronaldo dos Santos Aveiro",
          "Karim Benzema",
          "Kléper Laveran Lima Ferreira",
          "Lassana Diarra",
          "Mesut Özil",
          "Sami Khedira",
          "Sergio Ramos García",
          "Ángel Fabián Di María Hernández"
         ],
         "yaxis": "y"
        },
        {
         "alignmentgroup": "True",
         "hoverlabel": {
          "namelength": 0
         },
         "hovertemplate": "event_type=GENERIC:Pressure<br>size=%{x}<br>player_name=%{y}",
         "legendgroup": "event_type=GENERIC:Pressure",
         "marker": {
          "color": "#D62728"
         },
         "name": "event_type=GENERIC:Pressure",
         "offsetgroup": "event_type=GENERIC:Pressure",
         "orientation": "h",
         "showlegend": true,
         "textposition": "auto",
         "type": "bar",
         "x": [
          7,
          1,
          18,
          16,
          32,
          13,
          26,
          7,
          39,
          21,
          34,
          11,
          25
         ],
         "xaxis": "x",
         "y": [
          "Cristiano Ronaldo dos Santos Aveiro",
          "Iker Casillas Fernández",
          "Karim Benzema",
          "Kléper Laveran Lima Ferreira",
          "Lassana Diarra",
          "Marcelo Vieira da Silva Júnior",
          "Mesut Özil",
          "Ricardo Alberto Silveira de Carvalho",
          "Sami Khedira",
          "Sergio Ramos García",
          "Xabier Alonso Olano",
          "Álvaro Arbeloa Coca",
          "Ángel Fabián Di María Hernández"
         ],
         "yaxis": "y"
        },
        {
         "alignmentgroup": "True",
         "hoverlabel": {
          "namelength": 0
         },
         "hovertemplate": "event_type=PASS<br>size=%{x}<br>player_name=%{y}",
         "legendgroup": "event_type=PASS",
         "marker": {
          "color": "#1F77B4"
         },
         "name": "event_type=PASS",
         "offsetgroup": "event_type=PASS",
         "orientation": "h",
         "showlegend": true,
         "textposition": "auto",
         "type": "bar",
         "x": [
          33,
          34,
          27,
          36,
          14,
          30,
          21,
          29,
          22,
          37,
          51,
          14,
          25
         ],
         "xaxis": "x",
         "y": [
          "Cristiano Ronaldo dos Santos Aveiro",
          "Iker Casillas Fernández",
          "Karim Benzema",
          "Kléper Laveran Lima Ferreira",
          "Lassana Diarra",
          "Marcelo Vieira da Silva Júnior",
          "Mesut Özil",
          "Ricardo Alberto Silveira de Carvalho",
          "Sami Khedira",
          "Sergio Ramos García",
          "Xabier Alonso Olano",
          "Álvaro Arbeloa Coca",
          "Ángel Fabián Di María Hernández"
         ],
         "yaxis": "y"
        },
        {
         "alignmentgroup": "True",
         "hoverlabel": {
          "namelength": 0
         },
         "hovertemplate": "event_type=RECOVERY<br>size=%{x}<br>player_name=%{y}",
         "legendgroup": "event_type=RECOVERY",
         "marker": {
          "color": "#9467BD"
         },
         "name": "event_type=RECOVERY",
         "offsetgroup": "event_type=RECOVERY",
         "orientation": "h",
         "showlegend": true,
         "textposition": "auto",
         "type": "bar",
         "x": [
          4,
          6,
          3,
          5,
          5,
          6,
          3,
          3,
          3,
          10,
          6,
          1,
          3
         ],
         "xaxis": "x",
         "y": [
          "Cristiano Ronaldo dos Santos Aveiro",
          "Iker Casillas Fernández",
          "Karim Benzema",
          "Kléper Laveran Lima Ferreira",
          "Lassana Diarra",
          "Marcelo Vieira da Silva Júnior",
          "Mesut Özil",
          "Ricardo Alberto Silveira de Carvalho",
          "Sami Khedira",
          "Sergio Ramos García",
          "Xabier Alonso Olano",
          "Álvaro Arbeloa Coca",
          "Ángel Fabián Di María Hernández"
         ],
         "yaxis": "y"
        },
        {
         "alignmentgroup": "True",
         "hoverlabel": {
          "namelength": 0
         },
         "hovertemplate": "event_type=SHOT<br>size=%{x}<br>player_name=%{y}",
         "legendgroup": "event_type=SHOT",
         "marker": {
          "color": "#54A24B"
         },
         "name": "event_type=SHOT",
         "offsetgroup": "event_type=SHOT",
         "orientation": "h",
         "showlegend": true,
         "textposition": "auto",
         "type": "bar",
         "x": [
          3,
          1,
          1
         ],
         "xaxis": "x",
         "y": [
          "Cristiano Ronaldo dos Santos Aveiro",
          "Sergio Ramos García",
          "Ángel Fabián Di María Hernández"
         ],
         "yaxis": "y"
        },
        {
         "alignmentgroup": "True",
         "hoverlabel": {
          "namelength": 0
         },
         "hovertemplate": "event_type=TAKE_ON<br>size=%{x}<br>player_name=%{y}",
         "legendgroup": "event_type=TAKE_ON",
         "marker": {
          "color": "#E377C2"
         },
         "name": "event_type=TAKE_ON",
         "offsetgroup": "event_type=TAKE_ON",
         "orientation": "h",
         "showlegend": true,
         "textposition": "auto",
         "type": "bar",
         "x": [
          7,
          1,
          1,
          1,
          1,
          1,
          1,
          2,
          1,
          3
         ],
         "xaxis": "x",
         "y": [
          "Cristiano Ronaldo dos Santos Aveiro",
          "Karim Benzema",
          "Kléper Laveran Lima Ferreira",
          "Lassana Diarra",
          "Marcelo Vieira da Silva Júnior",
          "Mesut Özil",
          "Sami Khedira",
          "Sergio Ramos García",
          "Xabier Alonso Olano",
          "Ángel Fabián Di María Hernández"
         ],
         "yaxis": "y"
        },
        {
         "alignmentgroup": "True",
         "hoverlabel": {
          "namelength": 0
         },
         "hovertemplate": "event_type=GENERIC:Goal Keeper<br>size=%{x}<br>player_name=%{y}",
         "legendgroup": "event_type=GENERIC:Goal Keeper",
         "marker": {
          "color": "#E45756"
         },
         "name": "event_type=GENERIC:Goal Keeper",
         "offsetgroup": "event_type=GENERIC:Goal Keeper",
         "orientation": "h",
         "showlegend": true,
         "textposition": "auto",
         "type": "bar",
         "x": [
          15
         ],
         "xaxis": "x",
         "y": [
          "Iker Casillas Fernández"
         ],
         "yaxis": "y"
        },
        {
         "alignmentgroup": "True",
         "hoverlabel": {
          "namelength": 0
         },
         "hovertemplate": "event_type=GENERIC:50/50<br>size=%{x}<br>player_name=%{y}",
         "legendgroup": "event_type=GENERIC:50/50",
         "marker": {
          "color": "#9D755D"
         },
         "name": "event_type=GENERIC:50/50",
         "offsetgroup": "event_type=GENERIC:50/50",
         "orientation": "h",
         "showlegend": true,
         "textposition": "auto",
         "type": "bar",
         "x": [
          1,
          1,
          1
         ],
         "xaxis": "x",
         "y": [
          "Karim Benzema",
          "Kléper Laveran Lima Ferreira",
          "Sami Khedira"
         ],
         "yaxis": "y"
        },
        {
         "alignmentgroup": "True",
         "hoverlabel": {
          "namelength": 0
         },
         "hovertemplate": "event_type=GENERIC:Clearance<br>size=%{x}<br>player_name=%{y}",
         "legendgroup": "event_type=GENERIC:Clearance",
         "marker": {
          "color": "#F58518"
         },
         "name": "event_type=GENERIC:Clearance",
         "offsetgroup": "event_type=GENERIC:Clearance",
         "orientation": "h",
         "showlegend": true,
         "textposition": "auto",
         "type": "bar",
         "x": [
          1,
          2,
          3,
          3,
          2,
          3,
          1
         ],
         "xaxis": "x",
         "y": [
          "Karim Benzema",
          "Kléper Laveran Lima Ferreira",
          "Marcelo Vieira da Silva Júnior",
          "Ricardo Alberto Silveira de Carvalho",
          "Sami Khedira",
          "Sergio Ramos García",
          "Xabier Alonso Olano"
         ],
         "yaxis": "y"
        },
        {
         "alignmentgroup": "True",
         "hoverlabel": {
          "namelength": 0
         },
         "hovertemplate": "event_type=GENERIC:Dispossessed<br>size=%{x}<br>player_name=%{y}",
         "legendgroup": "event_type=GENERIC:Dispossessed",
         "marker": {
          "color": "#72B7B2"
         },
         "name": "event_type=GENERIC:Dispossessed",
         "offsetgroup": "event_type=GENERIC:Dispossessed",
         "orientation": "h",
         "showlegend": true,
         "textposition": "auto",
         "type": "bar",
         "x": [
          2,
          2,
          1,
          1,
          1,
          1
         ],
         "xaxis": "x",
         "y": [
          "Karim Benzema",
          "Lassana Diarra",
          "Marcelo Vieira da Silva Júnior",
          "Mesut Özil",
          "Álvaro Arbeloa Coca",
          "Ángel Fabián Di María Hernández"
         ],
         "yaxis": "y"
        },
        {
         "alignmentgroup": "True",
         "hoverlabel": {
          "namelength": 0
         },
         "hovertemplate": "event_type=GENERIC:Dribbled Past<br>size=%{x}<br>player_name=%{y}",
         "legendgroup": "event_type=GENERIC:Dribbled Past",
         "marker": {
          "color": "#4C78A8"
         },
         "name": "event_type=GENERIC:Dribbled Past",
         "offsetgroup": "event_type=GENERIC:Dribbled Past",
         "orientation": "h",
         "showlegend": true,
         "textposition": "auto",
         "type": "bar",
         "x": [
          2,
          6,
          2,
          3,
          4,
          1,
          2,
          2
         ],
         "xaxis": "x",
         "y": [
          "Karim Benzema",
          "Marcelo Vieira da Silva Júnior",
          "Mesut Özil",
          "Ricardo Alberto Silveira de Carvalho",
          "Sami Khedira",
          "Sergio Ramos García",
          "Xabier Alonso Olano",
          "Ángel Fabián Di María Hernández"
         ],
         "yaxis": "y"
        },
        {
         "alignmentgroup": "True",
         "hoverlabel": {
          "namelength": 0
         },
         "hovertemplate": "event_type=GENERIC:Duel<br>size=%{x}<br>player_name=%{y}",
         "legendgroup": "event_type=GENERIC:Duel",
         "marker": {
          "color": "#8C564B"
         },
         "name": "event_type=GENERIC:Duel",
         "offsetgroup": "event_type=GENERIC:Duel",
         "orientation": "h",
         "showlegend": true,
         "textposition": "auto",
         "type": "bar",
         "x": [
          3,
          5,
          5,
          3,
          4,
          2,
          4,
          1,
          2
         ],
         "xaxis": "x",
         "y": [
          "Karim Benzema",
          "Kléper Laveran Lima Ferreira",
          "Lassana Diarra",
          "Marcelo Vieira da Silva Júnior",
          "Ricardo Alberto Silveira de Carvalho",
          "Sami Khedira",
          "Xabier Alonso Olano",
          "Álvaro Arbeloa Coca",
          "Ángel Fabián Di María Hernández"
         ],
         "yaxis": "y"
        },
        {
         "alignmentgroup": "True",
         "hoverlabel": {
          "namelength": 0
         },
         "hovertemplate": "event_type=SUBSTITUTION<br>size=%{x}<br>player_name=%{y}",
         "legendgroup": "event_type=SUBSTITUTION",
         "marker": {
          "color": "#BAB0AC"
         },
         "name": "event_type=SUBSTITUTION",
         "offsetgroup": "event_type=SUBSTITUTION",
         "orientation": "h",
         "showlegend": true,
         "textposition": "auto",
         "type": "bar",
         "x": [
          1,
          1
         ],
         "xaxis": "x",
         "y": [
          "Marcelo Vieira da Silva Júnior",
          "Mesut Özil"
         ],
         "yaxis": "y"
        },
        {
         "alignmentgroup": "True",
         "hoverlabel": {
          "namelength": 0
         },
         "hovertemplate": "event_type=GENERIC:Injury Stoppage<br>size=%{x}<br>player_name=%{y}",
         "legendgroup": "event_type=GENERIC:Injury Stoppage",
         "marker": {
          "color": "rgb(221, 204, 119)"
         },
         "name": "event_type=GENERIC:Injury Stoppage",
         "offsetgroup": "event_type=GENERIC:Injury Stoppage",
         "orientation": "h",
         "showlegend": true,
         "textposition": "auto",
         "type": "bar",
         "x": [
          1
         ],
         "xaxis": "x",
         "y": [
          "Xabier Alonso Olano"
         ],
         "yaxis": "y"
        }
       ],
       "layout": {
        "barmode": "relative",
        "height": 500,
        "legend": {
         "tracegroupgap": 0
        },
        "template": {
         "data": {
          "bar": [
           {
            "error_x": {
             "color": "#2a3f5f"
            },
            "error_y": {
             "color": "#2a3f5f"
            },
            "marker": {
             "line": {
              "color": "#E5ECF6",
              "width": 0.5
             }
            },
            "type": "bar"
           }
          ],
          "barpolar": [
           {
            "marker": {
             "line": {
              "color": "#E5ECF6",
              "width": 0.5
             }
            },
            "type": "barpolar"
           }
          ],
          "carpet": [
           {
            "aaxis": {
             "endlinecolor": "#2a3f5f",
             "gridcolor": "white",
             "linecolor": "white",
             "minorgridcolor": "white",
             "startlinecolor": "#2a3f5f"
            },
            "baxis": {
             "endlinecolor": "#2a3f5f",
             "gridcolor": "white",
             "linecolor": "white",
             "minorgridcolor": "white",
             "startlinecolor": "#2a3f5f"
            },
            "type": "carpet"
           }
          ],
          "choropleth": [
           {
            "colorbar": {
             "outlinewidth": 0,
             "ticks": ""
            },
            "type": "choropleth"
           }
          ],
          "contour": [
           {
            "colorbar": {
             "outlinewidth": 0,
             "ticks": ""
            },
            "colorscale": [
             [
              0,
              "#0d0887"
             ],
             [
              0.1111111111111111,
              "#46039f"
             ],
             [
              0.2222222222222222,
              "#7201a8"
             ],
             [
              0.3333333333333333,
              "#9c179e"
             ],
             [
              0.4444444444444444,
              "#bd3786"
             ],
             [
              0.5555555555555556,
              "#d8576b"
             ],
             [
              0.6666666666666666,
              "#ed7953"
             ],
             [
              0.7777777777777778,
              "#fb9f3a"
             ],
             [
              0.8888888888888888,
              "#fdca26"
             ],
             [
              1,
              "#f0f921"
             ]
            ],
            "type": "contour"
           }
          ],
          "contourcarpet": [
           {
            "colorbar": {
             "outlinewidth": 0,
             "ticks": ""
            },
            "type": "contourcarpet"
           }
          ],
          "heatmap": [
           {
            "colorbar": {
             "outlinewidth": 0,
             "ticks": ""
            },
            "colorscale": [
             [
              0,
              "#0d0887"
             ],
             [
              0.1111111111111111,
              "#46039f"
             ],
             [
              0.2222222222222222,
              "#7201a8"
             ],
             [
              0.3333333333333333,
              "#9c179e"
             ],
             [
              0.4444444444444444,
              "#bd3786"
             ],
             [
              0.5555555555555556,
              "#d8576b"
             ],
             [
              0.6666666666666666,
              "#ed7953"
             ],
             [
              0.7777777777777778,
              "#fb9f3a"
             ],
             [
              0.8888888888888888,
              "#fdca26"
             ],
             [
              1,
              "#f0f921"
             ]
            ],
            "type": "heatmap"
           }
          ],
          "heatmapgl": [
           {
            "colorbar": {
             "outlinewidth": 0,
             "ticks": ""
            },
            "colorscale": [
             [
              0,
              "#0d0887"
             ],
             [
              0.1111111111111111,
              "#46039f"
             ],
             [
              0.2222222222222222,
              "#7201a8"
             ],
             [
              0.3333333333333333,
              "#9c179e"
             ],
             [
              0.4444444444444444,
              "#bd3786"
             ],
             [
              0.5555555555555556,
              "#d8576b"
             ],
             [
              0.6666666666666666,
              "#ed7953"
             ],
             [
              0.7777777777777778,
              "#fb9f3a"
             ],
             [
              0.8888888888888888,
              "#fdca26"
             ],
             [
              1,
              "#f0f921"
             ]
            ],
            "type": "heatmapgl"
           }
          ],
          "histogram": [
           {
            "marker": {
             "colorbar": {
              "outlinewidth": 0,
              "ticks": ""
             }
            },
            "type": "histogram"
           }
          ],
          "histogram2d": [
           {
            "colorbar": {
             "outlinewidth": 0,
             "ticks": ""
            },
            "colorscale": [
             [
              0,
              "#0d0887"
             ],
             [
              0.1111111111111111,
              "#46039f"
             ],
             [
              0.2222222222222222,
              "#7201a8"
             ],
             [
              0.3333333333333333,
              "#9c179e"
             ],
             [
              0.4444444444444444,
              "#bd3786"
             ],
             [
              0.5555555555555556,
              "#d8576b"
             ],
             [
              0.6666666666666666,
              "#ed7953"
             ],
             [
              0.7777777777777778,
              "#fb9f3a"
             ],
             [
              0.8888888888888888,
              "#fdca26"
             ],
             [
              1,
              "#f0f921"
             ]
            ],
            "type": "histogram2d"
           }
          ],
          "histogram2dcontour": [
           {
            "colorbar": {
             "outlinewidth": 0,
             "ticks": ""
            },
            "colorscale": [
             [
              0,
              "#0d0887"
             ],
             [
              0.1111111111111111,
              "#46039f"
             ],
             [
              0.2222222222222222,
              "#7201a8"
             ],
             [
              0.3333333333333333,
              "#9c179e"
             ],
             [
              0.4444444444444444,
              "#bd3786"
             ],
             [
              0.5555555555555556,
              "#d8576b"
             ],
             [
              0.6666666666666666,
              "#ed7953"
             ],
             [
              0.7777777777777778,
              "#fb9f3a"
             ],
             [
              0.8888888888888888,
              "#fdca26"
             ],
             [
              1,
              "#f0f921"
             ]
            ],
            "type": "histogram2dcontour"
           }
          ],
          "mesh3d": [
           {
            "colorbar": {
             "outlinewidth": 0,
             "ticks": ""
            },
            "type": "mesh3d"
           }
          ],
          "parcoords": [
           {
            "line": {
             "colorbar": {
              "outlinewidth": 0,
              "ticks": ""
             }
            },
            "type": "parcoords"
           }
          ],
          "pie": [
           {
            "automargin": true,
            "type": "pie"
           }
          ],
          "scatter": [
           {
            "marker": {
             "colorbar": {
              "outlinewidth": 0,
              "ticks": ""
             }
            },
            "type": "scatter"
           }
          ],
          "scatter3d": [
           {
            "line": {
             "colorbar": {
              "outlinewidth": 0,
              "ticks": ""
             }
            },
            "marker": {
             "colorbar": {
              "outlinewidth": 0,
              "ticks": ""
             }
            },
            "type": "scatter3d"
           }
          ],
          "scattercarpet": [
           {
            "marker": {
             "colorbar": {
              "outlinewidth": 0,
              "ticks": ""
             }
            },
            "type": "scattercarpet"
           }
          ],
          "scattergeo": [
           {
            "marker": {
             "colorbar": {
              "outlinewidth": 0,
              "ticks": ""
             }
            },
            "type": "scattergeo"
           }
          ],
          "scattergl": [
           {
            "marker": {
             "colorbar": {
              "outlinewidth": 0,
              "ticks": ""
             }
            },
            "type": "scattergl"
           }
          ],
          "scattermapbox": [
           {
            "marker": {
             "colorbar": {
              "outlinewidth": 0,
              "ticks": ""
             }
            },
            "type": "scattermapbox"
           }
          ],
          "scatterpolar": [
           {
            "marker": {
             "colorbar": {
              "outlinewidth": 0,
              "ticks": ""
             }
            },
            "type": "scatterpolar"
           }
          ],
          "scatterpolargl": [
           {
            "marker": {
             "colorbar": {
              "outlinewidth": 0,
              "ticks": ""
             }
            },
            "type": "scatterpolargl"
           }
          ],
          "scatterternary": [
           {
            "marker": {
             "colorbar": {
              "outlinewidth": 0,
              "ticks": ""
             }
            },
            "type": "scatterternary"
           }
          ],
          "surface": [
           {
            "colorbar": {
             "outlinewidth": 0,
             "ticks": ""
            },
            "colorscale": [
             [
              0,
              "#0d0887"
             ],
             [
              0.1111111111111111,
              "#46039f"
             ],
             [
              0.2222222222222222,
              "#7201a8"
             ],
             [
              0.3333333333333333,
              "#9c179e"
             ],
             [
              0.4444444444444444,
              "#bd3786"
             ],
             [
              0.5555555555555556,
              "#d8576b"
             ],
             [
              0.6666666666666666,
              "#ed7953"
             ],
             [
              0.7777777777777778,
              "#fb9f3a"
             ],
             [
              0.8888888888888888,
              "#fdca26"
             ],
             [
              1,
              "#f0f921"
             ]
            ],
            "type": "surface"
           }
          ],
          "table": [
           {
            "cells": {
             "fill": {
              "color": "#EBF0F8"
             },
             "line": {
              "color": "white"
             }
            },
            "header": {
             "fill": {
              "color": "#C8D4E3"
             },
             "line": {
              "color": "white"
             }
            },
            "type": "table"
           }
          ]
         },
         "layout": {
          "annotationdefaults": {
           "arrowcolor": "#2a3f5f",
           "arrowhead": 0,
           "arrowwidth": 1
          },
          "coloraxis": {
           "colorbar": {
            "outlinewidth": 0,
            "ticks": ""
           }
          },
          "colorscale": {
           "diverging": [
            [
             0,
             "#8e0152"
            ],
            [
             0.1,
             "#c51b7d"
            ],
            [
             0.2,
             "#de77ae"
            ],
            [
             0.3,
             "#f1b6da"
            ],
            [
             0.4,
             "#fde0ef"
            ],
            [
             0.5,
             "#f7f7f7"
            ],
            [
             0.6,
             "#e6f5d0"
            ],
            [
             0.7,
             "#b8e186"
            ],
            [
             0.8,
             "#7fbc41"
            ],
            [
             0.9,
             "#4d9221"
            ],
            [
             1,
             "#276419"
            ]
           ],
           "sequential": [
            [
             0,
             "#0d0887"
            ],
            [
             0.1111111111111111,
             "#46039f"
            ],
            [
             0.2222222222222222,
             "#7201a8"
            ],
            [
             0.3333333333333333,
             "#9c179e"
            ],
            [
             0.4444444444444444,
             "#bd3786"
            ],
            [
             0.5555555555555556,
             "#d8576b"
            ],
            [
             0.6666666666666666,
             "#ed7953"
            ],
            [
             0.7777777777777778,
             "#fb9f3a"
            ],
            [
             0.8888888888888888,
             "#fdca26"
            ],
            [
             1,
             "#f0f921"
            ]
           ],
           "sequentialminus": [
            [
             0,
             "#0d0887"
            ],
            [
             0.1111111111111111,
             "#46039f"
            ],
            [
             0.2222222222222222,
             "#7201a8"
            ],
            [
             0.3333333333333333,
             "#9c179e"
            ],
            [
             0.4444444444444444,
             "#bd3786"
            ],
            [
             0.5555555555555556,
             "#d8576b"
            ],
            [
             0.6666666666666666,
             "#ed7953"
            ],
            [
             0.7777777777777778,
             "#fb9f3a"
            ],
            [
             0.8888888888888888,
             "#fdca26"
            ],
            [
             1,
             "#f0f921"
            ]
           ]
          },
          "colorway": [
           "#636efa",
           "#EF553B",
           "#00cc96",
           "#ab63fa",
           "#FFA15A",
           "#19d3f3",
           "#FF6692",
           "#B6E880",
           "#FF97FF",
           "#FECB52"
          ],
          "font": {
           "color": "#2a3f5f"
          },
          "geo": {
           "bgcolor": "white",
           "lakecolor": "white",
           "landcolor": "#E5ECF6",
           "showlakes": true,
           "showland": true,
           "subunitcolor": "white"
          },
          "hoverlabel": {
           "align": "left"
          },
          "hovermode": "closest",
          "mapbox": {
           "style": "light"
          },
          "paper_bgcolor": "white",
          "plot_bgcolor": "#E5ECF6",
          "polar": {
           "angularaxis": {
            "gridcolor": "white",
            "linecolor": "white",
            "ticks": ""
           },
           "bgcolor": "#E5ECF6",
           "radialaxis": {
            "gridcolor": "white",
            "linecolor": "white",
            "ticks": ""
           }
          },
          "scene": {
           "xaxis": {
            "backgroundcolor": "#E5ECF6",
            "gridcolor": "white",
            "gridwidth": 2,
            "linecolor": "white",
            "showbackground": true,
            "ticks": "",
            "zerolinecolor": "white"
           },
           "yaxis": {
            "backgroundcolor": "#E5ECF6",
            "gridcolor": "white",
            "gridwidth": 2,
            "linecolor": "white",
            "showbackground": true,
            "ticks": "",
            "zerolinecolor": "white"
           },
           "zaxis": {
            "backgroundcolor": "#E5ECF6",
            "gridcolor": "white",
            "gridwidth": 2,
            "linecolor": "white",
            "showbackground": true,
            "ticks": "",
            "zerolinecolor": "white"
           }
          },
          "shapedefaults": {
           "line": {
            "color": "#2a3f5f"
           }
          },
          "ternary": {
           "aaxis": {
            "gridcolor": "white",
            "linecolor": "white",
            "ticks": ""
           },
           "baxis": {
            "gridcolor": "white",
            "linecolor": "white",
            "ticks": ""
           },
           "bgcolor": "#E5ECF6",
           "caxis": {
            "gridcolor": "white",
            "linecolor": "white",
            "ticks": ""
           }
          },
          "title": {
           "x": 0.05
          },
          "xaxis": {
           "automargin": true,
           "gridcolor": "white",
           "linecolor": "white",
           "ticks": "",
           "title": {
            "standoff": 15
           },
           "zerolinecolor": "white",
           "zerolinewidth": 2
          },
          "yaxis": {
           "automargin": true,
           "gridcolor": "white",
           "linecolor": "white",
           "ticks": "",
           "title": {
            "standoff": 15
           },
           "zerolinecolor": "white",
           "zerolinewidth": 2
          }
         }
        },
        "title": {
         "text": "Real Madrid"
        },
        "width": 1500,
        "xaxis": {
         "anchor": "y",
         "domain": [
          0,
          1
         ],
         "title": {
          "text": "size"
         }
        },
        "yaxis": {
         "anchor": "x",
         "domain": [
          0,
          1
         ],
         "title": {
          "text": "player_name"
         }
        }
       }
      }
     },
     "metadata": {}
    },
    {
     "output_type": "display_data",
     "data": {
      "application/vnd.plotly.v1+json": {
       "config": {
        "linkText": "Export to plot.ly",
        "plotlyServerURL": "https://plot.ly",
        "showLink": false
       },
       "data": [
        {
         "alignmentgroup": "True",
         "hoverlabel": {
          "namelength": 0
         },
         "hovertemplate": "event_type=BALL_OUT<br>size=%{x}<br>player_name=%{y}",
         "legendgroup": "event_type=BALL_OUT",
         "marker": {
          "color": "#EECA3B"
         },
         "name": "event_type=BALL_OUT",
         "offsetgroup": "event_type=BALL_OUT",
         "orientation": "h",
         "showlegend": true,
         "textposition": "auto",
         "type": "bar",
         "x": [
          2,
          1,
          3,
          1,
          1
         ],
         "xaxis": "x",
         "y": [
          "Andrés Iniesta Luján",
          "Carles Puyol i Saforcada",
          "Gerard Piqué Bernabéu",
          "Pedro Eliezer Rodríguez Ledesma",
          "Víctor Valdés Arribas"
         ],
         "yaxis": "y"
        },
        {
         "alignmentgroup": "True",
         "hoverlabel": {
          "namelength": 0
         },
         "hovertemplate": "event_type=CARRY<br>size=%{x}<br>player_name=%{y}",
         "legendgroup": "event_type=CARRY",
         "marker": {
          "color": "#2CA02C"
         },
         "name": "event_type=CARRY",
         "offsetgroup": "event_type=CARRY",
         "orientation": "h",
         "showlegend": true,
         "textposition": "auto",
         "type": "bar",
         "x": [
          79,
          6,
          34,
          67,
          36,
          47,
          51,
          4,
          80,
          52,
          82,
          1,
          14,
          107
         ],
         "xaxis": "x",
         "y": [
          "Andrés Iniesta Luján",
          "Bojan Krkíc Pérez",
          "Carles Puyol i Saforcada",
          "Daniel Alves da Silva",
          "David Villa Sánchez",
          "Eric-Sylvain Bilal Abidal",
          "Gerard Piqué Bernabéu",
          "Jeffren Isaac Suárez Bermúdez",
          "Lionel Andrés Messi Cuccittini",
          "Pedro Eliezer Rodríguez Ledesma",
          "Sergio Busquets i Burgos",
          "Seydou Kéita",
          "Víctor Valdés Arribas",
          "Xavier Hernández Creus"
         ],
         "yaxis": "y"
        },
        {
         "alignmentgroup": "True",
         "hoverlabel": {
          "namelength": 0
         },
         "hovertemplate": "event_type=GENERIC:50/50<br>size=%{x}<br>player_name=%{y}",
         "legendgroup": "event_type=GENERIC:50/50",
         "marker": {
          "color": "#9D755D"
         },
         "name": "event_type=GENERIC:50/50",
         "offsetgroup": "event_type=GENERIC:50/50",
         "orientation": "h",
         "showlegend": true,
         "textposition": "auto",
         "type": "bar",
         "x": [
          1,
          1,
          1
         ],
         "xaxis": "x",
         "y": [
          "Andrés Iniesta Luján",
          "Pedro Eliezer Rodríguez Ledesma",
          "Xavier Hernández Creus"
         ],
         "yaxis": "y"
        },
        {
         "alignmentgroup": "True",
         "hoverlabel": {
          "namelength": 0
         },
         "hovertemplate": "event_type=GENERIC:Ball Receipt*<br>size=%{x}<br>player_name=%{y}",
         "legendgroup": "event_type=GENERIC:Ball Receipt*",
         "marker": {
          "color": "#FF7F0E"
         },
         "name": "event_type=GENERIC:Ball Receipt*",
         "offsetgroup": "event_type=GENERIC:Ball Receipt*",
         "orientation": "h",
         "showlegend": true,
         "textposition": "auto",
         "type": "bar",
         "x": [
          83,
          11,
          26,
          63,
          51,
          48,
          65,
          3,
          85,
          61,
          94,
          1,
          15,
          113
         ],
         "xaxis": "x",
         "y": [
          "Andrés Iniesta Luján",
          "Bojan Krkíc Pérez",
          "Carles Puyol i Saforcada",
          "Daniel Alves da Silva",
          "David Villa Sánchez",
          "Eric-Sylvain Bilal Abidal",
          "Gerard Piqué Bernabéu",
          "Jeffren Isaac Suárez Bermúdez",
          "Lionel Andrés Messi Cuccittini",
          "Pedro Eliezer Rodríguez Ledesma",
          "Sergio Busquets i Burgos",
          "Seydou Kéita",
          "Víctor Valdés Arribas",
          "Xavier Hernández Creus"
         ],
         "yaxis": "y"
        },
        {
         "alignmentgroup": "True",
         "hoverlabel": {
          "namelength": 0
         },
         "hovertemplate": "event_type=GENERIC:Block<br>size=%{x}<br>player_name=%{y}",
         "legendgroup": "event_type=GENERIC:Block",
         "marker": {
          "color": "#BCBD22"
         },
         "name": "event_type=GENERIC:Block",
         "offsetgroup": "event_type=GENERIC:Block",
         "orientation": "h",
         "showlegend": true,
         "textposition": "auto",
         "type": "bar",
         "x": [
          5,
          3,
          3,
          1,
          1,
          4,
          3,
          3,
          2
         ],
         "xaxis": "x",
         "y": [
          "Andrés Iniesta Luján",
          "Carles Puyol i Saforcada",
          "Daniel Alves da Silva",
          "David Villa Sánchez",
          "Eric-Sylvain Bilal Abidal",
          "Gerard Piqué Bernabéu",
          "Lionel Andrés Messi Cuccittini",
          "Pedro Eliezer Rodríguez Ledesma",
          "Seydou Kéita"
         ],
         "yaxis": "y"
        },
        {
         "alignmentgroup": "True",
         "hoverlabel": {
          "namelength": 0
         },
         "hovertemplate": "event_type=GENERIC:Dispossessed<br>size=%{x}<br>player_name=%{y}",
         "legendgroup": "event_type=GENERIC:Dispossessed",
         "marker": {
          "color": "#72B7B2"
         },
         "name": "event_type=GENERIC:Dispossessed",
         "offsetgroup": "event_type=GENERIC:Dispossessed",
         "orientation": "h",
         "showlegend": true,
         "textposition": "auto",
         "type": "bar",
         "x": [
          2,
          1,
          1,
          2,
          2,
          3,
          1,
          1
         ],
         "xaxis": "x",
         "y": [
          "Andrés Iniesta Luján",
          "Bojan Krkíc Pérez",
          "David Villa Sánchez",
          "Eric-Sylvain Bilal Abidal",
          "Lionel Andrés Messi Cuccittini",
          "Pedro Eliezer Rodríguez Ledesma",
          "Sergio Busquets i Burgos",
          "Xavier Hernández Creus"
         ],
         "yaxis": "y"
        },
        {
         "alignmentgroup": "True",
         "hoverlabel": {
          "namelength": 0
         },
         "hovertemplate": "event_type=GENERIC:Dribbled Past<br>size=%{x}<br>player_name=%{y}",
         "legendgroup": "event_type=GENERIC:Dribbled Past",
         "marker": {
          "color": "#4C78A8"
         },
         "name": "event_type=GENERIC:Dribbled Past",
         "offsetgroup": "event_type=GENERIC:Dribbled Past",
         "orientation": "h",
         "showlegend": true,
         "textposition": "auto",
         "type": "bar",
         "x": [
          1,
          1,
          1,
          2,
          1,
          1,
          2,
          1
         ],
         "xaxis": "x",
         "y": [
          "Andrés Iniesta Luján",
          "Bojan Krkíc Pérez",
          "Carles Puyol i Saforcada",
          "Daniel Alves da Silva",
          "Eric-Sylvain Bilal Abidal",
          "Lionel Andrés Messi Cuccittini",
          "Sergio Busquets i Burgos",
          "Xavier Hernández Creus"
         ],
         "yaxis": "y"
        },
        {
         "alignmentgroup": "True",
         "hoverlabel": {
          "namelength": 0
         },
         "hovertemplate": "event_type=GENERIC:Duel<br>size=%{x}<br>player_name=%{y}",
         "legendgroup": "event_type=GENERIC:Duel",
         "marker": {
          "color": "#8C564B"
         },
         "name": "event_type=GENERIC:Duel",
         "offsetgroup": "event_type=GENERIC:Duel",
         "orientation": "h",
         "showlegend": true,
         "textposition": "auto",
         "type": "bar",
         "x": [
          1,
          1,
          3,
          6,
          1,
          3,
          1,
          3,
          5,
          3,
          1
         ],
         "xaxis": "x",
         "y": [
          "Andrés Iniesta Luján",
          "Bojan Krkíc Pérez",
          "Carles Puyol i Saforcada",
          "Daniel Alves da Silva",
          "David Villa Sánchez",
          "Eric-Sylvain Bilal Abidal",
          "Jeffren Isaac Suárez Bermúdez",
          "Lionel Andrés Messi Cuccittini",
          "Pedro Eliezer Rodríguez Ledesma",
          "Sergio Busquets i Burgos",
          "Xavier Hernández Creus"
         ],
         "yaxis": "y"
        },
        {
         "alignmentgroup": "True",
         "hoverlabel": {
          "namelength": 0
         },
         "hovertemplate": "event_type=GENERIC:Foul Won<br>size=%{x}<br>player_name=%{y}",
         "legendgroup": "event_type=GENERIC:Foul Won",
         "marker": {
          "color": "#7F7F7F"
         },
         "name": "event_type=GENERIC:Foul Won",
         "offsetgroup": "event_type=GENERIC:Foul Won",
         "orientation": "h",
         "showlegend": true,
         "textposition": "auto",
         "type": "bar",
         "x": [
          5,
          3,
          4,
          1,
          1,
          1,
          9,
          1,
          6,
          3
         ],
         "xaxis": "x",
         "y": [
          "Andrés Iniesta Luján",
          "Carles Puyol i Saforcada",
          "Daniel Alves da Silva",
          "David Villa Sánchez",
          "Eric-Sylvain Bilal Abidal",
          "Jeffren Isaac Suárez Bermúdez",
          "Lionel Andrés Messi Cuccittini",
          "Pedro Eliezer Rodríguez Ledesma",
          "Sergio Busquets i Burgos",
          "Xavier Hernández Creus"
         ],
         "yaxis": "y"
        },
        {
         "alignmentgroup": "True",
         "hoverlabel": {
          "namelength": 0
         },
         "hovertemplate": "event_type=GENERIC:Interception<br>size=%{x}<br>player_name=%{y}",
         "legendgroup": "event_type=GENERIC:Interception",
         "marker": {
          "color": "#B279A2"
         },
         "name": "event_type=GENERIC:Interception",
         "offsetgroup": "event_type=GENERIC:Interception",
         "orientation": "h",
         "showlegend": true,
         "textposition": "auto",
         "type": "bar",
         "x": [
          1,
          1,
          1,
          1,
          2,
          1,
          1
         ],
         "xaxis": "x",
         "y": [
          "Andrés Iniesta Luján",
          "Carles Puyol i Saforcada",
          "Daniel Alves da Silva",
          "David Villa Sánchez",
          "Lionel Andrés Messi Cuccittini",
          "Sergio Busquets i Burgos",
          "Xavier Hernández Creus"
         ],
         "yaxis": "y"
        },
        {
         "alignmentgroup": "True",
         "hoverlabel": {
          "namelength": 0
         },
         "hovertemplate": "event_type=GENERIC:Miscontrol<br>size=%{x}<br>player_name=%{y}",
         "legendgroup": "event_type=GENERIC:Miscontrol",
         "marker": {
          "color": "#17BECF"
         },
         "name": "event_type=GENERIC:Miscontrol",
         "offsetgroup": "event_type=GENERIC:Miscontrol",
         "orientation": "h",
         "showlegend": true,
         "textposition": "auto",
         "type": "bar",
         "x": [
          2,
          2,
          1,
          2,
          3,
          1,
          3,
          1
         ],
         "xaxis": "x",
         "y": [
          "Andrés Iniesta Luján",
          "Bojan Krkíc Pérez",
          "Carles Puyol i Saforcada",
          "Daniel Alves da Silva",
          "David Villa Sánchez",
          "Lionel Andrés Messi Cuccittini",
          "Pedro Eliezer Rodríguez Ledesma",
          "Xavier Hernández Creus"
         ],
         "yaxis": "y"
        },
        {
         "alignmentgroup": "True",
         "hoverlabel": {
          "namelength": 0
         },
         "hovertemplate": "event_type=GENERIC:Pressure<br>size=%{x}<br>player_name=%{y}",
         "legendgroup": "event_type=GENERIC:Pressure",
         "marker": {
          "color": "#D62728"
         },
         "name": "event_type=GENERIC:Pressure",
         "offsetgroup": "event_type=GENERIC:Pressure",
         "orientation": "h",
         "showlegend": true,
         "textposition": "auto",
         "type": "bar",
         "x": [
          10,
          4,
          15,
          8,
          4,
          5,
          3,
          12,
          13,
          12,
          1,
          1,
          8
         ],
         "xaxis": "x",
         "y": [
          "Andrés Iniesta Luján",
          "Carles Puyol i Saforcada",
          "Daniel Alves da Silva",
          "David Villa Sánchez",
          "Eric-Sylvain Bilal Abidal",
          "Gerard Piqué Bernabéu",
          "Jeffren Isaac Suárez Bermúdez",
          "Lionel Andrés Messi Cuccittini",
          "Pedro Eliezer Rodríguez Ledesma",
          "Sergio Busquets i Burgos",
          "Seydou Kéita",
          "Víctor Valdés Arribas",
          "Xavier Hernández Creus"
         ],
         "yaxis": "y"
        },
        {
         "alignmentgroup": "True",
         "hoverlabel": {
          "namelength": 0
         },
         "hovertemplate": "event_type=PASS<br>size=%{x}<br>player_name=%{y}",
         "legendgroup": "event_type=PASS",
         "marker": {
          "color": "#1F77B4"
         },
         "name": "event_type=PASS",
         "offsetgroup": "event_type=PASS",
         "orientation": "h",
         "showlegend": true,
         "textposition": "auto",
         "type": "bar",
         "x": [
          80,
          4,
          45,
          73,
          32,
          63,
          70,
          3,
          61,
          46,
          99,
          2,
          28,
          118
         ],
         "xaxis": "x",
         "y": [
          "Andrés Iniesta Luján",
          "Bojan Krkíc Pérez",
          "Carles Puyol i Saforcada",
          "Daniel Alves da Silva",
          "David Villa Sánchez",
          "Eric-Sylvain Bilal Abidal",
          "Gerard Piqué Bernabéu",
          "Jeffren Isaac Suárez Bermúdez",
          "Lionel Andrés Messi Cuccittini",
          "Pedro Eliezer Rodríguez Ledesma",
          "Sergio Busquets i Burgos",
          "Seydou Kéita",
          "Víctor Valdés Arribas",
          "Xavier Hernández Creus"
         ],
         "yaxis": "y"
        },
        {
         "alignmentgroup": "True",
         "hoverlabel": {
          "namelength": 0
         },
         "hovertemplate": "event_type=RECOVERY<br>size=%{x}<br>player_name=%{y}",
         "legendgroup": "event_type=RECOVERY",
         "marker": {
          "color": "#9467BD"
         },
         "name": "event_type=RECOVERY",
         "offsetgroup": "event_type=RECOVERY",
         "orientation": "h",
         "showlegend": true,
         "textposition": "auto",
         "type": "bar",
         "x": [
          5,
          1,
          10,
          8,
          4,
          5,
          3,
          5,
          7,
          4,
          3,
          8
         ],
         "xaxis": "x",
         "y": [
          "Andrés Iniesta Luján",
          "Bojan Krkíc Pérez",
          "Carles Puyol i Saforcada",
          "Daniel Alves da Silva",
          "David Villa Sánchez",
          "Eric-Sylvain Bilal Abidal",
          "Gerard Piqué Bernabéu",
          "Lionel Andrés Messi Cuccittini",
          "Pedro Eliezer Rodríguez Ledesma",
          "Sergio Busquets i Burgos",
          "Víctor Valdés Arribas",
          "Xavier Hernández Creus"
         ],
         "yaxis": "y"
        },
        {
         "alignmentgroup": "True",
         "hoverlabel": {
          "namelength": 0
         },
         "hovertemplate": "event_type=TAKE_ON<br>size=%{x}<br>player_name=%{y}",
         "legendgroup": "event_type=TAKE_ON",
         "marker": {
          "color": "#E377C2"
         },
         "name": "event_type=TAKE_ON",
         "offsetgroup": "event_type=TAKE_ON",
         "orientation": "h",
         "showlegend": true,
         "textposition": "auto",
         "type": "bar",
         "x": [
          4,
          1,
          2,
          1,
          17,
          7,
          2
         ],
         "xaxis": "x",
         "y": [
          "Andrés Iniesta Luján",
          "Daniel Alves da Silva",
          "David Villa Sánchez",
          "Eric-Sylvain Bilal Abidal",
          "Lionel Andrés Messi Cuccittini",
          "Pedro Eliezer Rodríguez Ledesma",
          "Sergio Busquets i Burgos"
         ],
         "yaxis": "y"
        },
        {
         "alignmentgroup": "True",
         "hoverlabel": {
          "namelength": 0
         },
         "hovertemplate": "event_type=SHOT<br>size=%{x}<br>player_name=%{y}",
         "legendgroup": "event_type=SHOT",
         "marker": {
          "color": "#54A24B"
         },
         "name": "event_type=SHOT",
         "offsetgroup": "event_type=SHOT",
         "orientation": "h",
         "showlegend": true,
         "textposition": "auto",
         "type": "bar",
         "x": [
          1,
          1,
          3,
          1,
          3,
          2,
          1,
          2
         ],
         "xaxis": "x",
         "y": [
          "Bojan Krkíc Pérez",
          "Daniel Alves da Silva",
          "David Villa Sánchez",
          "Jeffren Isaac Suárez Bermúdez",
          "Lionel Andrés Messi Cuccittini",
          "Pedro Eliezer Rodríguez Ledesma",
          "Sergio Busquets i Burgos",
          "Xavier Hernández Creus"
         ],
         "yaxis": "y"
        },
        {
         "alignmentgroup": "True",
         "hoverlabel": {
          "namelength": 0
         },
         "hovertemplate": "event_type=CARD<br>size=%{x}<br>player_name=%{y}",
         "legendgroup": "event_type=CARD",
         "marker": {
          "color": "#FF9DA6"
         },
         "name": "event_type=CARD",
         "offsetgroup": "event_type=CARD",
         "orientation": "h",
         "showlegend": true,
         "textposition": "auto",
         "type": "bar",
         "x": [
          1,
          1,
          1,
          1,
          1
         ],
         "xaxis": "x",
         "y": [
          "Carles Puyol i Saforcada",
          "David Villa Sánchez",
          "Lionel Andrés Messi Cuccittini",
          "Víctor Valdés Arribas",
          "Xavier Hernández Creus"
         ],
         "yaxis": "y"
        },
        {
         "alignmentgroup": "True",
         "hoverlabel": {
          "namelength": 0
         },
         "hovertemplate": "event_type=GENERIC:Clearance<br>size=%{x}<br>player_name=%{y}",
         "legendgroup": "event_type=GENERIC:Clearance",
         "marker": {
          "color": "#F58518"
         },
         "name": "event_type=GENERIC:Clearance",
         "offsetgroup": "event_type=GENERIC:Clearance",
         "orientation": "h",
         "showlegend": true,
         "textposition": "auto",
         "type": "bar",
         "x": [
          3,
          2,
          1,
          3,
          3,
          1,
          1
         ],
         "xaxis": "x",
         "y": [
          "Carles Puyol i Saforcada",
          "Daniel Alves da Silva",
          "David Villa Sánchez",
          "Eric-Sylvain Bilal Abidal",
          "Gerard Piqué Bernabéu",
          "Pedro Eliezer Rodríguez Ledesma",
          "Xavier Hernández Creus"
         ],
         "yaxis": "y"
        },
        {
         "alignmentgroup": "True",
         "hoverlabel": {
          "namelength": 0
         },
         "hovertemplate": "event_type=GENERIC:Shield<br>size=%{x}<br>player_name=%{y}",
         "legendgroup": "event_type=GENERIC:Shield",
         "marker": {
          "color": "rgb(51, 34, 136)"
         },
         "name": "event_type=GENERIC:Shield",
         "offsetgroup": "event_type=GENERIC:Shield",
         "orientation": "h",
         "showlegend": true,
         "textposition": "auto",
         "type": "bar",
         "x": [
          1
         ],
         "xaxis": "x",
         "y": [
          "Daniel Alves da Silva"
         ],
         "yaxis": "y"
        },
        {
         "alignmentgroup": "True",
         "hoverlabel": {
          "namelength": 0
         },
         "hovertemplate": "event_type=SUBSTITUTION<br>size=%{x}<br>player_name=%{y}",
         "legendgroup": "event_type=SUBSTITUTION",
         "marker": {
          "color": "#BAB0AC"
         },
         "name": "event_type=SUBSTITUTION",
         "offsetgroup": "event_type=SUBSTITUTION",
         "orientation": "h",
         "showlegend": true,
         "textposition": "auto",
         "type": "bar",
         "x": [
          1,
          1,
          1
         ],
         "xaxis": "x",
         "y": [
          "David Villa Sánchez",
          "Pedro Eliezer Rodríguez Ledesma",
          "Xavier Hernández Creus"
         ],
         "yaxis": "y"
        },
        {
         "alignmentgroup": "True",
         "hoverlabel": {
          "namelength": 0
         },
         "hovertemplate": "event_type=PLAYER_OFF<br>size=%{x}<br>player_name=%{y}",
         "legendgroup": "event_type=PLAYER_OFF",
         "marker": {
          "color": "rgb(170, 68, 153)"
         },
         "name": "event_type=PLAYER_OFF",
         "offsetgroup": "event_type=PLAYER_OFF",
         "orientation": "h",
         "showlegend": true,
         "textposition": "auto",
         "type": "bar",
         "x": [
          1
         ],
         "xaxis": "x",
         "y": [
          "Lionel Andrés Messi Cuccittini"
         ],
         "yaxis": "y"
        },
        {
         "alignmentgroup": "True",
         "hoverlabel": {
          "namelength": 0
         },
         "hovertemplate": "event_type=GENERIC:Goal Keeper<br>size=%{x}<br>player_name=%{y}",
         "legendgroup": "event_type=GENERIC:Goal Keeper",
         "marker": {
          "color": "#E45756"
         },
         "name": "event_type=GENERIC:Goal Keeper",
         "offsetgroup": "event_type=GENERIC:Goal Keeper",
         "orientation": "h",
         "showlegend": true,
         "textposition": "auto",
         "type": "bar",
         "x": [
          7
         ],
         "xaxis": "x",
         "y": [
          "Víctor Valdés Arribas"
         ],
         "yaxis": "y"
        },
        {
         "alignmentgroup": "True",
         "hoverlabel": {
          "namelength": 0
         },
         "hovertemplate": "event_type=GENERIC:Injury Stoppage<br>size=%{x}<br>player_name=%{y}",
         "legendgroup": "event_type=GENERIC:Injury Stoppage",
         "marker": {
          "color": "rgb(221, 204, 119)"
         },
         "name": "event_type=GENERIC:Injury Stoppage",
         "offsetgroup": "event_type=GENERIC:Injury Stoppage",
         "orientation": "h",
         "showlegend": true,
         "textposition": "auto",
         "type": "bar",
         "x": [
          1
         ],
         "xaxis": "x",
         "y": [
          "Víctor Valdés Arribas"
         ],
         "yaxis": "y"
        }
       ],
       "layout": {
        "barmode": "relative",
        "height": 500,
        "legend": {
         "tracegroupgap": 0
        },
        "template": {
         "data": {
          "bar": [
           {
            "error_x": {
             "color": "#2a3f5f"
            },
            "error_y": {
             "color": "#2a3f5f"
            },
            "marker": {
             "line": {
              "color": "#E5ECF6",
              "width": 0.5
             }
            },
            "type": "bar"
           }
          ],
          "barpolar": [
           {
            "marker": {
             "line": {
              "color": "#E5ECF6",
              "width": 0.5
             }
            },
            "type": "barpolar"
           }
          ],
          "carpet": [
           {
            "aaxis": {
             "endlinecolor": "#2a3f5f",
             "gridcolor": "white",
             "linecolor": "white",
             "minorgridcolor": "white",
             "startlinecolor": "#2a3f5f"
            },
            "baxis": {
             "endlinecolor": "#2a3f5f",
             "gridcolor": "white",
             "linecolor": "white",
             "minorgridcolor": "white",
             "startlinecolor": "#2a3f5f"
            },
            "type": "carpet"
           }
          ],
          "choropleth": [
           {
            "colorbar": {
             "outlinewidth": 0,
             "ticks": ""
            },
            "type": "choropleth"
           }
          ],
          "contour": [
           {
            "colorbar": {
             "outlinewidth": 0,
             "ticks": ""
            },
            "colorscale": [
             [
              0,
              "#0d0887"
             ],
             [
              0.1111111111111111,
              "#46039f"
             ],
             [
              0.2222222222222222,
              "#7201a8"
             ],
             [
              0.3333333333333333,
              "#9c179e"
             ],
             [
              0.4444444444444444,
              "#bd3786"
             ],
             [
              0.5555555555555556,
              "#d8576b"
             ],
             [
              0.6666666666666666,
              "#ed7953"
             ],
             [
              0.7777777777777778,
              "#fb9f3a"
             ],
             [
              0.8888888888888888,
              "#fdca26"
             ],
             [
              1,
              "#f0f921"
             ]
            ],
            "type": "contour"
           }
          ],
          "contourcarpet": [
           {
            "colorbar": {
             "outlinewidth": 0,
             "ticks": ""
            },
            "type": "contourcarpet"
           }
          ],
          "heatmap": [
           {
            "colorbar": {
             "outlinewidth": 0,
             "ticks": ""
            },
            "colorscale": [
             [
              0,
              "#0d0887"
             ],
             [
              0.1111111111111111,
              "#46039f"
             ],
             [
              0.2222222222222222,
              "#7201a8"
             ],
             [
              0.3333333333333333,
              "#9c179e"
             ],
             [
              0.4444444444444444,
              "#bd3786"
             ],
             [
              0.5555555555555556,
              "#d8576b"
             ],
             [
              0.6666666666666666,
              "#ed7953"
             ],
             [
              0.7777777777777778,
              "#fb9f3a"
             ],
             [
              0.8888888888888888,
              "#fdca26"
             ],
             [
              1,
              "#f0f921"
             ]
            ],
            "type": "heatmap"
           }
          ],
          "heatmapgl": [
           {
            "colorbar": {
             "outlinewidth": 0,
             "ticks": ""
            },
            "colorscale": [
             [
              0,
              "#0d0887"
             ],
             [
              0.1111111111111111,
              "#46039f"
             ],
             [
              0.2222222222222222,
              "#7201a8"
             ],
             [
              0.3333333333333333,
              "#9c179e"
             ],
             [
              0.4444444444444444,
              "#bd3786"
             ],
             [
              0.5555555555555556,
              "#d8576b"
             ],
             [
              0.6666666666666666,
              "#ed7953"
             ],
             [
              0.7777777777777778,
              "#fb9f3a"
             ],
             [
              0.8888888888888888,
              "#fdca26"
             ],
             [
              1,
              "#f0f921"
             ]
            ],
            "type": "heatmapgl"
           }
          ],
          "histogram": [
           {
            "marker": {
             "colorbar": {
              "outlinewidth": 0,
              "ticks": ""
             }
            },
            "type": "histogram"
           }
          ],
          "histogram2d": [
           {
            "colorbar": {
             "outlinewidth": 0,
             "ticks": ""
            },
            "colorscale": [
             [
              0,
              "#0d0887"
             ],
             [
              0.1111111111111111,
              "#46039f"
             ],
             [
              0.2222222222222222,
              "#7201a8"
             ],
             [
              0.3333333333333333,
              "#9c179e"
             ],
             [
              0.4444444444444444,
              "#bd3786"
             ],
             [
              0.5555555555555556,
              "#d8576b"
             ],
             [
              0.6666666666666666,
              "#ed7953"
             ],
             [
              0.7777777777777778,
              "#fb9f3a"
             ],
             [
              0.8888888888888888,
              "#fdca26"
             ],
             [
              1,
              "#f0f921"
             ]
            ],
            "type": "histogram2d"
           }
          ],
          "histogram2dcontour": [
           {
            "colorbar": {
             "outlinewidth": 0,
             "ticks": ""
            },
            "colorscale": [
             [
              0,
              "#0d0887"
             ],
             [
              0.1111111111111111,
              "#46039f"
             ],
             [
              0.2222222222222222,
              "#7201a8"
             ],
             [
              0.3333333333333333,
              "#9c179e"
             ],
             [
              0.4444444444444444,
              "#bd3786"
             ],
             [
              0.5555555555555556,
              "#d8576b"
             ],
             [
              0.6666666666666666,
              "#ed7953"
             ],
             [
              0.7777777777777778,
              "#fb9f3a"
             ],
             [
              0.8888888888888888,
              "#fdca26"
             ],
             [
              1,
              "#f0f921"
             ]
            ],
            "type": "histogram2dcontour"
           }
          ],
          "mesh3d": [
           {
            "colorbar": {
             "outlinewidth": 0,
             "ticks": ""
            },
            "type": "mesh3d"
           }
          ],
          "parcoords": [
           {
            "line": {
             "colorbar": {
              "outlinewidth": 0,
              "ticks": ""
             }
            },
            "type": "parcoords"
           }
          ],
          "pie": [
           {
            "automargin": true,
            "type": "pie"
           }
          ],
          "scatter": [
           {
            "marker": {
             "colorbar": {
              "outlinewidth": 0,
              "ticks": ""
             }
            },
            "type": "scatter"
           }
          ],
          "scatter3d": [
           {
            "line": {
             "colorbar": {
              "outlinewidth": 0,
              "ticks": ""
             }
            },
            "marker": {
             "colorbar": {
              "outlinewidth": 0,
              "ticks": ""
             }
            },
            "type": "scatter3d"
           }
          ],
          "scattercarpet": [
           {
            "marker": {
             "colorbar": {
              "outlinewidth": 0,
              "ticks": ""
             }
            },
            "type": "scattercarpet"
           }
          ],
          "scattergeo": [
           {
            "marker": {
             "colorbar": {
              "outlinewidth": 0,
              "ticks": ""
             }
            },
            "type": "scattergeo"
           }
          ],
          "scattergl": [
           {
            "marker": {
             "colorbar": {
              "outlinewidth": 0,
              "ticks": ""
             }
            },
            "type": "scattergl"
           }
          ],
          "scattermapbox": [
           {
            "marker": {
             "colorbar": {
              "outlinewidth": 0,
              "ticks": ""
             }
            },
            "type": "scattermapbox"
           }
          ],
          "scatterpolar": [
           {
            "marker": {
             "colorbar": {
              "outlinewidth": 0,
              "ticks": ""
             }
            },
            "type": "scatterpolar"
           }
          ],
          "scatterpolargl": [
           {
            "marker": {
             "colorbar": {
              "outlinewidth": 0,
              "ticks": ""
             }
            },
            "type": "scatterpolargl"
           }
          ],
          "scatterternary": [
           {
            "marker": {
             "colorbar": {
              "outlinewidth": 0,
              "ticks": ""
             }
            },
            "type": "scatterternary"
           }
          ],
          "surface": [
           {
            "colorbar": {
             "outlinewidth": 0,
             "ticks": ""
            },
            "colorscale": [
             [
              0,
              "#0d0887"
             ],
             [
              0.1111111111111111,
              "#46039f"
             ],
             [
              0.2222222222222222,
              "#7201a8"
             ],
             [
              0.3333333333333333,
              "#9c179e"
             ],
             [
              0.4444444444444444,
              "#bd3786"
             ],
             [
              0.5555555555555556,
              "#d8576b"
             ],
             [
              0.6666666666666666,
              "#ed7953"
             ],
             [
              0.7777777777777778,
              "#fb9f3a"
             ],
             [
              0.8888888888888888,
              "#fdca26"
             ],
             [
              1,
              "#f0f921"
             ]
            ],
            "type": "surface"
           }
          ],
          "table": [
           {
            "cells": {
             "fill": {
              "color": "#EBF0F8"
             },
             "line": {
              "color": "white"
             }
            },
            "header": {
             "fill": {
              "color": "#C8D4E3"
             },
             "line": {
              "color": "white"
             }
            },
            "type": "table"
           }
          ]
         },
         "layout": {
          "annotationdefaults": {
           "arrowcolor": "#2a3f5f",
           "arrowhead": 0,
           "arrowwidth": 1
          },
          "coloraxis": {
           "colorbar": {
            "outlinewidth": 0,
            "ticks": ""
           }
          },
          "colorscale": {
           "diverging": [
            [
             0,
             "#8e0152"
            ],
            [
             0.1,
             "#c51b7d"
            ],
            [
             0.2,
             "#de77ae"
            ],
            [
             0.3,
             "#f1b6da"
            ],
            [
             0.4,
             "#fde0ef"
            ],
            [
             0.5,
             "#f7f7f7"
            ],
            [
             0.6,
             "#e6f5d0"
            ],
            [
             0.7,
             "#b8e186"
            ],
            [
             0.8,
             "#7fbc41"
            ],
            [
             0.9,
             "#4d9221"
            ],
            [
             1,
             "#276419"
            ]
           ],
           "sequential": [
            [
             0,
             "#0d0887"
            ],
            [
             0.1111111111111111,
             "#46039f"
            ],
            [
             0.2222222222222222,
             "#7201a8"
            ],
            [
             0.3333333333333333,
             "#9c179e"
            ],
            [
             0.4444444444444444,
             "#bd3786"
            ],
            [
             0.5555555555555556,
             "#d8576b"
            ],
            [
             0.6666666666666666,
             "#ed7953"
            ],
            [
             0.7777777777777778,
             "#fb9f3a"
            ],
            [
             0.8888888888888888,
             "#fdca26"
            ],
            [
             1,
             "#f0f921"
            ]
           ],
           "sequentialminus": [
            [
             0,
             "#0d0887"
            ],
            [
             0.1111111111111111,
             "#46039f"
            ],
            [
             0.2222222222222222,
             "#7201a8"
            ],
            [
             0.3333333333333333,
             "#9c179e"
            ],
            [
             0.4444444444444444,
             "#bd3786"
            ],
            [
             0.5555555555555556,
             "#d8576b"
            ],
            [
             0.6666666666666666,
             "#ed7953"
            ],
            [
             0.7777777777777778,
             "#fb9f3a"
            ],
            [
             0.8888888888888888,
             "#fdca26"
            ],
            [
             1,
             "#f0f921"
            ]
           ]
          },
          "colorway": [
           "#636efa",
           "#EF553B",
           "#00cc96",
           "#ab63fa",
           "#FFA15A",
           "#19d3f3",
           "#FF6692",
           "#B6E880",
           "#FF97FF",
           "#FECB52"
          ],
          "font": {
           "color": "#2a3f5f"
          },
          "geo": {
           "bgcolor": "white",
           "lakecolor": "white",
           "landcolor": "#E5ECF6",
           "showlakes": true,
           "showland": true,
           "subunitcolor": "white"
          },
          "hoverlabel": {
           "align": "left"
          },
          "hovermode": "closest",
          "mapbox": {
           "style": "light"
          },
          "paper_bgcolor": "white",
          "plot_bgcolor": "#E5ECF6",
          "polar": {
           "angularaxis": {
            "gridcolor": "white",
            "linecolor": "white",
            "ticks": ""
           },
           "bgcolor": "#E5ECF6",
           "radialaxis": {
            "gridcolor": "white",
            "linecolor": "white",
            "ticks": ""
           }
          },
          "scene": {
           "xaxis": {
            "backgroundcolor": "#E5ECF6",
            "gridcolor": "white",
            "gridwidth": 2,
            "linecolor": "white",
            "showbackground": true,
            "ticks": "",
            "zerolinecolor": "white"
           },
           "yaxis": {
            "backgroundcolor": "#E5ECF6",
            "gridcolor": "white",
            "gridwidth": 2,
            "linecolor": "white",
            "showbackground": true,
            "ticks": "",
            "zerolinecolor": "white"
           },
           "zaxis": {
            "backgroundcolor": "#E5ECF6",
            "gridcolor": "white",
            "gridwidth": 2,
            "linecolor": "white",
            "showbackground": true,
            "ticks": "",
            "zerolinecolor": "white"
           }
          },
          "shapedefaults": {
           "line": {
            "color": "#2a3f5f"
           }
          },
          "ternary": {
           "aaxis": {
            "gridcolor": "white",
            "linecolor": "white",
            "ticks": ""
           },
           "baxis": {
            "gridcolor": "white",
            "linecolor": "white",
            "ticks": ""
           },
           "bgcolor": "#E5ECF6",
           "caxis": {
            "gridcolor": "white",
            "linecolor": "white",
            "ticks": ""
           }
          },
          "title": {
           "x": 0.05
          },
          "xaxis": {
           "automargin": true,
           "gridcolor": "white",
           "linecolor": "white",
           "ticks": "",
           "title": {
            "standoff": 15
           },
           "zerolinecolor": "white",
           "zerolinewidth": 2
          },
          "yaxis": {
           "automargin": true,
           "gridcolor": "white",
           "linecolor": "white",
           "ticks": "",
           "title": {
            "standoff": 15
           },
           "zerolinecolor": "white",
           "zerolinewidth": 2
          }
         }
        },
        "title": {
         "text": "Barcelona"
        },
        "width": 1500,
        "xaxis": {
         "anchor": "y",
         "domain": [
          0,
          1
         ],
         "title": {
          "text": "size"
         }
        },
        "yaxis": {
         "anchor": "x",
         "domain": [
          0,
          1
         ],
         "title": {
          "text": "player_name"
         }
        }
       }
      }
     },
     "metadata": {}
    }
   ],
   "source": [
    "for team_name in [home_team.name, away_team.name]:\n",
    "    fig = px.bar(\n",
    "        df[df.team_name==team_name]\\\n",
    "            .groupby(['team_name', 'player_name', 'event_type'], as_index=False).size(),\n",
    "        y='player_name', # y軸に配置するカラム\n",
    "        x='size', # x軸に配置するカラム\n",
    "        color='event_type', # 積み上げ棒グラフにしたいので、その中で色付けさせるカラム\n",
    "        orientation='h', # 集計軸となるカラムの情報（選手名）が長いので、棒グラフを縦に並べたほうがみやすいため\n",
    "        height=500, width=1500,  # グラフの縦と横の大きさ\n",
    "        title=team_name, # タイトル名\n",
    "        color_discrete_map=event_type_color_dict # 前のセルで作った色マスタ\n",
    "    )\n",
    "    iplot(fig)"
   ]
  },
  {
   "source": [],
   "cell_type": "markdown",
   "metadata": {}
  },
  {
   "source": [
    "## 時間帯ごとにパス本数を集計"
   ],
   "cell_type": "markdown",
   "metadata": {}
  },
  {
   "cell_type": "code",
   "execution_count": 18,
   "metadata": {},
   "outputs": [],
   "source": [
    "df_pass = df_pass[['team_name', 'period_id', 'timestamp', 'result']].dropna().copy()\n",
    "# min単位に修正\n",
    "df_pass['minute'] = (df_pass.timestamp / 60).astype(int)\n",
    "\n",
    "# 集計\n",
    "aggregated_df_pass = df_pass.groupby([df_pass.team_name, df_pass.period_id, df_pass.minute, df_pass.result]).size().reset_index()\n",
    "aggregated_df_pass.columns = aggregated_df_pass.columns.tolist()[:-1] + ['size']"
   ]
  },
  {
   "cell_type": "code",
   "execution_count": 19,
   "metadata": {},
   "outputs": [
    {
     "output_type": "display_data",
     "data": {
      "application/vnd.plotly.v1+json": {
       "config": {
        "plotlyServerURL": "https://plot.ly"
       },
       "data": [
        {
         "hoverlabel": {
          "namelength": 0
         },
         "hovertemplate": "result=COMPLETE<br>team_name=Barcelona<br>period_id=1<br>minute=%{x}<br>size=%{y}",
         "legendgroup": "result=COMPLETE",
         "line": {
          "color": "#1F77B4"
         },
         "mode": "lines",
         "name": "result=COMPLETE",
         "orientation": "v",
         "showlegend": true,
         "stackgroup": "1",
         "type": "scatter",
         "x": [
          0,
          1,
          2,
          4,
          5,
          6,
          7,
          8,
          9,
          10,
          11,
          12,
          13,
          14,
          15,
          16,
          17,
          18,
          19,
          20,
          21,
          22,
          23,
          24,
          25,
          26,
          27,
          28,
          29,
          32,
          33,
          36,
          37,
          38,
          39,
          40,
          41,
          42,
          43,
          44,
          45,
          46
         ],
         "xaxis": "x3",
         "y": [
          7,
          11,
          4,
          5,
          3,
          3,
          10,
          21,
          9,
          2,
          13,
          1,
          9,
          8,
          8,
          18,
          17,
          4,
          2,
          6,
          3,
          5,
          8,
          12,
          15,
          17,
          5,
          7,
          20,
          1,
          1,
          3,
          1,
          12,
          20,
          1,
          3,
          1,
          5,
          1,
          2,
          8
         ],
         "yaxis": "y3"
        },
        {
         "hoverlabel": {
          "namelength": 0
         },
         "hovertemplate": "result=COMPLETE<br>team_name=Barcelona<br>period_id=2<br>minute=%{x}<br>size=%{y}",
         "legendgroup": "result=COMPLETE",
         "line": {
          "color": "#1F77B4"
         },
         "mode": "lines",
         "name": "result=COMPLETE",
         "orientation": "v",
         "showlegend": false,
         "stackgroup": "1",
         "type": "scatter",
         "x": [
          0,
          1,
          2,
          3,
          4,
          5,
          6,
          7,
          8,
          9,
          11,
          12,
          13,
          15,
          16,
          17,
          18,
          19,
          20,
          21,
          22,
          23,
          24,
          25,
          26,
          27,
          28,
          29,
          30,
          31,
          32,
          35,
          36,
          37,
          38,
          39,
          40,
          41,
          42,
          43,
          44,
          45,
          49
         ],
         "xaxis": "x4",
         "y": [
          5,
          8,
          3,
          13,
          5,
          4,
          9,
          1,
          10,
          5,
          4,
          1,
          1,
          7,
          15,
          12,
          12,
          8,
          9,
          13,
          17,
          23,
          13,
          17,
          5,
          3,
          12,
          8,
          2,
          6,
          4,
          5,
          4,
          18,
          11,
          4,
          5,
          1,
          1,
          5,
          4,
          11,
          1
         ],
         "yaxis": "y4"
        },
        {
         "hoverlabel": {
          "namelength": 0
         },
         "hovertemplate": "result=COMPLETE<br>team_name=Real Madrid<br>period_id=1<br>minute=%{x}<br>size=%{y}",
         "legendgroup": "result=COMPLETE",
         "line": {
          "color": "#1F77B4"
         },
         "mode": "lines",
         "name": "result=COMPLETE",
         "orientation": "v",
         "showlegend": false,
         "stackgroup": "1",
         "type": "scatter",
         "x": [
          0,
          1,
          2,
          7,
          10,
          11,
          12,
          13,
          14,
          15,
          16,
          18,
          19,
          20,
          21,
          24,
          25,
          26,
          27,
          28,
          32,
          33,
          36,
          37,
          39,
          40,
          41,
          42,
          43,
          45,
          46
         ],
         "xaxis": "x",
         "y": [
          3,
          2,
          2,
          2,
          3,
          5,
          2,
          4,
          1,
          3,
          2,
          4,
          6,
          1,
          6,
          3,
          3,
          7,
          8,
          2,
          3,
          8,
          4,
          6,
          1,
          7,
          8,
          7,
          6,
          2,
          8
         ],
         "yaxis": "y"
        },
        {
         "hoverlabel": {
          "namelength": 0
         },
         "hovertemplate": "result=COMPLETE<br>team_name=Real Madrid<br>period_id=2<br>minute=%{x}<br>size=%{y}",
         "legendgroup": "result=COMPLETE",
         "line": {
          "color": "#1F77B4"
         },
         "mode": "lines",
         "name": "result=COMPLETE",
         "orientation": "v",
         "showlegend": false,
         "stackgroup": "1",
         "type": "scatter",
         "x": [
          0,
          1,
          3,
          4,
          5,
          6,
          7,
          8,
          9,
          10,
          11,
          13,
          17,
          19,
          20,
          21,
          22,
          23,
          24,
          26,
          27,
          28,
          30,
          31,
          32,
          33,
          34,
          36,
          38,
          39,
          40,
          42,
          43,
          44,
          46
         ],
         "xaxis": "x2",
         "y": [
          8,
          3,
          2,
          3,
          4,
          1,
          2,
          8,
          1,
          7,
          9,
          6,
          6,
          1,
          1,
          1,
          5,
          1,
          4,
          9,
          2,
          5,
          2,
          7,
          1,
          3,
          8,
          4,
          6,
          3,
          3,
          7,
          7,
          3,
          2
         ],
         "yaxis": "y2"
        },
        {
         "hoverlabel": {
          "namelength": 0
         },
         "hovertemplate": "result=INCOMPLETE<br>team_name=Barcelona<br>period_id=1<br>minute=%{x}<br>size=%{y}",
         "legendgroup": "result=INCOMPLETE",
         "line": {
          "color": "#FF7F0E"
         },
         "mode": "lines",
         "name": "result=INCOMPLETE",
         "orientation": "v",
         "showlegend": true,
         "stackgroup": "1",
         "type": "scatter",
         "x": [
          1,
          2,
          4,
          5,
          6,
          7,
          8,
          10,
          13,
          15,
          16,
          20,
          21,
          22,
          23,
          25,
          26,
          28,
          33,
          39,
          42,
          43
         ],
         "xaxis": "x3",
         "y": [
          3,
          2,
          2,
          2,
          1,
          2,
          1,
          1,
          2,
          1,
          2,
          1,
          1,
          1,
          2,
          4,
          1,
          1,
          1,
          1,
          1,
          1
         ],
         "yaxis": "y3"
        },
        {
         "hoverlabel": {
          "namelength": 0
         },
         "hovertemplate": "result=INCOMPLETE<br>team_name=Barcelona<br>period_id=2<br>minute=%{x}<br>size=%{y}",
         "legendgroup": "result=INCOMPLETE",
         "line": {
          "color": "#FF7F0E"
         },
         "mode": "lines",
         "name": "result=INCOMPLETE",
         "orientation": "v",
         "showlegend": false,
         "stackgroup": "1",
         "type": "scatter",
         "x": [
          0,
          3,
          4,
          6,
          8,
          13,
          15,
          16,
          17,
          20,
          21,
          22,
          23,
          24,
          26,
          28,
          30,
          31,
          33,
          36,
          37,
          38,
          39,
          42,
          43,
          44
         ],
         "xaxis": "x4",
         "y": [
          3,
          1,
          1,
          1,
          1,
          1,
          1,
          2,
          1,
          1,
          2,
          1,
          1,
          2,
          2,
          1,
          1,
          1,
          1,
          1,
          1,
          2,
          1,
          1,
          2,
          1
         ],
         "yaxis": "y4"
        },
        {
         "hoverlabel": {
          "namelength": 0
         },
         "hovertemplate": "result=INCOMPLETE<br>team_name=Real Madrid<br>period_id=1<br>minute=%{x}<br>size=%{y}",
         "legendgroup": "result=INCOMPLETE",
         "line": {
          "color": "#FF7F0E"
         },
         "mode": "lines",
         "name": "result=INCOMPLETE",
         "orientation": "v",
         "showlegend": false,
         "stackgroup": "1",
         "type": "scatter",
         "x": [
          0,
          1,
          2,
          5,
          6,
          7,
          8,
          10,
          12,
          13,
          16,
          18,
          19,
          20,
          23,
          25,
          27,
          28,
          32,
          33,
          35,
          37,
          39,
          41,
          42,
          45,
          46
         ],
         "xaxis": "x",
         "y": [
          1,
          2,
          2,
          1,
          1,
          1,
          1,
          1,
          2,
          2,
          1,
          1,
          1,
          1,
          1,
          4,
          3,
          2,
          1,
          1,
          1,
          3,
          2,
          2,
          2,
          1,
          1
         ],
         "yaxis": "y"
        },
        {
         "hoverlabel": {
          "namelength": 0
         },
         "hovertemplate": "result=INCOMPLETE<br>team_name=Real Madrid<br>period_id=2<br>minute=%{x}<br>size=%{y}",
         "legendgroup": "result=INCOMPLETE",
         "line": {
          "color": "#FF7F0E"
         },
         "mode": "lines",
         "name": "result=INCOMPLETE",
         "orientation": "v",
         "showlegend": false,
         "stackgroup": "1",
         "type": "scatter",
         "x": [
          0,
          1,
          2,
          3,
          4,
          8,
          9,
          11,
          13,
          20,
          24,
          26,
          27,
          28,
          31,
          32,
          34,
          35,
          38,
          39,
          40,
          42,
          44,
          46
         ],
         "xaxis": "x2",
         "y": [
          3,
          1,
          2,
          1,
          3,
          1,
          1,
          2,
          3,
          1,
          2,
          2,
          1,
          1,
          4,
          1,
          1,
          1,
          2,
          2,
          1,
          2,
          2,
          1
         ],
         "yaxis": "y2"
        },
        {
         "hoverlabel": {
          "namelength": 0
         },
         "hovertemplate": "result=OUT<br>team_name=Barcelona<br>period_id=1<br>minute=%{x}<br>size=%{y}",
         "legendgroup": "result=OUT",
         "line": {
          "color": "#2CA02C"
         },
         "mode": "lines",
         "name": "result=OUT",
         "orientation": "v",
         "showlegend": true,
         "stackgroup": "1",
         "type": "scatter",
         "x": [
          3,
          12,
          27,
          30,
          33,
          45
         ],
         "xaxis": "x3",
         "y": [
          1,
          1,
          1,
          1,
          1,
          1
         ],
         "yaxis": "y3"
        },
        {
         "hoverlabel": {
          "namelength": 0
         },
         "hovertemplate": "result=OUT<br>team_name=Barcelona<br>period_id=2<br>minute=%{x}<br>size=%{y}",
         "legendgroup": "result=OUT",
         "line": {
          "color": "#2CA02C"
         },
         "mode": "lines",
         "name": "result=OUT",
         "orientation": "v",
         "showlegend": false,
         "stackgroup": "1",
         "type": "scatter",
         "x": [
          3,
          7
         ],
         "xaxis": "x4",
         "y": [
          1,
          1
         ],
         "yaxis": "y4"
        },
        {
         "hoverlabel": {
          "namelength": 0
         },
         "hovertemplate": "result=OUT<br>team_name=Real Madrid<br>period_id=1<br>minute=%{x}<br>size=%{y}",
         "legendgroup": "result=OUT",
         "line": {
          "color": "#2CA02C"
         },
         "mode": "lines",
         "name": "result=OUT",
         "orientation": "v",
         "showlegend": false,
         "stackgroup": "1",
         "type": "scatter",
         "x": [
          4,
          20,
          22
         ],
         "xaxis": "x",
         "y": [
          1,
          1,
          1
         ],
         "yaxis": "y"
        },
        {
         "hoverlabel": {
          "namelength": 0
         },
         "hovertemplate": "result=OUT<br>team_name=Real Madrid<br>period_id=2<br>minute=%{x}<br>size=%{y}",
         "legendgroup": "result=OUT",
         "line": {
          "color": "#2CA02C"
         },
         "mode": "lines",
         "name": "result=OUT",
         "orientation": "v",
         "showlegend": false,
         "stackgroup": "1",
         "type": "scatter",
         "x": [
          4,
          7,
          17,
          22,
          30,
          36,
          44
         ],
         "xaxis": "x2",
         "y": [
          1,
          1,
          1,
          1,
          1,
          1,
          1
         ],
         "yaxis": "y2"
        },
        {
         "hoverlabel": {
          "namelength": 0
         },
         "hovertemplate": "result=OFFSIDE<br>team_name=Barcelona<br>period_id=1<br>minute=%{x}<br>size=%{y}",
         "legendgroup": "result=OFFSIDE",
         "line": {
          "color": "#D62728"
         },
         "mode": "lines",
         "name": "result=OFFSIDE",
         "orientation": "v",
         "showlegend": true,
         "stackgroup": "1",
         "type": "scatter",
         "x": [
          19,
          36
         ],
         "xaxis": "x3",
         "y": [
          1,
          1
         ],
         "yaxis": "y3"
        },
        {
         "hoverlabel": {
          "namelength": 0
         },
         "hovertemplate": "result=OFFSIDE<br>team_name=Barcelona<br>period_id=2<br>minute=%{x}<br>size=%{y}",
         "legendgroup": "result=OFFSIDE",
         "line": {
          "color": "#D62728"
         },
         "mode": "lines",
         "name": "result=OFFSIDE",
         "orientation": "v",
         "showlegend": false,
         "stackgroup": "1",
         "type": "scatter",
         "x": [
          1,
          13,
          32
         ],
         "xaxis": "x4",
         "y": [
          1,
          1,
          1
         ],
         "yaxis": "y4"
        },
        {
         "hoverlabel": {
          "namelength": 0
         },
         "hovertemplate": "result=OFFSIDE<br>team_name=Real Madrid<br>period_id=1<br>minute=%{x}<br>size=%{y}",
         "legendgroup": "result=OFFSIDE",
         "line": {
          "color": "#D62728"
         },
         "mode": "lines",
         "name": "result=OFFSIDE",
         "orientation": "v",
         "showlegend": false,
         "stackgroup": "1",
         "type": "scatter",
         "x": [
          15,
          42
         ],
         "xaxis": "x",
         "y": [
          1,
          1
         ],
         "yaxis": "y"
        }
       ],
       "layout": {
        "annotations": [
         {
          "font": {},
          "showarrow": false,
          "text": "period_id=1",
          "x": 0.24,
          "xanchor": "center",
          "xref": "paper",
          "y": 1,
          "yanchor": "bottom",
          "yref": "paper"
         },
         {
          "font": {},
          "showarrow": false,
          "text": "period_id=2",
          "x": 0.74,
          "xanchor": "center",
          "xref": "paper",
          "y": 1,
          "yanchor": "bottom",
          "yref": "paper"
         },
         {
          "font": {},
          "showarrow": false,
          "text": "team_name=Real Madrid",
          "textangle": 90,
          "x": 0.98,
          "xanchor": "left",
          "xref": "paper",
          "y": 0.2425,
          "yanchor": "middle",
          "yref": "paper"
         },
         {
          "font": {},
          "showarrow": false,
          "text": "team_name=Barcelona",
          "textangle": 90,
          "x": 0.98,
          "xanchor": "left",
          "xref": "paper",
          "y": 0.7575000000000001,
          "yanchor": "middle",
          "yref": "paper"
         }
        ],
        "height": 500,
        "legend": {
         "tracegroupgap": 0
        },
        "margin": {
         "t": 60
        },
        "template": {
         "data": {
          "bar": [
           {
            "error_x": {
             "color": "#2a3f5f"
            },
            "error_y": {
             "color": "#2a3f5f"
            },
            "marker": {
             "line": {
              "color": "#E5ECF6",
              "width": 0.5
             }
            },
            "type": "bar"
           }
          ],
          "barpolar": [
           {
            "marker": {
             "line": {
              "color": "#E5ECF6",
              "width": 0.5
             }
            },
            "type": "barpolar"
           }
          ],
          "carpet": [
           {
            "aaxis": {
             "endlinecolor": "#2a3f5f",
             "gridcolor": "white",
             "linecolor": "white",
             "minorgridcolor": "white",
             "startlinecolor": "#2a3f5f"
            },
            "baxis": {
             "endlinecolor": "#2a3f5f",
             "gridcolor": "white",
             "linecolor": "white",
             "minorgridcolor": "white",
             "startlinecolor": "#2a3f5f"
            },
            "type": "carpet"
           }
          ],
          "choropleth": [
           {
            "colorbar": {
             "outlinewidth": 0,
             "ticks": ""
            },
            "type": "choropleth"
           }
          ],
          "contour": [
           {
            "colorbar": {
             "outlinewidth": 0,
             "ticks": ""
            },
            "colorscale": [
             [
              0,
              "#0d0887"
             ],
             [
              0.1111111111111111,
              "#46039f"
             ],
             [
              0.2222222222222222,
              "#7201a8"
             ],
             [
              0.3333333333333333,
              "#9c179e"
             ],
             [
              0.4444444444444444,
              "#bd3786"
             ],
             [
              0.5555555555555556,
              "#d8576b"
             ],
             [
              0.6666666666666666,
              "#ed7953"
             ],
             [
              0.7777777777777778,
              "#fb9f3a"
             ],
             [
              0.8888888888888888,
              "#fdca26"
             ],
             [
              1,
              "#f0f921"
             ]
            ],
            "type": "contour"
           }
          ],
          "contourcarpet": [
           {
            "colorbar": {
             "outlinewidth": 0,
             "ticks": ""
            },
            "type": "contourcarpet"
           }
          ],
          "heatmap": [
           {
            "colorbar": {
             "outlinewidth": 0,
             "ticks": ""
            },
            "colorscale": [
             [
              0,
              "#0d0887"
             ],
             [
              0.1111111111111111,
              "#46039f"
             ],
             [
              0.2222222222222222,
              "#7201a8"
             ],
             [
              0.3333333333333333,
              "#9c179e"
             ],
             [
              0.4444444444444444,
              "#bd3786"
             ],
             [
              0.5555555555555556,
              "#d8576b"
             ],
             [
              0.6666666666666666,
              "#ed7953"
             ],
             [
              0.7777777777777778,
              "#fb9f3a"
             ],
             [
              0.8888888888888888,
              "#fdca26"
             ],
             [
              1,
              "#f0f921"
             ]
            ],
            "type": "heatmap"
           }
          ],
          "heatmapgl": [
           {
            "colorbar": {
             "outlinewidth": 0,
             "ticks": ""
            },
            "colorscale": [
             [
              0,
              "#0d0887"
             ],
             [
              0.1111111111111111,
              "#46039f"
             ],
             [
              0.2222222222222222,
              "#7201a8"
             ],
             [
              0.3333333333333333,
              "#9c179e"
             ],
             [
              0.4444444444444444,
              "#bd3786"
             ],
             [
              0.5555555555555556,
              "#d8576b"
             ],
             [
              0.6666666666666666,
              "#ed7953"
             ],
             [
              0.7777777777777778,
              "#fb9f3a"
             ],
             [
              0.8888888888888888,
              "#fdca26"
             ],
             [
              1,
              "#f0f921"
             ]
            ],
            "type": "heatmapgl"
           }
          ],
          "histogram": [
           {
            "marker": {
             "colorbar": {
              "outlinewidth": 0,
              "ticks": ""
             }
            },
            "type": "histogram"
           }
          ],
          "histogram2d": [
           {
            "colorbar": {
             "outlinewidth": 0,
             "ticks": ""
            },
            "colorscale": [
             [
              0,
              "#0d0887"
             ],
             [
              0.1111111111111111,
              "#46039f"
             ],
             [
              0.2222222222222222,
              "#7201a8"
             ],
             [
              0.3333333333333333,
              "#9c179e"
             ],
             [
              0.4444444444444444,
              "#bd3786"
             ],
             [
              0.5555555555555556,
              "#d8576b"
             ],
             [
              0.6666666666666666,
              "#ed7953"
             ],
             [
              0.7777777777777778,
              "#fb9f3a"
             ],
             [
              0.8888888888888888,
              "#fdca26"
             ],
             [
              1,
              "#f0f921"
             ]
            ],
            "type": "histogram2d"
           }
          ],
          "histogram2dcontour": [
           {
            "colorbar": {
             "outlinewidth": 0,
             "ticks": ""
            },
            "colorscale": [
             [
              0,
              "#0d0887"
             ],
             [
              0.1111111111111111,
              "#46039f"
             ],
             [
              0.2222222222222222,
              "#7201a8"
             ],
             [
              0.3333333333333333,
              "#9c179e"
             ],
             [
              0.4444444444444444,
              "#bd3786"
             ],
             [
              0.5555555555555556,
              "#d8576b"
             ],
             [
              0.6666666666666666,
              "#ed7953"
             ],
             [
              0.7777777777777778,
              "#fb9f3a"
             ],
             [
              0.8888888888888888,
              "#fdca26"
             ],
             [
              1,
              "#f0f921"
             ]
            ],
            "type": "histogram2dcontour"
           }
          ],
          "mesh3d": [
           {
            "colorbar": {
             "outlinewidth": 0,
             "ticks": ""
            },
            "type": "mesh3d"
           }
          ],
          "parcoords": [
           {
            "line": {
             "colorbar": {
              "outlinewidth": 0,
              "ticks": ""
             }
            },
            "type": "parcoords"
           }
          ],
          "pie": [
           {
            "automargin": true,
            "type": "pie"
           }
          ],
          "scatter": [
           {
            "marker": {
             "colorbar": {
              "outlinewidth": 0,
              "ticks": ""
             }
            },
            "type": "scatter"
           }
          ],
          "scatter3d": [
           {
            "line": {
             "colorbar": {
              "outlinewidth": 0,
              "ticks": ""
             }
            },
            "marker": {
             "colorbar": {
              "outlinewidth": 0,
              "ticks": ""
             }
            },
            "type": "scatter3d"
           }
          ],
          "scattercarpet": [
           {
            "marker": {
             "colorbar": {
              "outlinewidth": 0,
              "ticks": ""
             }
            },
            "type": "scattercarpet"
           }
          ],
          "scattergeo": [
           {
            "marker": {
             "colorbar": {
              "outlinewidth": 0,
              "ticks": ""
             }
            },
            "type": "scattergeo"
           }
          ],
          "scattergl": [
           {
            "marker": {
             "colorbar": {
              "outlinewidth": 0,
              "ticks": ""
             }
            },
            "type": "scattergl"
           }
          ],
          "scattermapbox": [
           {
            "marker": {
             "colorbar": {
              "outlinewidth": 0,
              "ticks": ""
             }
            },
            "type": "scattermapbox"
           }
          ],
          "scatterpolar": [
           {
            "marker": {
             "colorbar": {
              "outlinewidth": 0,
              "ticks": ""
             }
            },
            "type": "scatterpolar"
           }
          ],
          "scatterpolargl": [
           {
            "marker": {
             "colorbar": {
              "outlinewidth": 0,
              "ticks": ""
             }
            },
            "type": "scatterpolargl"
           }
          ],
          "scatterternary": [
           {
            "marker": {
             "colorbar": {
              "outlinewidth": 0,
              "ticks": ""
             }
            },
            "type": "scatterternary"
           }
          ],
          "surface": [
           {
            "colorbar": {
             "outlinewidth": 0,
             "ticks": ""
            },
            "colorscale": [
             [
              0,
              "#0d0887"
             ],
             [
              0.1111111111111111,
              "#46039f"
             ],
             [
              0.2222222222222222,
              "#7201a8"
             ],
             [
              0.3333333333333333,
              "#9c179e"
             ],
             [
              0.4444444444444444,
              "#bd3786"
             ],
             [
              0.5555555555555556,
              "#d8576b"
             ],
             [
              0.6666666666666666,
              "#ed7953"
             ],
             [
              0.7777777777777778,
              "#fb9f3a"
             ],
             [
              0.8888888888888888,
              "#fdca26"
             ],
             [
              1,
              "#f0f921"
             ]
            ],
            "type": "surface"
           }
          ],
          "table": [
           {
            "cells": {
             "fill": {
              "color": "#EBF0F8"
             },
             "line": {
              "color": "white"
             }
            },
            "header": {
             "fill": {
              "color": "#C8D4E3"
             },
             "line": {
              "color": "white"
             }
            },
            "type": "table"
           }
          ]
         },
         "layout": {
          "annotationdefaults": {
           "arrowcolor": "#2a3f5f",
           "arrowhead": 0,
           "arrowwidth": 1
          },
          "coloraxis": {
           "colorbar": {
            "outlinewidth": 0,
            "ticks": ""
           }
          },
          "colorscale": {
           "diverging": [
            [
             0,
             "#8e0152"
            ],
            [
             0.1,
             "#c51b7d"
            ],
            [
             0.2,
             "#de77ae"
            ],
            [
             0.3,
             "#f1b6da"
            ],
            [
             0.4,
             "#fde0ef"
            ],
            [
             0.5,
             "#f7f7f7"
            ],
            [
             0.6,
             "#e6f5d0"
            ],
            [
             0.7,
             "#b8e186"
            ],
            [
             0.8,
             "#7fbc41"
            ],
            [
             0.9,
             "#4d9221"
            ],
            [
             1,
             "#276419"
            ]
           ],
           "sequential": [
            [
             0,
             "#0d0887"
            ],
            [
             0.1111111111111111,
             "#46039f"
            ],
            [
             0.2222222222222222,
             "#7201a8"
            ],
            [
             0.3333333333333333,
             "#9c179e"
            ],
            [
             0.4444444444444444,
             "#bd3786"
            ],
            [
             0.5555555555555556,
             "#d8576b"
            ],
            [
             0.6666666666666666,
             "#ed7953"
            ],
            [
             0.7777777777777778,
             "#fb9f3a"
            ],
            [
             0.8888888888888888,
             "#fdca26"
            ],
            [
             1,
             "#f0f921"
            ]
           ],
           "sequentialminus": [
            [
             0,
             "#0d0887"
            ],
            [
             0.1111111111111111,
             "#46039f"
            ],
            [
             0.2222222222222222,
             "#7201a8"
            ],
            [
             0.3333333333333333,
             "#9c179e"
            ],
            [
             0.4444444444444444,
             "#bd3786"
            ],
            [
             0.5555555555555556,
             "#d8576b"
            ],
            [
             0.6666666666666666,
             "#ed7953"
            ],
            [
             0.7777777777777778,
             "#fb9f3a"
            ],
            [
             0.8888888888888888,
             "#fdca26"
            ],
            [
             1,
             "#f0f921"
            ]
           ]
          },
          "colorway": [
           "#636efa",
           "#EF553B",
           "#00cc96",
           "#ab63fa",
           "#FFA15A",
           "#19d3f3",
           "#FF6692",
           "#B6E880",
           "#FF97FF",
           "#FECB52"
          ],
          "font": {
           "color": "#2a3f5f"
          },
          "geo": {
           "bgcolor": "white",
           "lakecolor": "white",
           "landcolor": "#E5ECF6",
           "showlakes": true,
           "showland": true,
           "subunitcolor": "white"
          },
          "hoverlabel": {
           "align": "left"
          },
          "hovermode": "closest",
          "mapbox": {
           "style": "light"
          },
          "paper_bgcolor": "white",
          "plot_bgcolor": "#E5ECF6",
          "polar": {
           "angularaxis": {
            "gridcolor": "white",
            "linecolor": "white",
            "ticks": ""
           },
           "bgcolor": "#E5ECF6",
           "radialaxis": {
            "gridcolor": "white",
            "linecolor": "white",
            "ticks": ""
           }
          },
          "scene": {
           "xaxis": {
            "backgroundcolor": "#E5ECF6",
            "gridcolor": "white",
            "gridwidth": 2,
            "linecolor": "white",
            "showbackground": true,
            "ticks": "",
            "zerolinecolor": "white"
           },
           "yaxis": {
            "backgroundcolor": "#E5ECF6",
            "gridcolor": "white",
            "gridwidth": 2,
            "linecolor": "white",
            "showbackground": true,
            "ticks": "",
            "zerolinecolor": "white"
           },
           "zaxis": {
            "backgroundcolor": "#E5ECF6",
            "gridcolor": "white",
            "gridwidth": 2,
            "linecolor": "white",
            "showbackground": true,
            "ticks": "",
            "zerolinecolor": "white"
           }
          },
          "shapedefaults": {
           "line": {
            "color": "#2a3f5f"
           }
          },
          "ternary": {
           "aaxis": {
            "gridcolor": "white",
            "linecolor": "white",
            "ticks": ""
           },
           "baxis": {
            "gridcolor": "white",
            "linecolor": "white",
            "ticks": ""
           },
           "bgcolor": "#E5ECF6",
           "caxis": {
            "gridcolor": "white",
            "linecolor": "white",
            "ticks": ""
           }
          },
          "title": {
           "x": 0.05
          },
          "xaxis": {
           "automargin": true,
           "gridcolor": "white",
           "linecolor": "white",
           "ticks": "",
           "title": {
            "standoff": 15
           },
           "zerolinecolor": "white",
           "zerolinewidth": 2
          },
          "yaxis": {
           "automargin": true,
           "gridcolor": "white",
           "linecolor": "white",
           "ticks": "",
           "title": {
            "standoff": 15
           },
           "zerolinecolor": "white",
           "zerolinewidth": 2
          }
         }
        },
        "width": 1500,
        "xaxis": {
         "anchor": "y",
         "domain": [
          0,
          0.48
         ],
         "title": {
          "text": "minute"
         }
        },
        "xaxis2": {
         "anchor": "y2",
         "domain": [
          0.5,
          0.98
         ],
         "matches": "x",
         "title": {
          "text": "minute"
         }
        },
        "xaxis3": {
         "anchor": "y3",
         "domain": [
          0,
          0.48
         ],
         "matches": "x",
         "showticklabels": false
        },
        "xaxis4": {
         "anchor": "y4",
         "domain": [
          0.5,
          0.98
         ],
         "matches": "x",
         "showticklabels": false
        },
        "yaxis": {
         "anchor": "x",
         "domain": [
          0,
          0.485
         ],
         "title": {
          "text": "size"
         }
        },
        "yaxis2": {
         "anchor": "x2",
         "domain": [
          0,
          0.485
         ],
         "matches": "y",
         "showticklabels": false
        },
        "yaxis3": {
         "anchor": "x3",
         "domain": [
          0.515,
          1
         ],
         "matches": "y",
         "title": {
          "text": "size"
         }
        },
        "yaxis4": {
         "anchor": "x4",
         "domain": [
          0.515,
          1
         ],
         "matches": "y",
         "showticklabels": false
        }
       }
      }
     },
     "metadata": {}
    }
   ],
   "source": [
    "px.area(\n",
    "    aggregated_df_pass,\n",
    "    x='minute',\n",
    "    y='size',\n",
    "    color='result',\n",
    "    facet_col='period_id',\n",
    "    facet_row='team_name',\n",
    "    height=500, width=1500,\n",
    "    color_discrete_sequence=px.colors.qualitative.D3\n",
    ")"
   ]
  }
 ],
 "metadata": {
  "kernelspec": {
   "name": "python3",
   "display_name": "Python 3.7.9 64-bit ('spoana': conda)",
   "metadata": {
    "interpreter": {
     "hash": "00aefb1dfc2bdac443437511a991851adf3f5ecdc164ee456ec243a30433d895"
    }
   }
  },
  "language_info": {
   "codemirror_mode": {
    "name": "ipython",
    "version": 3
   },
   "file_extension": ".py",
   "mimetype": "text/x-python",
   "name": "python",
   "nbconvert_exporter": "python",
   "pygments_lexer": "ipython3",
   "version": "3.7.9-final"
  },
  "toc-autonumbering": true
 },
 "nbformat": 4,
 "nbformat_minor": 4
}