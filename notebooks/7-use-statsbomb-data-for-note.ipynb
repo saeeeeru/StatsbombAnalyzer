{
 "cells": [
  {
   "cell_type": "code",
   "execution_count": 1,
   "metadata": {},
   "outputs": [
    {
     "name": "stdout",
     "output_type": "stream",
     "text": [
      "Requirement already satisfied: statsbomb in /Users/yamamuros83/.pyenv/versions/anaconda3-5.3.1/envs/py37/lib/python3.7/site-packages (0.3.0)\n",
      "Requirement already satisfied: PyYAML in /Users/yamamuros83/.pyenv/versions/anaconda3-5.3.1/envs/py37/lib/python3.7/site-packages (from statsbomb) (5.3.1)\n",
      "Requirement already satisfied: requests in /Users/yamamuros83/.pyenv/versions/anaconda3-5.3.1/envs/py37/lib/python3.7/site-packages (from statsbomb) (2.24.0)\n",
      "Requirement already satisfied: pandas in /Users/yamamuros83/.pyenv/versions/anaconda3-5.3.1/envs/py37/lib/python3.7/site-packages (from statsbomb) (1.1.1)\n",
      "Requirement already satisfied: urllib3!=1.25.0,!=1.25.1,<1.26,>=1.21.1 in /Users/yamamuros83/.pyenv/versions/anaconda3-5.3.1/envs/py37/lib/python3.7/site-packages (from requests->statsbomb) (1.25.10)\n",
      "Requirement already satisfied: chardet<4,>=3.0.2 in /Users/yamamuros83/.pyenv/versions/anaconda3-5.3.1/envs/py37/lib/python3.7/site-packages (from requests->statsbomb) (3.0.4)\n",
      "Requirement already satisfied: certifi>=2017.4.17 in /Users/yamamuros83/.pyenv/versions/anaconda3-5.3.1/envs/py37/lib/python3.7/site-packages (from requests->statsbomb) (2020.11.8)\n",
      "Requirement already satisfied: idna<3,>=2.5 in /Users/yamamuros83/.pyenv/versions/anaconda3-5.3.1/envs/py37/lib/python3.7/site-packages (from requests->statsbomb) (2.10)\n",
      "Requirement already satisfied: pytz>=2017.2 in /Users/yamamuros83/.pyenv/versions/anaconda3-5.3.1/envs/py37/lib/python3.7/site-packages (from pandas->statsbomb) (2020.1)\n",
      "Requirement already satisfied: numpy>=1.15.4 in /Users/yamamuros83/.pyenv/versions/anaconda3-5.3.1/envs/py37/lib/python3.7/site-packages (from pandas->statsbomb) (1.19.1)\n",
      "Requirement already satisfied: python-dateutil>=2.7.3 in /Users/yamamuros83/.pyenv/versions/anaconda3-5.3.1/envs/py37/lib/python3.7/site-packages (from pandas->statsbomb) (2.8.1)\n",
      "Requirement already satisfied: six>=1.5 in /Users/yamamuros83/.pyenv/versions/anaconda3-5.3.1/envs/py37/lib/python3.7/site-packages (from python-dateutil>=2.7.3->pandas->statsbomb) (1.15.0)\n",
      "Requirement already satisfied: kloppy in /Users/yamamuros83/.pyenv/versions/anaconda3-5.3.1/envs/py37/lib/python3.7/site-packages (1.4.4)\n",
      "Requirement already satisfied: networkx>=2.4 in /Users/yamamuros83/.pyenv/versions/anaconda3-5.3.1/envs/py37/lib/python3.7/site-packages (from kloppy) (2.5)\n",
      "Requirement already satisfied: pytz>=2020.1 in /Users/yamamuros83/.pyenv/versions/anaconda3-5.3.1/envs/py37/lib/python3.7/site-packages (from kloppy) (2020.1)\n",
      "Requirement already satisfied: lxml>=4.5.0 in /Users/yamamuros83/.pyenv/versions/anaconda3-5.3.1/envs/py37/lib/python3.7/site-packages (from kloppy) (4.6.1)\n",
      "Requirement already satisfied: requests>=2.0.0 in /Users/yamamuros83/.pyenv/versions/anaconda3-5.3.1/envs/py37/lib/python3.7/site-packages (from kloppy) (2.24.0)\n",
      "Requirement already satisfied: decorator>=4.3.0 in /Users/yamamuros83/.pyenv/versions/anaconda3-5.3.1/envs/py37/lib/python3.7/site-packages (from networkx>=2.4->kloppy) (4.4.2)\n",
      "Requirement already satisfied: certifi>=2017.4.17 in /Users/yamamuros83/.pyenv/versions/anaconda3-5.3.1/envs/py37/lib/python3.7/site-packages (from requests>=2.0.0->kloppy) (2020.11.8)\n",
      "Requirement already satisfied: urllib3!=1.25.0,!=1.25.1,<1.26,>=1.21.1 in /Users/yamamuros83/.pyenv/versions/anaconda3-5.3.1/envs/py37/lib/python3.7/site-packages (from requests>=2.0.0->kloppy) (1.25.10)\n",
      "Requirement already satisfied: idna<3,>=2.5 in /Users/yamamuros83/.pyenv/versions/anaconda3-5.3.1/envs/py37/lib/python3.7/site-packages (from requests>=2.0.0->kloppy) (2.10)\n",
      "Requirement already satisfied: chardet<4,>=3.0.2 in /Users/yamamuros83/.pyenv/versions/anaconda3-5.3.1/envs/py37/lib/python3.7/site-packages (from requests>=2.0.0->kloppy) (3.0.4)\n",
      "Collecting mplsoccer\n",
      "  Using cached mplsoccer-0.0.21.tar.gz (33 kB)\n",
      "Building wheels for collected packages: mplsoccer\n",
      "  Building wheel for mplsoccer (setup.py) ... \u001b[?25ldone\n",
      "\u001b[?25h  Created wheel for mplsoccer: filename=mplsoccer-0.0.21-py3-none-any.whl size=32698 sha256=7dceb07433ec7af85a3d1b722af4c54591e04667dc7f83350b5c482b45f2c58e\n",
      "  Stored in directory: /Users/yamamuros83/Library/Caches/pip/wheels/a0/e6/5f/99d0830c048c6a9e4383a43d308192927e27c908f5db2e833d\n",
      "Successfully built mplsoccer\n",
      "Installing collected packages: mplsoccer\n",
      "Successfully installed mplsoccer-0.0.21\n"
     ]
    }
   ],
   "source": [
    "!pip install statsbomb\n",
    "!pip install kloppy\n",
    "!pip install mplsoccer"
   ]
  },
  {
   "cell_type": "code",
   "execution_count": 21,
   "metadata": {},
   "outputs": [
    {
     "data": {
      "text/html": [
       "        <script type=\"text/javascript\">\n",
       "        window.PlotlyConfig = {MathJaxConfig: 'local'};\n",
       "        if (window.MathJax) {MathJax.Hub.Config({SVG: {font: \"STIX-Web\"}});}\n",
       "        if (typeof require !== 'undefined') {\n",
       "        require.undef(\"plotly\");\n",
       "        requirejs.config({\n",
       "            paths: {\n",
       "                'plotly': ['https://cdn.plot.ly/plotly-latest.min']\n",
       "            }\n",
       "        });\n",
       "        require(['plotly'], function(Plotly) {\n",
       "            window._Plotly = Plotly;\n",
       "        });\n",
       "        }\n",
       "        </script>\n",
       "        "
      ]
     },
     "metadata": {},
     "output_type": "display_data"
    }
   ],
   "source": [
    "import requests\n",
    "import math\n",
    "\n",
    "import numpy as np\n",
    "import pandas as pd\n",
    "import matplotlib.pyplot as plt\n",
    "import plotly.express as px\n",
    "\n",
    "from plotly.offline import init_notebook_mode, iplot\n",
    "\n",
    "init_notebook_mode(connected=True)\n",
    "\n",
    "import plotly.io as pio\n",
    "pio.base_renderers = 'colab'\n",
    "\n",
    "\n",
    "from kloppy import datasets\n",
    "import statsbomb as sb\n",
    "\n",
    "from mplsoccer.pitch import Pitch"
   ]
  },
  {
   "cell_type": "code",
   "execution_count": 3,
   "metadata": {},
   "outputs": [],
   "source": [
    "BASE_URL = 'https://raw.githubusercontent.com/statsbomb/open-data/master/data'"
   ]
  },
  {
   "cell_type": "markdown",
   "metadata": {},
   "source": [
    "# データの読み込み"
   ]
  },
  {
   "cell_type": "markdown",
   "metadata": {},
   "source": [
    "## competition"
   ]
  },
  {
   "cell_type": "code",
   "execution_count": 4,
   "metadata": {},
   "outputs": [],
   "source": [
    "comps_df = sb.Competitions().get_dataframe()"
   ]
  },
  {
   "cell_type": "code",
   "execution_count": 5,
   "metadata": {},
   "outputs": [
    {
     "data": {
      "text/html": [
       "<div>\n",
       "<style scoped>\n",
       "    .dataframe tbody tr th:only-of-type {\n",
       "        vertical-align: middle;\n",
       "    }\n",
       "\n",
       "    .dataframe tbody tr th {\n",
       "        vertical-align: top;\n",
       "    }\n",
       "\n",
       "    .dataframe thead th {\n",
       "        text-align: right;\n",
       "    }\n",
       "</style>\n",
       "<table border=\"1\" class=\"dataframe\">\n",
       "  <thead>\n",
       "    <tr style=\"text-align: right;\">\n",
       "      <th></th>\n",
       "      <th>competition_id</th>\n",
       "      <th>season_id</th>\n",
       "      <th>country_name</th>\n",
       "      <th>competition_name</th>\n",
       "      <th>competition_gender</th>\n",
       "      <th>season_name</th>\n",
       "      <th>match_updated</th>\n",
       "      <th>match_available</th>\n",
       "    </tr>\n",
       "  </thead>\n",
       "  <tbody>\n",
       "    <tr>\n",
       "      <th>0</th>\n",
       "      <td>16</td>\n",
       "      <td>4</td>\n",
       "      <td>Europe</td>\n",
       "      <td>Champions League</td>\n",
       "      <td>male</td>\n",
       "      <td>2018/2019</td>\n",
       "      <td>2020-07-29T05:00</td>\n",
       "      <td>2020-07-29T05:00</td>\n",
       "    </tr>\n",
       "    <tr>\n",
       "      <th>1</th>\n",
       "      <td>16</td>\n",
       "      <td>1</td>\n",
       "      <td>Europe</td>\n",
       "      <td>Champions League</td>\n",
       "      <td>male</td>\n",
       "      <td>2017/2018</td>\n",
       "      <td>2020-07-29T05:00</td>\n",
       "      <td>2020-07-29T05:00</td>\n",
       "    </tr>\n",
       "    <tr>\n",
       "      <th>2</th>\n",
       "      <td>16</td>\n",
       "      <td>2</td>\n",
       "      <td>Europe</td>\n",
       "      <td>Champions League</td>\n",
       "      <td>male</td>\n",
       "      <td>2016/2017</td>\n",
       "      <td>2020-08-26T12:33:15.869622</td>\n",
       "      <td>2020-07-29T05:00</td>\n",
       "    </tr>\n",
       "    <tr>\n",
       "      <th>3</th>\n",
       "      <td>16</td>\n",
       "      <td>27</td>\n",
       "      <td>Europe</td>\n",
       "      <td>Champions League</td>\n",
       "      <td>male</td>\n",
       "      <td>2015/2016</td>\n",
       "      <td>2020-08-26T12:33:15.869622</td>\n",
       "      <td>2020-07-29T05:00</td>\n",
       "    </tr>\n",
       "    <tr>\n",
       "      <th>4</th>\n",
       "      <td>16</td>\n",
       "      <td>26</td>\n",
       "      <td>Europe</td>\n",
       "      <td>Champions League</td>\n",
       "      <td>male</td>\n",
       "      <td>2014/2015</td>\n",
       "      <td>2020-08-26T12:33:15.869622</td>\n",
       "      <td>2020-07-29T05:00</td>\n",
       "    </tr>\n",
       "    <tr>\n",
       "      <th>5</th>\n",
       "      <td>16</td>\n",
       "      <td>25</td>\n",
       "      <td>Europe</td>\n",
       "      <td>Champions League</td>\n",
       "      <td>male</td>\n",
       "      <td>2013/2014</td>\n",
       "      <td>2020-08-26T12:33:15.869622</td>\n",
       "      <td>2020-07-29T05:00</td>\n",
       "    </tr>\n",
       "    <tr>\n",
       "      <th>6</th>\n",
       "      <td>16</td>\n",
       "      <td>24</td>\n",
       "      <td>Europe</td>\n",
       "      <td>Champions League</td>\n",
       "      <td>male</td>\n",
       "      <td>2012/2013</td>\n",
       "      <td>2020-08-26T12:33:15.869622</td>\n",
       "      <td>2020-07-29T05:00</td>\n",
       "    </tr>\n",
       "    <tr>\n",
       "      <th>7</th>\n",
       "      <td>16</td>\n",
       "      <td>23</td>\n",
       "      <td>Europe</td>\n",
       "      <td>Champions League</td>\n",
       "      <td>male</td>\n",
       "      <td>2011/2012</td>\n",
       "      <td>2020-08-26T12:33:15.869622</td>\n",
       "      <td>2020-07-29T05:00</td>\n",
       "    </tr>\n",
       "    <tr>\n",
       "      <th>8</th>\n",
       "      <td>16</td>\n",
       "      <td>22</td>\n",
       "      <td>Europe</td>\n",
       "      <td>Champions League</td>\n",
       "      <td>male</td>\n",
       "      <td>2010/2011</td>\n",
       "      <td>2020-07-29T05:00</td>\n",
       "      <td>2020-07-29T05:00</td>\n",
       "    </tr>\n",
       "    <tr>\n",
       "      <th>9</th>\n",
       "      <td>16</td>\n",
       "      <td>21</td>\n",
       "      <td>Europe</td>\n",
       "      <td>Champions League</td>\n",
       "      <td>male</td>\n",
       "      <td>2009/2010</td>\n",
       "      <td>2020-07-29T05:00</td>\n",
       "      <td>2020-07-29T05:00</td>\n",
       "    </tr>\n",
       "    <tr>\n",
       "      <th>10</th>\n",
       "      <td>16</td>\n",
       "      <td>41</td>\n",
       "      <td>Europe</td>\n",
       "      <td>Champions League</td>\n",
       "      <td>male</td>\n",
       "      <td>2008/2009</td>\n",
       "      <td>2020-08-30T10:18:39.435424</td>\n",
       "      <td>2020-08-30T10:18:39.435424</td>\n",
       "    </tr>\n",
       "    <tr>\n",
       "      <th>11</th>\n",
       "      <td>16</td>\n",
       "      <td>39</td>\n",
       "      <td>Europe</td>\n",
       "      <td>Champions League</td>\n",
       "      <td>male</td>\n",
       "      <td>2006/2007</td>\n",
       "      <td>2020-07-29T05:00</td>\n",
       "      <td>2020-07-29T05:00</td>\n",
       "    </tr>\n",
       "    <tr>\n",
       "      <th>12</th>\n",
       "      <td>16</td>\n",
       "      <td>37</td>\n",
       "      <td>Europe</td>\n",
       "      <td>Champions League</td>\n",
       "      <td>male</td>\n",
       "      <td>2004/2005</td>\n",
       "      <td>2020-07-29T05:00</td>\n",
       "      <td>2020-07-29T05:00</td>\n",
       "    </tr>\n",
       "    <tr>\n",
       "      <th>13</th>\n",
       "      <td>16</td>\n",
       "      <td>44</td>\n",
       "      <td>Europe</td>\n",
       "      <td>Champions League</td>\n",
       "      <td>male</td>\n",
       "      <td>2003/2004</td>\n",
       "      <td>2020-08-30T10:18:39.435424</td>\n",
       "      <td>2020-08-30T10:18:39.435424</td>\n",
       "    </tr>\n",
       "    <tr>\n",
       "      <th>14</th>\n",
       "      <td>16</td>\n",
       "      <td>76</td>\n",
       "      <td>Europe</td>\n",
       "      <td>Champions League</td>\n",
       "      <td>male</td>\n",
       "      <td>1999/2000</td>\n",
       "      <td>2020-07-29T05:00</td>\n",
       "      <td>2020-07-29T05:00</td>\n",
       "    </tr>\n",
       "    <tr>\n",
       "      <th>15</th>\n",
       "      <td>37</td>\n",
       "      <td>42</td>\n",
       "      <td>England</td>\n",
       "      <td>FA Women's Super League</td>\n",
       "      <td>female</td>\n",
       "      <td>2019/2020</td>\n",
       "      <td>2020-09-30T14:59:21.257704</td>\n",
       "      <td>2020-09-30T14:59:21.257704</td>\n",
       "    </tr>\n",
       "    <tr>\n",
       "      <th>16</th>\n",
       "      <td>37</td>\n",
       "      <td>4</td>\n",
       "      <td>England</td>\n",
       "      <td>FA Women's Super League</td>\n",
       "      <td>female</td>\n",
       "      <td>2018/2019</td>\n",
       "      <td>2020-08-24T14:34:34.401523</td>\n",
       "      <td>2020-08-24T14:34:34.401523</td>\n",
       "    </tr>\n",
       "    <tr>\n",
       "      <th>17</th>\n",
       "      <td>43</td>\n",
       "      <td>3</td>\n",
       "      <td>International</td>\n",
       "      <td>FIFA World Cup</td>\n",
       "      <td>male</td>\n",
       "      <td>2018</td>\n",
       "      <td>2020-07-29T05:00</td>\n",
       "      <td>2020-07-29T05:00</td>\n",
       "    </tr>\n",
       "    <tr>\n",
       "      <th>18</th>\n",
       "      <td>11</td>\n",
       "      <td>42</td>\n",
       "      <td>Spain</td>\n",
       "      <td>La Liga</td>\n",
       "      <td>male</td>\n",
       "      <td>2019/2020</td>\n",
       "      <td>2020-10-11T20:05:57.703730</td>\n",
       "      <td>2020-10-11T20:05:57.703730</td>\n",
       "    </tr>\n",
       "    <tr>\n",
       "      <th>19</th>\n",
       "      <td>11</td>\n",
       "      <td>4</td>\n",
       "      <td>Spain</td>\n",
       "      <td>La Liga</td>\n",
       "      <td>male</td>\n",
       "      <td>2018/2019</td>\n",
       "      <td>2020-07-29T05:00</td>\n",
       "      <td>2020-07-29T05:00</td>\n",
       "    </tr>\n",
       "    <tr>\n",
       "      <th>20</th>\n",
       "      <td>11</td>\n",
       "      <td>1</td>\n",
       "      <td>Spain</td>\n",
       "      <td>La Liga</td>\n",
       "      <td>male</td>\n",
       "      <td>2017/2018</td>\n",
       "      <td>2020-07-29T05:00</td>\n",
       "      <td>2020-07-29T05:00</td>\n",
       "    </tr>\n",
       "    <tr>\n",
       "      <th>21</th>\n",
       "      <td>11</td>\n",
       "      <td>2</td>\n",
       "      <td>Spain</td>\n",
       "      <td>La Liga</td>\n",
       "      <td>male</td>\n",
       "      <td>2016/2017</td>\n",
       "      <td>2020-10-09T04:20:42.205355</td>\n",
       "      <td>2020-10-09T04:20:42.205355</td>\n",
       "    </tr>\n",
       "    <tr>\n",
       "      <th>22</th>\n",
       "      <td>11</td>\n",
       "      <td>27</td>\n",
       "      <td>Spain</td>\n",
       "      <td>La Liga</td>\n",
       "      <td>male</td>\n",
       "      <td>2015/2016</td>\n",
       "      <td>2020-07-29T05:00</td>\n",
       "      <td>2020-07-29T05:00</td>\n",
       "    </tr>\n",
       "    <tr>\n",
       "      <th>23</th>\n",
       "      <td>11</td>\n",
       "      <td>26</td>\n",
       "      <td>Spain</td>\n",
       "      <td>La Liga</td>\n",
       "      <td>male</td>\n",
       "      <td>2014/2015</td>\n",
       "      <td>2020-07-29T05:00</td>\n",
       "      <td>2020-07-29T05:00</td>\n",
       "    </tr>\n",
       "    <tr>\n",
       "      <th>24</th>\n",
       "      <td>11</td>\n",
       "      <td>25</td>\n",
       "      <td>Spain</td>\n",
       "      <td>La Liga</td>\n",
       "      <td>male</td>\n",
       "      <td>2013/2014</td>\n",
       "      <td>2020-07-29T05:00</td>\n",
       "      <td>2020-07-29T05:00</td>\n",
       "    </tr>\n",
       "    <tr>\n",
       "      <th>25</th>\n",
       "      <td>11</td>\n",
       "      <td>24</td>\n",
       "      <td>Spain</td>\n",
       "      <td>La Liga</td>\n",
       "      <td>male</td>\n",
       "      <td>2012/2013</td>\n",
       "      <td>2020-07-29T05:00</td>\n",
       "      <td>2020-07-29T05:00</td>\n",
       "    </tr>\n",
       "    <tr>\n",
       "      <th>26</th>\n",
       "      <td>11</td>\n",
       "      <td>23</td>\n",
       "      <td>Spain</td>\n",
       "      <td>La Liga</td>\n",
       "      <td>male</td>\n",
       "      <td>2011/2012</td>\n",
       "      <td>2020-07-29T05:00</td>\n",
       "      <td>2020-07-29T05:00</td>\n",
       "    </tr>\n",
       "    <tr>\n",
       "      <th>27</th>\n",
       "      <td>11</td>\n",
       "      <td>22</td>\n",
       "      <td>Spain</td>\n",
       "      <td>La Liga</td>\n",
       "      <td>male</td>\n",
       "      <td>2010/2011</td>\n",
       "      <td>2020-07-29T05:00</td>\n",
       "      <td>2020-07-29T05:00</td>\n",
       "    </tr>\n",
       "    <tr>\n",
       "      <th>28</th>\n",
       "      <td>11</td>\n",
       "      <td>21</td>\n",
       "      <td>Spain</td>\n",
       "      <td>La Liga</td>\n",
       "      <td>male</td>\n",
       "      <td>2009/2010</td>\n",
       "      <td>2020-07-29T05:00</td>\n",
       "      <td>2020-07-29T05:00</td>\n",
       "    </tr>\n",
       "    <tr>\n",
       "      <th>29</th>\n",
       "      <td>11</td>\n",
       "      <td>41</td>\n",
       "      <td>Spain</td>\n",
       "      <td>La Liga</td>\n",
       "      <td>male</td>\n",
       "      <td>2008/2009</td>\n",
       "      <td>2020-07-29T05:00</td>\n",
       "      <td>2020-07-29T05:00</td>\n",
       "    </tr>\n",
       "    <tr>\n",
       "      <th>30</th>\n",
       "      <td>11</td>\n",
       "      <td>40</td>\n",
       "      <td>Spain</td>\n",
       "      <td>La Liga</td>\n",
       "      <td>male</td>\n",
       "      <td>2007/2008</td>\n",
       "      <td>2020-07-29T05:00</td>\n",
       "      <td>2020-07-29T05:00</td>\n",
       "    </tr>\n",
       "    <tr>\n",
       "      <th>31</th>\n",
       "      <td>11</td>\n",
       "      <td>39</td>\n",
       "      <td>Spain</td>\n",
       "      <td>La Liga</td>\n",
       "      <td>male</td>\n",
       "      <td>2006/2007</td>\n",
       "      <td>2020-07-29T05:00</td>\n",
       "      <td>2020-07-29T05:00</td>\n",
       "    </tr>\n",
       "    <tr>\n",
       "      <th>32</th>\n",
       "      <td>11</td>\n",
       "      <td>38</td>\n",
       "      <td>Spain</td>\n",
       "      <td>La Liga</td>\n",
       "      <td>male</td>\n",
       "      <td>2005/2006</td>\n",
       "      <td>2020-07-29T05:00</td>\n",
       "      <td>2020-07-29T05:00</td>\n",
       "    </tr>\n",
       "    <tr>\n",
       "      <th>33</th>\n",
       "      <td>11</td>\n",
       "      <td>37</td>\n",
       "      <td>Spain</td>\n",
       "      <td>La Liga</td>\n",
       "      <td>male</td>\n",
       "      <td>2004/2005</td>\n",
       "      <td>2020-07-29T05:00</td>\n",
       "      <td>2020-07-29T05:00</td>\n",
       "    </tr>\n",
       "    <tr>\n",
       "      <th>34</th>\n",
       "      <td>49</td>\n",
       "      <td>3</td>\n",
       "      <td>United States of America</td>\n",
       "      <td>NWSL</td>\n",
       "      <td>female</td>\n",
       "      <td>2018</td>\n",
       "      <td>2020-07-29T05:00</td>\n",
       "      <td>2020-07-29T05:00</td>\n",
       "    </tr>\n",
       "    <tr>\n",
       "      <th>35</th>\n",
       "      <td>2</td>\n",
       "      <td>44</td>\n",
       "      <td>England</td>\n",
       "      <td>Premier League</td>\n",
       "      <td>male</td>\n",
       "      <td>2003/2004</td>\n",
       "      <td>2020-08-31T20:40:28.969635</td>\n",
       "      <td>2020-08-31T20:40:28.969635</td>\n",
       "    </tr>\n",
       "    <tr>\n",
       "      <th>36</th>\n",
       "      <td>72</td>\n",
       "      <td>30</td>\n",
       "      <td>International</td>\n",
       "      <td>Women's World Cup</td>\n",
       "      <td>female</td>\n",
       "      <td>2019</td>\n",
       "      <td>2020-07-29T05:00</td>\n",
       "      <td>2020-07-29T05:00</td>\n",
       "    </tr>\n",
       "  </tbody>\n",
       "</table>\n",
       "</div>"
      ],
      "text/plain": [
       "    competition_id  season_id              country_name  \\\n",
       "0               16          4                    Europe   \n",
       "1               16          1                    Europe   \n",
       "2               16          2                    Europe   \n",
       "3               16         27                    Europe   \n",
       "4               16         26                    Europe   \n",
       "5               16         25                    Europe   \n",
       "6               16         24                    Europe   \n",
       "7               16         23                    Europe   \n",
       "8               16         22                    Europe   \n",
       "9               16         21                    Europe   \n",
       "10              16         41                    Europe   \n",
       "11              16         39                    Europe   \n",
       "12              16         37                    Europe   \n",
       "13              16         44                    Europe   \n",
       "14              16         76                    Europe   \n",
       "15              37         42                   England   \n",
       "16              37          4                   England   \n",
       "17              43          3             International   \n",
       "18              11         42                     Spain   \n",
       "19              11          4                     Spain   \n",
       "20              11          1                     Spain   \n",
       "21              11          2                     Spain   \n",
       "22              11         27                     Spain   \n",
       "23              11         26                     Spain   \n",
       "24              11         25                     Spain   \n",
       "25              11         24                     Spain   \n",
       "26              11         23                     Spain   \n",
       "27              11         22                     Spain   \n",
       "28              11         21                     Spain   \n",
       "29              11         41                     Spain   \n",
       "30              11         40                     Spain   \n",
       "31              11         39                     Spain   \n",
       "32              11         38                     Spain   \n",
       "33              11         37                     Spain   \n",
       "34              49          3  United States of America   \n",
       "35               2         44                   England   \n",
       "36              72         30             International   \n",
       "\n",
       "           competition_name competition_gender season_name  \\\n",
       "0          Champions League               male   2018/2019   \n",
       "1          Champions League               male   2017/2018   \n",
       "2          Champions League               male   2016/2017   \n",
       "3          Champions League               male   2015/2016   \n",
       "4          Champions League               male   2014/2015   \n",
       "5          Champions League               male   2013/2014   \n",
       "6          Champions League               male   2012/2013   \n",
       "7          Champions League               male   2011/2012   \n",
       "8          Champions League               male   2010/2011   \n",
       "9          Champions League               male   2009/2010   \n",
       "10         Champions League               male   2008/2009   \n",
       "11         Champions League               male   2006/2007   \n",
       "12         Champions League               male   2004/2005   \n",
       "13         Champions League               male   2003/2004   \n",
       "14         Champions League               male   1999/2000   \n",
       "15  FA Women's Super League             female   2019/2020   \n",
       "16  FA Women's Super League             female   2018/2019   \n",
       "17           FIFA World Cup               male        2018   \n",
       "18                  La Liga               male   2019/2020   \n",
       "19                  La Liga               male   2018/2019   \n",
       "20                  La Liga               male   2017/2018   \n",
       "21                  La Liga               male   2016/2017   \n",
       "22                  La Liga               male   2015/2016   \n",
       "23                  La Liga               male   2014/2015   \n",
       "24                  La Liga               male   2013/2014   \n",
       "25                  La Liga               male   2012/2013   \n",
       "26                  La Liga               male   2011/2012   \n",
       "27                  La Liga               male   2010/2011   \n",
       "28                  La Liga               male   2009/2010   \n",
       "29                  La Liga               male   2008/2009   \n",
       "30                  La Liga               male   2007/2008   \n",
       "31                  La Liga               male   2006/2007   \n",
       "32                  La Liga               male   2005/2006   \n",
       "33                  La Liga               male   2004/2005   \n",
       "34                     NWSL             female        2018   \n",
       "35           Premier League               male   2003/2004   \n",
       "36        Women's World Cup             female        2019   \n",
       "\n",
       "                 match_updated             match_available  \n",
       "0             2020-07-29T05:00            2020-07-29T05:00  \n",
       "1             2020-07-29T05:00            2020-07-29T05:00  \n",
       "2   2020-08-26T12:33:15.869622            2020-07-29T05:00  \n",
       "3   2020-08-26T12:33:15.869622            2020-07-29T05:00  \n",
       "4   2020-08-26T12:33:15.869622            2020-07-29T05:00  \n",
       "5   2020-08-26T12:33:15.869622            2020-07-29T05:00  \n",
       "6   2020-08-26T12:33:15.869622            2020-07-29T05:00  \n",
       "7   2020-08-26T12:33:15.869622            2020-07-29T05:00  \n",
       "8             2020-07-29T05:00            2020-07-29T05:00  \n",
       "9             2020-07-29T05:00            2020-07-29T05:00  \n",
       "10  2020-08-30T10:18:39.435424  2020-08-30T10:18:39.435424  \n",
       "11            2020-07-29T05:00            2020-07-29T05:00  \n",
       "12            2020-07-29T05:00            2020-07-29T05:00  \n",
       "13  2020-08-30T10:18:39.435424  2020-08-30T10:18:39.435424  \n",
       "14            2020-07-29T05:00            2020-07-29T05:00  \n",
       "15  2020-09-30T14:59:21.257704  2020-09-30T14:59:21.257704  \n",
       "16  2020-08-24T14:34:34.401523  2020-08-24T14:34:34.401523  \n",
       "17            2020-07-29T05:00            2020-07-29T05:00  \n",
       "18  2020-10-11T20:05:57.703730  2020-10-11T20:05:57.703730  \n",
       "19            2020-07-29T05:00            2020-07-29T05:00  \n",
       "20            2020-07-29T05:00            2020-07-29T05:00  \n",
       "21  2020-10-09T04:20:42.205355  2020-10-09T04:20:42.205355  \n",
       "22            2020-07-29T05:00            2020-07-29T05:00  \n",
       "23            2020-07-29T05:00            2020-07-29T05:00  \n",
       "24            2020-07-29T05:00            2020-07-29T05:00  \n",
       "25            2020-07-29T05:00            2020-07-29T05:00  \n",
       "26            2020-07-29T05:00            2020-07-29T05:00  \n",
       "27            2020-07-29T05:00            2020-07-29T05:00  \n",
       "28            2020-07-29T05:00            2020-07-29T05:00  \n",
       "29            2020-07-29T05:00            2020-07-29T05:00  \n",
       "30            2020-07-29T05:00            2020-07-29T05:00  \n",
       "31            2020-07-29T05:00            2020-07-29T05:00  \n",
       "32            2020-07-29T05:00            2020-07-29T05:00  \n",
       "33            2020-07-29T05:00            2020-07-29T05:00  \n",
       "34            2020-07-29T05:00            2020-07-29T05:00  \n",
       "35  2020-08-31T20:40:28.969635  2020-08-31T20:40:28.969635  \n",
       "36            2020-07-29T05:00            2020-07-29T05:00  "
      ]
     },
     "execution_count": 5,
     "metadata": {},
     "output_type": "execute_result"
    }
   ],
   "source": [
    "comps_df"
   ]
  },
  {
   "cell_type": "markdown",
   "metadata": {},
   "source": [
    "## matches"
   ]
  },
  {
   "cell_type": "markdown",
   "metadata": {},
   "source": [
    "### 関数の定義"
   ]
  },
  {
   "cell_type": "code",
   "execution_count": 6,
   "metadata": {},
   "outputs": [],
   "source": [
    "def get_matches_df(competition_id, season_id=None, comps_df=None):\n",
    "    if season_id:\n",
    "        matches_df = pd.DataFrame(requests.get(f'{BASE_URL}/matches/{competition_id}/{season_id}.json').json())\n",
    "    else:\n",
    "        matches_df = pd.concat([pd.DataFrame(requests.get(f'{BASE_URL}/matches/{competition_id}/{season_id}.json').json()) for season_id in comps_df[comps_df.competition_id==competition_id].season_id.tolist()])\n",
    "    \n",
    "    c_list = ['competition', 'season', 'home_team', 'away_team', 'stadium', 'competition_stage']\n",
    "    if competition_id == 2:\n",
    "        c_list.remove('stadium')\n",
    "    for c in c_list:\n",
    "        if c in ['stadium', 'competition_stage']:\n",
    "            key_list = ['id', 'name']\n",
    "            c_fixed_list = [f'{c}_{k}' for k in key_list]\n",
    "\n",
    "        else:\n",
    "            key_list = [f'{c}_{k}' for k in ['id', 'name']]\n",
    "            c_fixed_list = key_list\n",
    "            \n",
    "        for k, c_fixed in zip(key_list, c_fixed_list):\n",
    "            matches_df[c_fixed] = matches_df[c].apply(lambda x: x[k] if type(x)==dict else None)\n",
    "           \n",
    "    matches_df = matches_df.drop(c_list+['metadata','referee'], axis=1).sort_values('match_date').reset_index(drop=True)\n",
    "\n",
    "    return matches_df"
   ]
  },
  {
   "cell_type": "markdown",
   "metadata": {},
   "source": [
    "### 実行\n",
    "- competition_id = 大会id、上の表から選択\n",
    "- season_id = シーズンid、(必要であれば)"
   ]
  },
  {
   "cell_type": "code",
   "execution_count": 7,
   "metadata": {},
   "outputs": [
    {
     "data": {
      "text/html": [
       "<div>\n",
       "<style scoped>\n",
       "    .dataframe tbody tr th:only-of-type {\n",
       "        vertical-align: middle;\n",
       "    }\n",
       "\n",
       "    .dataframe tbody tr th {\n",
       "        vertical-align: top;\n",
       "    }\n",
       "\n",
       "    .dataframe thead th {\n",
       "        text-align: right;\n",
       "    }\n",
       "</style>\n",
       "<table border=\"1\" class=\"dataframe\">\n",
       "  <thead>\n",
       "    <tr style=\"text-align: right;\">\n",
       "      <th></th>\n",
       "      <th>match_id</th>\n",
       "      <th>match_date</th>\n",
       "      <th>kick_off</th>\n",
       "      <th>home_score</th>\n",
       "      <th>away_score</th>\n",
       "      <th>match_status</th>\n",
       "      <th>last_updated</th>\n",
       "      <th>match_week</th>\n",
       "      <th>competition_id</th>\n",
       "      <th>competition_name</th>\n",
       "      <th>season_id</th>\n",
       "      <th>season_name</th>\n",
       "      <th>home_team_id</th>\n",
       "      <th>home_team_name</th>\n",
       "      <th>away_team_id</th>\n",
       "      <th>away_team_name</th>\n",
       "      <th>stadium_id</th>\n",
       "      <th>stadium_name</th>\n",
       "      <th>competition_stage_id</th>\n",
       "      <th>competition_stage_name</th>\n",
       "    </tr>\n",
       "  </thead>\n",
       "  <tbody>\n",
       "    <tr>\n",
       "      <th>0</th>\n",
       "      <td>69286</td>\n",
       "      <td>2010-08-29</td>\n",
       "      <td>19:00:00.000</td>\n",
       "      <td>0</td>\n",
       "      <td>3</td>\n",
       "      <td>available</td>\n",
       "      <td>2020-07-29T05:00</td>\n",
       "      <td>1</td>\n",
       "      <td>11</td>\n",
       "      <td>La Liga</td>\n",
       "      <td>22</td>\n",
       "      <td>2010/2011</td>\n",
       "      <td>1217</td>\n",
       "      <td>Racing Santander</td>\n",
       "      <td>217</td>\n",
       "      <td>Barcelona</td>\n",
       "      <td>4636</td>\n",
       "      <td>Campos de Sport de El Sardinero</td>\n",
       "      <td>1</td>\n",
       "      <td>Regular Season</td>\n",
       "    </tr>\n",
       "    <tr>\n",
       "      <th>1</th>\n",
       "      <td>69287</td>\n",
       "      <td>2010-09-11</td>\n",
       "      <td>18:00:00.000</td>\n",
       "      <td>0</td>\n",
       "      <td>2</td>\n",
       "      <td>available</td>\n",
       "      <td>2020-07-29T05:00</td>\n",
       "      <td>2</td>\n",
       "      <td>11</td>\n",
       "      <td>La Liga</td>\n",
       "      <td>22</td>\n",
       "      <td>2010/2011</td>\n",
       "      <td>217</td>\n",
       "      <td>Barcelona</td>\n",
       "      <td>1218</td>\n",
       "      <td>Hércules</td>\n",
       "      <td>342</td>\n",
       "      <td>Camp Nou</td>\n",
       "      <td>1</td>\n",
       "      <td>Regular Season</td>\n",
       "    </tr>\n",
       "    <tr>\n",
       "      <th>2</th>\n",
       "      <td>69269</td>\n",
       "      <td>2010-09-19</td>\n",
       "      <td>19:00:00.000</td>\n",
       "      <td>1</td>\n",
       "      <td>2</td>\n",
       "      <td>available</td>\n",
       "      <td>2020-07-29T05:00</td>\n",
       "      <td>3</td>\n",
       "      <td>11</td>\n",
       "      <td>La Liga</td>\n",
       "      <td>22</td>\n",
       "      <td>2010/2011</td>\n",
       "      <td>212</td>\n",
       "      <td>Atlético Madrid</td>\n",
       "      <td>217</td>\n",
       "      <td>Barcelona</td>\n",
       "      <td>625</td>\n",
       "      <td>Estadio Vicente Calderón</td>\n",
       "      <td>1</td>\n",
       "      <td>Regular Season</td>\n",
       "    </tr>\n",
       "    <tr>\n",
       "      <th>3</th>\n",
       "      <td>69236</td>\n",
       "      <td>2010-10-03</td>\n",
       "      <td>19:00:00.000</td>\n",
       "      <td>1</td>\n",
       "      <td>1</td>\n",
       "      <td>available</td>\n",
       "      <td>2020-07-29T05:00</td>\n",
       "      <td>6</td>\n",
       "      <td>11</td>\n",
       "      <td>La Liga</td>\n",
       "      <td>22</td>\n",
       "      <td>2010/2011</td>\n",
       "      <td>217</td>\n",
       "      <td>Barcelona</td>\n",
       "      <td>1043</td>\n",
       "      <td>Mallorca</td>\n",
       "      <td>342</td>\n",
       "      <td>Camp Nou</td>\n",
       "      <td>1</td>\n",
       "      <td>Regular Season</td>\n",
       "    </tr>\n",
       "    <tr>\n",
       "      <th>4</th>\n",
       "      <td>69260</td>\n",
       "      <td>2010-10-16</td>\n",
       "      <td>20:00:00.000</td>\n",
       "      <td>2</td>\n",
       "      <td>1</td>\n",
       "      <td>available</td>\n",
       "      <td>2020-07-29T05:00</td>\n",
       "      <td>7</td>\n",
       "      <td>11</td>\n",
       "      <td>La Liga</td>\n",
       "      <td>22</td>\n",
       "      <td>2010/2011</td>\n",
       "      <td>217</td>\n",
       "      <td>Barcelona</td>\n",
       "      <td>207</td>\n",
       "      <td>Valencia</td>\n",
       "      <td>342</td>\n",
       "      <td>Camp Nou</td>\n",
       "      <td>1</td>\n",
       "      <td>Regular Season</td>\n",
       "    </tr>\n",
       "    <tr>\n",
       "      <th>5</th>\n",
       "      <td>69263</td>\n",
       "      <td>2010-10-23</td>\n",
       "      <td>18:00:00.000</td>\n",
       "      <td>0</td>\n",
       "      <td>2</td>\n",
       "      <td>available</td>\n",
       "      <td>2020-07-29T05:00</td>\n",
       "      <td>8</td>\n",
       "      <td>11</td>\n",
       "      <td>La Liga</td>\n",
       "      <td>22</td>\n",
       "      <td>2010/2011</td>\n",
       "      <td>395</td>\n",
       "      <td>Real Zaragoza</td>\n",
       "      <td>217</td>\n",
       "      <td>Barcelona</td>\n",
       "      <td>4457</td>\n",
       "      <td>Estadio de la Romareda</td>\n",
       "      <td>1</td>\n",
       "      <td>Regular Season</td>\n",
       "    </tr>\n",
       "    <tr>\n",
       "      <th>6</th>\n",
       "      <td>69289</td>\n",
       "      <td>2010-10-30</td>\n",
       "      <td>22:00:00.000</td>\n",
       "      <td>5</td>\n",
       "      <td>0</td>\n",
       "      <td>available</td>\n",
       "      <td>2020-07-29T05:00</td>\n",
       "      <td>9</td>\n",
       "      <td>11</td>\n",
       "      <td>La Liga</td>\n",
       "      <td>22</td>\n",
       "      <td>2010/2011</td>\n",
       "      <td>217</td>\n",
       "      <td>Barcelona</td>\n",
       "      <td>213</td>\n",
       "      <td>Sevilla</td>\n",
       "      <td>342</td>\n",
       "      <td>Camp Nou</td>\n",
       "      <td>1</td>\n",
       "      <td>Regular Season</td>\n",
       "    </tr>\n",
       "    <tr>\n",
       "      <th>7</th>\n",
       "      <td>69270</td>\n",
       "      <td>2010-11-07</td>\n",
       "      <td>19:00:00.000</td>\n",
       "      <td>1</td>\n",
       "      <td>3</td>\n",
       "      <td>available</td>\n",
       "      <td>2020-07-29T05:00</td>\n",
       "      <td>10</td>\n",
       "      <td>11</td>\n",
       "      <td>La Liga</td>\n",
       "      <td>22</td>\n",
       "      <td>2010/2011</td>\n",
       "      <td>216</td>\n",
       "      <td>Getafe</td>\n",
       "      <td>217</td>\n",
       "      <td>Barcelona</td>\n",
       "      <td>354</td>\n",
       "      <td>Coliseum Alfonso Pérez</td>\n",
       "      <td>1</td>\n",
       "      <td>Regular Season</td>\n",
       "    </tr>\n",
       "    <tr>\n",
       "      <th>8</th>\n",
       "      <td>69308</td>\n",
       "      <td>2010-11-13</td>\n",
       "      <td>22:00:00.000</td>\n",
       "      <td>3</td>\n",
       "      <td>1</td>\n",
       "      <td>available</td>\n",
       "      <td>2020-07-29T05:00</td>\n",
       "      <td>11</td>\n",
       "      <td>11</td>\n",
       "      <td>La Liga</td>\n",
       "      <td>22</td>\n",
       "      <td>2010/2011</td>\n",
       "      <td>217</td>\n",
       "      <td>Barcelona</td>\n",
       "      <td>222</td>\n",
       "      <td>Villarreal</td>\n",
       "      <td>342</td>\n",
       "      <td>Camp Nou</td>\n",
       "      <td>1</td>\n",
       "      <td>Regular Season</td>\n",
       "    </tr>\n",
       "    <tr>\n",
       "      <th>9</th>\n",
       "      <td>69306</td>\n",
       "      <td>2010-11-20</td>\n",
       "      <td>20:00:00.000</td>\n",
       "      <td>0</td>\n",
       "      <td>8</td>\n",
       "      <td>available</td>\n",
       "      <td>2020-07-29T05:00</td>\n",
       "      <td>12</td>\n",
       "      <td>11</td>\n",
       "      <td>La Liga</td>\n",
       "      <td>22</td>\n",
       "      <td>2010/2011</td>\n",
       "      <td>403</td>\n",
       "      <td>Almería</td>\n",
       "      <td>217</td>\n",
       "      <td>Barcelona</td>\n",
       "      <td>4657</td>\n",
       "      <td>Estadio de los Juegos Mediterráneos</td>\n",
       "      <td>1</td>\n",
       "      <td>Regular Season</td>\n",
       "    </tr>\n",
       "    <tr>\n",
       "      <th>10</th>\n",
       "      <td>69299</td>\n",
       "      <td>2010-11-29</td>\n",
       "      <td>21:00:00.000</td>\n",
       "      <td>5</td>\n",
       "      <td>0</td>\n",
       "      <td>available</td>\n",
       "      <td>2020-07-29T05:00</td>\n",
       "      <td>13</td>\n",
       "      <td>11</td>\n",
       "      <td>La Liga</td>\n",
       "      <td>22</td>\n",
       "      <td>2010/2011</td>\n",
       "      <td>217</td>\n",
       "      <td>Barcelona</td>\n",
       "      <td>220</td>\n",
       "      <td>Real Madrid</td>\n",
       "      <td>342</td>\n",
       "      <td>Camp Nou</td>\n",
       "      <td>1</td>\n",
       "      <td>Regular Season</td>\n",
       "    </tr>\n",
       "    <tr>\n",
       "      <th>11</th>\n",
       "      <td>69307</td>\n",
       "      <td>2010-12-04</td>\n",
       "      <td>20:45:00.000</td>\n",
       "      <td>0</td>\n",
       "      <td>3</td>\n",
       "      <td>available</td>\n",
       "      <td>2020-07-29T05:00</td>\n",
       "      <td>14</td>\n",
       "      <td>11</td>\n",
       "      <td>La Liga</td>\n",
       "      <td>22</td>\n",
       "      <td>2010/2011</td>\n",
       "      <td>422</td>\n",
       "      <td>Osasuna</td>\n",
       "      <td>217</td>\n",
       "      <td>Barcelona</td>\n",
       "      <td>4466</td>\n",
       "      <td>Estadio El Sadar</td>\n",
       "      <td>1</td>\n",
       "      <td>Regular Season</td>\n",
       "    </tr>\n",
       "    <tr>\n",
       "      <th>12</th>\n",
       "      <td>69302</td>\n",
       "      <td>2010-12-12</td>\n",
       "      <td>21:00:00.000</td>\n",
       "      <td>5</td>\n",
       "      <td>0</td>\n",
       "      <td>available</td>\n",
       "      <td>2020-07-29T05:00</td>\n",
       "      <td>15</td>\n",
       "      <td>11</td>\n",
       "      <td>La Liga</td>\n",
       "      <td>22</td>\n",
       "      <td>2010/2011</td>\n",
       "      <td>217</td>\n",
       "      <td>Barcelona</td>\n",
       "      <td>210</td>\n",
       "      <td>Real Sociedad</td>\n",
       "      <td>342</td>\n",
       "      <td>Camp Nou</td>\n",
       "      <td>1</td>\n",
       "      <td>Regular Season</td>\n",
       "    </tr>\n",
       "    <tr>\n",
       "      <th>13</th>\n",
       "      <td>69275</td>\n",
       "      <td>2010-12-18</td>\n",
       "      <td>20:00:00.000</td>\n",
       "      <td>1</td>\n",
       "      <td>5</td>\n",
       "      <td>available</td>\n",
       "      <td>2020-07-29T05:00</td>\n",
       "      <td>16</td>\n",
       "      <td>11</td>\n",
       "      <td>La Liga</td>\n",
       "      <td>22</td>\n",
       "      <td>2010/2011</td>\n",
       "      <td>214</td>\n",
       "      <td>Espanyol</td>\n",
       "      <td>217</td>\n",
       "      <td>Barcelona</td>\n",
       "      <td>351</td>\n",
       "      <td>RCDE Stadium</td>\n",
       "      <td>1</td>\n",
       "      <td>Regular Season</td>\n",
       "    </tr>\n",
       "    <tr>\n",
       "      <th>14</th>\n",
       "      <td>69280</td>\n",
       "      <td>2011-01-08</td>\n",
       "      <td>22:00:00.000</td>\n",
       "      <td>0</td>\n",
       "      <td>4</td>\n",
       "      <td>available</td>\n",
       "      <td>2020-07-29T05:00</td>\n",
       "      <td>18</td>\n",
       "      <td>11</td>\n",
       "      <td>La Liga</td>\n",
       "      <td>22</td>\n",
       "      <td>2010/2011</td>\n",
       "      <td>219</td>\n",
       "      <td>Deportivo La Coruna</td>\n",
       "      <td>217</td>\n",
       "      <td>Barcelona</td>\n",
       "      <td>4658</td>\n",
       "      <td>Estadio Abanca-Riazor</td>\n",
       "      <td>1</td>\n",
       "      <td>Regular Season</td>\n",
       "    </tr>\n",
       "    <tr>\n",
       "      <th>15</th>\n",
       "      <td>69278</td>\n",
       "      <td>2011-01-16</td>\n",
       "      <td>21:00:00.000</td>\n",
       "      <td>4</td>\n",
       "      <td>1</td>\n",
       "      <td>available</td>\n",
       "      <td>2020-07-29T05:00</td>\n",
       "      <td>19</td>\n",
       "      <td>11</td>\n",
       "      <td>La Liga</td>\n",
       "      <td>22</td>\n",
       "      <td>2010/2011</td>\n",
       "      <td>217</td>\n",
       "      <td>Barcelona</td>\n",
       "      <td>223</td>\n",
       "      <td>Málaga</td>\n",
       "      <td>342</td>\n",
       "      <td>Camp Nou</td>\n",
       "      <td>1</td>\n",
       "      <td>Regular Season</td>\n",
       "    </tr>\n",
       "    <tr>\n",
       "      <th>16</th>\n",
       "      <td>69295</td>\n",
       "      <td>2011-01-22</td>\n",
       "      <td>20:00:00.000</td>\n",
       "      <td>3</td>\n",
       "      <td>0</td>\n",
       "      <td>available</td>\n",
       "      <td>2020-07-29T05:00</td>\n",
       "      <td>20</td>\n",
       "      <td>11</td>\n",
       "      <td>La Liga</td>\n",
       "      <td>22</td>\n",
       "      <td>2010/2011</td>\n",
       "      <td>217</td>\n",
       "      <td>Barcelona</td>\n",
       "      <td>1217</td>\n",
       "      <td>Racing Santander</td>\n",
       "      <td>342</td>\n",
       "      <td>Camp Nou</td>\n",
       "      <td>1</td>\n",
       "      <td>Regular Season</td>\n",
       "    </tr>\n",
       "    <tr>\n",
       "      <th>17</th>\n",
       "      <td>69296</td>\n",
       "      <td>2011-01-29</td>\n",
       "      <td>20:00:00.000</td>\n",
       "      <td>0</td>\n",
       "      <td>3</td>\n",
       "      <td>available</td>\n",
       "      <td>2020-07-29T05:00</td>\n",
       "      <td>21</td>\n",
       "      <td>11</td>\n",
       "      <td>La Liga</td>\n",
       "      <td>22</td>\n",
       "      <td>2010/2011</td>\n",
       "      <td>1218</td>\n",
       "      <td>Hércules</td>\n",
       "      <td>217</td>\n",
       "      <td>Barcelona</td>\n",
       "      <td>4660</td>\n",
       "      <td>Estadio José Rico Pérez</td>\n",
       "      <td>1</td>\n",
       "      <td>Regular Season</td>\n",
       "    </tr>\n",
       "    <tr>\n",
       "      <th>18</th>\n",
       "      <td>69276</td>\n",
       "      <td>2011-02-05</td>\n",
       "      <td>22:00:00.000</td>\n",
       "      <td>3</td>\n",
       "      <td>0</td>\n",
       "      <td>available</td>\n",
       "      <td>2020-07-29T05:00</td>\n",
       "      <td>22</td>\n",
       "      <td>11</td>\n",
       "      <td>La Liga</td>\n",
       "      <td>22</td>\n",
       "      <td>2010/2011</td>\n",
       "      <td>217</td>\n",
       "      <td>Barcelona</td>\n",
       "      <td>212</td>\n",
       "      <td>Atlético Madrid</td>\n",
       "      <td>342</td>\n",
       "      <td>Camp Nou</td>\n",
       "      <td>1</td>\n",
       "      <td>Regular Season</td>\n",
       "    </tr>\n",
       "    <tr>\n",
       "      <th>19</th>\n",
       "      <td>69248</td>\n",
       "      <td>2011-02-12</td>\n",
       "      <td>20:00:00.000</td>\n",
       "      <td>1</td>\n",
       "      <td>1</td>\n",
       "      <td>available</td>\n",
       "      <td>2020-07-29T05:00</td>\n",
       "      <td>23</td>\n",
       "      <td>11</td>\n",
       "      <td>La Liga</td>\n",
       "      <td>22</td>\n",
       "      <td>2010/2011</td>\n",
       "      <td>1041</td>\n",
       "      <td>Sporting Gijón</td>\n",
       "      <td>217</td>\n",
       "      <td>Barcelona</td>\n",
       "      <td>4656</td>\n",
       "      <td>Estadio Municipal El Molinón</td>\n",
       "      <td>1</td>\n",
       "      <td>Regular Season</td>\n",
       "    </tr>\n",
       "    <tr>\n",
       "      <th>20</th>\n",
       "      <td>69282</td>\n",
       "      <td>2011-02-20</td>\n",
       "      <td>21:00:00.000</td>\n",
       "      <td>2</td>\n",
       "      <td>1</td>\n",
       "      <td>available</td>\n",
       "      <td>2020-07-29T05:00</td>\n",
       "      <td>24</td>\n",
       "      <td>11</td>\n",
       "      <td>La Liga</td>\n",
       "      <td>22</td>\n",
       "      <td>2010/2011</td>\n",
       "      <td>217</td>\n",
       "      <td>Barcelona</td>\n",
       "      <td>215</td>\n",
       "      <td>Athletic Bilbao</td>\n",
       "      <td>342</td>\n",
       "      <td>Camp Nou</td>\n",
       "      <td>1</td>\n",
       "      <td>Regular Season</td>\n",
       "    </tr>\n",
       "    <tr>\n",
       "      <th>21</th>\n",
       "      <td>69283</td>\n",
       "      <td>2011-02-26</td>\n",
       "      <td>20:00:00.000</td>\n",
       "      <td>0</td>\n",
       "      <td>3</td>\n",
       "      <td>available</td>\n",
       "      <td>2020-07-29T05:00</td>\n",
       "      <td>25</td>\n",
       "      <td>11</td>\n",
       "      <td>La Liga</td>\n",
       "      <td>22</td>\n",
       "      <td>2010/2011</td>\n",
       "      <td>1043</td>\n",
       "      <td>Mallorca</td>\n",
       "      <td>217</td>\n",
       "      <td>Barcelona</td>\n",
       "      <td>4454</td>\n",
       "      <td>Iberostar Estadi</td>\n",
       "      <td>1</td>\n",
       "      <td>Regular Season</td>\n",
       "    </tr>\n",
       "    <tr>\n",
       "      <th>22</th>\n",
       "      <td>69274</td>\n",
       "      <td>2011-03-02</td>\n",
       "      <td>22:00:00.000</td>\n",
       "      <td>0</td>\n",
       "      <td>1</td>\n",
       "      <td>available</td>\n",
       "      <td>2020-07-29T05:00</td>\n",
       "      <td>26</td>\n",
       "      <td>11</td>\n",
       "      <td>La Liga</td>\n",
       "      <td>22</td>\n",
       "      <td>2010/2011</td>\n",
       "      <td>207</td>\n",
       "      <td>Valencia</td>\n",
       "      <td>217</td>\n",
       "      <td>Barcelona</td>\n",
       "      <td>344</td>\n",
       "      <td>Estadio de Mestalla</td>\n",
       "      <td>1</td>\n",
       "      <td>Regular Season</td>\n",
       "    </tr>\n",
       "    <tr>\n",
       "      <th>23</th>\n",
       "      <td>69300</td>\n",
       "      <td>2011-03-05</td>\n",
       "      <td>20:00:00.000</td>\n",
       "      <td>1</td>\n",
       "      <td>0</td>\n",
       "      <td>available</td>\n",
       "      <td>2020-07-29T05:00</td>\n",
       "      <td>27</td>\n",
       "      <td>11</td>\n",
       "      <td>La Liga</td>\n",
       "      <td>22</td>\n",
       "      <td>2010/2011</td>\n",
       "      <td>217</td>\n",
       "      <td>Barcelona</td>\n",
       "      <td>395</td>\n",
       "      <td>Real Zaragoza</td>\n",
       "      <td>342</td>\n",
       "      <td>Camp Nou</td>\n",
       "      <td>1</td>\n",
       "      <td>Regular Season</td>\n",
       "    </tr>\n",
       "    <tr>\n",
       "      <th>24</th>\n",
       "      <td>69291</td>\n",
       "      <td>2011-03-13</td>\n",
       "      <td>21:00:00.000</td>\n",
       "      <td>1</td>\n",
       "      <td>1</td>\n",
       "      <td>available</td>\n",
       "      <td>2020-07-29T05:00</td>\n",
       "      <td>28</td>\n",
       "      <td>11</td>\n",
       "      <td>La Liga</td>\n",
       "      <td>22</td>\n",
       "      <td>2010/2011</td>\n",
       "      <td>213</td>\n",
       "      <td>Sevilla</td>\n",
       "      <td>217</td>\n",
       "      <td>Barcelona</td>\n",
       "      <td>349</td>\n",
       "      <td>Estadio Ramón Sánchez Pizjuán</td>\n",
       "      <td>1</td>\n",
       "      <td>Regular Season</td>\n",
       "    </tr>\n",
       "    <tr>\n",
       "      <th>25</th>\n",
       "      <td>69303</td>\n",
       "      <td>2011-03-19</td>\n",
       "      <td>20:00:00.000</td>\n",
       "      <td>2</td>\n",
       "      <td>1</td>\n",
       "      <td>available</td>\n",
       "      <td>2020-07-29T05:00</td>\n",
       "      <td>29</td>\n",
       "      <td>11</td>\n",
       "      <td>La Liga</td>\n",
       "      <td>22</td>\n",
       "      <td>2010/2011</td>\n",
       "      <td>217</td>\n",
       "      <td>Barcelona</td>\n",
       "      <td>216</td>\n",
       "      <td>Getafe</td>\n",
       "      <td>342</td>\n",
       "      <td>Camp Nou</td>\n",
       "      <td>1</td>\n",
       "      <td>Regular Season</td>\n",
       "    </tr>\n",
       "    <tr>\n",
       "      <th>26</th>\n",
       "      <td>69304</td>\n",
       "      <td>2011-04-02</td>\n",
       "      <td>22:00:00.000</td>\n",
       "      <td>0</td>\n",
       "      <td>1</td>\n",
       "      <td>available</td>\n",
       "      <td>2020-07-29T05:00</td>\n",
       "      <td>30</td>\n",
       "      <td>11</td>\n",
       "      <td>La Liga</td>\n",
       "      <td>22</td>\n",
       "      <td>2010/2011</td>\n",
       "      <td>222</td>\n",
       "      <td>Villarreal</td>\n",
       "      <td>217</td>\n",
       "      <td>Barcelona</td>\n",
       "      <td>361</td>\n",
       "      <td>Estadio de la Cerámica</td>\n",
       "      <td>1</td>\n",
       "      <td>Regular Season</td>\n",
       "    </tr>\n",
       "    <tr>\n",
       "      <th>27</th>\n",
       "      <td>69305</td>\n",
       "      <td>2011-04-09</td>\n",
       "      <td>20:00:00.000</td>\n",
       "      <td>3</td>\n",
       "      <td>1</td>\n",
       "      <td>available</td>\n",
       "      <td>2020-07-29T05:00</td>\n",
       "      <td>31</td>\n",
       "      <td>11</td>\n",
       "      <td>La Liga</td>\n",
       "      <td>22</td>\n",
       "      <td>2010/2011</td>\n",
       "      <td>217</td>\n",
       "      <td>Barcelona</td>\n",
       "      <td>403</td>\n",
       "      <td>Almería</td>\n",
       "      <td>342</td>\n",
       "      <td>Camp Nou</td>\n",
       "      <td>1</td>\n",
       "      <td>Regular Season</td>\n",
       "    </tr>\n",
       "    <tr>\n",
       "      <th>28</th>\n",
       "      <td>69245</td>\n",
       "      <td>2011-04-16</td>\n",
       "      <td>22:00:00.000</td>\n",
       "      <td>1</td>\n",
       "      <td>1</td>\n",
       "      <td>available</td>\n",
       "      <td>2020-07-29T05:00</td>\n",
       "      <td>32</td>\n",
       "      <td>11</td>\n",
       "      <td>La Liga</td>\n",
       "      <td>22</td>\n",
       "      <td>2010/2011</td>\n",
       "      <td>220</td>\n",
       "      <td>Real Madrid</td>\n",
       "      <td>217</td>\n",
       "      <td>Barcelona</td>\n",
       "      <td>353</td>\n",
       "      <td>Estadio Santiago Bernabéu</td>\n",
       "      <td>1</td>\n",
       "      <td>Regular Season</td>\n",
       "    </tr>\n",
       "    <tr>\n",
       "      <th>29</th>\n",
       "      <td>69271</td>\n",
       "      <td>2011-04-23</td>\n",
       "      <td>20:00:00.000</td>\n",
       "      <td>2</td>\n",
       "      <td>0</td>\n",
       "      <td>available</td>\n",
       "      <td>2020-07-29T05:00</td>\n",
       "      <td>33</td>\n",
       "      <td>11</td>\n",
       "      <td>La Liga</td>\n",
       "      <td>22</td>\n",
       "      <td>2010/2011</td>\n",
       "      <td>217</td>\n",
       "      <td>Barcelona</td>\n",
       "      <td>422</td>\n",
       "      <td>Osasuna</td>\n",
       "      <td>342</td>\n",
       "      <td>Camp Nou</td>\n",
       "      <td>1</td>\n",
       "      <td>Regular Season</td>\n",
       "    </tr>\n",
       "    <tr>\n",
       "      <th>30</th>\n",
       "      <td>69246</td>\n",
       "      <td>2011-04-30</td>\n",
       "      <td>20:00:00.000</td>\n",
       "      <td>2</td>\n",
       "      <td>1</td>\n",
       "      <td>available</td>\n",
       "      <td>2020-07-29T05:00</td>\n",
       "      <td>34</td>\n",
       "      <td>11</td>\n",
       "      <td>La Liga</td>\n",
       "      <td>22</td>\n",
       "      <td>2010/2011</td>\n",
       "      <td>210</td>\n",
       "      <td>Real Sociedad</td>\n",
       "      <td>217</td>\n",
       "      <td>Barcelona</td>\n",
       "      <td>5043</td>\n",
       "      <td>Reale Arena</td>\n",
       "      <td>1</td>\n",
       "      <td>Regular Season</td>\n",
       "    </tr>\n",
       "    <tr>\n",
       "      <th>31</th>\n",
       "      <td>69234</td>\n",
       "      <td>2011-05-08</td>\n",
       "      <td>19:00:00.000</td>\n",
       "      <td>2</td>\n",
       "      <td>0</td>\n",
       "      <td>available</td>\n",
       "      <td>2020-07-29T05:00</td>\n",
       "      <td>35</td>\n",
       "      <td>11</td>\n",
       "      <td>La Liga</td>\n",
       "      <td>22</td>\n",
       "      <td>2010/2011</td>\n",
       "      <td>217</td>\n",
       "      <td>Barcelona</td>\n",
       "      <td>214</td>\n",
       "      <td>Espanyol</td>\n",
       "      <td>342</td>\n",
       "      <td>Camp Nou</td>\n",
       "      <td>1</td>\n",
       "      <td>Regular Season</td>\n",
       "    </tr>\n",
       "    <tr>\n",
       "      <th>32</th>\n",
       "      <td>69272</td>\n",
       "      <td>2011-05-11</td>\n",
       "      <td>20:00:00.000</td>\n",
       "      <td>1</td>\n",
       "      <td>1</td>\n",
       "      <td>available</td>\n",
       "      <td>2020-07-29T05:00</td>\n",
       "      <td>36</td>\n",
       "      <td>11</td>\n",
       "      <td>La Liga</td>\n",
       "      <td>22</td>\n",
       "      <td>2010/2011</td>\n",
       "      <td>221</td>\n",
       "      <td>Levante</td>\n",
       "      <td>217</td>\n",
       "      <td>Barcelona</td>\n",
       "      <td>350</td>\n",
       "      <td>Estadio Ciudad de Valencia</td>\n",
       "      <td>1</td>\n",
       "      <td>Regular Season</td>\n",
       "    </tr>\n",
       "  </tbody>\n",
       "</table>\n",
       "</div>"
      ],
      "text/plain": [
       "    match_id  match_date      kick_off  home_score  away_score match_status  \\\n",
       "0      69286  2010-08-29  19:00:00.000           0           3    available   \n",
       "1      69287  2010-09-11  18:00:00.000           0           2    available   \n",
       "2      69269  2010-09-19  19:00:00.000           1           2    available   \n",
       "3      69236  2010-10-03  19:00:00.000           1           1    available   \n",
       "4      69260  2010-10-16  20:00:00.000           2           1    available   \n",
       "5      69263  2010-10-23  18:00:00.000           0           2    available   \n",
       "6      69289  2010-10-30  22:00:00.000           5           0    available   \n",
       "7      69270  2010-11-07  19:00:00.000           1           3    available   \n",
       "8      69308  2010-11-13  22:00:00.000           3           1    available   \n",
       "9      69306  2010-11-20  20:00:00.000           0           8    available   \n",
       "10     69299  2010-11-29  21:00:00.000           5           0    available   \n",
       "11     69307  2010-12-04  20:45:00.000           0           3    available   \n",
       "12     69302  2010-12-12  21:00:00.000           5           0    available   \n",
       "13     69275  2010-12-18  20:00:00.000           1           5    available   \n",
       "14     69280  2011-01-08  22:00:00.000           0           4    available   \n",
       "15     69278  2011-01-16  21:00:00.000           4           1    available   \n",
       "16     69295  2011-01-22  20:00:00.000           3           0    available   \n",
       "17     69296  2011-01-29  20:00:00.000           0           3    available   \n",
       "18     69276  2011-02-05  22:00:00.000           3           0    available   \n",
       "19     69248  2011-02-12  20:00:00.000           1           1    available   \n",
       "20     69282  2011-02-20  21:00:00.000           2           1    available   \n",
       "21     69283  2011-02-26  20:00:00.000           0           3    available   \n",
       "22     69274  2011-03-02  22:00:00.000           0           1    available   \n",
       "23     69300  2011-03-05  20:00:00.000           1           0    available   \n",
       "24     69291  2011-03-13  21:00:00.000           1           1    available   \n",
       "25     69303  2011-03-19  20:00:00.000           2           1    available   \n",
       "26     69304  2011-04-02  22:00:00.000           0           1    available   \n",
       "27     69305  2011-04-09  20:00:00.000           3           1    available   \n",
       "28     69245  2011-04-16  22:00:00.000           1           1    available   \n",
       "29     69271  2011-04-23  20:00:00.000           2           0    available   \n",
       "30     69246  2011-04-30  20:00:00.000           2           1    available   \n",
       "31     69234  2011-05-08  19:00:00.000           2           0    available   \n",
       "32     69272  2011-05-11  20:00:00.000           1           1    available   \n",
       "\n",
       "        last_updated  match_week  competition_id competition_name  season_id  \\\n",
       "0   2020-07-29T05:00           1              11          La Liga         22   \n",
       "1   2020-07-29T05:00           2              11          La Liga         22   \n",
       "2   2020-07-29T05:00           3              11          La Liga         22   \n",
       "3   2020-07-29T05:00           6              11          La Liga         22   \n",
       "4   2020-07-29T05:00           7              11          La Liga         22   \n",
       "5   2020-07-29T05:00           8              11          La Liga         22   \n",
       "6   2020-07-29T05:00           9              11          La Liga         22   \n",
       "7   2020-07-29T05:00          10              11          La Liga         22   \n",
       "8   2020-07-29T05:00          11              11          La Liga         22   \n",
       "9   2020-07-29T05:00          12              11          La Liga         22   \n",
       "10  2020-07-29T05:00          13              11          La Liga         22   \n",
       "11  2020-07-29T05:00          14              11          La Liga         22   \n",
       "12  2020-07-29T05:00          15              11          La Liga         22   \n",
       "13  2020-07-29T05:00          16              11          La Liga         22   \n",
       "14  2020-07-29T05:00          18              11          La Liga         22   \n",
       "15  2020-07-29T05:00          19              11          La Liga         22   \n",
       "16  2020-07-29T05:00          20              11          La Liga         22   \n",
       "17  2020-07-29T05:00          21              11          La Liga         22   \n",
       "18  2020-07-29T05:00          22              11          La Liga         22   \n",
       "19  2020-07-29T05:00          23              11          La Liga         22   \n",
       "20  2020-07-29T05:00          24              11          La Liga         22   \n",
       "21  2020-07-29T05:00          25              11          La Liga         22   \n",
       "22  2020-07-29T05:00          26              11          La Liga         22   \n",
       "23  2020-07-29T05:00          27              11          La Liga         22   \n",
       "24  2020-07-29T05:00          28              11          La Liga         22   \n",
       "25  2020-07-29T05:00          29              11          La Liga         22   \n",
       "26  2020-07-29T05:00          30              11          La Liga         22   \n",
       "27  2020-07-29T05:00          31              11          La Liga         22   \n",
       "28  2020-07-29T05:00          32              11          La Liga         22   \n",
       "29  2020-07-29T05:00          33              11          La Liga         22   \n",
       "30  2020-07-29T05:00          34              11          La Liga         22   \n",
       "31  2020-07-29T05:00          35              11          La Liga         22   \n",
       "32  2020-07-29T05:00          36              11          La Liga         22   \n",
       "\n",
       "   season_name  home_team_id       home_team_name  away_team_id  \\\n",
       "0    2010/2011          1217     Racing Santander           217   \n",
       "1    2010/2011           217            Barcelona          1218   \n",
       "2    2010/2011           212      Atlético Madrid           217   \n",
       "3    2010/2011           217            Barcelona          1043   \n",
       "4    2010/2011           217            Barcelona           207   \n",
       "5    2010/2011           395        Real Zaragoza           217   \n",
       "6    2010/2011           217            Barcelona           213   \n",
       "7    2010/2011           216               Getafe           217   \n",
       "8    2010/2011           217            Barcelona           222   \n",
       "9    2010/2011           403              Almería           217   \n",
       "10   2010/2011           217            Barcelona           220   \n",
       "11   2010/2011           422              Osasuna           217   \n",
       "12   2010/2011           217            Barcelona           210   \n",
       "13   2010/2011           214             Espanyol           217   \n",
       "14   2010/2011           219  Deportivo La Coruna           217   \n",
       "15   2010/2011           217            Barcelona           223   \n",
       "16   2010/2011           217            Barcelona          1217   \n",
       "17   2010/2011          1218             Hércules           217   \n",
       "18   2010/2011           217            Barcelona           212   \n",
       "19   2010/2011          1041       Sporting Gijón           217   \n",
       "20   2010/2011           217            Barcelona           215   \n",
       "21   2010/2011          1043             Mallorca           217   \n",
       "22   2010/2011           207             Valencia           217   \n",
       "23   2010/2011           217            Barcelona           395   \n",
       "24   2010/2011           213              Sevilla           217   \n",
       "25   2010/2011           217            Barcelona           216   \n",
       "26   2010/2011           222           Villarreal           217   \n",
       "27   2010/2011           217            Barcelona           403   \n",
       "28   2010/2011           220          Real Madrid           217   \n",
       "29   2010/2011           217            Barcelona           422   \n",
       "30   2010/2011           210        Real Sociedad           217   \n",
       "31   2010/2011           217            Barcelona           214   \n",
       "32   2010/2011           221              Levante           217   \n",
       "\n",
       "      away_team_name  stadium_id                         stadium_name  \\\n",
       "0          Barcelona        4636      Campos de Sport de El Sardinero   \n",
       "1           Hércules         342                             Camp Nou   \n",
       "2          Barcelona         625             Estadio Vicente Calderón   \n",
       "3           Mallorca         342                             Camp Nou   \n",
       "4           Valencia         342                             Camp Nou   \n",
       "5          Barcelona        4457               Estadio de la Romareda   \n",
       "6            Sevilla         342                             Camp Nou   \n",
       "7          Barcelona         354               Coliseum Alfonso Pérez   \n",
       "8         Villarreal         342                             Camp Nou   \n",
       "9          Barcelona        4657  Estadio de los Juegos Mediterráneos   \n",
       "10       Real Madrid         342                             Camp Nou   \n",
       "11         Barcelona        4466                     Estadio El Sadar   \n",
       "12     Real Sociedad         342                             Camp Nou   \n",
       "13         Barcelona         351                         RCDE Stadium   \n",
       "14         Barcelona        4658                Estadio Abanca-Riazor   \n",
       "15            Málaga         342                             Camp Nou   \n",
       "16  Racing Santander         342                             Camp Nou   \n",
       "17         Barcelona        4660              Estadio José Rico Pérez   \n",
       "18   Atlético Madrid         342                             Camp Nou   \n",
       "19         Barcelona        4656         Estadio Municipal El Molinón   \n",
       "20   Athletic Bilbao         342                             Camp Nou   \n",
       "21         Barcelona        4454                     Iberostar Estadi   \n",
       "22         Barcelona         344                  Estadio de Mestalla   \n",
       "23     Real Zaragoza         342                             Camp Nou   \n",
       "24         Barcelona         349        Estadio Ramón Sánchez Pizjuán   \n",
       "25            Getafe         342                             Camp Nou   \n",
       "26         Barcelona         361               Estadio de la Cerámica   \n",
       "27           Almería         342                             Camp Nou   \n",
       "28         Barcelona         353            Estadio Santiago Bernabéu   \n",
       "29           Osasuna         342                             Camp Nou   \n",
       "30         Barcelona        5043                          Reale Arena   \n",
       "31          Espanyol         342                             Camp Nou   \n",
       "32         Barcelona         350           Estadio Ciudad de Valencia   \n",
       "\n",
       "    competition_stage_id competition_stage_name  \n",
       "0                      1         Regular Season  \n",
       "1                      1         Regular Season  \n",
       "2                      1         Regular Season  \n",
       "3                      1         Regular Season  \n",
       "4                      1         Regular Season  \n",
       "5                      1         Regular Season  \n",
       "6                      1         Regular Season  \n",
       "7                      1         Regular Season  \n",
       "8                      1         Regular Season  \n",
       "9                      1         Regular Season  \n",
       "10                     1         Regular Season  \n",
       "11                     1         Regular Season  \n",
       "12                     1         Regular Season  \n",
       "13                     1         Regular Season  \n",
       "14                     1         Regular Season  \n",
       "15                     1         Regular Season  \n",
       "16                     1         Regular Season  \n",
       "17                     1         Regular Season  \n",
       "18                     1         Regular Season  \n",
       "19                     1         Regular Season  \n",
       "20                     1         Regular Season  \n",
       "21                     1         Regular Season  \n",
       "22                     1         Regular Season  \n",
       "23                     1         Regular Season  \n",
       "24                     1         Regular Season  \n",
       "25                     1         Regular Season  \n",
       "26                     1         Regular Season  \n",
       "27                     1         Regular Season  \n",
       "28                     1         Regular Season  \n",
       "29                     1         Regular Season  \n",
       "30                     1         Regular Season  \n",
       "31                     1         Regular Season  \n",
       "32                     1         Regular Season  "
      ]
     },
     "execution_count": 7,
     "metadata": {},
     "output_type": "execute_result"
    }
   ],
   "source": [
    "competition_id = 11\n",
    "season_id = 22\n",
    "\n",
    "get_matches_df(competition_id=competition_id, season_id=season_id, comps_df=comps_df)"
   ]
  },
  {
   "cell_type": "markdown",
   "metadata": {},
   "source": [
    "## dataset\n",
    "- match_id = 試合id（上記から見たい試合を選択）"
   ]
  },
  {
   "cell_type": "code",
   "execution_count": 8,
   "metadata": {},
   "outputs": [
    {
     "name": "stderr",
     "output_type": "stream",
     "text": [
      "/Users/yamamuros83/.pyenv/versions/anaconda3-5.3.1/envs/spoana/lib/python3.8/site-packages/kloppy/infra/datasets/event/statsbomb.py:11: UserWarning: \n",
      "\n",
      "You are about to use StatsBomb public data.\n",
      "By using this data, you are agreeing to the user agreement. \n",
      "The user agreement can be found here: https://github.com/statsbomb/open-data/blob/master/LICENSE.pdf\n",
      "\n",
      "  warnings.warn(\n"
     ]
    }
   ],
   "source": [
    "match_id = 69299\n",
    "\n",
    "dataset = datasets.load(dataset_name='statsbomb', match_id=match_id)"
   ]
  },
  {
   "cell_type": "markdown",
   "metadata": {},
   "source": [
    "## lineups"
   ]
  },
  {
   "cell_type": "code",
   "execution_count": 9,
   "metadata": {},
   "outputs": [],
   "source": [
    "metadata = dataset.metadata\n",
    "home_team, away_team = metadata.teams"
   ]
  },
  {
   "cell_type": "markdown",
   "metadata": {},
   "source": [
    "対戦チームの表示"
   ]
  },
  {
   "cell_type": "code",
   "execution_count": 10,
   "metadata": {},
   "outputs": [
    {
     "name": "stdout",
     "output_type": "stream",
     "text": [
      "home - Real Madrid\n",
      "away - Barcelona\n"
     ]
    }
   ],
   "source": [
    "print(f\"{home_team.ground} - {home_team}\")\n",
    "print(f\"{away_team.ground} - {away_team}\")"
   ]
  },
  {
   "cell_type": "markdown",
   "metadata": {},
   "source": [
    "出場メンバー"
   ]
  },
  {
   "cell_type": "code",
   "execution_count": 11,
   "metadata": {},
   "outputs": [
    {
     "data": {
      "text/html": [
       "<div>\n",
       "<style scoped>\n",
       "    .dataframe tbody tr th:only-of-type {\n",
       "        vertical-align: middle;\n",
       "    }\n",
       "\n",
       "    .dataframe tbody tr th {\n",
       "        vertical-align: top;\n",
       "    }\n",
       "\n",
       "    .dataframe thead th {\n",
       "        text-align: right;\n",
       "    }\n",
       "</style>\n",
       "<table border=\"1\" class=\"dataframe\">\n",
       "  <thead>\n",
       "    <tr style=\"text-align: right;\">\n",
       "      <th></th>\n",
       "      <th>player_id</th>\n",
       "      <th>player_name</th>\n",
       "      <th>jersey_no</th>\n",
       "      <th>starting_flg</th>\n",
       "      <th>team_id</th>\n",
       "      <th>team_name</th>\n",
       "    </tr>\n",
       "  </thead>\n",
       "  <tbody>\n",
       "    <tr>\n",
       "      <th>0</th>\n",
       "      <td>2995</td>\n",
       "      <td>Ángel Fabián Di María Hernández</td>\n",
       "      <td>22</td>\n",
       "      <td>True</td>\n",
       "      <td>220</td>\n",
       "      <td>Real Madrid</td>\n",
       "    </tr>\n",
       "    <tr>\n",
       "      <th>1</th>\n",
       "      <td>3181</td>\n",
       "      <td>Lassana Diarra</td>\n",
       "      <td>10</td>\n",
       "      <td>False</td>\n",
       "      <td>220</td>\n",
       "      <td>Real Madrid</td>\n",
       "    </tr>\n",
       "    <tr>\n",
       "      <th>2</th>\n",
       "      <td>3496</td>\n",
       "      <td>Mesut Özil</td>\n",
       "      <td>23</td>\n",
       "      <td>True</td>\n",
       "      <td>220</td>\n",
       "      <td>Real Madrid</td>\n",
       "    </tr>\n",
       "    <tr>\n",
       "      <th>3</th>\n",
       "      <td>5201</td>\n",
       "      <td>Sergio Ramos García</td>\n",
       "      <td>4</td>\n",
       "      <td>True</td>\n",
       "      <td>220</td>\n",
       "      <td>Real Madrid</td>\n",
       "    </tr>\n",
       "    <tr>\n",
       "      <th>4</th>\n",
       "      <td>5207</td>\n",
       "      <td>Cristiano Ronaldo dos Santos Aveiro</td>\n",
       "      <td>7</td>\n",
       "      <td>True</td>\n",
       "      <td>220</td>\n",
       "      <td>Real Madrid</td>\n",
       "    </tr>\n",
       "    <tr>\n",
       "      <th>5</th>\n",
       "      <td>5552</td>\n",
       "      <td>Marcelo Vieira da Silva Júnior</td>\n",
       "      <td>12</td>\n",
       "      <td>True</td>\n",
       "      <td>220</td>\n",
       "      <td>Real Madrid</td>\n",
       "    </tr>\n",
       "    <tr>\n",
       "      <th>6</th>\n",
       "      <td>5566</td>\n",
       "      <td>Sami Khedira</td>\n",
       "      <td>24</td>\n",
       "      <td>True</td>\n",
       "      <td>220</td>\n",
       "      <td>Real Madrid</td>\n",
       "    </tr>\n",
       "    <tr>\n",
       "      <th>7</th>\n",
       "      <td>10805</td>\n",
       "      <td>Ricardo Alberto Silveira de Carvalho</td>\n",
       "      <td>2</td>\n",
       "      <td>True</td>\n",
       "      <td>220</td>\n",
       "      <td>Real Madrid</td>\n",
       "    </tr>\n",
       "    <tr>\n",
       "      <th>8</th>\n",
       "      <td>11179</td>\n",
       "      <td>Iker Casillas Fernández</td>\n",
       "      <td>1</td>\n",
       "      <td>True</td>\n",
       "      <td>220</td>\n",
       "      <td>Real Madrid</td>\n",
       "    </tr>\n",
       "    <tr>\n",
       "      <th>9</th>\n",
       "      <td>19677</td>\n",
       "      <td>Karim Benzema</td>\n",
       "      <td>9</td>\n",
       "      <td>True</td>\n",
       "      <td>220</td>\n",
       "      <td>Real Madrid</td>\n",
       "    </tr>\n",
       "    <tr>\n",
       "      <th>10</th>\n",
       "      <td>20016</td>\n",
       "      <td>Kléper Laveran Lima Ferreira</td>\n",
       "      <td>3</td>\n",
       "      <td>True</td>\n",
       "      <td>220</td>\n",
       "      <td>Real Madrid</td>\n",
       "    </tr>\n",
       "    <tr>\n",
       "      <th>11</th>\n",
       "      <td>20133</td>\n",
       "      <td>Xabier Alonso Olano</td>\n",
       "      <td>14</td>\n",
       "      <td>True</td>\n",
       "      <td>220</td>\n",
       "      <td>Real Madrid</td>\n",
       "    </tr>\n",
       "    <tr>\n",
       "      <th>12</th>\n",
       "      <td>20215</td>\n",
       "      <td>Álvaro Arbeloa Coca</td>\n",
       "      <td>2</td>\n",
       "      <td>False</td>\n",
       "      <td>220</td>\n",
       "      <td>Real Madrid</td>\n",
       "    </tr>\n",
       "    <tr>\n",
       "      <th>13</th>\n",
       "      <td>3958</td>\n",
       "      <td>Pedro Eliezer Rodríguez Ledesma</td>\n",
       "      <td>17</td>\n",
       "      <td>True</td>\n",
       "      <td>217</td>\n",
       "      <td>Barcelona</td>\n",
       "    </tr>\n",
       "    <tr>\n",
       "      <th>14</th>\n",
       "      <td>4324</td>\n",
       "      <td>Daniel Alves da Silva</td>\n",
       "      <td>2</td>\n",
       "      <td>True</td>\n",
       "      <td>217</td>\n",
       "      <td>Barcelona</td>\n",
       "    </tr>\n",
       "    <tr>\n",
       "      <th>15</th>\n",
       "      <td>4913</td>\n",
       "      <td>Bojan Krkíc Pérez</td>\n",
       "      <td>9</td>\n",
       "      <td>False</td>\n",
       "      <td>217</td>\n",
       "      <td>Barcelona</td>\n",
       "    </tr>\n",
       "    <tr>\n",
       "      <th>16</th>\n",
       "      <td>5203</td>\n",
       "      <td>Sergio Busquets i Burgos</td>\n",
       "      <td>16</td>\n",
       "      <td>True</td>\n",
       "      <td>217</td>\n",
       "      <td>Barcelona</td>\n",
       "    </tr>\n",
       "    <tr>\n",
       "      <th>17</th>\n",
       "      <td>5213</td>\n",
       "      <td>Gerard Piqué Bernabéu</td>\n",
       "      <td>3</td>\n",
       "      <td>True</td>\n",
       "      <td>217</td>\n",
       "      <td>Barcelona</td>\n",
       "    </tr>\n",
       "    <tr>\n",
       "      <th>18</th>\n",
       "      <td>5216</td>\n",
       "      <td>Andrés Iniesta Luján</td>\n",
       "      <td>8</td>\n",
       "      <td>True</td>\n",
       "      <td>217</td>\n",
       "      <td>Barcelona</td>\n",
       "    </tr>\n",
       "    <tr>\n",
       "      <th>19</th>\n",
       "      <td>5503</td>\n",
       "      <td>Lionel Andrés Messi Cuccittini</td>\n",
       "      <td>10</td>\n",
       "      <td>True</td>\n",
       "      <td>217</td>\n",
       "      <td>Barcelona</td>\n",
       "    </tr>\n",
       "    <tr>\n",
       "      <th>20</th>\n",
       "      <td>12737</td>\n",
       "      <td>David Villa Sánchez</td>\n",
       "      <td>7</td>\n",
       "      <td>True</td>\n",
       "      <td>217</td>\n",
       "      <td>Barcelona</td>\n",
       "    </tr>\n",
       "    <tr>\n",
       "      <th>21</th>\n",
       "      <td>20125</td>\n",
       "      <td>Carles Puyol i Saforcada</td>\n",
       "      <td>5</td>\n",
       "      <td>True</td>\n",
       "      <td>217</td>\n",
       "      <td>Barcelona</td>\n",
       "    </tr>\n",
       "    <tr>\n",
       "      <th>22</th>\n",
       "      <td>20131</td>\n",
       "      <td>Xavier Hernández Creus</td>\n",
       "      <td>6</td>\n",
       "      <td>True</td>\n",
       "      <td>217</td>\n",
       "      <td>Barcelona</td>\n",
       "    </tr>\n",
       "    <tr>\n",
       "      <th>23</th>\n",
       "      <td>20169</td>\n",
       "      <td>Seydou Kéita</td>\n",
       "      <td>15</td>\n",
       "      <td>False</td>\n",
       "      <td>217</td>\n",
       "      <td>Barcelona</td>\n",
       "    </tr>\n",
       "    <tr>\n",
       "      <th>24</th>\n",
       "      <td>20176</td>\n",
       "      <td>Víctor Valdés Arribas</td>\n",
       "      <td>1</td>\n",
       "      <td>True</td>\n",
       "      <td>217</td>\n",
       "      <td>Barcelona</td>\n",
       "    </tr>\n",
       "    <tr>\n",
       "      <th>25</th>\n",
       "      <td>20177</td>\n",
       "      <td>Eric-Sylvain Bilal Abidal</td>\n",
       "      <td>22</td>\n",
       "      <td>True</td>\n",
       "      <td>217</td>\n",
       "      <td>Barcelona</td>\n",
       "    </tr>\n",
       "    <tr>\n",
       "      <th>26</th>\n",
       "      <td>26624</td>\n",
       "      <td>Jeffren Isaac Suárez Bermúdez</td>\n",
       "      <td>11</td>\n",
       "      <td>False</td>\n",
       "      <td>217</td>\n",
       "      <td>Barcelona</td>\n",
       "    </tr>\n",
       "  </tbody>\n",
       "</table>\n",
       "</div>"
      ],
      "text/plain": [
       "   player_id                           player_name  jersey_no  starting_flg  \\\n",
       "0       2995       Ángel Fabián Di María Hernández         22          True   \n",
       "1       3181                        Lassana Diarra         10         False   \n",
       "2       3496                            Mesut Özil         23          True   \n",
       "3       5201                   Sergio Ramos García          4          True   \n",
       "4       5207   Cristiano Ronaldo dos Santos Aveiro          7          True   \n",
       "5       5552        Marcelo Vieira da Silva Júnior         12          True   \n",
       "6       5566                          Sami Khedira         24          True   \n",
       "7      10805  Ricardo Alberto Silveira de Carvalho          2          True   \n",
       "8      11179               Iker Casillas Fernández          1          True   \n",
       "9      19677                         Karim Benzema          9          True   \n",
       "10     20016          Kléper Laveran Lima Ferreira          3          True   \n",
       "11     20133                   Xabier Alonso Olano         14          True   \n",
       "12     20215                   Álvaro Arbeloa Coca          2         False   \n",
       "13      3958       Pedro Eliezer Rodríguez Ledesma         17          True   \n",
       "14      4324                 Daniel Alves da Silva          2          True   \n",
       "15      4913                     Bojan Krkíc Pérez          9         False   \n",
       "16      5203              Sergio Busquets i Burgos         16          True   \n",
       "17      5213                 Gerard Piqué Bernabéu          3          True   \n",
       "18      5216                  Andrés Iniesta Luján          8          True   \n",
       "19      5503        Lionel Andrés Messi Cuccittini         10          True   \n",
       "20     12737                   David Villa Sánchez          7          True   \n",
       "21     20125              Carles Puyol i Saforcada          5          True   \n",
       "22     20131                Xavier Hernández Creus          6          True   \n",
       "23     20169                          Seydou Kéita         15         False   \n",
       "24     20176                 Víctor Valdés Arribas          1          True   \n",
       "25     20177             Eric-Sylvain Bilal Abidal         22          True   \n",
       "26     26624         Jeffren Isaac Suárez Bermúdez         11         False   \n",
       "\n",
       "   team_id    team_name  \n",
       "0      220  Real Madrid  \n",
       "1      220  Real Madrid  \n",
       "2      220  Real Madrid  \n",
       "3      220  Real Madrid  \n",
       "4      220  Real Madrid  \n",
       "5      220  Real Madrid  \n",
       "6      220  Real Madrid  \n",
       "7      220  Real Madrid  \n",
       "8      220  Real Madrid  \n",
       "9      220  Real Madrid  \n",
       "10     220  Real Madrid  \n",
       "11     220  Real Madrid  \n",
       "12     220  Real Madrid  \n",
       "13     217    Barcelona  \n",
       "14     217    Barcelona  \n",
       "15     217    Barcelona  \n",
       "16     217    Barcelona  \n",
       "17     217    Barcelona  \n",
       "18     217    Barcelona  \n",
       "19     217    Barcelona  \n",
       "20     217    Barcelona  \n",
       "21     217    Barcelona  \n",
       "22     217    Barcelona  \n",
       "23     217    Barcelona  \n",
       "24     217    Barcelona  \n",
       "25     217    Barcelona  \n",
       "26     217    Barcelona  "
      ]
     },
     "execution_count": 11,
     "metadata": {},
     "output_type": "execute_result"
    }
   ],
   "source": [
    "lineups_df = pd.concat(\n",
    "    [\n",
    "        pd.DataFrame(data=[\n",
    "            {'player_id':player.player_id, 'player_name':player.name, 'jersey_no':player.jersey_no, 'starting_flg':player.starting, 'team_id':team.team_id, 'team_name':team.name} \n",
    "            for player in team.players]\n",
    "        ) \n",
    "        for team in metadata.teams\n",
    "    ], ignore_index=True\n",
    ")\n",
    "\n",
    "lineups_df"
   ]
  },
  {
   "cell_type": "markdown",
   "metadata": {},
   "source": [
    "## events"
   ]
  },
  {
   "cell_type": "code",
   "execution_count": 12,
   "metadata": {},
   "outputs": [
    {
     "data": {
      "text/html": [
       "<div>\n",
       "<style scoped>\n",
       "    .dataframe tbody tr th:only-of-type {\n",
       "        vertical-align: middle;\n",
       "    }\n",
       "\n",
       "    .dataframe tbody tr th {\n",
       "        vertical-align: top;\n",
       "    }\n",
       "\n",
       "    .dataframe thead th {\n",
       "        text-align: right;\n",
       "    }\n",
       "</style>\n",
       "<table border=\"1\" class=\"dataframe\">\n",
       "  <thead>\n",
       "    <tr style=\"text-align: right;\">\n",
       "      <th></th>\n",
       "      <th>event_id</th>\n",
       "      <th>event_type</th>\n",
       "      <th>result</th>\n",
       "      <th>success</th>\n",
       "      <th>period_id</th>\n",
       "      <th>timestamp</th>\n",
       "      <th>end_timestamp</th>\n",
       "      <th>ball_state</th>\n",
       "      <th>ball_owning_team</th>\n",
       "      <th>team_id</th>\n",
       "      <th>player_id</th>\n",
       "      <th>coordinates_x</th>\n",
       "      <th>coordinates_y</th>\n",
       "      <th>end_coordinates_x</th>\n",
       "      <th>end_coordinates_y</th>\n",
       "      <th>receiver_player_id</th>\n",
       "      <th>player_name</th>\n",
       "      <th>jersey_no</th>\n",
       "      <th>starting_flg</th>\n",
       "      <th>team_name</th>\n",
       "    </tr>\n",
       "  </thead>\n",
       "  <tbody>\n",
       "    <tr>\n",
       "      <th>0</th>\n",
       "      <td>ac926dec-ffa1-44ea-a734-dfc0a565a6df</td>\n",
       "      <td>GENERIC:Starting XI</td>\n",
       "      <td>None</td>\n",
       "      <td>None</td>\n",
       "      <td>1</td>\n",
       "      <td>0.000</td>\n",
       "      <td>NaN</td>\n",
       "      <td>alive</td>\n",
       "      <td>217</td>\n",
       "      <td>217</td>\n",
       "      <td>None</td>\n",
       "      <td>NaN</td>\n",
       "      <td>NaN</td>\n",
       "      <td>NaN</td>\n",
       "      <td>NaN</td>\n",
       "      <td>NaN</td>\n",
       "      <td>NaN</td>\n",
       "      <td>NaN</td>\n",
       "      <td>NaN</td>\n",
       "      <td>NaN</td>\n",
       "    </tr>\n",
       "    <tr>\n",
       "      <th>1</th>\n",
       "      <td>c9bda184-571e-4482-bf23-990874e40b0d</td>\n",
       "      <td>GENERIC:Starting XI</td>\n",
       "      <td>None</td>\n",
       "      <td>None</td>\n",
       "      <td>1</td>\n",
       "      <td>0.000</td>\n",
       "      <td>NaN</td>\n",
       "      <td>alive</td>\n",
       "      <td>217</td>\n",
       "      <td>220</td>\n",
       "      <td>None</td>\n",
       "      <td>NaN</td>\n",
       "      <td>NaN</td>\n",
       "      <td>NaN</td>\n",
       "      <td>NaN</td>\n",
       "      <td>NaN</td>\n",
       "      <td>NaN</td>\n",
       "      <td>NaN</td>\n",
       "      <td>NaN</td>\n",
       "      <td>NaN</td>\n",
       "    </tr>\n",
       "    <tr>\n",
       "      <th>2</th>\n",
       "      <td>b3dae79e-facf-499b-a1cb-2b6c5c59c81c</td>\n",
       "      <td>GENERIC:Half Start</td>\n",
       "      <td>None</td>\n",
       "      <td>None</td>\n",
       "      <td>1</td>\n",
       "      <td>0.000</td>\n",
       "      <td>NaN</td>\n",
       "      <td>alive</td>\n",
       "      <td>217</td>\n",
       "      <td>217</td>\n",
       "      <td>None</td>\n",
       "      <td>NaN</td>\n",
       "      <td>NaN</td>\n",
       "      <td>NaN</td>\n",
       "      <td>NaN</td>\n",
       "      <td>NaN</td>\n",
       "      <td>NaN</td>\n",
       "      <td>NaN</td>\n",
       "      <td>NaN</td>\n",
       "      <td>NaN</td>\n",
       "    </tr>\n",
       "    <tr>\n",
       "      <th>3</th>\n",
       "      <td>7493688e-145f-4458-bd76-549bc7f21bec</td>\n",
       "      <td>GENERIC:Half Start</td>\n",
       "      <td>None</td>\n",
       "      <td>None</td>\n",
       "      <td>1</td>\n",
       "      <td>0.000</td>\n",
       "      <td>NaN</td>\n",
       "      <td>alive</td>\n",
       "      <td>217</td>\n",
       "      <td>220</td>\n",
       "      <td>None</td>\n",
       "      <td>NaN</td>\n",
       "      <td>NaN</td>\n",
       "      <td>NaN</td>\n",
       "      <td>NaN</td>\n",
       "      <td>NaN</td>\n",
       "      <td>NaN</td>\n",
       "      <td>NaN</td>\n",
       "      <td>NaN</td>\n",
       "      <td>NaN</td>\n",
       "    </tr>\n",
       "    <tr>\n",
       "      <th>4</th>\n",
       "      <td>78b837e8-5477-46cf-a401-d4cae5895637</td>\n",
       "      <td>PASS</td>\n",
       "      <td>COMPLETE</td>\n",
       "      <td>True</td>\n",
       "      <td>1</td>\n",
       "      <td>0.724</td>\n",
       "      <td>1.4029</td>\n",
       "      <td>alive</td>\n",
       "      <td>220</td>\n",
       "      <td>220</td>\n",
       "      <td>19677</td>\n",
       "      <td>60.95</td>\n",
       "      <td>40.95</td>\n",
       "      <td>61.35</td>\n",
       "      <td>42.95</td>\n",
       "      <td>3496</td>\n",
       "      <td>Karim Benzema</td>\n",
       "      <td>9.0</td>\n",
       "      <td>True</td>\n",
       "      <td>Real Madrid</td>\n",
       "    </tr>\n",
       "  </tbody>\n",
       "</table>\n",
       "</div>"
      ],
      "text/plain": [
       "                               event_id           event_type    result  \\\n",
       "0  ac926dec-ffa1-44ea-a734-dfc0a565a6df  GENERIC:Starting XI      None   \n",
       "1  c9bda184-571e-4482-bf23-990874e40b0d  GENERIC:Starting XI      None   \n",
       "2  b3dae79e-facf-499b-a1cb-2b6c5c59c81c   GENERIC:Half Start      None   \n",
       "3  7493688e-145f-4458-bd76-549bc7f21bec   GENERIC:Half Start      None   \n",
       "4  78b837e8-5477-46cf-a401-d4cae5895637                 PASS  COMPLETE   \n",
       "\n",
       "  success  period_id  timestamp  end_timestamp ball_state ball_owning_team  \\\n",
       "0    None          1      0.000            NaN      alive              217   \n",
       "1    None          1      0.000            NaN      alive              217   \n",
       "2    None          1      0.000            NaN      alive              217   \n",
       "3    None          1      0.000            NaN      alive              217   \n",
       "4    True          1      0.724         1.4029      alive              220   \n",
       "\n",
       "  team_id player_id  coordinates_x  coordinates_y  end_coordinates_x  \\\n",
       "0     217      None            NaN            NaN                NaN   \n",
       "1     220      None            NaN            NaN                NaN   \n",
       "2     217      None            NaN            NaN                NaN   \n",
       "3     220      None            NaN            NaN                NaN   \n",
       "4     220     19677          60.95          40.95              61.35   \n",
       "\n",
       "   end_coordinates_y receiver_player_id    player_name  jersey_no  \\\n",
       "0                NaN                NaN            NaN        NaN   \n",
       "1                NaN                NaN            NaN        NaN   \n",
       "2                NaN                NaN            NaN        NaN   \n",
       "3                NaN                NaN            NaN        NaN   \n",
       "4              42.95               3496  Karim Benzema        9.0   \n",
       "\n",
       "  starting_flg    team_name  \n",
       "0          NaN          NaN  \n",
       "1          NaN          NaN  \n",
       "2          NaN          NaN  \n",
       "3          NaN          NaN  \n",
       "4         True  Real Madrid  "
      ]
     },
     "execution_count": 12,
     "metadata": {},
     "output_type": "execute_result"
    }
   ],
   "source": [
    "from kloppy import to_pandas\n",
    "\n",
    "df = pd.merge(to_pandas(dataset), lineups_df, on=['player_id', 'team_id'], how='left')\n",
    "\n",
    "df.head()"
   ]
  },
  {
   "cell_type": "markdown",
   "metadata": {},
   "source": [
    "# 可視化（基礎集計）"
   ]
  },
  {
   "cell_type": "code",
   "execution_count": 24,
   "metadata": {},
   "outputs": [
    {
     "data": {
      "application/vnd.plotly.v1+json": {
       "config": {
        "linkText": "Export to plot.ly",
        "plotlyServerURL": "https://plot.ly",
        "showLink": false
       },
       "data": [
        {
         "alignmentgroup": "True",
         "hovertemplate": "event_type=CARD<br>size=%{x}<br>player_name=%{y}<extra></extra>",
         "legendgroup": "CARD",
         "marker": {
          "color": "#1F77B4"
         },
         "name": "CARD",
         "offsetgroup": "CARD",
         "orientation": "h",
         "showlegend": true,
         "textposition": "auto",
         "type": "bar",
         "x": [
          1,
          1,
          1,
          1,
          1,
          2,
          1
         ],
         "xaxis": "x",
         "y": [
          "Cristiano Ronaldo dos Santos Aveiro",
          "Iker Casillas Fernández",
          "Kléper Laveran Lima Ferreira",
          "Ricardo Alberto Silveira de Carvalho",
          "Sami Khedira",
          "Sergio Ramos García",
          "Xabier Alonso Olano"
         ],
         "yaxis": "y"
        },
        {
         "alignmentgroup": "True",
         "hovertemplate": "event_type=CARRY<br>size=%{x}<br>player_name=%{y}<extra></extra>",
         "legendgroup": "CARRY",
         "marker": {
          "color": "#FF7F0E"
         },
         "name": "CARRY",
         "offsetgroup": "CARRY",
         "orientation": "h",
         "showlegend": true,
         "textposition": "auto",
         "type": "bar",
         "x": [
          37,
          11,
          23,
          22,
          14,
          23,
          14,
          16,
          20,
          23,
          29,
          10,
          26
         ],
         "xaxis": "x",
         "y": [
          "Cristiano Ronaldo dos Santos Aveiro",
          "Iker Casillas Fernández",
          "Karim Benzema",
          "Kléper Laveran Lima Ferreira",
          "Lassana Diarra",
          "Marcelo Vieira da Silva Júnior",
          "Mesut Özil",
          "Ricardo Alberto Silveira de Carvalho",
          "Sami Khedira",
          "Sergio Ramos García",
          "Xabier Alonso Olano",
          "Álvaro Arbeloa Coca",
          "Ángel Fabián Di María Hernández"
         ],
         "yaxis": "y"
        },
        {
         "alignmentgroup": "True",
         "hovertemplate": "event_type=GENERIC:Ball Receipt*<br>size=%{x}<br>player_name=%{y}<extra></extra>",
         "legendgroup": "GENERIC:Ball Receipt*",
         "marker": {
          "color": "#2CA02C"
         },
         "name": "GENERIC:Ball Receipt*",
         "offsetgroup": "GENERIC:Ball Receipt*",
         "orientation": "h",
         "showlegend": true,
         "textposition": "auto",
         "type": "bar",
         "x": [
          52,
          13,
          42,
          23,
          16,
          20,
          22,
          21,
          24,
          22,
          42,
          10,
          46
         ],
         "xaxis": "x",
         "y": [
          "Cristiano Ronaldo dos Santos Aveiro",
          "Iker Casillas Fernández",
          "Karim Benzema",
          "Kléper Laveran Lima Ferreira",
          "Lassana Diarra",
          "Marcelo Vieira da Silva Júnior",
          "Mesut Özil",
          "Ricardo Alberto Silveira de Carvalho",
          "Sami Khedira",
          "Sergio Ramos García",
          "Xabier Alonso Olano",
          "Álvaro Arbeloa Coca",
          "Ángel Fabián Di María Hernández"
         ],
         "yaxis": "y"
        },
        {
         "alignmentgroup": "True",
         "hovertemplate": "event_type=GENERIC:Ball Recovery<br>size=%{x}<br>player_name=%{y}<extra></extra>",
         "legendgroup": "GENERIC:Ball Recovery",
         "marker": {
          "color": "#D62728"
         },
         "name": "GENERIC:Ball Recovery",
         "offsetgroup": "GENERIC:Ball Recovery",
         "orientation": "h",
         "showlegend": true,
         "textposition": "auto",
         "type": "bar",
         "x": [
          4,
          6,
          3,
          5,
          5,
          6,
          3,
          3,
          3,
          10,
          6,
          1,
          3
         ],
         "xaxis": "x",
         "y": [
          "Cristiano Ronaldo dos Santos Aveiro",
          "Iker Casillas Fernández",
          "Karim Benzema",
          "Kléper Laveran Lima Ferreira",
          "Lassana Diarra",
          "Marcelo Vieira da Silva Júnior",
          "Mesut Özil",
          "Ricardo Alberto Silveira de Carvalho",
          "Sami Khedira",
          "Sergio Ramos García",
          "Xabier Alonso Olano",
          "Álvaro Arbeloa Coca",
          "Ángel Fabián Di María Hernández"
         ],
         "yaxis": "y"
        },
        {
         "alignmentgroup": "True",
         "hovertemplate": "event_type=GENERIC:Block<br>size=%{x}<br>player_name=%{y}<extra></extra>",
         "legendgroup": "GENERIC:Block",
         "marker": {
          "color": "#9467BD"
         },
         "name": "GENERIC:Block",
         "offsetgroup": "GENERIC:Block",
         "orientation": "h",
         "showlegend": true,
         "textposition": "auto",
         "type": "bar",
         "x": [
          2,
          2,
          2,
          1,
          1,
          1,
          3,
          4,
          2
         ],
         "xaxis": "x",
         "y": [
          "Cristiano Ronaldo dos Santos Aveiro",
          "Iker Casillas Fernández",
          "Karim Benzema",
          "Kléper Laveran Lima Ferreira",
          "Mesut Özil",
          "Sami Khedira",
          "Sergio Ramos García",
          "Xabier Alonso Olano",
          "Ángel Fabián Di María Hernández"
         ],
         "yaxis": "y"
        },
        {
         "alignmentgroup": "True",
         "hovertemplate": "event_type=GENERIC:Foul Won<br>size=%{x}<br>player_name=%{y}<extra></extra>",
         "legendgroup": "GENERIC:Foul Won",
         "marker": {
          "color": "#8C564B"
         },
         "name": "GENERIC:Foul Won",
         "offsetgroup": "GENERIC:Foul Won",
         "orientation": "h",
         "showlegend": true,
         "textposition": "auto",
         "type": "bar",
         "x": [
          4,
          2,
          1,
          1,
          1,
          1,
          1
         ],
         "xaxis": "x",
         "y": [
          "Cristiano Ronaldo dos Santos Aveiro",
          "Karim Benzema",
          "Kléper Laveran Lima Ferreira",
          "Lassana Diarra",
          "Marcelo Vieira da Silva Júnior",
          "Sami Khedira",
          "Xabier Alonso Olano"
         ],
         "yaxis": "y"
        },
        {
         "alignmentgroup": "True",
         "hovertemplate": "event_type=GENERIC:Interception<br>size=%{x}<br>player_name=%{y}<extra></extra>",
         "legendgroup": "GENERIC:Interception",
         "marker": {
          "color": "#E377C2"
         },
         "name": "GENERIC:Interception",
         "offsetgroup": "GENERIC:Interception",
         "orientation": "h",
         "showlegend": true,
         "textposition": "auto",
         "type": "bar",
         "x": [
          1,
          1,
          2,
          2,
          1,
          1,
          1
         ],
         "xaxis": "x",
         "y": [
          "Cristiano Ronaldo dos Santos Aveiro",
          "Karim Benzema",
          "Kléper Laveran Lima Ferreira",
          "Marcelo Vieira da Silva Júnior",
          "Ricardo Alberto Silveira de Carvalho",
          "Sami Khedira",
          "Ángel Fabián Di María Hernández"
         ],
         "yaxis": "y"
        },
        {
         "alignmentgroup": "True",
         "hovertemplate": "event_type=GENERIC:Miscontrol<br>size=%{x}<br>player_name=%{y}<extra></extra>",
         "legendgroup": "GENERIC:Miscontrol",
         "marker": {
          "color": "#7F7F7F"
         },
         "name": "GENERIC:Miscontrol",
         "offsetgroup": "GENERIC:Miscontrol",
         "orientation": "h",
         "showlegend": true,
         "textposition": "auto",
         "type": "bar",
         "x": [
          6,
          3,
          1,
          2,
          1,
          2,
          1,
          4
         ],
         "xaxis": "x",
         "y": [
          "Cristiano Ronaldo dos Santos Aveiro",
          "Karim Benzema",
          "Kléper Laveran Lima Ferreira",
          "Lassana Diarra",
          "Mesut Özil",
          "Sami Khedira",
          "Sergio Ramos García",
          "Ángel Fabián Di María Hernández"
         ],
         "yaxis": "y"
        },
        {
         "alignmentgroup": "True",
         "hovertemplate": "event_type=GENERIC:Pressure<br>size=%{x}<br>player_name=%{y}<extra></extra>",
         "legendgroup": "GENERIC:Pressure",
         "marker": {
          "color": "#BCBD22"
         },
         "name": "GENERIC:Pressure",
         "offsetgroup": "GENERIC:Pressure",
         "orientation": "h",
         "showlegend": true,
         "textposition": "auto",
         "type": "bar",
         "x": [
          7,
          1,
          18,
          16,
          32,
          13,
          26,
          7,
          39,
          21,
          34,
          11,
          25
         ],
         "xaxis": "x",
         "y": [
          "Cristiano Ronaldo dos Santos Aveiro",
          "Iker Casillas Fernández",
          "Karim Benzema",
          "Kléper Laveran Lima Ferreira",
          "Lassana Diarra",
          "Marcelo Vieira da Silva Júnior",
          "Mesut Özil",
          "Ricardo Alberto Silveira de Carvalho",
          "Sami Khedira",
          "Sergio Ramos García",
          "Xabier Alonso Olano",
          "Álvaro Arbeloa Coca",
          "Ángel Fabián Di María Hernández"
         ],
         "yaxis": "y"
        },
        {
         "alignmentgroup": "True",
         "hovertemplate": "event_type=PASS<br>size=%{x}<br>player_name=%{y}<extra></extra>",
         "legendgroup": "PASS",
         "marker": {
          "color": "#17BECF"
         },
         "name": "PASS",
         "offsetgroup": "PASS",
         "orientation": "h",
         "showlegend": true,
         "textposition": "auto",
         "type": "bar",
         "x": [
          33,
          34,
          27,
          36,
          14,
          30,
          21,
          29,
          22,
          37,
          51,
          14,
          25
         ],
         "xaxis": "x",
         "y": [
          "Cristiano Ronaldo dos Santos Aveiro",
          "Iker Casillas Fernández",
          "Karim Benzema",
          "Kléper Laveran Lima Ferreira",
          "Lassana Diarra",
          "Marcelo Vieira da Silva Júnior",
          "Mesut Özil",
          "Ricardo Alberto Silveira de Carvalho",
          "Sami Khedira",
          "Sergio Ramos García",
          "Xabier Alonso Olano",
          "Álvaro Arbeloa Coca",
          "Ángel Fabián Di María Hernández"
         ],
         "yaxis": "y"
        },
        {
         "alignmentgroup": "True",
         "hovertemplate": "event_type=SHOT<br>size=%{x}<br>player_name=%{y}<extra></extra>",
         "legendgroup": "SHOT",
         "marker": {
          "color": "#1F77B4"
         },
         "name": "SHOT",
         "offsetgroup": "SHOT",
         "orientation": "h",
         "showlegend": true,
         "textposition": "auto",
         "type": "bar",
         "x": [
          3,
          1,
          1
         ],
         "xaxis": "x",
         "y": [
          "Cristiano Ronaldo dos Santos Aveiro",
          "Sergio Ramos García",
          "Ángel Fabián Di María Hernández"
         ],
         "yaxis": "y"
        },
        {
         "alignmentgroup": "True",
         "hovertemplate": "event_type=TAKE_ON<br>size=%{x}<br>player_name=%{y}<extra></extra>",
         "legendgroup": "TAKE_ON",
         "marker": {
          "color": "#FF7F0E"
         },
         "name": "TAKE_ON",
         "offsetgroup": "TAKE_ON",
         "orientation": "h",
         "showlegend": true,
         "textposition": "auto",
         "type": "bar",
         "x": [
          7,
          1,
          1,
          1,
          1,
          1,
          1,
          2,
          1,
          3
         ],
         "xaxis": "x",
         "y": [
          "Cristiano Ronaldo dos Santos Aveiro",
          "Karim Benzema",
          "Kléper Laveran Lima Ferreira",
          "Lassana Diarra",
          "Marcelo Vieira da Silva Júnior",
          "Mesut Özil",
          "Sami Khedira",
          "Sergio Ramos García",
          "Xabier Alonso Olano",
          "Ángel Fabián Di María Hernández"
         ],
         "yaxis": "y"
        },
        {
         "alignmentgroup": "True",
         "hovertemplate": "event_type=GENERIC:Goal Keeper<br>size=%{x}<br>player_name=%{y}<extra></extra>",
         "legendgroup": "GENERIC:Goal Keeper",
         "marker": {
          "color": "#2CA02C"
         },
         "name": "GENERIC:Goal Keeper",
         "offsetgroup": "GENERIC:Goal Keeper",
         "orientation": "h",
         "showlegend": true,
         "textposition": "auto",
         "type": "bar",
         "x": [
          15
         ],
         "xaxis": "x",
         "y": [
          "Iker Casillas Fernández"
         ],
         "yaxis": "y"
        },
        {
         "alignmentgroup": "True",
         "hovertemplate": "event_type=GENERIC:50/50<br>size=%{x}<br>player_name=%{y}<extra></extra>",
         "legendgroup": "GENERIC:50/50",
         "marker": {
          "color": "#D62728"
         },
         "name": "GENERIC:50/50",
         "offsetgroup": "GENERIC:50/50",
         "orientation": "h",
         "showlegend": true,
         "textposition": "auto",
         "type": "bar",
         "x": [
          1,
          1,
          1
         ],
         "xaxis": "x",
         "y": [
          "Karim Benzema",
          "Kléper Laveran Lima Ferreira",
          "Sami Khedira"
         ],
         "yaxis": "y"
        },
        {
         "alignmentgroup": "True",
         "hovertemplate": "event_type=GENERIC:Clearance<br>size=%{x}<br>player_name=%{y}<extra></extra>",
         "legendgroup": "GENERIC:Clearance",
         "marker": {
          "color": "#9467BD"
         },
         "name": "GENERIC:Clearance",
         "offsetgroup": "GENERIC:Clearance",
         "orientation": "h",
         "showlegend": true,
         "textposition": "auto",
         "type": "bar",
         "x": [
          1,
          2,
          3,
          3,
          2,
          3,
          1
         ],
         "xaxis": "x",
         "y": [
          "Karim Benzema",
          "Kléper Laveran Lima Ferreira",
          "Marcelo Vieira da Silva Júnior",
          "Ricardo Alberto Silveira de Carvalho",
          "Sami Khedira",
          "Sergio Ramos García",
          "Xabier Alonso Olano"
         ],
         "yaxis": "y"
        },
        {
         "alignmentgroup": "True",
         "hovertemplate": "event_type=GENERIC:Dispossessed<br>size=%{x}<br>player_name=%{y}<extra></extra>",
         "legendgroup": "GENERIC:Dispossessed",
         "marker": {
          "color": "#8C564B"
         },
         "name": "GENERIC:Dispossessed",
         "offsetgroup": "GENERIC:Dispossessed",
         "orientation": "h",
         "showlegend": true,
         "textposition": "auto",
         "type": "bar",
         "x": [
          2,
          2,
          1,
          1,
          1,
          1
         ],
         "xaxis": "x",
         "y": [
          "Karim Benzema",
          "Lassana Diarra",
          "Marcelo Vieira da Silva Júnior",
          "Mesut Özil",
          "Álvaro Arbeloa Coca",
          "Ángel Fabián Di María Hernández"
         ],
         "yaxis": "y"
        },
        {
         "alignmentgroup": "True",
         "hovertemplate": "event_type=GENERIC:Dribbled Past<br>size=%{x}<br>player_name=%{y}<extra></extra>",
         "legendgroup": "GENERIC:Dribbled Past",
         "marker": {
          "color": "#E377C2"
         },
         "name": "GENERIC:Dribbled Past",
         "offsetgroup": "GENERIC:Dribbled Past",
         "orientation": "h",
         "showlegend": true,
         "textposition": "auto",
         "type": "bar",
         "x": [
          2,
          6,
          2,
          3,
          4,
          1,
          2,
          2
         ],
         "xaxis": "x",
         "y": [
          "Karim Benzema",
          "Marcelo Vieira da Silva Júnior",
          "Mesut Özil",
          "Ricardo Alberto Silveira de Carvalho",
          "Sami Khedira",
          "Sergio Ramos García",
          "Xabier Alonso Olano",
          "Ángel Fabián Di María Hernández"
         ],
         "yaxis": "y"
        },
        {
         "alignmentgroup": "True",
         "hovertemplate": "event_type=GENERIC:Duel<br>size=%{x}<br>player_name=%{y}<extra></extra>",
         "legendgroup": "GENERIC:Duel",
         "marker": {
          "color": "#7F7F7F"
         },
         "name": "GENERIC:Duel",
         "offsetgroup": "GENERIC:Duel",
         "orientation": "h",
         "showlegend": true,
         "textposition": "auto",
         "type": "bar",
         "x": [
          3,
          5,
          5,
          3,
          4,
          2,
          4,
          1,
          2
         ],
         "xaxis": "x",
         "y": [
          "Karim Benzema",
          "Kléper Laveran Lima Ferreira",
          "Lassana Diarra",
          "Marcelo Vieira da Silva Júnior",
          "Ricardo Alberto Silveira de Carvalho",
          "Sami Khedira",
          "Xabier Alonso Olano",
          "Álvaro Arbeloa Coca",
          "Ángel Fabián Di María Hernández"
         ],
         "yaxis": "y"
        },
        {
         "alignmentgroup": "True",
         "hovertemplate": "event_type=SUBSTITUTION<br>size=%{x}<br>player_name=%{y}<extra></extra>",
         "legendgroup": "SUBSTITUTION",
         "marker": {
          "color": "#BCBD22"
         },
         "name": "SUBSTITUTION",
         "offsetgroup": "SUBSTITUTION",
         "orientation": "h",
         "showlegend": true,
         "textposition": "auto",
         "type": "bar",
         "x": [
          1,
          1
         ],
         "xaxis": "x",
         "y": [
          "Marcelo Vieira da Silva Júnior",
          "Mesut Özil"
         ],
         "yaxis": "y"
        },
        {
         "alignmentgroup": "True",
         "hovertemplate": "event_type=GENERIC:Injury Stoppage<br>size=%{x}<br>player_name=%{y}<extra></extra>",
         "legendgroup": "GENERIC:Injury Stoppage",
         "marker": {
          "color": "#17BECF"
         },
         "name": "GENERIC:Injury Stoppage",
         "offsetgroup": "GENERIC:Injury Stoppage",
         "orientation": "h",
         "showlegend": true,
         "textposition": "auto",
         "type": "bar",
         "x": [
          1
         ],
         "xaxis": "x",
         "y": [
          "Xabier Alonso Olano"
         ],
         "yaxis": "y"
        }
       ],
       "layout": {
        "barmode": "relative",
        "height": 500,
        "legend": {
         "title": {
          "text": "event_type"
         },
         "tracegroupgap": 0
        },
        "template": {
         "data": {
          "bar": [
           {
            "error_x": {
             "color": "#2a3f5f"
            },
            "error_y": {
             "color": "#2a3f5f"
            },
            "marker": {
             "line": {
              "color": "#E5ECF6",
              "width": 0.5
             }
            },
            "type": "bar"
           }
          ],
          "barpolar": [
           {
            "marker": {
             "line": {
              "color": "#E5ECF6",
              "width": 0.5
             }
            },
            "type": "barpolar"
           }
          ],
          "carpet": [
           {
            "aaxis": {
             "endlinecolor": "#2a3f5f",
             "gridcolor": "white",
             "linecolor": "white",
             "minorgridcolor": "white",
             "startlinecolor": "#2a3f5f"
            },
            "baxis": {
             "endlinecolor": "#2a3f5f",
             "gridcolor": "white",
             "linecolor": "white",
             "minorgridcolor": "white",
             "startlinecolor": "#2a3f5f"
            },
            "type": "carpet"
           }
          ],
          "choropleth": [
           {
            "colorbar": {
             "outlinewidth": 0,
             "ticks": ""
            },
            "type": "choropleth"
           }
          ],
          "contour": [
           {
            "colorbar": {
             "outlinewidth": 0,
             "ticks": ""
            },
            "colorscale": [
             [
              0,
              "#0d0887"
             ],
             [
              0.1111111111111111,
              "#46039f"
             ],
             [
              0.2222222222222222,
              "#7201a8"
             ],
             [
              0.3333333333333333,
              "#9c179e"
             ],
             [
              0.4444444444444444,
              "#bd3786"
             ],
             [
              0.5555555555555556,
              "#d8576b"
             ],
             [
              0.6666666666666666,
              "#ed7953"
             ],
             [
              0.7777777777777778,
              "#fb9f3a"
             ],
             [
              0.8888888888888888,
              "#fdca26"
             ],
             [
              1,
              "#f0f921"
             ]
            ],
            "type": "contour"
           }
          ],
          "contourcarpet": [
           {
            "colorbar": {
             "outlinewidth": 0,
             "ticks": ""
            },
            "type": "contourcarpet"
           }
          ],
          "heatmap": [
           {
            "colorbar": {
             "outlinewidth": 0,
             "ticks": ""
            },
            "colorscale": [
             [
              0,
              "#0d0887"
             ],
             [
              0.1111111111111111,
              "#46039f"
             ],
             [
              0.2222222222222222,
              "#7201a8"
             ],
             [
              0.3333333333333333,
              "#9c179e"
             ],
             [
              0.4444444444444444,
              "#bd3786"
             ],
             [
              0.5555555555555556,
              "#d8576b"
             ],
             [
              0.6666666666666666,
              "#ed7953"
             ],
             [
              0.7777777777777778,
              "#fb9f3a"
             ],
             [
              0.8888888888888888,
              "#fdca26"
             ],
             [
              1,
              "#f0f921"
             ]
            ],
            "type": "heatmap"
           }
          ],
          "heatmapgl": [
           {
            "colorbar": {
             "outlinewidth": 0,
             "ticks": ""
            },
            "colorscale": [
             [
              0,
              "#0d0887"
             ],
             [
              0.1111111111111111,
              "#46039f"
             ],
             [
              0.2222222222222222,
              "#7201a8"
             ],
             [
              0.3333333333333333,
              "#9c179e"
             ],
             [
              0.4444444444444444,
              "#bd3786"
             ],
             [
              0.5555555555555556,
              "#d8576b"
             ],
             [
              0.6666666666666666,
              "#ed7953"
             ],
             [
              0.7777777777777778,
              "#fb9f3a"
             ],
             [
              0.8888888888888888,
              "#fdca26"
             ],
             [
              1,
              "#f0f921"
             ]
            ],
            "type": "heatmapgl"
           }
          ],
          "histogram": [
           {
            "marker": {
             "colorbar": {
              "outlinewidth": 0,
              "ticks": ""
             }
            },
            "type": "histogram"
           }
          ],
          "histogram2d": [
           {
            "colorbar": {
             "outlinewidth": 0,
             "ticks": ""
            },
            "colorscale": [
             [
              0,
              "#0d0887"
             ],
             [
              0.1111111111111111,
              "#46039f"
             ],
             [
              0.2222222222222222,
              "#7201a8"
             ],
             [
              0.3333333333333333,
              "#9c179e"
             ],
             [
              0.4444444444444444,
              "#bd3786"
             ],
             [
              0.5555555555555556,
              "#d8576b"
             ],
             [
              0.6666666666666666,
              "#ed7953"
             ],
             [
              0.7777777777777778,
              "#fb9f3a"
             ],
             [
              0.8888888888888888,
              "#fdca26"
             ],
             [
              1,
              "#f0f921"
             ]
            ],
            "type": "histogram2d"
           }
          ],
          "histogram2dcontour": [
           {
            "colorbar": {
             "outlinewidth": 0,
             "ticks": ""
            },
            "colorscale": [
             [
              0,
              "#0d0887"
             ],
             [
              0.1111111111111111,
              "#46039f"
             ],
             [
              0.2222222222222222,
              "#7201a8"
             ],
             [
              0.3333333333333333,
              "#9c179e"
             ],
             [
              0.4444444444444444,
              "#bd3786"
             ],
             [
              0.5555555555555556,
              "#d8576b"
             ],
             [
              0.6666666666666666,
              "#ed7953"
             ],
             [
              0.7777777777777778,
              "#fb9f3a"
             ],
             [
              0.8888888888888888,
              "#fdca26"
             ],
             [
              1,
              "#f0f921"
             ]
            ],
            "type": "histogram2dcontour"
           }
          ],
          "mesh3d": [
           {
            "colorbar": {
             "outlinewidth": 0,
             "ticks": ""
            },
            "type": "mesh3d"
           }
          ],
          "parcoords": [
           {
            "line": {
             "colorbar": {
              "outlinewidth": 0,
              "ticks": ""
             }
            },
            "type": "parcoords"
           }
          ],
          "pie": [
           {
            "automargin": true,
            "type": "pie"
           }
          ],
          "scatter": [
           {
            "marker": {
             "colorbar": {
              "outlinewidth": 0,
              "ticks": ""
             }
            },
            "type": "scatter"
           }
          ],
          "scatter3d": [
           {
            "line": {
             "colorbar": {
              "outlinewidth": 0,
              "ticks": ""
             }
            },
            "marker": {
             "colorbar": {
              "outlinewidth": 0,
              "ticks": ""
             }
            },
            "type": "scatter3d"
           }
          ],
          "scattercarpet": [
           {
            "marker": {
             "colorbar": {
              "outlinewidth": 0,
              "ticks": ""
             }
            },
            "type": "scattercarpet"
           }
          ],
          "scattergeo": [
           {
            "marker": {
             "colorbar": {
              "outlinewidth": 0,
              "ticks": ""
             }
            },
            "type": "scattergeo"
           }
          ],
          "scattergl": [
           {
            "marker": {
             "colorbar": {
              "outlinewidth": 0,
              "ticks": ""
             }
            },
            "type": "scattergl"
           }
          ],
          "scattermapbox": [
           {
            "marker": {
             "colorbar": {
              "outlinewidth": 0,
              "ticks": ""
             }
            },
            "type": "scattermapbox"
           }
          ],
          "scatterpolar": [
           {
            "marker": {
             "colorbar": {
              "outlinewidth": 0,
              "ticks": ""
             }
            },
            "type": "scatterpolar"
           }
          ],
          "scatterpolargl": [
           {
            "marker": {
             "colorbar": {
              "outlinewidth": 0,
              "ticks": ""
             }
            },
            "type": "scatterpolargl"
           }
          ],
          "scatterternary": [
           {
            "marker": {
             "colorbar": {
              "outlinewidth": 0,
              "ticks": ""
             }
            },
            "type": "scatterternary"
           }
          ],
          "surface": [
           {
            "colorbar": {
             "outlinewidth": 0,
             "ticks": ""
            },
            "colorscale": [
             [
              0,
              "#0d0887"
             ],
             [
              0.1111111111111111,
              "#46039f"
             ],
             [
              0.2222222222222222,
              "#7201a8"
             ],
             [
              0.3333333333333333,
              "#9c179e"
             ],
             [
              0.4444444444444444,
              "#bd3786"
             ],
             [
              0.5555555555555556,
              "#d8576b"
             ],
             [
              0.6666666666666666,
              "#ed7953"
             ],
             [
              0.7777777777777778,
              "#fb9f3a"
             ],
             [
              0.8888888888888888,
              "#fdca26"
             ],
             [
              1,
              "#f0f921"
             ]
            ],
            "type": "surface"
           }
          ],
          "table": [
           {
            "cells": {
             "fill": {
              "color": "#EBF0F8"
             },
             "line": {
              "color": "white"
             }
            },
            "header": {
             "fill": {
              "color": "#C8D4E3"
             },
             "line": {
              "color": "white"
             }
            },
            "type": "table"
           }
          ]
         },
         "layout": {
          "annotationdefaults": {
           "arrowcolor": "#2a3f5f",
           "arrowhead": 0,
           "arrowwidth": 1
          },
          "coloraxis": {
           "colorbar": {
            "outlinewidth": 0,
            "ticks": ""
           }
          },
          "colorscale": {
           "diverging": [
            [
             0,
             "#8e0152"
            ],
            [
             0.1,
             "#c51b7d"
            ],
            [
             0.2,
             "#de77ae"
            ],
            [
             0.3,
             "#f1b6da"
            ],
            [
             0.4,
             "#fde0ef"
            ],
            [
             0.5,
             "#f7f7f7"
            ],
            [
             0.6,
             "#e6f5d0"
            ],
            [
             0.7,
             "#b8e186"
            ],
            [
             0.8,
             "#7fbc41"
            ],
            [
             0.9,
             "#4d9221"
            ],
            [
             1,
             "#276419"
            ]
           ],
           "sequential": [
            [
             0,
             "#0d0887"
            ],
            [
             0.1111111111111111,
             "#46039f"
            ],
            [
             0.2222222222222222,
             "#7201a8"
            ],
            [
             0.3333333333333333,
             "#9c179e"
            ],
            [
             0.4444444444444444,
             "#bd3786"
            ],
            [
             0.5555555555555556,
             "#d8576b"
            ],
            [
             0.6666666666666666,
             "#ed7953"
            ],
            [
             0.7777777777777778,
             "#fb9f3a"
            ],
            [
             0.8888888888888888,
             "#fdca26"
            ],
            [
             1,
             "#f0f921"
            ]
           ],
           "sequentialminus": [
            [
             0,
             "#0d0887"
            ],
            [
             0.1111111111111111,
             "#46039f"
            ],
            [
             0.2222222222222222,
             "#7201a8"
            ],
            [
             0.3333333333333333,
             "#9c179e"
            ],
            [
             0.4444444444444444,
             "#bd3786"
            ],
            [
             0.5555555555555556,
             "#d8576b"
            ],
            [
             0.6666666666666666,
             "#ed7953"
            ],
            [
             0.7777777777777778,
             "#fb9f3a"
            ],
            [
             0.8888888888888888,
             "#fdca26"
            ],
            [
             1,
             "#f0f921"
            ]
           ]
          },
          "colorway": [
           "#636efa",
           "#EF553B",
           "#00cc96",
           "#ab63fa",
           "#FFA15A",
           "#19d3f3",
           "#FF6692",
           "#B6E880",
           "#FF97FF",
           "#FECB52"
          ],
          "font": {
           "color": "#2a3f5f"
          },
          "geo": {
           "bgcolor": "white",
           "lakecolor": "white",
           "landcolor": "#E5ECF6",
           "showlakes": true,
           "showland": true,
           "subunitcolor": "white"
          },
          "hoverlabel": {
           "align": "left"
          },
          "hovermode": "closest",
          "mapbox": {
           "style": "light"
          },
          "paper_bgcolor": "white",
          "plot_bgcolor": "#E5ECF6",
          "polar": {
           "angularaxis": {
            "gridcolor": "white",
            "linecolor": "white",
            "ticks": ""
           },
           "bgcolor": "#E5ECF6",
           "radialaxis": {
            "gridcolor": "white",
            "linecolor": "white",
            "ticks": ""
           }
          },
          "scene": {
           "xaxis": {
            "backgroundcolor": "#E5ECF6",
            "gridcolor": "white",
            "gridwidth": 2,
            "linecolor": "white",
            "showbackground": true,
            "ticks": "",
            "zerolinecolor": "white"
           },
           "yaxis": {
            "backgroundcolor": "#E5ECF6",
            "gridcolor": "white",
            "gridwidth": 2,
            "linecolor": "white",
            "showbackground": true,
            "ticks": "",
            "zerolinecolor": "white"
           },
           "zaxis": {
            "backgroundcolor": "#E5ECF6",
            "gridcolor": "white",
            "gridwidth": 2,
            "linecolor": "white",
            "showbackground": true,
            "ticks": "",
            "zerolinecolor": "white"
           }
          },
          "shapedefaults": {
           "line": {
            "color": "#2a3f5f"
           }
          },
          "ternary": {
           "aaxis": {
            "gridcolor": "white",
            "linecolor": "white",
            "ticks": ""
           },
           "baxis": {
            "gridcolor": "white",
            "linecolor": "white",
            "ticks": ""
           },
           "bgcolor": "#E5ECF6",
           "caxis": {
            "gridcolor": "white",
            "linecolor": "white",
            "ticks": ""
           }
          },
          "title": {
           "x": 0.05
          },
          "xaxis": {
           "automargin": true,
           "gridcolor": "white",
           "linecolor": "white",
           "ticks": "",
           "title": {
            "standoff": 15
           },
           "zerolinecolor": "white",
           "zerolinewidth": 2
          },
          "yaxis": {
           "automargin": true,
           "gridcolor": "white",
           "linecolor": "white",
           "ticks": "",
           "title": {
            "standoff": 15
           },
           "zerolinecolor": "white",
           "zerolinewidth": 2
          }
         }
        },
        "title": {
         "text": "Real Madrid"
        },
        "width": 1000,
        "xaxis": {
         "anchor": "y",
         "autorange": true,
         "domain": [
          0,
          1
         ],
         "range": [
          0,
          186.31578947368422
         ],
         "title": {
          "text": "size"
         },
         "type": "linear"
        },
        "yaxis": {
         "anchor": "x",
         "autorange": true,
         "domain": [
          0,
          1
         ],
         "range": [
          -0.5,
          12.5
         ],
         "title": {
          "text": "player_name"
         },
         "type": "category"
        }
       }
      },
      "image/png": "[encoded data removed]",
      "text/html": [
       "<div>\n",
       "        \n",
       "        \n",
       "            <div id=\"fa47e841-9f47-42c8-9726-b9314c2691e0\" class=\"plotly-graph-div\" style=\"height:500px; width:1000px;\"></div>\n",
       "            <script type=\"text/javascript\">\n",
       "                require([\"plotly\"], function(Plotly) {\n",
       "                    window.PLOTLYENV=window.PLOTLYENV || {};\n",
       "                    \n",
       "                if (document.getElementById(\"fa47e841-9f47-42c8-9726-b9314c2691e0\")) {\n",
       "                    Plotly.newPlot(\n",
       "                        'fa47e841-9f47-42c8-9726-b9314c2691e0',\n",
       "                        [{\"alignmentgroup\": \"True\", \"hovertemplate\": \"event_type=CARD<br>size=%{x}<br>player_name=%{y}<extra></extra>\", \"legendgroup\": \"CARD\", \"marker\": {\"color\": \"#1F77B4\"}, \"name\": \"CARD\", \"offsetgroup\": \"CARD\", \"orientation\": \"h\", \"showlegend\": true, \"textposition\": \"auto\", \"type\": \"bar\", \"x\": [1, 1, 1, 1, 1, 2, 1], \"xaxis\": \"x\", \"y\": [\"Cristiano Ronaldo dos Santos Aveiro\", \"Iker Casillas Fern\\u00e1ndez\", \"Kl\\u00e9per Laveran Lima Ferreira\", \"Ricardo Alberto Silveira de Carvalho\", \"Sami Khedira\", \"Sergio Ramos Garc\\u00eda\", \"Xabier Alonso Olano\"], \"yaxis\": \"y\"}, {\"alignmentgroup\": \"True\", \"hovertemplate\": \"event_type=CARRY<br>size=%{x}<br>player_name=%{y}<extra></extra>\", \"legendgroup\": \"CARRY\", \"marker\": {\"color\": \"#FF7F0E\"}, \"name\": \"CARRY\", \"offsetgroup\": \"CARRY\", \"orientation\": \"h\", \"showlegend\": true, \"textposition\": \"auto\", \"type\": \"bar\", \"x\": [37, 11, 23, 22, 14, 23, 14, 16, 20, 23, 29, 10, 26], \"xaxis\": \"x\", \"y\": [\"Cristiano Ronaldo dos Santos Aveiro\", \"Iker Casillas Fern\\u00e1ndez\", \"Karim Benzema\", \"Kl\\u00e9per Laveran Lima Ferreira\", \"Lassana Diarra\", \"Marcelo Vieira da Silva J\\u00fanior\", \"Mesut \\u00d6zil\", \"Ricardo Alberto Silveira de Carvalho\", \"Sami Khedira\", \"Sergio Ramos Garc\\u00eda\", \"Xabier Alonso Olano\", \"\\u00c1lvaro Arbeloa Coca\", \"\\u00c1ngel Fabi\\u00e1n Di Mar\\u00eda Hern\\u00e1ndez\"], \"yaxis\": \"y\"}, {\"alignmentgroup\": \"True\", \"hovertemplate\": \"event_type=GENERIC:Ball Receipt*<br>size=%{x}<br>player_name=%{y}<extra></extra>\", \"legendgroup\": \"GENERIC:Ball Receipt*\", \"marker\": {\"color\": \"#2CA02C\"}, \"name\": \"GENERIC:Ball Receipt*\", \"offsetgroup\": \"GENERIC:Ball Receipt*\", \"orientation\": \"h\", \"showlegend\": true, \"textposition\": \"auto\", \"type\": \"bar\", \"x\": [52, 13, 42, 23, 16, 20, 22, 21, 24, 22, 42, 10, 46], \"xaxis\": \"x\", \"y\": [\"Cristiano Ronaldo dos Santos Aveiro\", \"Iker Casillas Fern\\u00e1ndez\", \"Karim Benzema\", \"Kl\\u00e9per Laveran Lima Ferreira\", \"Lassana Diarra\", \"Marcelo Vieira da Silva J\\u00fanior\", \"Mesut \\u00d6zil\", \"Ricardo Alberto Silveira de Carvalho\", \"Sami Khedira\", \"Sergio Ramos Garc\\u00eda\", \"Xabier Alonso Olano\", \"\\u00c1lvaro Arbeloa Coca\", \"\\u00c1ngel Fabi\\u00e1n Di Mar\\u00eda Hern\\u00e1ndez\"], \"yaxis\": \"y\"}, {\"alignmentgroup\": \"True\", \"hovertemplate\": \"event_type=GENERIC:Ball Recovery<br>size=%{x}<br>player_name=%{y}<extra></extra>\", \"legendgroup\": \"GENERIC:Ball Recovery\", \"marker\": {\"color\": \"#D62728\"}, \"name\": \"GENERIC:Ball Recovery\", \"offsetgroup\": \"GENERIC:Ball Recovery\", \"orientation\": \"h\", \"showlegend\": true, \"textposition\": \"auto\", \"type\": \"bar\", \"x\": [4, 6, 3, 5, 5, 6, 3, 3, 3, 10, 6, 1, 3], \"xaxis\": \"x\", \"y\": [\"Cristiano Ronaldo dos Santos Aveiro\", \"Iker Casillas Fern\\u00e1ndez\", \"Karim Benzema\", \"Kl\\u00e9per Laveran Lima Ferreira\", \"Lassana Diarra\", \"Marcelo Vieira da Silva J\\u00fanior\", \"Mesut \\u00d6zil\", \"Ricardo Alberto Silveira de Carvalho\", \"Sami Khedira\", \"Sergio Ramos Garc\\u00eda\", \"Xabier Alonso Olano\", \"\\u00c1lvaro Arbeloa Coca\", \"\\u00c1ngel Fabi\\u00e1n Di Mar\\u00eda Hern\\u00e1ndez\"], \"yaxis\": \"y\"}, {\"alignmentgroup\": \"True\", \"hovertemplate\": \"event_type=GENERIC:Block<br>size=%{x}<br>player_name=%{y}<extra></extra>\", \"legendgroup\": \"GENERIC:Block\", \"marker\": {\"color\": \"#9467BD\"}, \"name\": \"GENERIC:Block\", \"offsetgroup\": \"GENERIC:Block\", \"orientation\": \"h\", \"showlegend\": true, \"textposition\": \"auto\", \"type\": \"bar\", \"x\": [2, 2, 2, 1, 1, 1, 3, 4, 2], \"xaxis\": \"x\", \"y\": [\"Cristiano Ronaldo dos Santos Aveiro\", \"Iker Casillas Fern\\u00e1ndez\", \"Karim Benzema\", \"Kl\\u00e9per Laveran Lima Ferreira\", \"Mesut \\u00d6zil\", \"Sami Khedira\", \"Sergio Ramos Garc\\u00eda\", \"Xabier Alonso Olano\", \"\\u00c1ngel Fabi\\u00e1n Di Mar\\u00eda Hern\\u00e1ndez\"], \"yaxis\": \"y\"}, {\"alignmentgroup\": \"True\", \"hovertemplate\": \"event_type=GENERIC:Foul Won<br>size=%{x}<br>player_name=%{y}<extra></extra>\", \"legendgroup\": \"GENERIC:Foul Won\", \"marker\": {\"color\": \"#8C564B\"}, \"name\": \"GENERIC:Foul Won\", \"offsetgroup\": \"GENERIC:Foul Won\", \"orientation\": \"h\", \"showlegend\": true, \"textposition\": \"auto\", \"type\": \"bar\", \"x\": [4, 2, 1, 1, 1, 1, 1], \"xaxis\": \"x\", \"y\": [\"Cristiano Ronaldo dos Santos Aveiro\", \"Karim Benzema\", \"Kl\\u00e9per Laveran Lima Ferreira\", \"Lassana Diarra\", \"Marcelo Vieira da Silva J\\u00fanior\", \"Sami Khedira\", \"Xabier Alonso Olano\"], \"yaxis\": \"y\"}, {\"alignmentgroup\": \"True\", \"hovertemplate\": \"event_type=GENERIC:Interception<br>size=%{x}<br>player_name=%{y}<extra></extra>\", \"legendgroup\": \"GENERIC:Interception\", \"marker\": {\"color\": \"#E377C2\"}, \"name\": \"GENERIC:Interception\", \"offsetgroup\": \"GENERIC:Interception\", \"orientation\": \"h\", \"showlegend\": true, \"textposition\": \"auto\", \"type\": \"bar\", \"x\": [1, 1, 2, 2, 1, 1, 1], \"xaxis\": \"x\", \"y\": [\"Cristiano Ronaldo dos Santos Aveiro\", \"Karim Benzema\", \"Kl\\u00e9per Laveran Lima Ferreira\", \"Marcelo Vieira da Silva J\\u00fanior\", \"Ricardo Alberto Silveira de Carvalho\", \"Sami Khedira\", \"\\u00c1ngel Fabi\\u00e1n Di Mar\\u00eda Hern\\u00e1ndez\"], \"yaxis\": \"y\"}, {\"alignmentgroup\": \"True\", \"hovertemplate\": \"event_type=GENERIC:Miscontrol<br>size=%{x}<br>player_name=%{y}<extra></extra>\", \"legendgroup\": \"GENERIC:Miscontrol\", \"marker\": {\"color\": \"#7F7F7F\"}, \"name\": \"GENERIC:Miscontrol\", \"offsetgroup\": \"GENERIC:Miscontrol\", \"orientation\": \"h\", \"showlegend\": true, \"textposition\": \"auto\", \"type\": \"bar\", \"x\": [6, 3, 1, 2, 1, 2, 1, 4], \"xaxis\": \"x\", \"y\": [\"Cristiano Ronaldo dos Santos Aveiro\", \"Karim Benzema\", \"Kl\\u00e9per Laveran Lima Ferreira\", \"Lassana Diarra\", \"Mesut \\u00d6zil\", \"Sami Khedira\", \"Sergio Ramos Garc\\u00eda\", \"\\u00c1ngel Fabi\\u00e1n Di Mar\\u00eda Hern\\u00e1ndez\"], \"yaxis\": \"y\"}, {\"alignmentgroup\": \"True\", \"hovertemplate\": \"event_type=GENERIC:Pressure<br>size=%{x}<br>player_name=%{y}<extra></extra>\", \"legendgroup\": \"GENERIC:Pressure\", \"marker\": {\"color\": \"#BCBD22\"}, \"name\": \"GENERIC:Pressure\", \"offsetgroup\": \"GENERIC:Pressure\", \"orientation\": \"h\", \"showlegend\": true, \"textposition\": \"auto\", \"type\": \"bar\", \"x\": [7, 1, 18, 16, 32, 13, 26, 7, 39, 21, 34, 11, 25], \"xaxis\": \"x\", \"y\": [\"Cristiano Ronaldo dos Santos Aveiro\", \"Iker Casillas Fern\\u00e1ndez\", \"Karim Benzema\", \"Kl\\u00e9per Laveran Lima Ferreira\", \"Lassana Diarra\", \"Marcelo Vieira da Silva J\\u00fanior\", \"Mesut \\u00d6zil\", \"Ricardo Alberto Silveira de Carvalho\", \"Sami Khedira\", \"Sergio Ramos Garc\\u00eda\", \"Xabier Alonso Olano\", \"\\u00c1lvaro Arbeloa Coca\", \"\\u00c1ngel Fabi\\u00e1n Di Mar\\u00eda Hern\\u00e1ndez\"], \"yaxis\": \"y\"}, {\"alignmentgroup\": \"True\", \"hovertemplate\": \"event_type=PASS<br>size=%{x}<br>player_name=%{y}<extra></extra>\", \"legendgroup\": \"PASS\", \"marker\": {\"color\": \"#17BECF\"}, \"name\": \"PASS\", \"offsetgroup\": \"PASS\", \"orientation\": \"h\", \"showlegend\": true, \"textposition\": \"auto\", \"type\": \"bar\", \"x\": [33, 34, 27, 36, 14, 30, 21, 29, 22, 37, 51, 14, 25], \"xaxis\": \"x\", \"y\": [\"Cristiano Ronaldo dos Santos Aveiro\", \"Iker Casillas Fern\\u00e1ndez\", \"Karim Benzema\", \"Kl\\u00e9per Laveran Lima Ferreira\", \"Lassana Diarra\", \"Marcelo Vieira da Silva J\\u00fanior\", \"Mesut \\u00d6zil\", \"Ricardo Alberto Silveira de Carvalho\", \"Sami Khedira\", \"Sergio Ramos Garc\\u00eda\", \"Xabier Alonso Olano\", \"\\u00c1lvaro Arbeloa Coca\", \"\\u00c1ngel Fabi\\u00e1n Di Mar\\u00eda Hern\\u00e1ndez\"], \"yaxis\": \"y\"}, {\"alignmentgroup\": \"True\", \"hovertemplate\": \"event_type=SHOT<br>size=%{x}<br>player_name=%{y}<extra></extra>\", \"legendgroup\": \"SHOT\", \"marker\": {\"color\": \"#1F77B4\"}, \"name\": \"SHOT\", \"offsetgroup\": \"SHOT\", \"orientation\": \"h\", \"showlegend\": true, \"textposition\": \"auto\", \"type\": \"bar\", \"x\": [3, 1, 1], \"xaxis\": \"x\", \"y\": [\"Cristiano Ronaldo dos Santos Aveiro\", \"Sergio Ramos Garc\\u00eda\", \"\\u00c1ngel Fabi\\u00e1n Di Mar\\u00eda Hern\\u00e1ndez\"], \"yaxis\": \"y\"}, {\"alignmentgroup\": \"True\", \"hovertemplate\": \"event_type=TAKE_ON<br>size=%{x}<br>player_name=%{y}<extra></extra>\", \"legendgroup\": \"TAKE_ON\", \"marker\": {\"color\": \"#FF7F0E\"}, \"name\": \"TAKE_ON\", \"offsetgroup\": \"TAKE_ON\", \"orientation\": \"h\", \"showlegend\": true, \"textposition\": \"auto\", \"type\": \"bar\", \"x\": [7, 1, 1, 1, 1, 1, 1, 2, 1, 3], \"xaxis\": \"x\", \"y\": [\"Cristiano Ronaldo dos Santos Aveiro\", \"Karim Benzema\", \"Kl\\u00e9per Laveran Lima Ferreira\", \"Lassana Diarra\", \"Marcelo Vieira da Silva J\\u00fanior\", \"Mesut \\u00d6zil\", \"Sami Khedira\", \"Sergio Ramos Garc\\u00eda\", \"Xabier Alonso Olano\", \"\\u00c1ngel Fabi\\u00e1n Di Mar\\u00eda Hern\\u00e1ndez\"], \"yaxis\": \"y\"}, {\"alignmentgroup\": \"True\", \"hovertemplate\": \"event_type=GENERIC:Goal Keeper<br>size=%{x}<br>player_name=%{y}<extra></extra>\", \"legendgroup\": \"GENERIC:Goal Keeper\", \"marker\": {\"color\": \"#2CA02C\"}, \"name\": \"GENERIC:Goal Keeper\", \"offsetgroup\": \"GENERIC:Goal Keeper\", \"orientation\": \"h\", \"showlegend\": true, \"textposition\": \"auto\", \"type\": \"bar\", \"x\": [15], \"xaxis\": \"x\", \"y\": [\"Iker Casillas Fern\\u00e1ndez\"], \"yaxis\": \"y\"}, {\"alignmentgroup\": \"True\", \"hovertemplate\": \"event_type=GENERIC:50/50<br>size=%{x}<br>player_name=%{y}<extra></extra>\", \"legendgroup\": \"GENERIC:50/50\", \"marker\": {\"color\": \"#D62728\"}, \"name\": \"GENERIC:50/50\", \"offsetgroup\": \"GENERIC:50/50\", \"orientation\": \"h\", \"showlegend\": true, \"textposition\": \"auto\", \"type\": \"bar\", \"x\": [1, 1, 1], \"xaxis\": \"x\", \"y\": [\"Karim Benzema\", \"Kl\\u00e9per Laveran Lima Ferreira\", \"Sami Khedira\"], \"yaxis\": \"y\"}, {\"alignmentgroup\": \"True\", \"hovertemplate\": \"event_type=GENERIC:Clearance<br>size=%{x}<br>player_name=%{y}<extra></extra>\", \"legendgroup\": \"GENERIC:Clearance\", \"marker\": {\"color\": \"#9467BD\"}, \"name\": \"GENERIC:Clearance\", \"offsetgroup\": \"GENERIC:Clearance\", \"orientation\": \"h\", \"showlegend\": true, \"textposition\": \"auto\", \"type\": \"bar\", \"x\": [1, 2, 3, 3, 2, 3, 1], \"xaxis\": \"x\", \"y\": [\"Karim Benzema\", \"Kl\\u00e9per Laveran Lima Ferreira\", \"Marcelo Vieira da Silva J\\u00fanior\", \"Ricardo Alberto Silveira de Carvalho\", \"Sami Khedira\", \"Sergio Ramos Garc\\u00eda\", \"Xabier Alonso Olano\"], \"yaxis\": \"y\"}, {\"alignmentgroup\": \"True\", \"hovertemplate\": \"event_type=GENERIC:Dispossessed<br>size=%{x}<br>player_name=%{y}<extra></extra>\", \"legendgroup\": \"GENERIC:Dispossessed\", \"marker\": {\"color\": \"#8C564B\"}, \"name\": \"GENERIC:Dispossessed\", \"offsetgroup\": \"GENERIC:Dispossessed\", \"orientation\": \"h\", \"showlegend\": true, \"textposition\": \"auto\", \"type\": \"bar\", \"x\": [2, 2, 1, 1, 1, 1], \"xaxis\": \"x\", \"y\": [\"Karim Benzema\", \"Lassana Diarra\", \"Marcelo Vieira da Silva J\\u00fanior\", \"Mesut \\u00d6zil\", \"\\u00c1lvaro Arbeloa Coca\", \"\\u00c1ngel Fabi\\u00e1n Di Mar\\u00eda Hern\\u00e1ndez\"], \"yaxis\": \"y\"}, {\"alignmentgroup\": \"True\", \"hovertemplate\": \"event_type=GENERIC:Dribbled Past<br>size=%{x}<br>player_name=%{y}<extra></extra>\", \"legendgroup\": \"GENERIC:Dribbled Past\", \"marker\": {\"color\": \"#E377C2\"}, \"name\": \"GENERIC:Dribbled Past\", \"offsetgroup\": \"GENERIC:Dribbled Past\", \"orientation\": \"h\", \"showlegend\": true, \"textposition\": \"auto\", \"type\": \"bar\", \"x\": [2, 6, 2, 3, 4, 1, 2, 2], \"xaxis\": \"x\", \"y\": [\"Karim Benzema\", \"Marcelo Vieira da Silva J\\u00fanior\", \"Mesut \\u00d6zil\", \"Ricardo Alberto Silveira de Carvalho\", \"Sami Khedira\", \"Sergio Ramos Garc\\u00eda\", \"Xabier Alonso Olano\", \"\\u00c1ngel Fabi\\u00e1n Di Mar\\u00eda Hern\\u00e1ndez\"], \"yaxis\": \"y\"}, {\"alignmentgroup\": \"True\", \"hovertemplate\": \"event_type=GENERIC:Duel<br>size=%{x}<br>player_name=%{y}<extra></extra>\", \"legendgroup\": \"GENERIC:Duel\", \"marker\": {\"color\": \"#7F7F7F\"}, \"name\": \"GENERIC:Duel\", \"offsetgroup\": \"GENERIC:Duel\", \"orientation\": \"h\", \"showlegend\": true, \"textposition\": \"auto\", \"type\": \"bar\", \"x\": [3, 5, 5, 3, 4, 2, 4, 1, 2], \"xaxis\": \"x\", \"y\": [\"Karim Benzema\", \"Kl\\u00e9per Laveran Lima Ferreira\", \"Lassana Diarra\", \"Marcelo Vieira da Silva J\\u00fanior\", \"Ricardo Alberto Silveira de Carvalho\", \"Sami Khedira\", \"Xabier Alonso Olano\", \"\\u00c1lvaro Arbeloa Coca\", \"\\u00c1ngel Fabi\\u00e1n Di Mar\\u00eda Hern\\u00e1ndez\"], \"yaxis\": \"y\"}, {\"alignmentgroup\": \"True\", \"hovertemplate\": \"event_type=SUBSTITUTION<br>size=%{x}<br>player_name=%{y}<extra></extra>\", \"legendgroup\": \"SUBSTITUTION\", \"marker\": {\"color\": \"#BCBD22\"}, \"name\": \"SUBSTITUTION\", \"offsetgroup\": \"SUBSTITUTION\", \"orientation\": \"h\", \"showlegend\": true, \"textposition\": \"auto\", \"type\": \"bar\", \"x\": [1, 1], \"xaxis\": \"x\", \"y\": [\"Marcelo Vieira da Silva J\\u00fanior\", \"Mesut \\u00d6zil\"], \"yaxis\": \"y\"}, {\"alignmentgroup\": \"True\", \"hovertemplate\": \"event_type=GENERIC:Injury Stoppage<br>size=%{x}<br>player_name=%{y}<extra></extra>\", \"legendgroup\": \"GENERIC:Injury Stoppage\", \"marker\": {\"color\": \"#17BECF\"}, \"name\": \"GENERIC:Injury Stoppage\", \"offsetgroup\": \"GENERIC:Injury Stoppage\", \"orientation\": \"h\", \"showlegend\": true, \"textposition\": \"auto\", \"type\": \"bar\", \"x\": [1], \"xaxis\": \"x\", \"y\": [\"Xabier Alonso Olano\"], \"yaxis\": \"y\"}],\n",
       "                        {\"barmode\": \"relative\", \"height\": 500, \"legend\": {\"title\": {\"text\": \"event_type\"}, \"tracegroupgap\": 0}, \"template\": {\"data\": {\"bar\": [{\"error_x\": {\"color\": \"#2a3f5f\"}, \"error_y\": {\"color\": \"#2a3f5f\"}, \"marker\": {\"line\": {\"color\": \"#E5ECF6\", \"width\": 0.5}}, \"type\": \"bar\"}], \"barpolar\": [{\"marker\": {\"line\": {\"color\": \"#E5ECF6\", \"width\": 0.5}}, \"type\": \"barpolar\"}], \"carpet\": [{\"aaxis\": {\"endlinecolor\": \"#2a3f5f\", \"gridcolor\": \"white\", \"linecolor\": \"white\", \"minorgridcolor\": \"white\", \"startlinecolor\": \"#2a3f5f\"}, \"baxis\": {\"endlinecolor\": \"#2a3f5f\", \"gridcolor\": \"white\", \"linecolor\": \"white\", \"minorgridcolor\": \"white\", \"startlinecolor\": \"#2a3f5f\"}, \"type\": \"carpet\"}], \"choropleth\": [{\"colorbar\": {\"outlinewidth\": 0, \"ticks\": \"\"}, \"type\": \"choropleth\"}], \"contour\": [{\"colorbar\": {\"outlinewidth\": 0, \"ticks\": \"\"}, \"colorscale\": [[0.0, \"#0d0887\"], [0.1111111111111111, \"#46039f\"], [0.2222222222222222, \"#7201a8\"], [0.3333333333333333, \"#9c179e\"], [0.4444444444444444, \"#bd3786\"], [0.5555555555555556, \"#d8576b\"], [0.6666666666666666, \"#ed7953\"], [0.7777777777777778, \"#fb9f3a\"], [0.8888888888888888, \"#fdca26\"], [1.0, \"#f0f921\"]], \"type\": \"contour\"}], \"contourcarpet\": [{\"colorbar\": {\"outlinewidth\": 0, \"ticks\": \"\"}, \"type\": \"contourcarpet\"}], \"heatmap\": [{\"colorbar\": {\"outlinewidth\": 0, \"ticks\": \"\"}, \"colorscale\": [[0.0, \"#0d0887\"], [0.1111111111111111, \"#46039f\"], [0.2222222222222222, \"#7201a8\"], [0.3333333333333333, \"#9c179e\"], [0.4444444444444444, \"#bd3786\"], [0.5555555555555556, \"#d8576b\"], [0.6666666666666666, \"#ed7953\"], [0.7777777777777778, \"#fb9f3a\"], [0.8888888888888888, \"#fdca26\"], [1.0, \"#f0f921\"]], \"type\": \"heatmap\"}], \"heatmapgl\": [{\"colorbar\": {\"outlinewidth\": 0, \"ticks\": \"\"}, \"colorscale\": [[0.0, \"#0d0887\"], [0.1111111111111111, \"#46039f\"], [0.2222222222222222, \"#7201a8\"], [0.3333333333333333, \"#9c179e\"], [0.4444444444444444, \"#bd3786\"], [0.5555555555555556, \"#d8576b\"], [0.6666666666666666, \"#ed7953\"], [0.7777777777777778, \"#fb9f3a\"], [0.8888888888888888, \"#fdca26\"], [1.0, \"#f0f921\"]], \"type\": \"heatmapgl\"}], \"histogram\": [{\"marker\": {\"colorbar\": {\"outlinewidth\": 0, \"ticks\": \"\"}}, \"type\": \"histogram\"}], \"histogram2d\": [{\"colorbar\": {\"outlinewidth\": 0, \"ticks\": \"\"}, \"colorscale\": [[0.0, \"#0d0887\"], [0.1111111111111111, \"#46039f\"], [0.2222222222222222, \"#7201a8\"], [0.3333333333333333, \"#9c179e\"], [0.4444444444444444, \"#bd3786\"], [0.5555555555555556, \"#d8576b\"], [0.6666666666666666, \"#ed7953\"], [0.7777777777777778, \"#fb9f3a\"], [0.8888888888888888, \"#fdca26\"], [1.0, \"#f0f921\"]], \"type\": \"histogram2d\"}], \"histogram2dcontour\": [{\"colorbar\": {\"outlinewidth\": 0, \"ticks\": \"\"}, \"colorscale\": [[0.0, \"#0d0887\"], [0.1111111111111111, \"#46039f\"], [0.2222222222222222, \"#7201a8\"], [0.3333333333333333, \"#9c179e\"], [0.4444444444444444, \"#bd3786\"], [0.5555555555555556, \"#d8576b\"], [0.6666666666666666, \"#ed7953\"], [0.7777777777777778, \"#fb9f3a\"], [0.8888888888888888, \"#fdca26\"], [1.0, \"#f0f921\"]], \"type\": \"histogram2dcontour\"}], \"mesh3d\": [{\"colorbar\": {\"outlinewidth\": 0, \"ticks\": \"\"}, \"type\": \"mesh3d\"}], \"parcoords\": [{\"line\": {\"colorbar\": {\"outlinewidth\": 0, \"ticks\": \"\"}}, \"type\": \"parcoords\"}], \"pie\": [{\"automargin\": true, \"type\": \"pie\"}], \"scatter\": [{\"marker\": {\"colorbar\": {\"outlinewidth\": 0, \"ticks\": \"\"}}, \"type\": \"scatter\"}], \"scatter3d\": [{\"line\": {\"colorbar\": {\"outlinewidth\": 0, \"ticks\": \"\"}}, \"marker\": {\"colorbar\": {\"outlinewidth\": 0, \"ticks\": \"\"}}, \"type\": \"scatter3d\"}], \"scattercarpet\": [{\"marker\": {\"colorbar\": {\"outlinewidth\": 0, \"ticks\": \"\"}}, \"type\": \"scattercarpet\"}], \"scattergeo\": [{\"marker\": {\"colorbar\": {\"outlinewidth\": 0, \"ticks\": \"\"}}, \"type\": \"scattergeo\"}], \"scattergl\": [{\"marker\": {\"colorbar\": {\"outlinewidth\": 0, \"ticks\": \"\"}}, \"type\": \"scattergl\"}], \"scattermapbox\": [{\"marker\": {\"colorbar\": {\"outlinewidth\": 0, \"ticks\": \"\"}}, \"type\": \"scattermapbox\"}], \"scatterpolar\": [{\"marker\": {\"colorbar\": {\"outlinewidth\": 0, \"ticks\": \"\"}}, \"type\": \"scatterpolar\"}], \"scatterpolargl\": [{\"marker\": {\"colorbar\": {\"outlinewidth\": 0, \"ticks\": \"\"}}, \"type\": \"scatterpolargl\"}], \"scatterternary\": [{\"marker\": {\"colorbar\": {\"outlinewidth\": 0, \"ticks\": \"\"}}, \"type\": \"scatterternary\"}], \"surface\": [{\"colorbar\": {\"outlinewidth\": 0, \"ticks\": \"\"}, \"colorscale\": [[0.0, \"#0d0887\"], [0.1111111111111111, \"#46039f\"], [0.2222222222222222, \"#7201a8\"], [0.3333333333333333, \"#9c179e\"], [0.4444444444444444, \"#bd3786\"], [0.5555555555555556, \"#d8576b\"], [0.6666666666666666, \"#ed7953\"], [0.7777777777777778, \"#fb9f3a\"], [0.8888888888888888, \"#fdca26\"], [1.0, \"#f0f921\"]], \"type\": \"surface\"}], \"table\": [{\"cells\": {\"fill\": {\"color\": \"#EBF0F8\"}, \"line\": {\"color\": \"white\"}}, \"header\": {\"fill\": {\"color\": \"#C8D4E3\"}, \"line\": {\"color\": \"white\"}}, \"type\": \"table\"}]}, \"layout\": {\"annotationdefaults\": {\"arrowcolor\": \"#2a3f5f\", \"arrowhead\": 0, \"arrowwidth\": 1}, \"coloraxis\": {\"colorbar\": {\"outlinewidth\": 0, \"ticks\": \"\"}}, \"colorscale\": {\"diverging\": [[0, \"#8e0152\"], [0.1, \"#c51b7d\"], [0.2, \"#de77ae\"], [0.3, \"#f1b6da\"], [0.4, \"#fde0ef\"], [0.5, \"#f7f7f7\"], [0.6, \"#e6f5d0\"], [0.7, \"#b8e186\"], [0.8, \"#7fbc41\"], [0.9, \"#4d9221\"], [1, \"#276419\"]], \"sequential\": [[0.0, \"#0d0887\"], [0.1111111111111111, \"#46039f\"], [0.2222222222222222, \"#7201a8\"], [0.3333333333333333, \"#9c179e\"], [0.4444444444444444, \"#bd3786\"], [0.5555555555555556, \"#d8576b\"], [0.6666666666666666, \"#ed7953\"], [0.7777777777777778, \"#fb9f3a\"], [0.8888888888888888, \"#fdca26\"], [1.0, \"#f0f921\"]], \"sequentialminus\": [[0.0, \"#0d0887\"], [0.1111111111111111, \"#46039f\"], [0.2222222222222222, \"#7201a8\"], [0.3333333333333333, \"#9c179e\"], [0.4444444444444444, \"#bd3786\"], [0.5555555555555556, \"#d8576b\"], [0.6666666666666666, \"#ed7953\"], [0.7777777777777778, \"#fb9f3a\"], [0.8888888888888888, \"#fdca26\"], [1.0, \"#f0f921\"]]}, \"colorway\": [\"#636efa\", \"#EF553B\", \"#00cc96\", \"#ab63fa\", \"#FFA15A\", \"#19d3f3\", \"#FF6692\", \"#B6E880\", \"#FF97FF\", \"#FECB52\"], \"font\": {\"color\": \"#2a3f5f\"}, \"geo\": {\"bgcolor\": \"white\", \"lakecolor\": \"white\", \"landcolor\": \"#E5ECF6\", \"showlakes\": true, \"showland\": true, \"subunitcolor\": \"white\"}, \"hoverlabel\": {\"align\": \"left\"}, \"hovermode\": \"closest\", \"mapbox\": {\"style\": \"light\"}, \"paper_bgcolor\": \"white\", \"plot_bgcolor\": \"#E5ECF6\", \"polar\": {\"angularaxis\": {\"gridcolor\": \"white\", \"linecolor\": \"white\", \"ticks\": \"\"}, \"bgcolor\": \"#E5ECF6\", \"radialaxis\": {\"gridcolor\": \"white\", \"linecolor\": \"white\", \"ticks\": \"\"}}, \"scene\": {\"xaxis\": {\"backgroundcolor\": \"#E5ECF6\", \"gridcolor\": \"white\", \"gridwidth\": 2, \"linecolor\": \"white\", \"showbackground\": true, \"ticks\": \"\", \"zerolinecolor\": \"white\"}, \"yaxis\": {\"backgroundcolor\": \"#E5ECF6\", \"gridcolor\": \"white\", \"gridwidth\": 2, \"linecolor\": \"white\", \"showbackground\": true, \"ticks\": \"\", \"zerolinecolor\": \"white\"}, \"zaxis\": {\"backgroundcolor\": \"#E5ECF6\", \"gridcolor\": \"white\", \"gridwidth\": 2, \"linecolor\": \"white\", \"showbackground\": true, \"ticks\": \"\", \"zerolinecolor\": \"white\"}}, \"shapedefaults\": {\"line\": {\"color\": \"#2a3f5f\"}}, \"ternary\": {\"aaxis\": {\"gridcolor\": \"white\", \"linecolor\": \"white\", \"ticks\": \"\"}, \"baxis\": {\"gridcolor\": \"white\", \"linecolor\": \"white\", \"ticks\": \"\"}, \"bgcolor\": \"#E5ECF6\", \"caxis\": {\"gridcolor\": \"white\", \"linecolor\": \"white\", \"ticks\": \"\"}}, \"title\": {\"x\": 0.05}, \"xaxis\": {\"automargin\": true, \"gridcolor\": \"white\", \"linecolor\": \"white\", \"ticks\": \"\", \"title\": {\"standoff\": 15}, \"zerolinecolor\": \"white\", \"zerolinewidth\": 2}, \"yaxis\": {\"automargin\": true, \"gridcolor\": \"white\", \"linecolor\": \"white\", \"ticks\": \"\", \"title\": {\"standoff\": 15}, \"zerolinecolor\": \"white\", \"zerolinewidth\": 2}}}, \"title\": {\"text\": \"Real Madrid\"}, \"width\": 1000, \"xaxis\": {\"anchor\": \"y\", \"domain\": [0.0, 1.0], \"title\": {\"text\": \"size\"}}, \"yaxis\": {\"anchor\": \"x\", \"domain\": [0.0, 1.0], \"title\": {\"text\": \"player_name\"}}},\n",
       "                        {\"responsive\": true}\n",
       "                    ).then(function(){\n",
       "                            \n",
       "var gd = document.getElementById('fa47e841-9f47-42c8-9726-b9314c2691e0');\n",
       "var x = new MutationObserver(function (mutations, observer) {{\n",
       "        var display = window.getComputedStyle(gd).display;\n",
       "        if (!display || display === 'none') {{\n",
       "            console.log([gd, 'removed!']);\n",
       "            Plotly.purge(gd);\n",
       "            observer.disconnect();\n",
       "        }}\n",
       "}});\n",
       "\n",
       "// Listen for the removal of the full notebook cells\n",
       "var notebookContainer = gd.closest('#notebook-container');\n",
       "if (notebookContainer) {{\n",
       "    x.observe(notebookContainer, {childList: true});\n",
       "}}\n",
       "\n",
       "// Listen for the clearing of the current output cell\n",
       "var outputEl = gd.closest('.output');\n",
       "if (outputEl) {{\n",
       "    x.observe(outputEl, {childList: true});\n",
       "}}\n",
       "\n",
       "                        })\n",
       "                };\n",
       "                });\n",
       "            </script>\n",
       "        </div>"
      ]
     },
     "metadata": {},
     "output_type": "display_data"
    },
    {
     "data": {
      "application/vnd.plotly.v1+json": {
       "config": {
        "linkText": "Export to plot.ly",
        "plotlyServerURL": "https://plot.ly",
        "showLink": false
       },
       "data": [
        {
         "alignmentgroup": "True",
         "hovertemplate": "event_type=CARRY<br>size=%{x}<br>player_name=%{y}<extra></extra>",
         "legendgroup": "CARRY",
         "marker": {
          "color": "#1F77B4"
         },
         "name": "CARRY",
         "offsetgroup": "CARRY",
         "orientation": "h",
         "showlegend": true,
         "textposition": "auto",
         "type": "bar",
         "x": [
          79,
          6,
          34,
          67,
          36,
          47,
          51,
          4,
          80,
          52,
          82,
          1,
          14,
          107
         ],
         "xaxis": "x",
         "y": [
          "Andrés Iniesta Luján",
          "Bojan Krkíc Pérez",
          "Carles Puyol i Saforcada",
          "Daniel Alves da Silva",
          "David Villa Sánchez",
          "Eric-Sylvain Bilal Abidal",
          "Gerard Piqué Bernabéu",
          "Jeffren Isaac Suárez Bermúdez",
          "Lionel Andrés Messi Cuccittini",
          "Pedro Eliezer Rodríguez Ledesma",
          "Sergio Busquets i Burgos",
          "Seydou Kéita",
          "Víctor Valdés Arribas",
          "Xavier Hernández Creus"
         ],
         "yaxis": "y"
        },
        {
         "alignmentgroup": "True",
         "hovertemplate": "event_type=GENERIC:50/50<br>size=%{x}<br>player_name=%{y}<extra></extra>",
         "legendgroup": "GENERIC:50/50",
         "marker": {
          "color": "#FF7F0E"
         },
         "name": "GENERIC:50/50",
         "offsetgroup": "GENERIC:50/50",
         "orientation": "h",
         "showlegend": true,
         "textposition": "auto",
         "type": "bar",
         "x": [
          1,
          1,
          1
         ],
         "xaxis": "x",
         "y": [
          "Andrés Iniesta Luján",
          "Pedro Eliezer Rodríguez Ledesma",
          "Xavier Hernández Creus"
         ],
         "yaxis": "y"
        },
        {
         "alignmentgroup": "True",
         "hovertemplate": "event_type=GENERIC:Ball Receipt*<br>size=%{x}<br>player_name=%{y}<extra></extra>",
         "legendgroup": "GENERIC:Ball Receipt*",
         "marker": {
          "color": "#2CA02C"
         },
         "name": "GENERIC:Ball Receipt*",
         "offsetgroup": "GENERIC:Ball Receipt*",
         "orientation": "h",
         "showlegend": true,
         "textposition": "auto",
         "type": "bar",
         "x": [
          83,
          11,
          26,
          63,
          51,
          48,
          65,
          3,
          85,
          61,
          94,
          1,
          15,
          113
         ],
         "xaxis": "x",
         "y": [
          "Andrés Iniesta Luján",
          "Bojan Krkíc Pérez",
          "Carles Puyol i Saforcada",
          "Daniel Alves da Silva",
          "David Villa Sánchez",
          "Eric-Sylvain Bilal Abidal",
          "Gerard Piqué Bernabéu",
          "Jeffren Isaac Suárez Bermúdez",
          "Lionel Andrés Messi Cuccittini",
          "Pedro Eliezer Rodríguez Ledesma",
          "Sergio Busquets i Burgos",
          "Seydou Kéita",
          "Víctor Valdés Arribas",
          "Xavier Hernández Creus"
         ],
         "yaxis": "y"
        },
        {
         "alignmentgroup": "True",
         "hovertemplate": "event_type=GENERIC:Ball Recovery<br>size=%{x}<br>player_name=%{y}<extra></extra>",
         "legendgroup": "GENERIC:Ball Recovery",
         "marker": {
          "color": "#D62728"
         },
         "name": "GENERIC:Ball Recovery",
         "offsetgroup": "GENERIC:Ball Recovery",
         "orientation": "h",
         "showlegend": true,
         "textposition": "auto",
         "type": "bar",
         "x": [
          5,
          1,
          10,
          8,
          4,
          5,
          3,
          5,
          7,
          4,
          3,
          8
         ],
         "xaxis": "x",
         "y": [
          "Andrés Iniesta Luján",
          "Bojan Krkíc Pérez",
          "Carles Puyol i Saforcada",
          "Daniel Alves da Silva",
          "David Villa Sánchez",
          "Eric-Sylvain Bilal Abidal",
          "Gerard Piqué Bernabéu",
          "Lionel Andrés Messi Cuccittini",
          "Pedro Eliezer Rodríguez Ledesma",
          "Sergio Busquets i Burgos",
          "Víctor Valdés Arribas",
          "Xavier Hernández Creus"
         ],
         "yaxis": "y"
        },
        {
         "alignmentgroup": "True",
         "hovertemplate": "event_type=GENERIC:Block<br>size=%{x}<br>player_name=%{y}<extra></extra>",
         "legendgroup": "GENERIC:Block",
         "marker": {
          "color": "#9467BD"
         },
         "name": "GENERIC:Block",
         "offsetgroup": "GENERIC:Block",
         "orientation": "h",
         "showlegend": true,
         "textposition": "auto",
         "type": "bar",
         "x": [
          5,
          3,
          3,
          1,
          1,
          4,
          3,
          3,
          2
         ],
         "xaxis": "x",
         "y": [
          "Andrés Iniesta Luján",
          "Carles Puyol i Saforcada",
          "Daniel Alves da Silva",
          "David Villa Sánchez",
          "Eric-Sylvain Bilal Abidal",
          "Gerard Piqué Bernabéu",
          "Lionel Andrés Messi Cuccittini",
          "Pedro Eliezer Rodríguez Ledesma",
          "Seydou Kéita"
         ],
         "yaxis": "y"
        },
        {
         "alignmentgroup": "True",
         "hovertemplate": "event_type=GENERIC:Dispossessed<br>size=%{x}<br>player_name=%{y}<extra></extra>",
         "legendgroup": "GENERIC:Dispossessed",
         "marker": {
          "color": "#8C564B"
         },
         "name": "GENERIC:Dispossessed",
         "offsetgroup": "GENERIC:Dispossessed",
         "orientation": "h",
         "showlegend": true,
         "textposition": "auto",
         "type": "bar",
         "x": [
          2,
          1,
          1,
          2,
          2,
          3,
          1,
          1
         ],
         "xaxis": "x",
         "y": [
          "Andrés Iniesta Luján",
          "Bojan Krkíc Pérez",
          "David Villa Sánchez",
          "Eric-Sylvain Bilal Abidal",
          "Lionel Andrés Messi Cuccittini",
          "Pedro Eliezer Rodríguez Ledesma",
          "Sergio Busquets i Burgos",
          "Xavier Hernández Creus"
         ],
         "yaxis": "y"
        },
        {
         "alignmentgroup": "True",
         "hovertemplate": "event_type=GENERIC:Dribbled Past<br>size=%{x}<br>player_name=%{y}<extra></extra>",
         "legendgroup": "GENERIC:Dribbled Past",
         "marker": {
          "color": "#E377C2"
         },
         "name": "GENERIC:Dribbled Past",
         "offsetgroup": "GENERIC:Dribbled Past",
         "orientation": "h",
         "showlegend": true,
         "textposition": "auto",
         "type": "bar",
         "x": [
          1,
          1,
          1,
          2,
          1,
          1,
          2,
          1
         ],
         "xaxis": "x",
         "y": [
          "Andrés Iniesta Luján",
          "Bojan Krkíc Pérez",
          "Carles Puyol i Saforcada",
          "Daniel Alves da Silva",
          "Eric-Sylvain Bilal Abidal",
          "Lionel Andrés Messi Cuccittini",
          "Sergio Busquets i Burgos",
          "Xavier Hernández Creus"
         ],
         "yaxis": "y"
        },
        {
         "alignmentgroup": "True",
         "hovertemplate": "event_type=GENERIC:Duel<br>size=%{x}<br>player_name=%{y}<extra></extra>",
         "legendgroup": "GENERIC:Duel",
         "marker": {
          "color": "#7F7F7F"
         },
         "name": "GENERIC:Duel",
         "offsetgroup": "GENERIC:Duel",
         "orientation": "h",
         "showlegend": true,
         "textposition": "auto",
         "type": "bar",
         "x": [
          1,
          1,
          3,
          6,
          1,
          3,
          1,
          3,
          5,
          3,
          1
         ],
         "xaxis": "x",
         "y": [
          "Andrés Iniesta Luján",
          "Bojan Krkíc Pérez",
          "Carles Puyol i Saforcada",
          "Daniel Alves da Silva",
          "David Villa Sánchez",
          "Eric-Sylvain Bilal Abidal",
          "Jeffren Isaac Suárez Bermúdez",
          "Lionel Andrés Messi Cuccittini",
          "Pedro Eliezer Rodríguez Ledesma",
          "Sergio Busquets i Burgos",
          "Xavier Hernández Creus"
         ],
         "yaxis": "y"
        },
        {
         "alignmentgroup": "True",
         "hovertemplate": "event_type=GENERIC:Foul Won<br>size=%{x}<br>player_name=%{y}<extra></extra>",
         "legendgroup": "GENERIC:Foul Won",
         "marker": {
          "color": "#BCBD22"
         },
         "name": "GENERIC:Foul Won",
         "offsetgroup": "GENERIC:Foul Won",
         "orientation": "h",
         "showlegend": true,
         "textposition": "auto",
         "type": "bar",
         "x": [
          5,
          3,
          4,
          1,
          1,
          1,
          9,
          1,
          6,
          3
         ],
         "xaxis": "x",
         "y": [
          "Andrés Iniesta Luján",
          "Carles Puyol i Saforcada",
          "Daniel Alves da Silva",
          "David Villa Sánchez",
          "Eric-Sylvain Bilal Abidal",
          "Jeffren Isaac Suárez Bermúdez",
          "Lionel Andrés Messi Cuccittini",
          "Pedro Eliezer Rodríguez Ledesma",
          "Sergio Busquets i Burgos",
          "Xavier Hernández Creus"
         ],
         "yaxis": "y"
        },
        {
         "alignmentgroup": "True",
         "hovertemplate": "event_type=GENERIC:Interception<br>size=%{x}<br>player_name=%{y}<extra></extra>",
         "legendgroup": "GENERIC:Interception",
         "marker": {
          "color": "#17BECF"
         },
         "name": "GENERIC:Interception",
         "offsetgroup": "GENERIC:Interception",
         "orientation": "h",
         "showlegend": true,
         "textposition": "auto",
         "type": "bar",
         "x": [
          1,
          1,
          1,
          1,
          2,
          1,
          1
         ],
         "xaxis": "x",
         "y": [
          "Andrés Iniesta Luján",
          "Carles Puyol i Saforcada",
          "Daniel Alves da Silva",
          "David Villa Sánchez",
          "Lionel Andrés Messi Cuccittini",
          "Sergio Busquets i Burgos",
          "Xavier Hernández Creus"
         ],
         "yaxis": "y"
        },
        {
         "alignmentgroup": "True",
         "hovertemplate": "event_type=GENERIC:Miscontrol<br>size=%{x}<br>player_name=%{y}<extra></extra>",
         "legendgroup": "GENERIC:Miscontrol",
         "marker": {
          "color": "#1F77B4"
         },
         "name": "GENERIC:Miscontrol",
         "offsetgroup": "GENERIC:Miscontrol",
         "orientation": "h",
         "showlegend": true,
         "textposition": "auto",
         "type": "bar",
         "x": [
          2,
          2,
          1,
          2,
          3,
          1,
          3,
          1
         ],
         "xaxis": "x",
         "y": [
          "Andrés Iniesta Luján",
          "Bojan Krkíc Pérez",
          "Carles Puyol i Saforcada",
          "Daniel Alves da Silva",
          "David Villa Sánchez",
          "Lionel Andrés Messi Cuccittini",
          "Pedro Eliezer Rodríguez Ledesma",
          "Xavier Hernández Creus"
         ],
         "yaxis": "y"
        },
        {
         "alignmentgroup": "True",
         "hovertemplate": "event_type=GENERIC:Pressure<br>size=%{x}<br>player_name=%{y}<extra></extra>",
         "legendgroup": "GENERIC:Pressure",
         "marker": {
          "color": "#FF7F0E"
         },
         "name": "GENERIC:Pressure",
         "offsetgroup": "GENERIC:Pressure",
         "orientation": "h",
         "showlegend": true,
         "textposition": "auto",
         "type": "bar",
         "x": [
          10,
          4,
          15,
          8,
          4,
          5,
          3,
          12,
          13,
          12,
          1,
          1,
          8
         ],
         "xaxis": "x",
         "y": [
          "Andrés Iniesta Luján",
          "Carles Puyol i Saforcada",
          "Daniel Alves da Silva",
          "David Villa Sánchez",
          "Eric-Sylvain Bilal Abidal",
          "Gerard Piqué Bernabéu",
          "Jeffren Isaac Suárez Bermúdez",
          "Lionel Andrés Messi Cuccittini",
          "Pedro Eliezer Rodríguez Ledesma",
          "Sergio Busquets i Burgos",
          "Seydou Kéita",
          "Víctor Valdés Arribas",
          "Xavier Hernández Creus"
         ],
         "yaxis": "y"
        },
        {
         "alignmentgroup": "True",
         "hovertemplate": "event_type=PASS<br>size=%{x}<br>player_name=%{y}<extra></extra>",
         "legendgroup": "PASS",
         "marker": {
          "color": "#2CA02C"
         },
         "name": "PASS",
         "offsetgroup": "PASS",
         "orientation": "h",
         "showlegend": true,
         "textposition": "auto",
         "type": "bar",
         "x": [
          80,
          4,
          45,
          73,
          32,
          63,
          70,
          3,
          61,
          46,
          99,
          2,
          28,
          118
         ],
         "xaxis": "x",
         "y": [
          "Andrés Iniesta Luján",
          "Bojan Krkíc Pérez",
          "Carles Puyol i Saforcada",
          "Daniel Alves da Silva",
          "David Villa Sánchez",
          "Eric-Sylvain Bilal Abidal",
          "Gerard Piqué Bernabéu",
          "Jeffren Isaac Suárez Bermúdez",
          "Lionel Andrés Messi Cuccittini",
          "Pedro Eliezer Rodríguez Ledesma",
          "Sergio Busquets i Burgos",
          "Seydou Kéita",
          "Víctor Valdés Arribas",
          "Xavier Hernández Creus"
         ],
         "yaxis": "y"
        },
        {
         "alignmentgroup": "True",
         "hovertemplate": "event_type=TAKE_ON<br>size=%{x}<br>player_name=%{y}<extra></extra>",
         "legendgroup": "TAKE_ON",
         "marker": {
          "color": "#D62728"
         },
         "name": "TAKE_ON",
         "offsetgroup": "TAKE_ON",
         "orientation": "h",
         "showlegend": true,
         "textposition": "auto",
         "type": "bar",
         "x": [
          4,
          1,
          2,
          1,
          17,
          7,
          2
         ],
         "xaxis": "x",
         "y": [
          "Andrés Iniesta Luján",
          "Daniel Alves da Silva",
          "David Villa Sánchez",
          "Eric-Sylvain Bilal Abidal",
          "Lionel Andrés Messi Cuccittini",
          "Pedro Eliezer Rodríguez Ledesma",
          "Sergio Busquets i Burgos"
         ],
         "yaxis": "y"
        },
        {
         "alignmentgroup": "True",
         "hovertemplate": "event_type=SHOT<br>size=%{x}<br>player_name=%{y}<extra></extra>",
         "legendgroup": "SHOT",
         "marker": {
          "color": "#9467BD"
         },
         "name": "SHOT",
         "offsetgroup": "SHOT",
         "orientation": "h",
         "showlegend": true,
         "textposition": "auto",
         "type": "bar",
         "x": [
          1,
          1,
          3,
          1,
          3,
          2,
          1,
          2
         ],
         "xaxis": "x",
         "y": [
          "Bojan Krkíc Pérez",
          "Daniel Alves da Silva",
          "David Villa Sánchez",
          "Jeffren Isaac Suárez Bermúdez",
          "Lionel Andrés Messi Cuccittini",
          "Pedro Eliezer Rodríguez Ledesma",
          "Sergio Busquets i Burgos",
          "Xavier Hernández Creus"
         ],
         "yaxis": "y"
        },
        {
         "alignmentgroup": "True",
         "hovertemplate": "event_type=CARD<br>size=%{x}<br>player_name=%{y}<extra></extra>",
         "legendgroup": "CARD",
         "marker": {
          "color": "#8C564B"
         },
         "name": "CARD",
         "offsetgroup": "CARD",
         "orientation": "h",
         "showlegend": true,
         "textposition": "auto",
         "type": "bar",
         "x": [
          1,
          1,
          1,
          1,
          1
         ],
         "xaxis": "x",
         "y": [
          "Carles Puyol i Saforcada",
          "David Villa Sánchez",
          "Lionel Andrés Messi Cuccittini",
          "Víctor Valdés Arribas",
          "Xavier Hernández Creus"
         ],
         "yaxis": "y"
        },
        {
         "alignmentgroup": "True",
         "hovertemplate": "event_type=GENERIC:Clearance<br>size=%{x}<br>player_name=%{y}<extra></extra>",
         "legendgroup": "GENERIC:Clearance",
         "marker": {
          "color": "#E377C2"
         },
         "name": "GENERIC:Clearance",
         "offsetgroup": "GENERIC:Clearance",
         "orientation": "h",
         "showlegend": true,
         "textposition": "auto",
         "type": "bar",
         "x": [
          3,
          2,
          1,
          3,
          3,
          1,
          1
         ],
         "xaxis": "x",
         "y": [
          "Carles Puyol i Saforcada",
          "Daniel Alves da Silva",
          "David Villa Sánchez",
          "Eric-Sylvain Bilal Abidal",
          "Gerard Piqué Bernabéu",
          "Pedro Eliezer Rodríguez Ledesma",
          "Xavier Hernández Creus"
         ],
         "yaxis": "y"
        },
        {
         "alignmentgroup": "True",
         "hovertemplate": "event_type=GENERIC:Shield<br>size=%{x}<br>player_name=%{y}<extra></extra>",
         "legendgroup": "GENERIC:Shield",
         "marker": {
          "color": "#7F7F7F"
         },
         "name": "GENERIC:Shield",
         "offsetgroup": "GENERIC:Shield",
         "orientation": "h",
         "showlegend": true,
         "textposition": "auto",
         "type": "bar",
         "x": [
          1
         ],
         "xaxis": "x",
         "y": [
          "Daniel Alves da Silva"
         ],
         "yaxis": "y"
        },
        {
         "alignmentgroup": "True",
         "hovertemplate": "event_type=SUBSTITUTION<br>size=%{x}<br>player_name=%{y}<extra></extra>",
         "legendgroup": "SUBSTITUTION",
         "marker": {
          "color": "#BCBD22"
         },
         "name": "SUBSTITUTION",
         "offsetgroup": "SUBSTITUTION",
         "orientation": "h",
         "showlegend": true,
         "textposition": "auto",
         "type": "bar",
         "x": [
          1,
          1,
          1
         ],
         "xaxis": "x",
         "y": [
          "David Villa Sánchez",
          "Pedro Eliezer Rodríguez Ledesma",
          "Xavier Hernández Creus"
         ],
         "yaxis": "y"
        },
        {
         "alignmentgroup": "True",
         "hovertemplate": "event_type=PLAYER_OFF<br>size=%{x}<br>player_name=%{y}<extra></extra>",
         "legendgroup": "PLAYER_OFF",
         "marker": {
          "color": "#17BECF"
         },
         "name": "PLAYER_OFF",
         "offsetgroup": "PLAYER_OFF",
         "orientation": "h",
         "showlegend": true,
         "textposition": "auto",
         "type": "bar",
         "x": [
          1
         ],
         "xaxis": "x",
         "y": [
          "Lionel Andrés Messi Cuccittini"
         ],
         "yaxis": "y"
        },
        {
         "alignmentgroup": "True",
         "hovertemplate": "event_type=GENERIC:Goal Keeper<br>size=%{x}<br>player_name=%{y}<extra></extra>",
         "legendgroup": "GENERIC:Goal Keeper",
         "marker": {
          "color": "#1F77B4"
         },
         "name": "GENERIC:Goal Keeper",
         "offsetgroup": "GENERIC:Goal Keeper",
         "orientation": "h",
         "showlegend": true,
         "textposition": "auto",
         "type": "bar",
         "x": [
          7
         ],
         "xaxis": "x",
         "y": [
          "Víctor Valdés Arribas"
         ],
         "yaxis": "y"
        },
        {
         "alignmentgroup": "True",
         "hovertemplate": "event_type=GENERIC:Injury Stoppage<br>size=%{x}<br>player_name=%{y}<extra></extra>",
         "legendgroup": "GENERIC:Injury Stoppage",
         "marker": {
          "color": "#FF7F0E"
         },
         "name": "GENERIC:Injury Stoppage",
         "offsetgroup": "GENERIC:Injury Stoppage",
         "orientation": "h",
         "showlegend": true,
         "textposition": "auto",
         "type": "bar",
         "x": [
          1
         ],
         "xaxis": "x",
         "y": [
          "Víctor Valdés Arribas"
         ],
         "yaxis": "y"
        }
       ],
       "layout": {
        "barmode": "relative",
        "height": 500,
        "legend": {
         "title": {
          "text": "event_type"
         },
         "tracegroupgap": 0
        },
        "template": {
         "data": {
          "bar": [
           {
            "error_x": {
             "color": "#2a3f5f"
            },
            "error_y": {
             "color": "#2a3f5f"
            },
            "marker": {
             "line": {
              "color": "#E5ECF6",
              "width": 0.5
             }
            },
            "type": "bar"
           }
          ],
          "barpolar": [
           {
            "marker": {
             "line": {
              "color": "#E5ECF6",
              "width": 0.5
             }
            },
            "type": "barpolar"
           }
          ],
          "carpet": [
           {
            "aaxis": {
             "endlinecolor": "#2a3f5f",
             "gridcolor": "white",
             "linecolor": "white",
             "minorgridcolor": "white",
             "startlinecolor": "#2a3f5f"
            },
            "baxis": {
             "endlinecolor": "#2a3f5f",
             "gridcolor": "white",
             "linecolor": "white",
             "minorgridcolor": "white",
             "startlinecolor": "#2a3f5f"
            },
            "type": "carpet"
           }
          ],
          "choropleth": [
           {
            "colorbar": {
             "outlinewidth": 0,
             "ticks": ""
            },
            "type": "choropleth"
           }
          ],
          "contour": [
           {
            "colorbar": {
             "outlinewidth": 0,
             "ticks": ""
            },
            "colorscale": [
             [
              0,
              "#0d0887"
             ],
             [
              0.1111111111111111,
              "#46039f"
             ],
             [
              0.2222222222222222,
              "#7201a8"
             ],
             [
              0.3333333333333333,
              "#9c179e"
             ],
             [
              0.4444444444444444,
              "#bd3786"
             ],
             [
              0.5555555555555556,
              "#d8576b"
             ],
             [
              0.6666666666666666,
              "#ed7953"
             ],
             [
              0.7777777777777778,
              "#fb9f3a"
             ],
             [
              0.8888888888888888,
              "#fdca26"
             ],
             [
              1,
              "#f0f921"
             ]
            ],
            "type": "contour"
           }
          ],
          "contourcarpet": [
           {
            "colorbar": {
             "outlinewidth": 0,
             "ticks": ""
            },
            "type": "contourcarpet"
           }
          ],
          "heatmap": [
           {
            "colorbar": {
             "outlinewidth": 0,
             "ticks": ""
            },
            "colorscale": [
             [
              0,
              "#0d0887"
             ],
             [
              0.1111111111111111,
              "#46039f"
             ],
             [
              0.2222222222222222,
              "#7201a8"
             ],
             [
              0.3333333333333333,
              "#9c179e"
             ],
             [
              0.4444444444444444,
              "#bd3786"
             ],
             [
              0.5555555555555556,
              "#d8576b"
             ],
             [
              0.6666666666666666,
              "#ed7953"
             ],
             [
              0.7777777777777778,
              "#fb9f3a"
             ],
             [
              0.8888888888888888,
              "#fdca26"
             ],
             [
              1,
              "#f0f921"
             ]
            ],
            "type": "heatmap"
           }
          ],
          "heatmapgl": [
           {
            "colorbar": {
             "outlinewidth": 0,
             "ticks": ""
            },
            "colorscale": [
             [
              0,
              "#0d0887"
             ],
             [
              0.1111111111111111,
              "#46039f"
             ],
             [
              0.2222222222222222,
              "#7201a8"
             ],
             [
              0.3333333333333333,
              "#9c179e"
             ],
             [
              0.4444444444444444,
              "#bd3786"
             ],
             [
              0.5555555555555556,
              "#d8576b"
             ],
             [
              0.6666666666666666,
              "#ed7953"
             ],
             [
              0.7777777777777778,
              "#fb9f3a"
             ],
             [
              0.8888888888888888,
              "#fdca26"
             ],
             [
              1,
              "#f0f921"
             ]
            ],
            "type": "heatmapgl"
           }
          ],
          "histogram": [
           {
            "marker": {
             "colorbar": {
              "outlinewidth": 0,
              "ticks": ""
             }
            },
            "type": "histogram"
           }
          ],
          "histogram2d": [
           {
            "colorbar": {
             "outlinewidth": 0,
             "ticks": ""
            },
            "colorscale": [
             [
              0,
              "#0d0887"
             ],
             [
              0.1111111111111111,
              "#46039f"
             ],
             [
              0.2222222222222222,
              "#7201a8"
             ],
             [
              0.3333333333333333,
              "#9c179e"
             ],
             [
              0.4444444444444444,
              "#bd3786"
             ],
             [
              0.5555555555555556,
              "#d8576b"
             ],
             [
              0.6666666666666666,
              "#ed7953"
             ],
             [
              0.7777777777777778,
              "#fb9f3a"
             ],
             [
              0.8888888888888888,
              "#fdca26"
             ],
             [
              1,
              "#f0f921"
             ]
            ],
            "type": "histogram2d"
           }
          ],
          "histogram2dcontour": [
           {
            "colorbar": {
             "outlinewidth": 0,
             "ticks": ""
            },
            "colorscale": [
             [
              0,
              "#0d0887"
             ],
             [
              0.1111111111111111,
              "#46039f"
             ],
             [
              0.2222222222222222,
              "#7201a8"
             ],
             [
              0.3333333333333333,
              "#9c179e"
             ],
             [
              0.4444444444444444,
              "#bd3786"
             ],
             [
              0.5555555555555556,
              "#d8576b"
             ],
             [
              0.6666666666666666,
              "#ed7953"
             ],
             [
              0.7777777777777778,
              "#fb9f3a"
             ],
             [
              0.8888888888888888,
              "#fdca26"
             ],
             [
              1,
              "#f0f921"
             ]
            ],
            "type": "histogram2dcontour"
           }
          ],
          "mesh3d": [
           {
            "colorbar": {
             "outlinewidth": 0,
             "ticks": ""
            },
            "type": "mesh3d"
           }
          ],
          "parcoords": [
           {
            "line": {
             "colorbar": {
              "outlinewidth": 0,
              "ticks": ""
             }
            },
            "type": "parcoords"
           }
          ],
          "pie": [
           {
            "automargin": true,
            "type": "pie"
           }
          ],
          "scatter": [
           {
            "marker": {
             "colorbar": {
              "outlinewidth": 0,
              "ticks": ""
             }
            },
            "type": "scatter"
           }
          ],
          "scatter3d": [
           {
            "line": {
             "colorbar": {
              "outlinewidth": 0,
              "ticks": ""
             }
            },
            "marker": {
             "colorbar": {
              "outlinewidth": 0,
              "ticks": ""
             }
            },
            "type": "scatter3d"
           }
          ],
          "scattercarpet": [
           {
            "marker": {
             "colorbar": {
              "outlinewidth": 0,
              "ticks": ""
             }
            },
            "type": "scattercarpet"
           }
          ],
          "scattergeo": [
           {
            "marker": {
             "colorbar": {
              "outlinewidth": 0,
              "ticks": ""
             }
            },
            "type": "scattergeo"
           }
          ],
          "scattergl": [
           {
            "marker": {
             "colorbar": {
              "outlinewidth": 0,
              "ticks": ""
             }
            },
            "type": "scattergl"
           }
          ],
          "scattermapbox": [
           {
            "marker": {
             "colorbar": {
              "outlinewidth": 0,
              "ticks": ""
             }
            },
            "type": "scattermapbox"
           }
          ],
          "scatterpolar": [
           {
            "marker": {
             "colorbar": {
              "outlinewidth": 0,
              "ticks": ""
             }
            },
            "type": "scatterpolar"
           }
          ],
          "scatterpolargl": [
           {
            "marker": {
             "colorbar": {
              "outlinewidth": 0,
              "ticks": ""
             }
            },
            "type": "scatterpolargl"
           }
          ],
          "scatterternary": [
           {
            "marker": {
             "colorbar": {
              "outlinewidth": 0,
              "ticks": ""
             }
            },
            "type": "scatterternary"
           }
          ],
          "surface": [
           {
            "colorbar": {
             "outlinewidth": 0,
             "ticks": ""
            },
            "colorscale": [
             [
              0,
              "#0d0887"
             ],
             [
              0.1111111111111111,
              "#46039f"
             ],
             [
              0.2222222222222222,
              "#7201a8"
             ],
             [
              0.3333333333333333,
              "#9c179e"
             ],
             [
              0.4444444444444444,
              "#bd3786"
             ],
             [
              0.5555555555555556,
              "#d8576b"
             ],
             [
              0.6666666666666666,
              "#ed7953"
             ],
             [
              0.7777777777777778,
              "#fb9f3a"
             ],
             [
              0.8888888888888888,
              "#fdca26"
             ],
             [
              1,
              "#f0f921"
             ]
            ],
            "type": "surface"
           }
          ],
          "table": [
           {
            "cells": {
             "fill": {
              "color": "#EBF0F8"
             },
             "line": {
              "color": "white"
             }
            },
            "header": {
             "fill": {
              "color": "#C8D4E3"
             },
             "line": {
              "color": "white"
             }
            },
            "type": "table"
           }
          ]
         },
         "layout": {
          "annotationdefaults": {
           "arrowcolor": "#2a3f5f",
           "arrowhead": 0,
           "arrowwidth": 1
          },
          "coloraxis": {
           "colorbar": {
            "outlinewidth": 0,
            "ticks": ""
           }
          },
          "colorscale": {
           "diverging": [
            [
             0,
             "#8e0152"
            ],
            [
             0.1,
             "#c51b7d"
            ],
            [
             0.2,
             "#de77ae"
            ],
            [
             0.3,
             "#f1b6da"
            ],
            [
             0.4,
             "#fde0ef"
            ],
            [
             0.5,
             "#f7f7f7"
            ],
            [
             0.6,
             "#e6f5d0"
            ],
            [
             0.7,
             "#b8e186"
            ],
            [
             0.8,
             "#7fbc41"
            ],
            [
             0.9,
             "#4d9221"
            ],
            [
             1,
             "#276419"
            ]
           ],
           "sequential": [
            [
             0,
             "#0d0887"
            ],
            [
             0.1111111111111111,
             "#46039f"
            ],
            [
             0.2222222222222222,
             "#7201a8"
            ],
            [
             0.3333333333333333,
             "#9c179e"
            ],
            [
             0.4444444444444444,
             "#bd3786"
            ],
            [
             0.5555555555555556,
             "#d8576b"
            ],
            [
             0.6666666666666666,
             "#ed7953"
            ],
            [
             0.7777777777777778,
             "#fb9f3a"
            ],
            [
             0.8888888888888888,
             "#fdca26"
            ],
            [
             1,
             "#f0f921"
            ]
           ],
           "sequentialminus": [
            [
             0,
             "#0d0887"
            ],
            [
             0.1111111111111111,
             "#46039f"
            ],
            [
             0.2222222222222222,
             "#7201a8"
            ],
            [
             0.3333333333333333,
             "#9c179e"
            ],
            [
             0.4444444444444444,
             "#bd3786"
            ],
            [
             0.5555555555555556,
             "#d8576b"
            ],
            [
             0.6666666666666666,
             "#ed7953"
            ],
            [
             0.7777777777777778,
             "#fb9f3a"
            ],
            [
             0.8888888888888888,
             "#fdca26"
            ],
            [
             1,
             "#f0f921"
            ]
           ]
          },
          "colorway": [
           "#636efa",
           "#EF553B",
           "#00cc96",
           "#ab63fa",
           "#FFA15A",
           "#19d3f3",
           "#FF6692",
           "#B6E880",
           "#FF97FF",
           "#FECB52"
          ],
          "font": {
           "color": "#2a3f5f"
          },
          "geo": {
           "bgcolor": "white",
           "lakecolor": "white",
           "landcolor": "#E5ECF6",
           "showlakes": true,
           "showland": true,
           "subunitcolor": "white"
          },
          "hoverlabel": {
           "align": "left"
          },
          "hovermode": "closest",
          "mapbox": {
           "style": "light"
          },
          "paper_bgcolor": "white",
          "plot_bgcolor": "#E5ECF6",
          "polar": {
           "angularaxis": {
            "gridcolor": "white",
            "linecolor": "white",
            "ticks": ""
           },
           "bgcolor": "#E5ECF6",
           "radialaxis": {
            "gridcolor": "white",
            "linecolor": "white",
            "ticks": ""
           }
          },
          "scene": {
           "xaxis": {
            "backgroundcolor": "#E5ECF6",
            "gridcolor": "white",
            "gridwidth": 2,
            "linecolor": "white",
            "showbackground": true,
            "ticks": "",
            "zerolinecolor": "white"
           },
           "yaxis": {
            "backgroundcolor": "#E5ECF6",
            "gridcolor": "white",
            "gridwidth": 2,
            "linecolor": "white",
            "showbackground": true,
            "ticks": "",
            "zerolinecolor": "white"
           },
           "zaxis": {
            "backgroundcolor": "#E5ECF6",
            "gridcolor": "white",
            "gridwidth": 2,
            "linecolor": "white",
            "showbackground": true,
            "ticks": "",
            "zerolinecolor": "white"
           }
          },
          "shapedefaults": {
           "line": {
            "color": "#2a3f5f"
           }
          },
          "ternary": {
           "aaxis": {
            "gridcolor": "white",
            "linecolor": "white",
            "ticks": ""
           },
           "baxis": {
            "gridcolor": "white",
            "linecolor": "white",
            "ticks": ""
           },
           "bgcolor": "#E5ECF6",
           "caxis": {
            "gridcolor": "white",
            "linecolor": "white",
            "ticks": ""
           }
          },
          "title": {
           "x": 0.05
          },
          "xaxis": {
           "automargin": true,
           "gridcolor": "white",
           "linecolor": "white",
           "ticks": "",
           "title": {
            "standoff": 15
           },
           "zerolinecolor": "white",
           "zerolinewidth": 2
          },
          "yaxis": {
           "automargin": true,
           "gridcolor": "white",
           "linecolor": "white",
           "ticks": "",
           "title": {
            "standoff": 15
           },
           "zerolinecolor": "white",
           "zerolinewidth": 2
          }
         }
        },
        "title": {
         "text": "Barcelona"
        },
        "width": 1000,
        "xaxis": {
         "anchor": "y",
         "autorange": true,
         "domain": [
          0,
          1
         ],
         "range": [
          0,
          387.36842105263156
         ],
         "title": {
          "text": "size"
         },
         "type": "linear"
        },
        "yaxis": {
         "anchor": "x",
         "autorange": true,
         "domain": [
          0,
          1
         ],
         "range": [
          -0.5,
          13.5
         ],
         "title": {
          "text": "player_name"
         },
         "type": "category"
        }
       }
      },
      "image/png": "[encoded data removed]",
      "text/html": [
       "<div>\n",
       "        \n",
       "        \n",
       "            <div id=\"150a5652-86da-4dc6-a5b1-258d0f4b2bc7\" class=\"plotly-graph-div\" style=\"height:500px; width:1000px;\"></div>\n",
       "            <script type=\"text/javascript\">\n",
       "                require([\"plotly\"], function(Plotly) {\n",
       "                    window.PLOTLYENV=window.PLOTLYENV || {};\n",
       "                    \n",
       "                if (document.getElementById(\"150a5652-86da-4dc6-a5b1-258d0f4b2bc7\")) {\n",
       "                    Plotly.newPlot(\n",
       "                        '150a5652-86da-4dc6-a5b1-258d0f4b2bc7',\n",
       "                        [{\"alignmentgroup\": \"True\", \"hovertemplate\": \"event_type=CARRY<br>size=%{x}<br>player_name=%{y}<extra></extra>\", \"legendgroup\": \"CARRY\", \"marker\": {\"color\": \"#1F77B4\"}, \"name\": \"CARRY\", \"offsetgroup\": \"CARRY\", \"orientation\": \"h\", \"showlegend\": true, \"textposition\": \"auto\", \"type\": \"bar\", \"x\": [79, 6, 34, 67, 36, 47, 51, 4, 80, 52, 82, 1, 14, 107], \"xaxis\": \"x\", \"y\": [\"Andr\\u00e9s Iniesta Luj\\u00e1n\", \"Bojan Krk\\u00edc P\\u00e9rez\", \"Carles Puyol i Saforcada\", \"Daniel Alves da Silva\", \"David Villa S\\u00e1nchez\", \"Eric-Sylvain Bilal Abidal\", \"Gerard Piqu\\u00e9 Bernab\\u00e9u\", \"Jeffren Isaac Su\\u00e1rez Berm\\u00fadez\", \"Lionel Andr\\u00e9s Messi Cuccittini\", \"Pedro Eliezer Rodr\\u00edguez Ledesma\", \"Sergio Busquets i Burgos\", \"Seydou K\\u00e9ita\", \"V\\u00edctor Vald\\u00e9s Arribas\", \"Xavier Hern\\u00e1ndez Creus\"], \"yaxis\": \"y\"}, {\"alignmentgroup\": \"True\", \"hovertemplate\": \"event_type=GENERIC:50/50<br>size=%{x}<br>player_name=%{y}<extra></extra>\", \"legendgroup\": \"GENERIC:50/50\", \"marker\": {\"color\": \"#FF7F0E\"}, \"name\": \"GENERIC:50/50\", \"offsetgroup\": \"GENERIC:50/50\", \"orientation\": \"h\", \"showlegend\": true, \"textposition\": \"auto\", \"type\": \"bar\", \"x\": [1, 1, 1], \"xaxis\": \"x\", \"y\": [\"Andr\\u00e9s Iniesta Luj\\u00e1n\", \"Pedro Eliezer Rodr\\u00edguez Ledesma\", \"Xavier Hern\\u00e1ndez Creus\"], \"yaxis\": \"y\"}, {\"alignmentgroup\": \"True\", \"hovertemplate\": \"event_type=GENERIC:Ball Receipt*<br>size=%{x}<br>player_name=%{y}<extra></extra>\", \"legendgroup\": \"GENERIC:Ball Receipt*\", \"marker\": {\"color\": \"#2CA02C\"}, \"name\": \"GENERIC:Ball Receipt*\", \"offsetgroup\": \"GENERIC:Ball Receipt*\", \"orientation\": \"h\", \"showlegend\": true, \"textposition\": \"auto\", \"type\": \"bar\", \"x\": [83, 11, 26, 63, 51, 48, 65, 3, 85, 61, 94, 1, 15, 113], \"xaxis\": \"x\", \"y\": [\"Andr\\u00e9s Iniesta Luj\\u00e1n\", \"Bojan Krk\\u00edc P\\u00e9rez\", \"Carles Puyol i Saforcada\", \"Daniel Alves da Silva\", \"David Villa S\\u00e1nchez\", \"Eric-Sylvain Bilal Abidal\", \"Gerard Piqu\\u00e9 Bernab\\u00e9u\", \"Jeffren Isaac Su\\u00e1rez Berm\\u00fadez\", \"Lionel Andr\\u00e9s Messi Cuccittini\", \"Pedro Eliezer Rodr\\u00edguez Ledesma\", \"Sergio Busquets i Burgos\", \"Seydou K\\u00e9ita\", \"V\\u00edctor Vald\\u00e9s Arribas\", \"Xavier Hern\\u00e1ndez Creus\"], \"yaxis\": \"y\"}, {\"alignmentgroup\": \"True\", \"hovertemplate\": \"event_type=GENERIC:Ball Recovery<br>size=%{x}<br>player_name=%{y}<extra></extra>\", \"legendgroup\": \"GENERIC:Ball Recovery\", \"marker\": {\"color\": \"#D62728\"}, \"name\": \"GENERIC:Ball Recovery\", \"offsetgroup\": \"GENERIC:Ball Recovery\", \"orientation\": \"h\", \"showlegend\": true, \"textposition\": \"auto\", \"type\": \"bar\", \"x\": [5, 1, 10, 8, 4, 5, 3, 5, 7, 4, 3, 8], \"xaxis\": \"x\", \"y\": [\"Andr\\u00e9s Iniesta Luj\\u00e1n\", \"Bojan Krk\\u00edc P\\u00e9rez\", \"Carles Puyol i Saforcada\", \"Daniel Alves da Silva\", \"David Villa S\\u00e1nchez\", \"Eric-Sylvain Bilal Abidal\", \"Gerard Piqu\\u00e9 Bernab\\u00e9u\", \"Lionel Andr\\u00e9s Messi Cuccittini\", \"Pedro Eliezer Rodr\\u00edguez Ledesma\", \"Sergio Busquets i Burgos\", \"V\\u00edctor Vald\\u00e9s Arribas\", \"Xavier Hern\\u00e1ndez Creus\"], \"yaxis\": \"y\"}, {\"alignmentgroup\": \"True\", \"hovertemplate\": \"event_type=GENERIC:Block<br>size=%{x}<br>player_name=%{y}<extra></extra>\", \"legendgroup\": \"GENERIC:Block\", \"marker\": {\"color\": \"#9467BD\"}, \"name\": \"GENERIC:Block\", \"offsetgroup\": \"GENERIC:Block\", \"orientation\": \"h\", \"showlegend\": true, \"textposition\": \"auto\", \"type\": \"bar\", \"x\": [5, 3, 3, 1, 1, 4, 3, 3, 2], \"xaxis\": \"x\", \"y\": [\"Andr\\u00e9s Iniesta Luj\\u00e1n\", \"Carles Puyol i Saforcada\", \"Daniel Alves da Silva\", \"David Villa S\\u00e1nchez\", \"Eric-Sylvain Bilal Abidal\", \"Gerard Piqu\\u00e9 Bernab\\u00e9u\", \"Lionel Andr\\u00e9s Messi Cuccittini\", \"Pedro Eliezer Rodr\\u00edguez Ledesma\", \"Seydou K\\u00e9ita\"], \"yaxis\": \"y\"}, {\"alignmentgroup\": \"True\", \"hovertemplate\": \"event_type=GENERIC:Dispossessed<br>size=%{x}<br>player_name=%{y}<extra></extra>\", \"legendgroup\": \"GENERIC:Dispossessed\", \"marker\": {\"color\": \"#8C564B\"}, \"name\": \"GENERIC:Dispossessed\", \"offsetgroup\": \"GENERIC:Dispossessed\", \"orientation\": \"h\", \"showlegend\": true, \"textposition\": \"auto\", \"type\": \"bar\", \"x\": [2, 1, 1, 2, 2, 3, 1, 1], \"xaxis\": \"x\", \"y\": [\"Andr\\u00e9s Iniesta Luj\\u00e1n\", \"Bojan Krk\\u00edc P\\u00e9rez\", \"David Villa S\\u00e1nchez\", \"Eric-Sylvain Bilal Abidal\", \"Lionel Andr\\u00e9s Messi Cuccittini\", \"Pedro Eliezer Rodr\\u00edguez Ledesma\", \"Sergio Busquets i Burgos\", \"Xavier Hern\\u00e1ndez Creus\"], \"yaxis\": \"y\"}, {\"alignmentgroup\": \"True\", \"hovertemplate\": \"event_type=GENERIC:Dribbled Past<br>size=%{x}<br>player_name=%{y}<extra></extra>\", \"legendgroup\": \"GENERIC:Dribbled Past\", \"marker\": {\"color\": \"#E377C2\"}, \"name\": \"GENERIC:Dribbled Past\", \"offsetgroup\": \"GENERIC:Dribbled Past\", \"orientation\": \"h\", \"showlegend\": true, \"textposition\": \"auto\", \"type\": \"bar\", \"x\": [1, 1, 1, 2, 1, 1, 2, 1], \"xaxis\": \"x\", \"y\": [\"Andr\\u00e9s Iniesta Luj\\u00e1n\", \"Bojan Krk\\u00edc P\\u00e9rez\", \"Carles Puyol i Saforcada\", \"Daniel Alves da Silva\", \"Eric-Sylvain Bilal Abidal\", \"Lionel Andr\\u00e9s Messi Cuccittini\", \"Sergio Busquets i Burgos\", \"Xavier Hern\\u00e1ndez Creus\"], \"yaxis\": \"y\"}, {\"alignmentgroup\": \"True\", \"hovertemplate\": \"event_type=GENERIC:Duel<br>size=%{x}<br>player_name=%{y}<extra></extra>\", \"legendgroup\": \"GENERIC:Duel\", \"marker\": {\"color\": \"#7F7F7F\"}, \"name\": \"GENERIC:Duel\", \"offsetgroup\": \"GENERIC:Duel\", \"orientation\": \"h\", \"showlegend\": true, \"textposition\": \"auto\", \"type\": \"bar\", \"x\": [1, 1, 3, 6, 1, 3, 1, 3, 5, 3, 1], \"xaxis\": \"x\", \"y\": [\"Andr\\u00e9s Iniesta Luj\\u00e1n\", \"Bojan Krk\\u00edc P\\u00e9rez\", \"Carles Puyol i Saforcada\", \"Daniel Alves da Silva\", \"David Villa S\\u00e1nchez\", \"Eric-Sylvain Bilal Abidal\", \"Jeffren Isaac Su\\u00e1rez Berm\\u00fadez\", \"Lionel Andr\\u00e9s Messi Cuccittini\", \"Pedro Eliezer Rodr\\u00edguez Ledesma\", \"Sergio Busquets i Burgos\", \"Xavier Hern\\u00e1ndez Creus\"], \"yaxis\": \"y\"}, {\"alignmentgroup\": \"True\", \"hovertemplate\": \"event_type=GENERIC:Foul Won<br>size=%{x}<br>player_name=%{y}<extra></extra>\", \"legendgroup\": \"GENERIC:Foul Won\", \"marker\": {\"color\": \"#BCBD22\"}, \"name\": \"GENERIC:Foul Won\", \"offsetgroup\": \"GENERIC:Foul Won\", \"orientation\": \"h\", \"showlegend\": true, \"textposition\": \"auto\", \"type\": \"bar\", \"x\": [5, 3, 4, 1, 1, 1, 9, 1, 6, 3], \"xaxis\": \"x\", \"y\": [\"Andr\\u00e9s Iniesta Luj\\u00e1n\", \"Carles Puyol i Saforcada\", \"Daniel Alves da Silva\", \"David Villa S\\u00e1nchez\", \"Eric-Sylvain Bilal Abidal\", \"Jeffren Isaac Su\\u00e1rez Berm\\u00fadez\", \"Lionel Andr\\u00e9s Messi Cuccittini\", \"Pedro Eliezer Rodr\\u00edguez Ledesma\", \"Sergio Busquets i Burgos\", \"Xavier Hern\\u00e1ndez Creus\"], \"yaxis\": \"y\"}, {\"alignmentgroup\": \"True\", \"hovertemplate\": \"event_type=GENERIC:Interception<br>size=%{x}<br>player_name=%{y}<extra></extra>\", \"legendgroup\": \"GENERIC:Interception\", \"marker\": {\"color\": \"#17BECF\"}, \"name\": \"GENERIC:Interception\", \"offsetgroup\": \"GENERIC:Interception\", \"orientation\": \"h\", \"showlegend\": true, \"textposition\": \"auto\", \"type\": \"bar\", \"x\": [1, 1, 1, 1, 2, 1, 1], \"xaxis\": \"x\", \"y\": [\"Andr\\u00e9s Iniesta Luj\\u00e1n\", \"Carles Puyol i Saforcada\", \"Daniel Alves da Silva\", \"David Villa S\\u00e1nchez\", \"Lionel Andr\\u00e9s Messi Cuccittini\", \"Sergio Busquets i Burgos\", \"Xavier Hern\\u00e1ndez Creus\"], \"yaxis\": \"y\"}, {\"alignmentgroup\": \"True\", \"hovertemplate\": \"event_type=GENERIC:Miscontrol<br>size=%{x}<br>player_name=%{y}<extra></extra>\", \"legendgroup\": \"GENERIC:Miscontrol\", \"marker\": {\"color\": \"#1F77B4\"}, \"name\": \"GENERIC:Miscontrol\", \"offsetgroup\": \"GENERIC:Miscontrol\", \"orientation\": \"h\", \"showlegend\": true, \"textposition\": \"auto\", \"type\": \"bar\", \"x\": [2, 2, 1, 2, 3, 1, 3, 1], \"xaxis\": \"x\", \"y\": [\"Andr\\u00e9s Iniesta Luj\\u00e1n\", \"Bojan Krk\\u00edc P\\u00e9rez\", \"Carles Puyol i Saforcada\", \"Daniel Alves da Silva\", \"David Villa S\\u00e1nchez\", \"Lionel Andr\\u00e9s Messi Cuccittini\", \"Pedro Eliezer Rodr\\u00edguez Ledesma\", \"Xavier Hern\\u00e1ndez Creus\"], \"yaxis\": \"y\"}, {\"alignmentgroup\": \"True\", \"hovertemplate\": \"event_type=GENERIC:Pressure<br>size=%{x}<br>player_name=%{y}<extra></extra>\", \"legendgroup\": \"GENERIC:Pressure\", \"marker\": {\"color\": \"#FF7F0E\"}, \"name\": \"GENERIC:Pressure\", \"offsetgroup\": \"GENERIC:Pressure\", \"orientation\": \"h\", \"showlegend\": true, \"textposition\": \"auto\", \"type\": \"bar\", \"x\": [10, 4, 15, 8, 4, 5, 3, 12, 13, 12, 1, 1, 8], \"xaxis\": \"x\", \"y\": [\"Andr\\u00e9s Iniesta Luj\\u00e1n\", \"Carles Puyol i Saforcada\", \"Daniel Alves da Silva\", \"David Villa S\\u00e1nchez\", \"Eric-Sylvain Bilal Abidal\", \"Gerard Piqu\\u00e9 Bernab\\u00e9u\", \"Jeffren Isaac Su\\u00e1rez Berm\\u00fadez\", \"Lionel Andr\\u00e9s Messi Cuccittini\", \"Pedro Eliezer Rodr\\u00edguez Ledesma\", \"Sergio Busquets i Burgos\", \"Seydou K\\u00e9ita\", \"V\\u00edctor Vald\\u00e9s Arribas\", \"Xavier Hern\\u00e1ndez Creus\"], \"yaxis\": \"y\"}, {\"alignmentgroup\": \"True\", \"hovertemplate\": \"event_type=PASS<br>size=%{x}<br>player_name=%{y}<extra></extra>\", \"legendgroup\": \"PASS\", \"marker\": {\"color\": \"#2CA02C\"}, \"name\": \"PASS\", \"offsetgroup\": \"PASS\", \"orientation\": \"h\", \"showlegend\": true, \"textposition\": \"auto\", \"type\": \"bar\", \"x\": [80, 4, 45, 73, 32, 63, 70, 3, 61, 46, 99, 2, 28, 118], \"xaxis\": \"x\", \"y\": [\"Andr\\u00e9s Iniesta Luj\\u00e1n\", \"Bojan Krk\\u00edc P\\u00e9rez\", \"Carles Puyol i Saforcada\", \"Daniel Alves da Silva\", \"David Villa S\\u00e1nchez\", \"Eric-Sylvain Bilal Abidal\", \"Gerard Piqu\\u00e9 Bernab\\u00e9u\", \"Jeffren Isaac Su\\u00e1rez Berm\\u00fadez\", \"Lionel Andr\\u00e9s Messi Cuccittini\", \"Pedro Eliezer Rodr\\u00edguez Ledesma\", \"Sergio Busquets i Burgos\", \"Seydou K\\u00e9ita\", \"V\\u00edctor Vald\\u00e9s Arribas\", \"Xavier Hern\\u00e1ndez Creus\"], \"yaxis\": \"y\"}, {\"alignmentgroup\": \"True\", \"hovertemplate\": \"event_type=TAKE_ON<br>size=%{x}<br>player_name=%{y}<extra></extra>\", \"legendgroup\": \"TAKE_ON\", \"marker\": {\"color\": \"#D62728\"}, \"name\": \"TAKE_ON\", \"offsetgroup\": \"TAKE_ON\", \"orientation\": \"h\", \"showlegend\": true, \"textposition\": \"auto\", \"type\": \"bar\", \"x\": [4, 1, 2, 1, 17, 7, 2], \"xaxis\": \"x\", \"y\": [\"Andr\\u00e9s Iniesta Luj\\u00e1n\", \"Daniel Alves da Silva\", \"David Villa S\\u00e1nchez\", \"Eric-Sylvain Bilal Abidal\", \"Lionel Andr\\u00e9s Messi Cuccittini\", \"Pedro Eliezer Rodr\\u00edguez Ledesma\", \"Sergio Busquets i Burgos\"], \"yaxis\": \"y\"}, {\"alignmentgroup\": \"True\", \"hovertemplate\": \"event_type=SHOT<br>size=%{x}<br>player_name=%{y}<extra></extra>\", \"legendgroup\": \"SHOT\", \"marker\": {\"color\": \"#9467BD\"}, \"name\": \"SHOT\", \"offsetgroup\": \"SHOT\", \"orientation\": \"h\", \"showlegend\": true, \"textposition\": \"auto\", \"type\": \"bar\", \"x\": [1, 1, 3, 1, 3, 2, 1, 2], \"xaxis\": \"x\", \"y\": [\"Bojan Krk\\u00edc P\\u00e9rez\", \"Daniel Alves da Silva\", \"David Villa S\\u00e1nchez\", \"Jeffren Isaac Su\\u00e1rez Berm\\u00fadez\", \"Lionel Andr\\u00e9s Messi Cuccittini\", \"Pedro Eliezer Rodr\\u00edguez Ledesma\", \"Sergio Busquets i Burgos\", \"Xavier Hern\\u00e1ndez Creus\"], \"yaxis\": \"y\"}, {\"alignmentgroup\": \"True\", \"hovertemplate\": \"event_type=CARD<br>size=%{x}<br>player_name=%{y}<extra></extra>\", \"legendgroup\": \"CARD\", \"marker\": {\"color\": \"#8C564B\"}, \"name\": \"CARD\", \"offsetgroup\": \"CARD\", \"orientation\": \"h\", \"showlegend\": true, \"textposition\": \"auto\", \"type\": \"bar\", \"x\": [1, 1, 1, 1, 1], \"xaxis\": \"x\", \"y\": [\"Carles Puyol i Saforcada\", \"David Villa S\\u00e1nchez\", \"Lionel Andr\\u00e9s Messi Cuccittini\", \"V\\u00edctor Vald\\u00e9s Arribas\", \"Xavier Hern\\u00e1ndez Creus\"], \"yaxis\": \"y\"}, {\"alignmentgroup\": \"True\", \"hovertemplate\": \"event_type=GENERIC:Clearance<br>size=%{x}<br>player_name=%{y}<extra></extra>\", \"legendgroup\": \"GENERIC:Clearance\", \"marker\": {\"color\": \"#E377C2\"}, \"name\": \"GENERIC:Clearance\", \"offsetgroup\": \"GENERIC:Clearance\", \"orientation\": \"h\", \"showlegend\": true, \"textposition\": \"auto\", \"type\": \"bar\", \"x\": [3, 2, 1, 3, 3, 1, 1], \"xaxis\": \"x\", \"y\": [\"Carles Puyol i Saforcada\", \"Daniel Alves da Silva\", \"David Villa S\\u00e1nchez\", \"Eric-Sylvain Bilal Abidal\", \"Gerard Piqu\\u00e9 Bernab\\u00e9u\", \"Pedro Eliezer Rodr\\u00edguez Ledesma\", \"Xavier Hern\\u00e1ndez Creus\"], \"yaxis\": \"y\"}, {\"alignmentgroup\": \"True\", \"hovertemplate\": \"event_type=GENERIC:Shield<br>size=%{x}<br>player_name=%{y}<extra></extra>\", \"legendgroup\": \"GENERIC:Shield\", \"marker\": {\"color\": \"#7F7F7F\"}, \"name\": \"GENERIC:Shield\", \"offsetgroup\": \"GENERIC:Shield\", \"orientation\": \"h\", \"showlegend\": true, \"textposition\": \"auto\", \"type\": \"bar\", \"x\": [1], \"xaxis\": \"x\", \"y\": [\"Daniel Alves da Silva\"], \"yaxis\": \"y\"}, {\"alignmentgroup\": \"True\", \"hovertemplate\": \"event_type=SUBSTITUTION<br>size=%{x}<br>player_name=%{y}<extra></extra>\", \"legendgroup\": \"SUBSTITUTION\", \"marker\": {\"color\": \"#BCBD22\"}, \"name\": \"SUBSTITUTION\", \"offsetgroup\": \"SUBSTITUTION\", \"orientation\": \"h\", \"showlegend\": true, \"textposition\": \"auto\", \"type\": \"bar\", \"x\": [1, 1, 1], \"xaxis\": \"x\", \"y\": [\"David Villa S\\u00e1nchez\", \"Pedro Eliezer Rodr\\u00edguez Ledesma\", \"Xavier Hern\\u00e1ndez Creus\"], \"yaxis\": \"y\"}, {\"alignmentgroup\": \"True\", \"hovertemplate\": \"event_type=PLAYER_OFF<br>size=%{x}<br>player_name=%{y}<extra></extra>\", \"legendgroup\": \"PLAYER_OFF\", \"marker\": {\"color\": \"#17BECF\"}, \"name\": \"PLAYER_OFF\", \"offsetgroup\": \"PLAYER_OFF\", \"orientation\": \"h\", \"showlegend\": true, \"textposition\": \"auto\", \"type\": \"bar\", \"x\": [1], \"xaxis\": \"x\", \"y\": [\"Lionel Andr\\u00e9s Messi Cuccittini\"], \"yaxis\": \"y\"}, {\"alignmentgroup\": \"True\", \"hovertemplate\": \"event_type=GENERIC:Goal Keeper<br>size=%{x}<br>player_name=%{y}<extra></extra>\", \"legendgroup\": \"GENERIC:Goal Keeper\", \"marker\": {\"color\": \"#1F77B4\"}, \"name\": \"GENERIC:Goal Keeper\", \"offsetgroup\": \"GENERIC:Goal Keeper\", \"orientation\": \"h\", \"showlegend\": true, \"textposition\": \"auto\", \"type\": \"bar\", \"x\": [7], \"xaxis\": \"x\", \"y\": [\"V\\u00edctor Vald\\u00e9s Arribas\"], \"yaxis\": \"y\"}, {\"alignmentgroup\": \"True\", \"hovertemplate\": \"event_type=GENERIC:Injury Stoppage<br>size=%{x}<br>player_name=%{y}<extra></extra>\", \"legendgroup\": \"GENERIC:Injury Stoppage\", \"marker\": {\"color\": \"#FF7F0E\"}, \"name\": \"GENERIC:Injury Stoppage\", \"offsetgroup\": \"GENERIC:Injury Stoppage\", \"orientation\": \"h\", \"showlegend\": true, \"textposition\": \"auto\", \"type\": \"bar\", \"x\": [1], \"xaxis\": \"x\", \"y\": [\"V\\u00edctor Vald\\u00e9s Arribas\"], \"yaxis\": \"y\"}],\n",
       "                        {\"barmode\": \"relative\", \"height\": 500, \"legend\": {\"title\": {\"text\": \"event_type\"}, \"tracegroupgap\": 0}, \"template\": {\"data\": {\"bar\": [{\"error_x\": {\"color\": \"#2a3f5f\"}, \"error_y\": {\"color\": \"#2a3f5f\"}, \"marker\": {\"line\": {\"color\": \"#E5ECF6\", \"width\": 0.5}}, \"type\": \"bar\"}], \"barpolar\": [{\"marker\": {\"line\": {\"color\": \"#E5ECF6\", \"width\": 0.5}}, \"type\": \"barpolar\"}], \"carpet\": [{\"aaxis\": {\"endlinecolor\": \"#2a3f5f\", \"gridcolor\": \"white\", \"linecolor\": \"white\", \"minorgridcolor\": \"white\", \"startlinecolor\": \"#2a3f5f\"}, \"baxis\": {\"endlinecolor\": \"#2a3f5f\", \"gridcolor\": \"white\", \"linecolor\": \"white\", \"minorgridcolor\": \"white\", \"startlinecolor\": \"#2a3f5f\"}, \"type\": \"carpet\"}], \"choropleth\": [{\"colorbar\": {\"outlinewidth\": 0, \"ticks\": \"\"}, \"type\": \"choropleth\"}], \"contour\": [{\"colorbar\": {\"outlinewidth\": 0, \"ticks\": \"\"}, \"colorscale\": [[0.0, \"#0d0887\"], [0.1111111111111111, \"#46039f\"], [0.2222222222222222, \"#7201a8\"], [0.3333333333333333, \"#9c179e\"], [0.4444444444444444, \"#bd3786\"], [0.5555555555555556, \"#d8576b\"], [0.6666666666666666, \"#ed7953\"], [0.7777777777777778, \"#fb9f3a\"], [0.8888888888888888, \"#fdca26\"], [1.0, \"#f0f921\"]], \"type\": \"contour\"}], \"contourcarpet\": [{\"colorbar\": {\"outlinewidth\": 0, \"ticks\": \"\"}, \"type\": \"contourcarpet\"}], \"heatmap\": [{\"colorbar\": {\"outlinewidth\": 0, \"ticks\": \"\"}, \"colorscale\": [[0.0, \"#0d0887\"], [0.1111111111111111, \"#46039f\"], [0.2222222222222222, \"#7201a8\"], [0.3333333333333333, \"#9c179e\"], [0.4444444444444444, \"#bd3786\"], [0.5555555555555556, \"#d8576b\"], [0.6666666666666666, \"#ed7953\"], [0.7777777777777778, \"#fb9f3a\"], [0.8888888888888888, \"#fdca26\"], [1.0, \"#f0f921\"]], \"type\": \"heatmap\"}], \"heatmapgl\": [{\"colorbar\": {\"outlinewidth\": 0, \"ticks\": \"\"}, \"colorscale\": [[0.0, \"#0d0887\"], [0.1111111111111111, \"#46039f\"], [0.2222222222222222, \"#7201a8\"], [0.3333333333333333, \"#9c179e\"], [0.4444444444444444, \"#bd3786\"], [0.5555555555555556, \"#d8576b\"], [0.6666666666666666, \"#ed7953\"], [0.7777777777777778, \"#fb9f3a\"], [0.8888888888888888, \"#fdca26\"], [1.0, \"#f0f921\"]], \"type\": \"heatmapgl\"}], \"histogram\": [{\"marker\": {\"colorbar\": {\"outlinewidth\": 0, \"ticks\": \"\"}}, \"type\": \"histogram\"}], \"histogram2d\": [{\"colorbar\": {\"outlinewidth\": 0, \"ticks\": \"\"}, \"colorscale\": [[0.0, \"#0d0887\"], [0.1111111111111111, \"#46039f\"], [0.2222222222222222, \"#7201a8\"], [0.3333333333333333, \"#9c179e\"], [0.4444444444444444, \"#bd3786\"], [0.5555555555555556, \"#d8576b\"], [0.6666666666666666, \"#ed7953\"], [0.7777777777777778, \"#fb9f3a\"], [0.8888888888888888, \"#fdca26\"], [1.0, \"#f0f921\"]], \"type\": \"histogram2d\"}], \"histogram2dcontour\": [{\"colorbar\": {\"outlinewidth\": 0, \"ticks\": \"\"}, \"colorscale\": [[0.0, \"#0d0887\"], [0.1111111111111111, \"#46039f\"], [0.2222222222222222, \"#7201a8\"], [0.3333333333333333, \"#9c179e\"], [0.4444444444444444, \"#bd3786\"], [0.5555555555555556, \"#d8576b\"], [0.6666666666666666, \"#ed7953\"], [0.7777777777777778, \"#fb9f3a\"], [0.8888888888888888, \"#fdca26\"], [1.0, \"#f0f921\"]], \"type\": \"histogram2dcontour\"}], \"mesh3d\": [{\"colorbar\": {\"outlinewidth\": 0, \"ticks\": \"\"}, \"type\": \"mesh3d\"}], \"parcoords\": [{\"line\": {\"colorbar\": {\"outlinewidth\": 0, \"ticks\": \"\"}}, \"type\": \"parcoords\"}], \"pie\": [{\"automargin\": true, \"type\": \"pie\"}], \"scatter\": [{\"marker\": {\"colorbar\": {\"outlinewidth\": 0, \"ticks\": \"\"}}, \"type\": \"scatter\"}], \"scatter3d\": [{\"line\": {\"colorbar\": {\"outlinewidth\": 0, \"ticks\": \"\"}}, \"marker\": {\"colorbar\": {\"outlinewidth\": 0, \"ticks\": \"\"}}, \"type\": \"scatter3d\"}], \"scattercarpet\": [{\"marker\": {\"colorbar\": {\"outlinewidth\": 0, \"ticks\": \"\"}}, \"type\": \"scattercarpet\"}], \"scattergeo\": [{\"marker\": {\"colorbar\": {\"outlinewidth\": 0, \"ticks\": \"\"}}, \"type\": \"scattergeo\"}], \"scattergl\": [{\"marker\": {\"colorbar\": {\"outlinewidth\": 0, \"ticks\": \"\"}}, \"type\": \"scattergl\"}], \"scattermapbox\": [{\"marker\": {\"colorbar\": {\"outlinewidth\": 0, \"ticks\": \"\"}}, \"type\": \"scattermapbox\"}], \"scatterpolar\": [{\"marker\": {\"colorbar\": {\"outlinewidth\": 0, \"ticks\": \"\"}}, \"type\": \"scatterpolar\"}], \"scatterpolargl\": [{\"marker\": {\"colorbar\": {\"outlinewidth\": 0, \"ticks\": \"\"}}, \"type\": \"scatterpolargl\"}], \"scatterternary\": [{\"marker\": {\"colorbar\": {\"outlinewidth\": 0, \"ticks\": \"\"}}, \"type\": \"scatterternary\"}], \"surface\": [{\"colorbar\": {\"outlinewidth\": 0, \"ticks\": \"\"}, \"colorscale\": [[0.0, \"#0d0887\"], [0.1111111111111111, \"#46039f\"], [0.2222222222222222, \"#7201a8\"], [0.3333333333333333, \"#9c179e\"], [0.4444444444444444, \"#bd3786\"], [0.5555555555555556, \"#d8576b\"], [0.6666666666666666, \"#ed7953\"], [0.7777777777777778, \"#fb9f3a\"], [0.8888888888888888, \"#fdca26\"], [1.0, \"#f0f921\"]], \"type\": \"surface\"}], \"table\": [{\"cells\": {\"fill\": {\"color\": \"#EBF0F8\"}, \"line\": {\"color\": \"white\"}}, \"header\": {\"fill\": {\"color\": \"#C8D4E3\"}, \"line\": {\"color\": \"white\"}}, \"type\": \"table\"}]}, \"layout\": {\"annotationdefaults\": {\"arrowcolor\": \"#2a3f5f\", \"arrowhead\": 0, \"arrowwidth\": 1}, \"coloraxis\": {\"colorbar\": {\"outlinewidth\": 0, \"ticks\": \"\"}}, \"colorscale\": {\"diverging\": [[0, \"#8e0152\"], [0.1, \"#c51b7d\"], [0.2, \"#de77ae\"], [0.3, \"#f1b6da\"], [0.4, \"#fde0ef\"], [0.5, \"#f7f7f7\"], [0.6, \"#e6f5d0\"], [0.7, \"#b8e186\"], [0.8, \"#7fbc41\"], [0.9, \"#4d9221\"], [1, \"#276419\"]], \"sequential\": [[0.0, \"#0d0887\"], [0.1111111111111111, \"#46039f\"], [0.2222222222222222, \"#7201a8\"], [0.3333333333333333, \"#9c179e\"], [0.4444444444444444, \"#bd3786\"], [0.5555555555555556, \"#d8576b\"], [0.6666666666666666, \"#ed7953\"], [0.7777777777777778, \"#fb9f3a\"], [0.8888888888888888, \"#fdca26\"], [1.0, \"#f0f921\"]], \"sequentialminus\": [[0.0, \"#0d0887\"], [0.1111111111111111, \"#46039f\"], [0.2222222222222222, \"#7201a8\"], [0.3333333333333333, \"#9c179e\"], [0.4444444444444444, \"#bd3786\"], [0.5555555555555556, \"#d8576b\"], [0.6666666666666666, \"#ed7953\"], [0.7777777777777778, \"#fb9f3a\"], [0.8888888888888888, \"#fdca26\"], [1.0, \"#f0f921\"]]}, \"colorway\": [\"#636efa\", \"#EF553B\", \"#00cc96\", \"#ab63fa\", \"#FFA15A\", \"#19d3f3\", \"#FF6692\", \"#B6E880\", \"#FF97FF\", \"#FECB52\"], \"font\": {\"color\": \"#2a3f5f\"}, \"geo\": {\"bgcolor\": \"white\", \"lakecolor\": \"white\", \"landcolor\": \"#E5ECF6\", \"showlakes\": true, \"showland\": true, \"subunitcolor\": \"white\"}, \"hoverlabel\": {\"align\": \"left\"}, \"hovermode\": \"closest\", \"mapbox\": {\"style\": \"light\"}, \"paper_bgcolor\": \"white\", \"plot_bgcolor\": \"#E5ECF6\", \"polar\": {\"angularaxis\": {\"gridcolor\": \"white\", \"linecolor\": \"white\", \"ticks\": \"\"}, \"bgcolor\": \"#E5ECF6\", \"radialaxis\": {\"gridcolor\": \"white\", \"linecolor\": \"white\", \"ticks\": \"\"}}, \"scene\": {\"xaxis\": {\"backgroundcolor\": \"#E5ECF6\", \"gridcolor\": \"white\", \"gridwidth\": 2, \"linecolor\": \"white\", \"showbackground\": true, \"ticks\": \"\", \"zerolinecolor\": \"white\"}, \"yaxis\": {\"backgroundcolor\": \"#E5ECF6\", \"gridcolor\": \"white\", \"gridwidth\": 2, \"linecolor\": \"white\", \"showbackground\": true, \"ticks\": \"\", \"zerolinecolor\": \"white\"}, \"zaxis\": {\"backgroundcolor\": \"#E5ECF6\", \"gridcolor\": \"white\", \"gridwidth\": 2, \"linecolor\": \"white\", \"showbackground\": true, \"ticks\": \"\", \"zerolinecolor\": \"white\"}}, \"shapedefaults\": {\"line\": {\"color\": \"#2a3f5f\"}}, \"ternary\": {\"aaxis\": {\"gridcolor\": \"white\", \"linecolor\": \"white\", \"ticks\": \"\"}, \"baxis\": {\"gridcolor\": \"white\", \"linecolor\": \"white\", \"ticks\": \"\"}, \"bgcolor\": \"#E5ECF6\", \"caxis\": {\"gridcolor\": \"white\", \"linecolor\": \"white\", \"ticks\": \"\"}}, \"title\": {\"x\": 0.05}, \"xaxis\": {\"automargin\": true, \"gridcolor\": \"white\", \"linecolor\": \"white\", \"ticks\": \"\", \"title\": {\"standoff\": 15}, \"zerolinecolor\": \"white\", \"zerolinewidth\": 2}, \"yaxis\": {\"automargin\": true, \"gridcolor\": \"white\", \"linecolor\": \"white\", \"ticks\": \"\", \"title\": {\"standoff\": 15}, \"zerolinecolor\": \"white\", \"zerolinewidth\": 2}}}, \"title\": {\"text\": \"Barcelona\"}, \"width\": 1000, \"xaxis\": {\"anchor\": \"y\", \"domain\": [0.0, 1.0], \"title\": {\"text\": \"size\"}}, \"yaxis\": {\"anchor\": \"x\", \"domain\": [0.0, 1.0], \"title\": {\"text\": \"player_name\"}}},\n",
       "                        {\"responsive\": true}\n",
       "                    ).then(function(){\n",
       "                            \n",
       "var gd = document.getElementById('150a5652-86da-4dc6-a5b1-258d0f4b2bc7');\n",
       "var x = new MutationObserver(function (mutations, observer) {{\n",
       "        var display = window.getComputedStyle(gd).display;\n",
       "        if (!display || display === 'none') {{\n",
       "            console.log([gd, 'removed!']);\n",
       "            Plotly.purge(gd);\n",
       "            observer.disconnect();\n",
       "        }}\n",
       "}});\n",
       "\n",
       "// Listen for the removal of the full notebook cells\n",
       "var notebookContainer = gd.closest('#notebook-container');\n",
       "if (notebookContainer) {{\n",
       "    x.observe(notebookContainer, {childList: true});\n",
       "}}\n",
       "\n",
       "// Listen for the clearing of the current output cell\n",
       "var outputEl = gd.closest('.output');\n",
       "if (outputEl) {{\n",
       "    x.observe(outputEl, {childList: true});\n",
       "}}\n",
       "\n",
       "                        })\n",
       "                };\n",
       "                });\n",
       "            </script>\n",
       "        </div>"
      ]
     },
     "metadata": {},
     "output_type": "display_data"
    }
   ],
   "source": [
    "for team_name in [home_team.name, away_team.name]:\n",
    "    fig = px.bar(\n",
    "        df[df.team_name==team_name].groupby(['team_name', 'player_name', 'event_type'], as_index=False).size(),\n",
    "        y='player_name', x='size', color='event_type', orientation='h',\n",
    "        height=500, width=1000, title=team_name, color_discrete_sequence=px.colors.qualitative.D3\n",
    "    )\n",
    "    iplot(fig)"
   ]
  },
  {
   "cell_type": "markdown",
   "metadata": {},
   "source": [
    "# 可視化（ピッチ上へ）"
   ]
  },
  {
   "cell_type": "markdown",
   "metadata": {},
   "source": [
    "## Heatmap of touches each player"
   ]
  },
  {
   "cell_type": "code",
   "execution_count": 25,
   "metadata": {},
   "outputs": [
    {
     "data": {
      "image/png": "[encoded data removed]",
      "text/plain": [
       "<Figure size 1728x1152 with 16 Axes>"
      ]
     },
     "metadata": {},
     "output_type": "display_data"
    }
   ],
   "source": [
    "n_players = len(lineups_df[lineups_df.team_name=='Barcelona'])\n",
    "n_cols = 4\n",
    "n_rows = math.ceil(n_players / n_cols)\n",
    "\n",
    "pitch = Pitch(pitch_color='#e7f1fa', figsize=(n_cols*6, n_rows*4), layout=(n_rows, n_cols), line_zorder=1, line_color='black', pitch_type=\"statsbomb\")\n",
    "fig, axes = pitch.draw()\n",
    "\n",
    "for i, (player_id, player_name) in enumerate(lineups_df[lineups_df.team_name=='Barcelona'][['player_id', 'player_name']].values):\n",
    "    df_tmp = df[df.player_id==player_id].copy()\n",
    "    ax = axes[math.floor(i/n_cols), i%n_cols]\n",
    "    if len(df_tmp) > 20:\n",
    "        pitch.draw(ax)\n",
    "        pitch.kdeplot(\n",
    "            df_tmp.dropna()['coordinates_x'],\n",
    "            df_tmp.dropna()['coordinates_y'],\n",
    "            ax=ax,\n",
    "            shade=True,\n",
    "            n_levels=10,\n",
    "        )\n",
    "    \n",
    "    ax.set_title(player_name)"
   ]
  },
  {
   "cell_type": "markdown",
   "metadata": {},
   "source": [
    "## Heatmap of Pressure each Team"
   ]
  },
  {
   "cell_type": "code",
   "execution_count": 26,
   "metadata": {},
   "outputs": [
    {
     "data": {
      "image/png": "[encoded data removed]",
      "text/plain": [
       "<Figure size 1944x768 with 6 Axes>"
      ]
     },
     "metadata": {},
     "output_type": "display_data"
    }
   ],
   "source": [
    "pitch = Pitch(pitch_type='statsbomb', figsize=(9*3, 16/3*2), layout=(2, 3), line_zorder=2, pitch_color='#22312b', line_color='white')\n",
    "\n",
    "# draw\n",
    "fig, axes = pitch.draw()\n",
    "# heatmap specified by (nx, ny) for horizontal pitch\n",
    "bins_list = [(6, 5), (1, 5), (6, 1)]\n",
    "for i, team_name in enumerate(lineups_df.team_name.unique()):\n",
    "    df_tmp = df[(df.event_type=='GENERIC:Pressure')&(df.team_name==team_name)]\n",
    "    for j, bins in enumerate(bins_list):\n",
    "        ax = axes[i, j]\n",
    "        bin_statistic = pitch.bin_statistic(df_tmp['coordinates_x'], df_tmp['coordinates_y'], statistic='count', bins=bins)\n",
    "        # draw\n",
    "        pitch.heatmap(bin_statistic, ax=ax, cmap='coolwarm', edgecolors='#22312b')\n",
    "        pitch.scatter(df_tmp['coordinates_x'], df_tmp['coordinates_y'], c='white', s=2, ax=ax)\n",
    "        # replace raw counts with percentages and add percentage sign (note immutable named tuple so used _replace)\n",
    "        bin_statistic['statistic'] = (pd.DataFrame((bin_statistic['statistic'] / bin_statistic['statistic'].sum()))\n",
    "                                      .applymap(lambda x: '{:.0%}'.format(x))\n",
    "                                      .values)\n",
    "        pitch.label_heatmap(bin_statistic, color='white', fontsize=18, ax=ax, ha='center', va='bottom')\n",
    "        \n",
    "        if j==1:\n",
    "            ax.set_title(team_name)"
   ]
  },
  {
   "cell_type": "markdown",
   "metadata": {},
   "source": [
    "## pass Network"
   ]
  },
  {
   "cell_type": "code",
   "execution_count": null,
   "metadata": {},
   "outputs": [],
   "source": []
  },
  {
   "cell_type": "code",
   "execution_count": null,
   "metadata": {},
   "outputs": [],
   "source": []
  },
  {
   "cell_type": "markdown",
   "metadata": {},
   "source": [
    "## Shot map each team"
   ]
  },
  {
   "cell_type": "code",
   "execution_count": 27,
   "metadata": {},
   "outputs": [
    {
     "name": "stderr",
     "output_type": "stream",
     "text": [
      "/Users/yamamuros83/.pyenv/versions/anaconda3-5.3.1/envs/spoana/lib/python3.8/site-packages/mplsoccer/statsbomb.py:120: UserWarning:\n",
      "\n",
      "Please be responsible with Statsbomb data.Register your details on https://www.statsbomb.com/resource-centreand read the User Agreement carefully (on the same page).\n",
      "\n"
     ]
    }
   ],
   "source": [
    "from mplsoccer.statsbomb import read_event, EVENT_SLUG\n",
    "df_tmp = read_event(f'{EVENT_SLUG}/{match_id}.json', related_event_df=False, shot_freeze_frame_df=False, tactics_lineup_df=False)['event']"
   ]
  },
  {
   "cell_type": "code",
   "execution_count": 28,
   "metadata": {},
   "outputs": [
    {
     "data": {
      "image/png": "[encoded data removed]",
      "text/plain": [
       "<Figure size 1152x792 with 1 Axes>"
      ]
     },
     "metadata": {},
     "output_type": "display_data"
    }
   ],
   "source": [
    "from matplotlib import rcParams\n",
    "rcParams['text.color'] = '#c7d5cc'\n",
    "\n",
    "team_name, against_team_name = 'Barcelona', 'Real Madrid'\n",
    "\n",
    "df_pass = df_tmp.loc[(df_tmp.pass_assisted_shot_id.notnull()) & (df_tmp.team_name == team_name),\n",
    "                 ['x', 'y', 'end_x', 'end_y', 'pass_assisted_shot_id']]\n",
    "\n",
    "df_shot = df_tmp.loc[(df_tmp.type_name == 'Shot') & (df_tmp.team_name == team_name),\n",
    "                 ['id', 'x', 'y' , 'outcome_name', 'shot_statsbomb_xg']].rename({'id': 'pass_assisted_shot_id'}, axis=1)\n",
    "\n",
    "df_pass = df_pass.merge(df_shot, how='left').drop('pass_assisted_shot_id', axis=1)\n",
    "\n",
    "mask_goal = df_pass.outcome_name == 'Goal'\n",
    "\n",
    "# Setup the pitch\n",
    "pitch = Pitch(pitch_type='statsbomb', orientation='vertical', pitch_color='#22312b', line_color='#c7d5cc',\n",
    "              figsize=(16, 11), view='half', pad_top=2, tight_layout=True)\n",
    "fig, ax = pitch.draw()\n",
    "\n",
    "# Plot the completed passes\n",
    "pitch.lines(df_pass.x, df_pass.y, df_pass.end_x, df_pass.end_y,\n",
    "            lw=10, transparent=True, comet=True, cmap='jet',\n",
    "            label='pass leading to shot', ax=ax)\n",
    "\n",
    "# Plot the goals\n",
    "pitch.scatter(df_shot[df_shot.outcome_name=='Goal'].x, df_shot[df_shot.outcome_name=='Goal'].y, s=700,\n",
    "              marker='football', edgecolors='black', c='white', zorder=2,\n",
    "              label='goal', ax=ax)\n",
    "pitch.scatter(df_shot[df_shot.outcome_name!='Goal'].x, df_shot[df_shot.outcome_name!='Goal'].y,\n",
    "              edgecolors='white', c='#22312b', s=700, zorder=2,\n",
    "              label='shot', ax=ax)\n",
    "# Set the title\n",
    "ax.set_title(f'{team_name} passes leading to shots \\n vs {against_team_name}', fontsize=30)\n",
    "\n",
    "# set legend\n",
    "ax.legend(facecolor='#22312b', edgecolor='None', fontsize=20, loc='lower center', handlelength=4)\n",
    "\n",
    "# Set the figure facecolor\n",
    "fig.set_facecolor('#22312b')"
   ]
  }
 ],
 "metadata": {
  "kernelspec": {
   "display_name": "spoana",
   "language": "python",
   "name": "spoana"
  },
  "language_info": {
   "codemirror_mode": {
    "name": "ipython",
    "version": 3
   },
   "file_extension": ".py",
   "mimetype": "text/x-python",
   "name": "python",
   "nbconvert_exporter": "python",
   "pygments_lexer": "ipython3",
   "version": "3.8.0"
  },
  "toc-autonumbering": true
 },
 "nbformat": 4,
 "nbformat_minor": 4
}
